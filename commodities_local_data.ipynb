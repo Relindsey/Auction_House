{
 "cells": [
  {
   "cell_type": "code",
   "execution_count": 1,
   "metadata": {},
   "outputs": [],
   "source": [
    "import pandas as pd\n",
    "import requests\n",
    "import os"
   ]
  },
  {
   "cell_type": "code",
   "execution_count": 5,
   "metadata": {},
   "outputs": [
    {
     "name": "stdout",
     "output_type": "stream",
     "text": [
      "Data saved to 'commodities_data_12_21.csv'\n"
     ]
    }
   ],
   "source": [
    "# Commodities\n",
    "\n",
    "    data = response.json()\n",
    "    df = pd.json_normalize(data, record_path=['auctions'])\n",
    "\n",
    "    # Save DataFrame to CSV\n",
    "    df.to_csv('./commodities_data_12_21.csv', index=False)\n",
    "    print(\"Data saved to 'commodities_data_12_21.csv'\")\n",
    "\n",
    "else:\n",
    "    print('Failed to retrieve auction data')\n",
    "    print(\"Status Code:\", response.status_code)\n",
    "    print('Response:', response.text)"
   ]
  }
 ],
 "metadata": {
  "kernelspec": {
   "display_name": "dev",
   "language": "python",
   "name": "python3"
  },
  "language_info": {
   "codemirror_mode": {
    "name": "ipython",
    "version": 3
   },
   "file_extension": ".py",
   "mimetype": "text/x-python",
   "name": "python",
   "nbconvert_exporter": "python",
   "pygments_lexer": "ipython3",
   "version": "3.10.13"
  }
 },
 "nbformat": 4,
 "nbformat_minor": 2
}
