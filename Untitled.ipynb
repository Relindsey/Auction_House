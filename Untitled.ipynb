{
 "cells": [
  {
   "cell_type": "code",
   "execution_count": 2,
   "id": "a80294a2-5451-40e5-84e1-726fbafe4e3b",
   "metadata": {},
   "outputs": [],
   "source": [
    "from datetime import datetime\n",
    "from datetime import timedelta"
   ]
  },
  {
   "cell_type": "code",
   "execution_count": 3,
   "id": "0a879a47-a003-46c3-9e24-3ea98d39babf",
   "metadata": {},
   "outputs": [],
   "source": [
    "now = datetime.now()\n",
    "if now.hour<23 : next_hour = datetime(now.year, now.month, now.day, now.hour + 1, 2)\n",
    "else : next_hour = datetime(now.year, now.month, now.day+1, 0, 2)"
   ]
  },
  {
   "cell_type": "code",
   "execution_count": 4,
   "id": "9b23503e-649a-49d8-82d4-ed78c83f3b29",
   "metadata": {},
   "outputs": [
    {
     "data": {
      "text/plain": [
       "3371"
      ]
     },
     "execution_count": 4,
     "metadata": {},
     "output_type": "execute_result"
    }
   ],
   "source": [
    "sleep_seconds = (next_hour - now).seconds\n",
    "sleep_seconds"
   ]
  },
  {
   "cell_type": "code",
   "execution_count": 5,
   "id": "cf7a9437-875b-41fe-80a7-87d6bceac00f",
   "metadata": {},
   "outputs": [
    {
     "name": "stdout",
     "output_type": "stream",
     "text": [
      "0:56:11\n"
     ]
    }
   ],
   "source": [
    "print(timedelta(seconds=sleep_seconds))"
   ]
  },
  {
   "cell_type": "code",
   "execution_count": 23,
   "id": "301fcdfa-ab8d-48f4-b6d2-120eda66ce20",
   "metadata": {},
   "outputs": [
    {
     "data": {
      "text/plain": [
       "datetime.datetime(2024, 1, 3, 0, 11, 40, 195434)"
      ]
     },
     "execution_count": 23,
     "metadata": {},
     "output_type": "execute_result"
    }
   ],
   "source": [
    "start_time=datetime.now()\n",
    "start_time"
   ]
  },
  {
   "cell_type": "code",
   "execution_count": 24,
   "id": "08191f90-cd63-48c6-bb61-6824ee2f7d0e",
   "metadata": {},
   "outputs": [
    {
     "data": {
      "text/plain": [
       "datetime.datetime(2024, 1, 3, 0, 11, 57, 762358)"
      ]
     },
     "execution_count": 24,
     "metadata": {},
     "output_type": "execute_result"
    }
   ],
   "source": [
    "now=datetime.now()\n",
    "now"
   ]
  },
  {
   "cell_type": "code",
   "execution_count": 31,
   "id": "a0ada765-3be7-4468-8b2d-9323151248de",
   "metadata": {},
   "outputs": [
    {
     "name": "stdout",
     "output_type": "stream",
     "text": [
      "-- O,O -- O,O -- O,O -- O,O -- O,O -- O,O -- O,O -- O,O -- O,O -- O,O \n"
     ]
    }
   ],
   "source": [
    "print('-- O,O '*10)"
   ]
  },
  {
   "cell_type": "code",
   "execution_count": null,
   "id": "d1e1a04c-2e24-48af-b127-0973c2a0e94b",
   "metadata": {},
   "outputs": [],
   "source": []
  }
 ],
 "metadata": {
  "kernelspec": {
   "display_name": "Python 3 (ipykernel)",
   "language": "python",
   "name": "python3"
  },
  "language_info": {
   "codemirror_mode": {
    "name": "ipython",
    "version": 3
   },
   "file_extension": ".py",
   "mimetype": "text/x-python",
   "name": "python",
   "nbconvert_exporter": "python",
   "pygments_lexer": "ipython3",
   "version": "3.11.5"
  }
 },
 "nbformat": 4,
 "nbformat_minor": 5
}
