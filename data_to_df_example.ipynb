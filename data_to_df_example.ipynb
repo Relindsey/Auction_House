{
 "cells": [
  {
   "cell_type": "code",
   "execution_count": 1,
   "metadata": {},
   "outputs": [],
   "source": [
    "import pandas as pd\n",
    "import os\n",
    "import json"
   ]
  },
  {
   "cell_type": "code",
   "execution_count": 3,
   "metadata": {},
   "outputs": [],
   "source": [
    "def combine_json_to_dataframe(folder_path):\n",
    "    all_dataframes = []  # List to store individual DataFrames\n",
    "\n",
    "    for filename in os.listdir(folder_path):\n",
    "        if filename.endswith(\".json\"):\n",
    "            file_path = os.path.join(folder_path, filename)\n",
    "\n",
    "            # Load JSON data\n",
    "            with open(file_path, 'r') as file:\n",
    "                data = json.load(file)\n",
    "\n",
    "            # Convert JSON data to DataFrame\n",
    "            if 'auctions' in data:\n",
    "                df = pd.json_normalize(data, 'auctions')\n",
    "\n",
    "                # Add the file_date as a new column\n",
    "                df['datetime'] = data['file_date']\n",
    "\n",
    "                # Append this DataFrame to the list\n",
    "                all_dataframes.append(df)\n",
    "\n",
    "    # Combine all DataFrames into one\n",
    "    combined_df = pd.concat(all_dataframes, ignore_index=True)\n",
    "    return combined_df\n"
   ]
  },
  {
   "cell_type": "code",
   "execution_count": 4,
   "metadata": {},
   "outputs": [],
   "source": [
    "# Path to the folder containing JSON files\n",
    "folder_path = 'data'"
   ]
  },
  {
   "cell_type": "code",
   "execution_count": 5,
   "metadata": {},
   "outputs": [],
   "source": [
    "# Combine all JSON files into a single DataFrame\n",
    "final_dataframe = combine_json_to_dataframe(folder_path)"
   ]
  },
  {
   "cell_type": "code",
   "execution_count": 6,
   "metadata": {},
   "outputs": [],
   "source": [
    "# Convert the datetime column to a datetime object\n",
    "final_dataframe['datetime'] = pd.to_datetime(final_dataframe['datetime'], format='%Y-%m-%d %H:%M')"
   ]
  },
  {
   "cell_type": "code",
   "execution_count": 11,
   "metadata": {},
   "outputs": [
    {
     "data": {
      "text/html": [
       "<div>\n",
       "<style scoped>\n",
       "    .dataframe tbody tr th:only-of-type {\n",
       "        vertical-align: middle;\n",
       "    }\n",
       "\n",
       "    .dataframe tbody tr th {\n",
       "        vertical-align: top;\n",
       "    }\n",
       "\n",
       "    .dataframe thead th {\n",
       "        text-align: right;\n",
       "    }\n",
       "</style>\n",
       "<table border=\"1\" class=\"dataframe\">\n",
       "  <thead>\n",
       "    <tr style=\"text-align: right;\">\n",
       "      <th></th>\n",
       "      <th>id</th>\n",
       "      <th>quantity</th>\n",
       "      <th>unit_price</th>\n",
       "      <th>time_left</th>\n",
       "      <th>item.id</th>\n",
       "      <th>item.name</th>\n",
       "      <th>item.class</th>\n",
       "      <th>datetime</th>\n",
       "    </tr>\n",
       "  </thead>\n",
       "  <tbody>\n",
       "    <tr>\n",
       "      <th>6812907</th>\n",
       "      <td>1885539338</td>\n",
       "      <td>3</td>\n",
       "      <td>173100</td>\n",
       "      <td>VERY_LONG</td>\n",
       "      <td>52183</td>\n",
       "      <td>Pyrite Ore</td>\n",
       "      <td>Trade Goods</td>\n",
       "      <td>2023-12-22 22:41:00</td>\n",
       "    </tr>\n",
       "    <tr>\n",
       "      <th>6812908</th>\n",
       "      <td>1885539342</td>\n",
       "      <td>1000</td>\n",
       "      <td>33400</td>\n",
       "      <td>LONG</td>\n",
       "      <td>193217</td>\n",
       "      <td>Dense Hide</td>\n",
       "      <td>Trade Goods</td>\n",
       "      <td>2023-12-22 22:41:00</td>\n",
       "    </tr>\n",
       "    <tr>\n",
       "      <th>6812909</th>\n",
       "      <td>1885539343</td>\n",
       "      <td>3</td>\n",
       "      <td>57420000</td>\n",
       "      <td>LONG</td>\n",
       "      <td>200054</td>\n",
       "      <td>Enchant Weapon - Sophic Devotion</td>\n",
       "      <td>Unknown</td>\n",
       "      <td>2023-12-22 22:41:00</td>\n",
       "    </tr>\n",
       "    <tr>\n",
       "      <th>6812910</th>\n",
       "      <td>1885539346</td>\n",
       "      <td>5</td>\n",
       "      <td>1244800</td>\n",
       "      <td>VERY_LONG</td>\n",
       "      <td>190312</td>\n",
       "      <td>Khaz'gorite Ore</td>\n",
       "      <td>Trade Goods</td>\n",
       "      <td>2023-12-22 22:41:00</td>\n",
       "    </tr>\n",
       "    <tr>\n",
       "      <th>6812911</th>\n",
       "      <td>1885539344</td>\n",
       "      <td>1</td>\n",
       "      <td>2867000</td>\n",
       "      <td>LONG</td>\n",
       "      <td>200023</td>\n",
       "      <td>Enchant Bracer - Devotion of Speed</td>\n",
       "      <td>Unknown</td>\n",
       "      <td>2023-12-22 22:41:00</td>\n",
       "    </tr>\n",
       "  </tbody>\n",
       "</table>\n",
       "</div>"
      ],
      "text/plain": [
       "                 id  quantity  unit_price  time_left  item.id  \\\n",
       "6812907  1885539338         3      173100  VERY_LONG    52183   \n",
       "6812908  1885539342      1000       33400       LONG   193217   \n",
       "6812909  1885539343         3    57420000       LONG   200054   \n",
       "6812910  1885539346         5     1244800  VERY_LONG   190312   \n",
       "6812911  1885539344         1     2867000       LONG   200023   \n",
       "\n",
       "                                  item.name   item.class            datetime  \n",
       "6812907                          Pyrite Ore  Trade Goods 2023-12-22 22:41:00  \n",
       "6812908                          Dense Hide  Trade Goods 2023-12-22 22:41:00  \n",
       "6812909    Enchant Weapon - Sophic Devotion      Unknown 2023-12-22 22:41:00  \n",
       "6812910                     Khaz'gorite Ore  Trade Goods 2023-12-22 22:41:00  \n",
       "6812911  Enchant Bracer - Devotion of Speed      Unknown 2023-12-22 22:41:00  "
      ]
     },
     "execution_count": 11,
     "metadata": {},
     "output_type": "execute_result"
    }
   ],
   "source": [
    "# Display the combined DataFrame\n",
    "final_dataframe.tail()"
   ]
  },
  {
   "cell_type": "code",
   "execution_count": 9,
   "metadata": {},
   "outputs": [
    {
     "name": "stdout",
     "output_type": "stream",
     "text": [
      "<class 'pandas.core.frame.DataFrame'>\n",
      "RangeIndex: 6812912 entries, 0 to 6812911\n",
      "Data columns (total 8 columns):\n",
      " #   Column      Dtype         \n",
      "---  ------      -----         \n",
      " 0   id          int64         \n",
      " 1   quantity    int64         \n",
      " 2   unit_price  int64         \n",
      " 3   time_left   object        \n",
      " 4   item.id     int64         \n",
      " 5   item.name   object        \n",
      " 6   item.class  object        \n",
      " 7   datetime    datetime64[ns]\n",
      "dtypes: datetime64[ns](1), int64(4), object(3)\n",
      "memory usage: 415.8+ MB\n"
     ]
    }
   ],
   "source": [
    "final_dataframe.info()"
   ]
  },
  {
   "cell_type": "code",
   "execution_count": 13,
   "metadata": {},
   "outputs": [
    {
     "name": "stdout",
     "output_type": "stream",
     "text": [
      "Total items: 6812912\n",
      "Items missing name: 0\n",
      "Items missing class: 721198\n",
      "Items missing both name and class: 0\n"
     ]
    }
   ],
   "source": [
    "total_items = len(final_dataframe)\n",
    "missing_name = final_dataframe['item.name'].isna() | (final_dataframe['item.name'] == 'Unknown')\n",
    "missing_class = final_dataframe['item.class'].isna() | (final_dataframe['item.class'] == 'Unknown')\n",
    "missing_both = missing_name & missing_class\n",
    "\n",
    "# Count based on conditions\n",
    "num_missing_name = final_dataframe[missing_name].shape[0]\n",
    "num_missing_class = final_dataframe[missing_class].shape[0]\n",
    "num_missing_both = final_dataframe[missing_both].shape[0]\n",
    "\n",
    "# Report\n",
    "print(f\"Total items: {total_items}\")\n",
    "print(f\"Items missing name: {num_missing_name}\")\n",
    "print(f\"Items missing class: {num_missing_class}\")\n",
    "print(f\"Items missing both name and class: {num_missing_both}\")\n"
   ]
  }
 ],
 "metadata": {
  "kernelspec": {
   "display_name": "dev",
   "language": "python",
   "name": "python3"
  },
  "language_info": {
   "codemirror_mode": {
    "name": "ipython",
    "version": 3
   },
   "file_extension": ".py",
   "mimetype": "text/x-python",
   "name": "python",
   "nbconvert_exporter": "python",
   "pygments_lexer": "ipython3",
   "version": "3.10.13"
  }
 },
 "nbformat": 4,
 "nbformat_minor": 2
}
