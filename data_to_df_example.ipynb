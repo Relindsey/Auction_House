{
 "cells": [
  {
   "cell_type": "code",
   "execution_count": 6,
   "metadata": {},
   "outputs": [],
   "source": [
    "import pandas as pd\n",
    "import os\n",
    "import json"
   ]
  },
  {
   "cell_type": "code",
   "execution_count": 7,
   "metadata": {},
   "outputs": [],
   "source": [
    "def combine_json_to_dataframe(folder_path):\n",
    "    all_dataframes = []  # List to store individual DataFrames\n",
    "\n",
    "    for filename in os.listdir(folder_path):\n",
    "        if filename.endswith(\".json\"):\n",
    "            file_path = os.path.join(folder_path, filename)\n",
    "\n",
    "            # Load JSON data\n",
    "            with open(file_path, 'r') as file:\n",
    "                data = json.load(file)\n",
    "\n",
    "            # Convert JSON data to DataFrame\n",
    "            if 'auctions' in data:\n",
    "                df = pd.json_normalize(data, 'auctions')\n",
    "\n",
    "                # Add the file_date as a new column\n",
    "                df['datetime'] = data['file_date']\n",
    "\n",
    "                # Append this DataFrame to the list\n",
    "                all_dataframes.append(df)\n",
    "\n",
    "    # Combine all DataFrames into one\n",
    "    combined_df = pd.concat(all_dataframes, ignore_index=True)\n",
    "    return combined_df\n"
   ]
  },
  {
   "cell_type": "code",
   "execution_count": 8,
   "metadata": {},
   "outputs": [],
   "source": [
    "# Path to the folder containing JSON files\n",
    "folder_path = 'data'"
   ]
  },
  {
   "cell_type": "code",
   "execution_count": 9,
   "metadata": {},
   "outputs": [],
   "source": [
    "# Combine all JSON files into a single DataFrame\n",
    "final_dataframe = combine_json_to_dataframe(folder_path)"
   ]
  },
  {
   "cell_type": "code",
   "execution_count": 11,
   "metadata": {},
   "outputs": [
    {
     "data": {
      "text/html": [
       "<div>\n",
       "<style scoped>\n",
       "    .dataframe tbody tr th:only-of-type {\n",
       "        vertical-align: middle;\n",
       "    }\n",
       "\n",
       "    .dataframe tbody tr th {\n",
       "        vertical-align: top;\n",
       "    }\n",
       "\n",
       "    .dataframe thead th {\n",
       "        text-align: right;\n",
       "    }\n",
       "</style>\n",
       "<table border=\"1\" class=\"dataframe\">\n",
       "  <thead>\n",
       "    <tr style=\"text-align: right;\">\n",
       "      <th></th>\n",
       "      <th>id</th>\n",
       "      <th>quantity</th>\n",
       "      <th>unit_price</th>\n",
       "      <th>time_left</th>\n",
       "      <th>item.id</th>\n",
       "      <th>datetime</th>\n",
       "    </tr>\n",
       "  </thead>\n",
       "  <tbody>\n",
       "    <tr>\n",
       "      <th>0</th>\n",
       "      <td>1876420303</td>\n",
       "      <td>18</td>\n",
       "      <td>63500</td>\n",
       "      <td>SHORT</td>\n",
       "      <td>190315</td>\n",
       "      <td>2023-12-22 18:19</td>\n",
       "    </tr>\n",
       "    <tr>\n",
       "      <th>1</th>\n",
       "      <td>1876420327</td>\n",
       "      <td>2</td>\n",
       "      <td>4400</td>\n",
       "      <td>SHORT</td>\n",
       "      <td>202070</td>\n",
       "      <td>2023-12-22 18:19</td>\n",
       "    </tr>\n",
       "    <tr>\n",
       "      <th>2</th>\n",
       "      <td>1876420371</td>\n",
       "      <td>9</td>\n",
       "      <td>127500</td>\n",
       "      <td>SHORT</td>\n",
       "      <td>171273</td>\n",
       "      <td>2023-12-22 18:19</td>\n",
       "    </tr>\n",
       "    <tr>\n",
       "      <th>3</th>\n",
       "      <td>1876420422</td>\n",
       "      <td>118</td>\n",
       "      <td>97500</td>\n",
       "      <td>SHORT</td>\n",
       "      <td>153636</td>\n",
       "      <td>2023-12-22 18:19</td>\n",
       "    </tr>\n",
       "    <tr>\n",
       "      <th>4</th>\n",
       "      <td>1876420519</td>\n",
       "      <td>3</td>\n",
       "      <td>700</td>\n",
       "      <td>SHORT</td>\n",
       "      <td>152631</td>\n",
       "      <td>2023-12-22 18:19</td>\n",
       "    </tr>\n",
       "  </tbody>\n",
       "</table>\n",
       "</div>"
      ],
      "text/plain": [
       "           id  quantity  unit_price time_left  item.id          datetime\n",
       "0  1876420303        18       63500     SHORT   190315  2023-12-22 18:19\n",
       "1  1876420327         2        4400     SHORT   202070  2023-12-22 18:19\n",
       "2  1876420371         9      127500     SHORT   171273  2023-12-22 18:19\n",
       "3  1876420422       118       97500     SHORT   153636  2023-12-22 18:19\n",
       "4  1876420519         3         700     SHORT   152631  2023-12-22 18:19"
      ]
     },
     "execution_count": 11,
     "metadata": {},
     "output_type": "execute_result"
    }
   ],
   "source": [
    "# Display the combined DataFrame\n",
    "final_dataframe.head()"
   ]
  }
 ],
 "metadata": {
  "kernelspec": {
   "display_name": "dev",
   "language": "python",
   "name": "python3"
  },
  "language_info": {
   "codemirror_mode": {
    "name": "ipython",
    "version": 3
   },
   "file_extension": ".py",
   "mimetype": "text/x-python",
   "name": "python",
   "nbconvert_exporter": "python",
   "pygments_lexer": "ipython3",
   "version": "3.10.13"
  }
 },
 "nbformat": 4,
 "nbformat_minor": 2
}
