{
 "cells": [
  {
   "cell_type": "code",
   "execution_count": 1,
   "metadata": {},
   "outputs": [],
   "source": [
    "import pandas as pd\n",
    "import os\n",
    "import json"
   ]
  },
  {
   "cell_type": "code",
   "execution_count": 3,
   "metadata": {},
   "outputs": [],
   "source": [
    "def combine_json_to_dataframe(folder_path):\n",
    "    all_dataframes = []  # List to store individual DataFrames\n",
    "\n",
    "    for filename in os.listdir(folder_path):\n",
    "        if filename.endswith(\".json\"):\n",
    "            file_path = os.path.join(folder_path, filename)\n",
    "\n",
    "            # Load JSON data\n",
    "            with open(file_path, 'r') as file:\n",
    "                data = json.load(file)\n",
    "\n",
    "            # Convert JSON data to DataFrame\n",
    "            if 'auctions' in data:\n",
    "                df = pd.json_normalize(data, 'auctions')\n",
    "\n",
    "                # Add the file_date as a new column\n",
    "                df['datetime'] = data['file_date']\n",
    "\n",
    "                # Append this DataFrame to the list\n",
    "                all_dataframes.append(df)\n",
    "\n",
    "    # Combine all DataFrames into one\n",
    "    combined_df = pd.concat(all_dataframes, ignore_index=True)\n",
    "    return combined_df\n"
   ]
  },
  {
   "cell_type": "code",
   "execution_count": 4,
   "metadata": {},
   "outputs": [],
   "source": [
    "# Path to the folder containing JSON files\n",
    "folder_path = 'data'"
   ]
  },
  {
   "cell_type": "code",
   "execution_count": 5,
   "metadata": {},
   "outputs": [],
   "source": [
    "# Combine all JSON files into a single DataFrame\n",
    "final_dataframe = combine_json_to_dataframe(folder_path)"
   ]
  },
  {
   "cell_type": "code",
   "execution_count": 6,
   "metadata": {},
   "outputs": [],
   "source": [
    "# Convert the datetime column to a datetime object\n",
    "final_dataframe['datetime'] = pd.to_datetime(final_dataframe['datetime'], format='%Y-%m-%d %H:%M')"
   ]
  },
  {
   "cell_type": "code",
   "execution_count": 7,
   "metadata": {},
   "outputs": [
    {
     "data": {
      "text/html": [
       "<div>\n",
       "<style scoped>\n",
       "    .dataframe tbody tr th:only-of-type {\n",
       "        vertical-align: middle;\n",
       "    }\n",
       "\n",
       "    .dataframe tbody tr th {\n",
       "        vertical-align: top;\n",
       "    }\n",
       "\n",
       "    .dataframe thead th {\n",
       "        text-align: right;\n",
       "    }\n",
       "</style>\n",
       "<table border=\"1\" class=\"dataframe\">\n",
       "  <thead>\n",
       "    <tr style=\"text-align: right;\">\n",
       "      <th></th>\n",
       "      <th>id</th>\n",
       "      <th>quantity</th>\n",
       "      <th>unit_price</th>\n",
       "      <th>time_left</th>\n",
       "      <th>item.id</th>\n",
       "      <th>item.name</th>\n",
       "      <th>item.class</th>\n",
       "      <th>datetime</th>\n",
       "    </tr>\n",
       "  </thead>\n",
       "  <tbody>\n",
       "    <tr>\n",
       "      <th>0</th>\n",
       "      <td>1879838406</td>\n",
       "      <td>2</td>\n",
       "      <td>2420900000</td>\n",
       "      <td>SHORT</td>\n",
       "      <td>191331</td>\n",
       "      <td>Phial of Charged Isolation</td>\n",
       "      <td>Consumables</td>\n",
       "      <td>2023-12-23 13:41:00</td>\n",
       "    </tr>\n",
       "    <tr>\n",
       "      <th>1</th>\n",
       "      <td>1879838449</td>\n",
       "      <td>3</td>\n",
       "      <td>4000</td>\n",
       "      <td>SHORT</td>\n",
       "      <td>120293</td>\n",
       "      <td>Lukewarm Yak Roast Broth</td>\n",
       "      <td>Consumables</td>\n",
       "      <td>2023-12-23 13:41:00</td>\n",
       "    </tr>\n",
       "    <tr>\n",
       "      <th>2</th>\n",
       "      <td>1879838573</td>\n",
       "      <td>2</td>\n",
       "      <td>51300</td>\n",
       "      <td>SHORT</td>\n",
       "      <td>171352</td>\n",
       "      <td>Potion of Empowered Exorcisms</td>\n",
       "      <td>Consumables</td>\n",
       "      <td>2023-12-23 13:41:00</td>\n",
       "    </tr>\n",
       "    <tr>\n",
       "      <th>3</th>\n",
       "      <td>1879838720</td>\n",
       "      <td>5</td>\n",
       "      <td>10100</td>\n",
       "      <td>SHORT</td>\n",
       "      <td>191460</td>\n",
       "      <td>Hochenblume</td>\n",
       "      <td>Trade Goods</td>\n",
       "      <td>2023-12-23 13:41:00</td>\n",
       "    </tr>\n",
       "    <tr>\n",
       "      <th>4</th>\n",
       "      <td>1879838812</td>\n",
       "      <td>2</td>\n",
       "      <td>11500000</td>\n",
       "      <td>SHORT</td>\n",
       "      <td>139315</td>\n",
       "      <td>Grimoire of the Wrathguard</td>\n",
       "      <td>Glyphs</td>\n",
       "      <td>2023-12-23 13:41:00</td>\n",
       "    </tr>\n",
       "  </tbody>\n",
       "</table>\n",
       "</div>"
      ],
      "text/plain": [
       "           id  quantity  unit_price time_left  item.id  \\\n",
       "0  1879838406         2  2420900000     SHORT   191331   \n",
       "1  1879838449         3        4000     SHORT   120293   \n",
       "2  1879838573         2       51300     SHORT   171352   \n",
       "3  1879838720         5       10100     SHORT   191460   \n",
       "4  1879838812         2    11500000     SHORT   139315   \n",
       "\n",
       "                       item.name   item.class            datetime  \n",
       "0     Phial of Charged Isolation  Consumables 2023-12-23 13:41:00  \n",
       "1       Lukewarm Yak Roast Broth  Consumables 2023-12-23 13:41:00  \n",
       "2  Potion of Empowered Exorcisms  Consumables 2023-12-23 13:41:00  \n",
       "3                    Hochenblume  Trade Goods 2023-12-23 13:41:00  \n",
       "4     Grimoire of the Wrathguard       Glyphs 2023-12-23 13:41:00  "
      ]
     },
     "execution_count": 7,
     "metadata": {},
     "output_type": "execute_result"
    }
   ],
   "source": [
    "# Display the combined DataFrame\n",
    "final_dataframe.head()"
   ]
  },
  {
   "cell_type": "code",
   "execution_count": 9,
   "metadata": {},
   "outputs": [
    {
     "name": "stdout",
     "output_type": "stream",
     "text": [
      "<class 'pandas.core.frame.DataFrame'>\n",
      "RangeIndex: 6812912 entries, 0 to 6812911\n",
      "Data columns (total 8 columns):\n",
      " #   Column      Dtype         \n",
      "---  ------      -----         \n",
      " 0   id          int64         \n",
      " 1   quantity    int64         \n",
      " 2   unit_price  int64         \n",
      " 3   time_left   object        \n",
      " 4   item.id     int64         \n",
      " 5   item.name   object        \n",
      " 6   item.class  object        \n",
      " 7   datetime    datetime64[ns]\n",
      "dtypes: datetime64[ns](1), int64(4), object(3)\n",
      "memory usage: 415.8+ MB\n"
     ]
    }
   ],
   "source": [
    "final_dataframe.info()"
   ]
  },
  {
   "cell_type": "code",
   "execution_count": 10,
   "metadata": {},
   "outputs": [
    {
     "name": "stdout",
     "output_type": "stream",
     "text": [
      "Number of rows missing either item.name or item.class: 0\n"
     ]
    }
   ],
   "source": [
    "# Check for missing name or class\n",
    "missing_name = final_dataframe['item.name'].isna()\n",
    "missing_class = final_dataframe['item.class'].isna()\n",
    "\n",
    "# Count rows where either 'item.name' or 'item.class' is missing\n",
    "missing_either = final_dataframe[missing_name | missing_class]\n",
    "num_missing_either = len(missing_either)\n",
    "\n",
    "print(f\"Number of rows missing either item.name or item.class: {num_missing_either}\")"
   ]
  }
 ],
 "metadata": {
  "kernelspec": {
   "display_name": "dev",
   "language": "python",
   "name": "python3"
  },
  "language_info": {
   "codemirror_mode": {
    "name": "ipython",
    "version": 3
   },
   "file_extension": ".py",
   "mimetype": "text/x-python",
   "name": "python",
   "nbconvert_exporter": "python",
   "pygments_lexer": "ipython3",
   "version": "3.10.13"
  }
 },
 "nbformat": 4,
 "nbformat_minor": 2
}
