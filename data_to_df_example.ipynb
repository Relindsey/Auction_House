{
 "cells": [
  {
   "cell_type": "code",
   "execution_count": 6,
   "metadata": {},
   "outputs": [],
   "source": [
    "import pandas as pd\n",
    "import os\n",
    "import json"
   ]
  },
  {
   "cell_type": "code",
   "execution_count": 7,
   "metadata": {},
   "outputs": [],
   "source": [
    "def combine_json_to_dataframe(folder_path):\n",
    "    all_dataframes = []  # List to store individual DataFrames\n",
    "\n",
    "    for filename in os.listdir(folder_path):\n",
    "        if filename.endswith(\".json\"):\n",
    "            file_path = os.path.join(folder_path, filename)\n",
    "\n",
    "            # Load JSON data\n",
    "            with open(file_path, 'r') as file:\n",
    "                data = json.load(file)\n",
    "\n",
    "            # Convert JSON data to DataFrame\n",
    "            if 'auctions' in data:\n",
    "                df = pd.json_normalize(data, 'auctions')\n",
    "\n",
    "                # Add the file_date as a new column\n",
    "                df['datetime'] = data['file_date']\n",
    "\n",
    "                # Append this DataFrame to the list\n",
    "                all_dataframes.append(df)\n",
    "\n",
    "    # Combine all DataFrames into one\n",
    "    combined_df = pd.concat(all_dataframes, ignore_index=True)\n",
    "    return combined_df\n"
   ]
  },
  {
   "cell_type": "code",
   "execution_count": 8,
   "metadata": {},
   "outputs": [],
   "source": [
    "# Path to the folder containing JSON files\n",
    "folder_path = 'data'"
   ]
  },
  {
   "cell_type": "code",
   "execution_count": 9,
   "metadata": {},
   "outputs": [],
   "source": [
    "# Combine all JSON files into a single DataFrame\n",
    "final_dataframe = combine_json_to_dataframe(folder_path)"
   ]
  },
  {
   "cell_type": "code",
   "execution_count": 10,
   "metadata": {},
   "outputs": [
    {
     "name": "stdout",
     "output_type": "stream",
     "text": [
      "                 id  quantity  unit_price  time_left  item.id  \\\n",
      "0        1876420303        18       63500      SHORT   190315   \n",
      "1        1876420327         2        4400      SHORT   202070   \n",
      "2        1876420371         9      127500      SHORT   171273   \n",
      "3        1876420422       118       97500      SHORT   153636   \n",
      "4        1876420519         3         700      SHORT   152631   \n",
      "...             ...       ...         ...        ...      ...   \n",
      "6624448  1884524705         2       55500  VERY_LONG   192868   \n",
      "6624449  1884524713         1     6339800  VERY_LONG   200113   \n",
      "6624450  1884524714         6      359600       LONG   190330   \n",
      "6624451  1884524710         1       19000  VERY_LONG   201399   \n",
      "6624452  1884524712        73        9500  VERY_LONG   193215   \n",
      "\n",
      "                 datetime  \n",
      "0        2023-12-22 18:19  \n",
      "1        2023-12-22 18:19  \n",
      "2        2023-12-22 18:19  \n",
      "3        2023-12-22 18:19  \n",
      "4        2023-12-22 18:19  \n",
      "...                   ...  \n",
      "6624448  2023-12-22 18:20  \n",
      "6624449  2023-12-22 18:20  \n",
      "6624450  2023-12-22 18:20  \n",
      "6624451  2023-12-22 18:20  \n",
      "6624452  2023-12-22 18:20  \n",
      "\n",
      "[6624453 rows x 6 columns]\n"
     ]
    }
   ],
   "source": [
    "# Display the combined DataFrame\n",
    "print(final_dataframe)"
   ]
  }
 ],
 "metadata": {
  "kernelspec": {
   "display_name": "dev",
   "language": "python",
   "name": "python3"
  },
  "language_info": {
   "codemirror_mode": {
    "name": "ipython",
    "version": 3
   },
   "file_extension": ".py",
   "mimetype": "text/x-python",
   "name": "python",
   "nbconvert_exporter": "python",
   "pygments_lexer": "ipython3",
   "version": "3.10.13"
  }
 },
 "nbformat": 4,
 "nbformat_minor": 2
}
