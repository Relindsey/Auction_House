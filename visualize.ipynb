{
 "cells": [
  {
   "cell_type": "code",
   "execution_count": 15,
   "metadata": {},
   "outputs": [],
   "source": [
    "import pandas as pd"
   ]
  },
  {
   "cell_type": "code",
   "execution_count": 16,
   "metadata": {},
   "outputs": [],
   "source": [
    "# Replace the path below with the actual path to your CSV file if it's not in the same directory as your Jupyter Notebook\n",
    "file_path = 'commodities_data.csv'\n",
    "\n",
    "# Read the CSV file\n",
    "df = pd.read_csv(file_path)"
   ]
  },
  {
   "cell_type": "code",
   "execution_count": 17,
   "metadata": {},
   "outputs": [],
   "source": [
    "# Convert the datetime column to a datetime object\n",
    "#df['datetime'] = pd.to_datetime(df['datetime'], format='%Y-%m-%d %H:%M')\n",
    "\n",
    "# Convert the 'datetime' column to datetime objects\n",
    "df['datetime'] = pd.to_datetime(df['datetime'])"
   ]
  },
  {
   "cell_type": "code",
   "execution_count": 18,
   "metadata": {},
   "outputs": [
    {
     "name": "stdout",
     "output_type": "stream",
     "text": [
      "<class 'pandas.core.frame.DataFrame'>\n",
      "RangeIndex: 13254799 entries, 0 to 13254798\n",
      "Data columns (total 8 columns):\n",
      " #   Column      Dtype         \n",
      "---  ------      -----         \n",
      " 0   id          int64         \n",
      " 1   quantity    int64         \n",
      " 2   unit_price  int64         \n",
      " 3   time_left   object        \n",
      " 4   item.id     int64         \n",
      " 5   item.name   object        \n",
      " 6   item.class  object        \n",
      " 7   datetime    datetime64[ns]\n",
      "dtypes: datetime64[ns](1), int64(4), object(3)\n",
      "memory usage: 809.0+ MB\n"
     ]
    }
   ],
   "source": [
    "# Display the first few rows of the DataFrame\n",
    "df.info()"
   ]
  },
  {
   "cell_type": "code",
   "execution_count": 19,
   "metadata": {},
   "outputs": [
    {
     "data": {
      "text/html": [
       "<div>\n",
       "<style scoped>\n",
       "    .dataframe tbody tr th:only-of-type {\n",
       "        vertical-align: middle;\n",
       "    }\n",
       "\n",
       "    .dataframe tbody tr th {\n",
       "        vertical-align: top;\n",
       "    }\n",
       "\n",
       "    .dataframe thead th {\n",
       "        text-align: right;\n",
       "    }\n",
       "</style>\n",
       "<table border=\"1\" class=\"dataframe\">\n",
       "  <thead>\n",
       "    <tr style=\"text-align: right;\">\n",
       "      <th></th>\n",
       "      <th>id</th>\n",
       "      <th>quantity</th>\n",
       "      <th>unit_price</th>\n",
       "      <th>time_left</th>\n",
       "      <th>item.id</th>\n",
       "      <th>item.name</th>\n",
       "      <th>item.class</th>\n",
       "      <th>datetime</th>\n",
       "    </tr>\n",
       "  </thead>\n",
       "  <tbody>\n",
       "    <tr>\n",
       "      <th>0</th>\n",
       "      <td>1883899371</td>\n",
       "      <td>2</td>\n",
       "      <td>237500</td>\n",
       "      <td>SHORT</td>\n",
       "      <td>38376</td>\n",
       "      <td>Heavy Borean Armor Kit</td>\n",
       "      <td>Consumables</td>\n",
       "      <td>2023-12-24 13:41:00</td>\n",
       "    </tr>\n",
       "    <tr>\n",
       "      <th>1</th>\n",
       "      <td>1883899383</td>\n",
       "      <td>1</td>\n",
       "      <td>14503400</td>\n",
       "      <td>SHORT</td>\n",
       "      <td>199973</td>\n",
       "      <td>Enchant Weapon - Frozen Writ</td>\n",
       "      <td>Unknown</td>\n",
       "      <td>2023-12-24 13:41:00</td>\n",
       "    </tr>\n",
       "    <tr>\n",
       "      <th>2</th>\n",
       "      <td>1883899456</td>\n",
       "      <td>5</td>\n",
       "      <td>47500</td>\n",
       "      <td>SHORT</td>\n",
       "      <td>38375</td>\n",
       "      <td>Borean Armor Kit</td>\n",
       "      <td>Consumables</td>\n",
       "      <td>2023-12-24 13:41:00</td>\n",
       "    </tr>\n",
       "    <tr>\n",
       "      <th>3</th>\n",
       "      <td>1883899469</td>\n",
       "      <td>54</td>\n",
       "      <td>46900</td>\n",
       "      <td>SHORT</td>\n",
       "      <td>154165</td>\n",
       "      <td>Calcified Bone</td>\n",
       "      <td>Trade Goods</td>\n",
       "      <td>2023-12-24 13:41:00</td>\n",
       "    </tr>\n",
       "    <tr>\n",
       "      <th>4</th>\n",
       "      <td>1883899485</td>\n",
       "      <td>23</td>\n",
       "      <td>4900</td>\n",
       "      <td>SHORT</td>\n",
       "      <td>38787</td>\n",
       "      <td>Enchant Shield - Minor Stamina</td>\n",
       "      <td>Consumables</td>\n",
       "      <td>2023-12-24 13:41:00</td>\n",
       "    </tr>\n",
       "  </tbody>\n",
       "</table>\n",
       "</div>"
      ],
      "text/plain": [
       "           id  quantity  unit_price time_left  item.id  \\\n",
       "0  1883899371         2      237500     SHORT    38376   \n",
       "1  1883899383         1    14503400     SHORT   199973   \n",
       "2  1883899456         5       47500     SHORT    38375   \n",
       "3  1883899469        54       46900     SHORT   154165   \n",
       "4  1883899485        23        4900     SHORT    38787   \n",
       "\n",
       "                        item.name   item.class            datetime  \n",
       "0          Heavy Borean Armor Kit  Consumables 2023-12-24 13:41:00  \n",
       "1    Enchant Weapon - Frozen Writ      Unknown 2023-12-24 13:41:00  \n",
       "2                Borean Armor Kit  Consumables 2023-12-24 13:41:00  \n",
       "3                  Calcified Bone  Trade Goods 2023-12-24 13:41:00  \n",
       "4  Enchant Shield - Minor Stamina  Consumables 2023-12-24 13:41:00  "
      ]
     },
     "execution_count": 19,
     "metadata": {},
     "output_type": "execute_result"
    }
   ],
   "source": [
    "df.head()"
   ]
  },
  {
   "cell_type": "code",
   "execution_count": 20,
   "metadata": {},
   "outputs": [
    {
     "name": "stdout",
     "output_type": "stream",
     "text": [
      "Number of unique items for each item class:\n",
      "item.class\n",
      "Armor              11\n",
      "Consumables      3120\n",
      "Gems              990\n",
      "Glyphs            111\n",
      "Miscellaneous    1799\n",
      "Recipes             3\n",
      "Trade Goods      2091\n",
      "Unknown           340\n",
      "Name: item.id, dtype: int64\n"
     ]
    }
   ],
   "source": [
    "# Group by 'item.class' and count unique 'item.id'\n",
    "class_counts = df.groupby('item.class')['item.id'].nunique()\n",
    "\n",
    "print(\"Number of unique items for each item class:\")\n",
    "print(class_counts)"
   ]
  }
 ],
 "metadata": {
  "kernelspec": {
   "display_name": "dev",
   "language": "python",
   "name": "python3"
  },
  "language_info": {
   "codemirror_mode": {
    "name": "ipython",
    "version": 3
   },
   "file_extension": ".py",
   "mimetype": "text/x-python",
   "name": "python",
   "nbconvert_exporter": "python",
   "pygments_lexer": "ipython3",
   "version": "3.10.13"
  }
 },
 "nbformat": 4,
 "nbformat_minor": 2
}
