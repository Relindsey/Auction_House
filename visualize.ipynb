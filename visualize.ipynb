{
 "cells": [
  {
   "cell_type": "code",
   "execution_count": 2,
   "metadata": {},
   "outputs": [],
   "source": [
    "import pandas as pd\n",
    "from pandas import json_normalize"
   ]
  },
  {
   "cell_type": "code",
   "execution_count": 3,
   "metadata": {},
   "outputs": [],
   "source": [
    "# Replace the path below with the actual path to your CSV file if it's not in the same directory as your Jupyter Notebook\n",
    "file_path = 'commodities_data.csv'\n",
    "\n",
    "# Read the CSV file\n",
    "df = pd.read_csv(file_path)"
   ]
  },
  {
   "cell_type": "code",
   "execution_count": 4,
   "metadata": {},
   "outputs": [],
   "source": [
    "# Convert the datetime column to a datetime object\n",
    "#df['datetime'] = pd.to_datetime(df['datetime'], format='%Y-%m-%d %H:%M')\n",
    "\n",
    "# Convert the 'datetime' column to datetime objects\n",
    "df['datetime'] = pd.to_datetime(df['datetime'])"
   ]
  },
  {
   "cell_type": "code",
   "execution_count": 5,
   "metadata": {},
   "outputs": [
    {
     "name": "stdout",
     "output_type": "stream",
     "text": [
      "<class 'pandas.core.frame.DataFrame'>\n",
      "RangeIndex: 46568732 entries, 0 to 46568731\n",
      "Data columns (total 8 columns):\n",
      " #   Column      Dtype         \n",
      "---  ------      -----         \n",
      " 0   id          int64         \n",
      " 1   quantity    int64         \n",
      " 2   unit_price  int64         \n",
      " 3   time_left   object        \n",
      " 4   item.id     int64         \n",
      " 5   item.name   object        \n",
      " 6   item.class  object        \n",
      " 7   datetime    datetime64[ns]\n",
      "dtypes: datetime64[ns](1), int64(4), object(3)\n",
      "memory usage: 2.8+ GB\n"
     ]
    }
   ],
   "source": [
    "# Display the first few rows of the DataFrame\n",
    "df.info()"
   ]
  },
  {
   "cell_type": "code",
   "execution_count": 6,
   "metadata": {},
   "outputs": [
    {
     "data": {
      "text/html": [
       "<div>\n",
       "<style scoped>\n",
       "    .dataframe tbody tr th:only-of-type {\n",
       "        vertical-align: middle;\n",
       "    }\n",
       "\n",
       "    .dataframe tbody tr th {\n",
       "        vertical-align: top;\n",
       "    }\n",
       "\n",
       "    .dataframe thead th {\n",
       "        text-align: right;\n",
       "    }\n",
       "</style>\n",
       "<table border=\"1\" class=\"dataframe\">\n",
       "  <thead>\n",
       "    <tr style=\"text-align: right;\">\n",
       "      <th></th>\n",
       "      <th>id</th>\n",
       "      <th>quantity</th>\n",
       "      <th>unit_price</th>\n",
       "      <th>time_left</th>\n",
       "      <th>item.id</th>\n",
       "      <th>item.name</th>\n",
       "      <th>item.class</th>\n",
       "      <th>datetime</th>\n",
       "    </tr>\n",
       "  </thead>\n",
       "  <tbody>\n",
       "    <tr>\n",
       "      <th>0</th>\n",
       "      <td>1899749198</td>\n",
       "      <td>15</td>\n",
       "      <td>109400</td>\n",
       "      <td>SHORT</td>\n",
       "      <td>184090</td>\n",
       "      <td>Potion of the Psychopomp's Speed</td>\n",
       "      <td>Consumables</td>\n",
       "      <td>2023-12-28 15:41:00</td>\n",
       "    </tr>\n",
       "    <tr>\n",
       "      <th>1</th>\n",
       "      <td>1899749311</td>\n",
       "      <td>1</td>\n",
       "      <td>2000</td>\n",
       "      <td>SHORT</td>\n",
       "      <td>168650</td>\n",
       "      <td>Cragscale</td>\n",
       "      <td>Trade Goods</td>\n",
       "      <td>2023-12-28 15:41:00</td>\n",
       "    </tr>\n",
       "    <tr>\n",
       "      <th>2</th>\n",
       "      <td>1899749353</td>\n",
       "      <td>6</td>\n",
       "      <td>2400</td>\n",
       "      <td>SHORT</td>\n",
       "      <td>152576</td>\n",
       "      <td>Tidespray Linen</td>\n",
       "      <td>Trade Goods</td>\n",
       "      <td>2023-12-28 15:41:00</td>\n",
       "    </tr>\n",
       "    <tr>\n",
       "      <th>3</th>\n",
       "      <td>1899749415</td>\n",
       "      <td>2</td>\n",
       "      <td>290200</td>\n",
       "      <td>SHORT</td>\n",
       "      <td>76885</td>\n",
       "      <td>Burning Primal Diamond</td>\n",
       "      <td>Gems</td>\n",
       "      <td>2023-12-28 15:41:00</td>\n",
       "    </tr>\n",
       "    <tr>\n",
       "      <th>4</th>\n",
       "      <td>1899749701</td>\n",
       "      <td>1</td>\n",
       "      <td>9707000</td>\n",
       "      <td>SHORT</td>\n",
       "      <td>139362</td>\n",
       "      <td>Glyph of Mana Touched Souls</td>\n",
       "      <td>Glyphs</td>\n",
       "      <td>2023-12-28 15:41:00</td>\n",
       "    </tr>\n",
       "  </tbody>\n",
       "</table>\n",
       "</div>"
      ],
      "text/plain": [
       "           id  quantity  unit_price time_left  item.id  \\\n",
       "0  1899749198        15      109400     SHORT   184090   \n",
       "1  1899749311         1        2000     SHORT   168650   \n",
       "2  1899749353         6        2400     SHORT   152576   \n",
       "3  1899749415         2      290200     SHORT    76885   \n",
       "4  1899749701         1     9707000     SHORT   139362   \n",
       "\n",
       "                          item.name   item.class            datetime  \n",
       "0  Potion of the Psychopomp's Speed  Consumables 2023-12-28 15:41:00  \n",
       "1                         Cragscale  Trade Goods 2023-12-28 15:41:00  \n",
       "2                   Tidespray Linen  Trade Goods 2023-12-28 15:41:00  \n",
       "3            Burning Primal Diamond         Gems 2023-12-28 15:41:00  \n",
       "4       Glyph of Mana Touched Souls       Glyphs 2023-12-28 15:41:00  "
      ]
     },
     "execution_count": 6,
     "metadata": {},
     "output_type": "execute_result"
    }
   ],
   "source": [
    "df.head()"
   ]
  },
  {
   "cell_type": "code",
   "execution_count": 7,
   "metadata": {},
   "outputs": [
    {
     "name": "stdout",
     "output_type": "stream",
     "text": [
      "Number of unique items for each item class:\n",
      "item.class\n",
      "Armor              11\n",
      "Consumables      3183\n",
      "Gems              998\n",
      "Glyphs            111\n",
      "Miscellaneous    1912\n",
      "Recipes             3\n",
      "Trade Goods      2092\n",
      "Unknown           550\n",
      "Name: item.id, dtype: int64\n"
     ]
    }
   ],
   "source": [
    "# Group by 'item.class' and count unique 'item.id'\n",
    "class_counts = df.groupby('item.class')['item.id'].nunique()\n",
    "\n",
    "print(\"Number of unique items for each item class:\")\n",
    "print(class_counts)"
   ]
  },
  {
   "cell_type": "code",
   "execution_count": 8,
   "metadata": {},
   "outputs": [
    {
     "name": "stdout",
     "output_type": "stream",
     "text": [
      "Total rows in the DataFrame: 46,568,732\n"
     ]
    }
   ],
   "source": [
    "# Count all rows in the DataFrame\n",
    "total_rows = len(df)\n",
    "print(f\"Total rows in the DataFrame: {total_rows:,}\")"
   ]
  },
  {
   "cell_type": "code",
   "execution_count": 9,
   "metadata": {},
   "outputs": [
    {
     "name": "stdout",
     "output_type": "stream",
     "text": [
      "Total rows: 46,568,732\n",
      "Rows missing name: 3,238\n",
      "Rows missing class: 4,434,558\n",
      "Rows missing both name and class: 3,238\n"
     ]
    }
   ],
   "source": [
    "# Replace 'Unknown' with NaN for item.name and item.class\n",
    "df['item.name'] = df['item.name'].replace('Unknown', pd.NA)\n",
    "df['item.class'] = df['item.class'].replace('Unknown', pd.NA)\n",
    "\n",
    "# Count the total number of items\n",
    "total_items = len(df)\n",
    "\n",
    "# Count items where 'name' or 'class' is missing or 'Unknown'\n",
    "missing_name = len(df[df['item.name'].isna()])\n",
    "missing_class = len(df[df['item.class'].isna()])\n",
    "missing_both = len(df[df['item.name'].isna() & df['item.class'].isna()])\n",
    "\n",
    "# Print the results\n",
    "print(f\"Total rows: {total_items:,}\")\n",
    "print(f\"Rows missing name: {missing_name:,}\")\n",
    "print(f\"Rows missing class: {missing_class:,}\")\n",
    "print(f\"Rows missing both name and class: {missing_both:,}\")\n"
   ]
  },
  {
   "cell_type": "code",
   "execution_count": 10,
   "metadata": {},
   "outputs": [
    {
     "data": {
      "text/html": [
       "<div>\n",
       "<style scoped>\n",
       "    .dataframe tbody tr th:only-of-type {\n",
       "        vertical-align: middle;\n",
       "    }\n",
       "\n",
       "    .dataframe tbody tr th {\n",
       "        vertical-align: top;\n",
       "    }\n",
       "\n",
       "    .dataframe thead th {\n",
       "        text-align: right;\n",
       "    }\n",
       "</style>\n",
       "<table border=\"1\" class=\"dataframe\">\n",
       "  <thead>\n",
       "    <tr style=\"text-align: right;\">\n",
       "      <th></th>\n",
       "      <th>id</th>\n",
       "      <th>quantity</th>\n",
       "      <th>unit_price</th>\n",
       "      <th>time_left</th>\n",
       "      <th>item.id</th>\n",
       "      <th>item.name</th>\n",
       "      <th>item.class</th>\n",
       "      <th>datetime</th>\n",
       "    </tr>\n",
       "  </thead>\n",
       "  <tbody>\n",
       "    <tr>\n",
       "      <th>0</th>\n",
       "      <td>1899749198</td>\n",
       "      <td>15</td>\n",
       "      <td>109400</td>\n",
       "      <td>SHORT</td>\n",
       "      <td>184090</td>\n",
       "      <td>Potion of the Psychopomp's Speed</td>\n",
       "      <td>Consumables</td>\n",
       "      <td>2023-12-28 15:41:00</td>\n",
       "    </tr>\n",
       "    <tr>\n",
       "      <th>1</th>\n",
       "      <td>1899749311</td>\n",
       "      <td>1</td>\n",
       "      <td>2000</td>\n",
       "      <td>SHORT</td>\n",
       "      <td>168650</td>\n",
       "      <td>Cragscale</td>\n",
       "      <td>Trade Goods</td>\n",
       "      <td>2023-12-28 15:41:00</td>\n",
       "    </tr>\n",
       "    <tr>\n",
       "      <th>2</th>\n",
       "      <td>1899749353</td>\n",
       "      <td>6</td>\n",
       "      <td>2400</td>\n",
       "      <td>SHORT</td>\n",
       "      <td>152576</td>\n",
       "      <td>Tidespray Linen</td>\n",
       "      <td>Trade Goods</td>\n",
       "      <td>2023-12-28 15:41:00</td>\n",
       "    </tr>\n",
       "    <tr>\n",
       "      <th>3</th>\n",
       "      <td>1899749415</td>\n",
       "      <td>2</td>\n",
       "      <td>290200</td>\n",
       "      <td>SHORT</td>\n",
       "      <td>76885</td>\n",
       "      <td>Burning Primal Diamond</td>\n",
       "      <td>Gems</td>\n",
       "      <td>2023-12-28 15:41:00</td>\n",
       "    </tr>\n",
       "    <tr>\n",
       "      <th>4</th>\n",
       "      <td>1899749701</td>\n",
       "      <td>1</td>\n",
       "      <td>9707000</td>\n",
       "      <td>SHORT</td>\n",
       "      <td>139362</td>\n",
       "      <td>Glyph of Mana Touched Souls</td>\n",
       "      <td>Glyphs</td>\n",
       "      <td>2023-12-28 15:41:00</td>\n",
       "    </tr>\n",
       "  </tbody>\n",
       "</table>\n",
       "</div>"
      ],
      "text/plain": [
       "           id  quantity  unit_price time_left  item.id  \\\n",
       "0  1899749198        15      109400     SHORT   184090   \n",
       "1  1899749311         1        2000     SHORT   168650   \n",
       "2  1899749353         6        2400     SHORT   152576   \n",
       "3  1899749415         2      290200     SHORT    76885   \n",
       "4  1899749701         1     9707000     SHORT   139362   \n",
       "\n",
       "                          item.name   item.class            datetime  \n",
       "0  Potion of the Psychopomp's Speed  Consumables 2023-12-28 15:41:00  \n",
       "1                         Cragscale  Trade Goods 2023-12-28 15:41:00  \n",
       "2                   Tidespray Linen  Trade Goods 2023-12-28 15:41:00  \n",
       "3            Burning Primal Diamond         Gems 2023-12-28 15:41:00  \n",
       "4       Glyph of Mana Touched Souls       Glyphs 2023-12-28 15:41:00  "
      ]
     },
     "execution_count": 10,
     "metadata": {},
     "output_type": "execute_result"
    }
   ],
   "source": [
    "df.head(5)"
   ]
  },
  {
   "cell_type": "code",
   "execution_count": 11,
   "metadata": {},
   "outputs": [
    {
     "name": "stdout",
     "output_type": "stream",
     "text": [
      "Top five auctions by total number of entries:\n",
      "id\n",
      "1892306429    50\n",
      "1892307450    50\n",
      "1892310233    50\n",
      "1892310138    50\n",
      "1892306884    50\n",
      "Name: count, dtype: int64\n"
     ]
    }
   ],
   "source": [
    "# Count the occurrences of each auction id\n",
    "id_counts = df['id'].value_counts()\n",
    "\n",
    "# Get the top 5 auction ids with the most entries\n",
    "top_five_auctions = id_counts.head(5)\n",
    "\n",
    "print(\"Top five auctions by total number of entries:\")\n",
    "print(top_five_auctions)"
   ]
  },
  {
   "cell_type": "code",
   "execution_count": 14,
   "metadata": {},
   "outputs": [
    {
     "name": "stdout",
     "output_type": "stream",
     "text": [
      "                  id  quantity  unit_price  time_left  item.id       item.name   item.class            datetime\n",
      "37081589  1892307450         4       31500  VERY_LONG    18567  Elemental Flux  Trade Goods 2023-12-24 14:41:00\n",
      "14099843  1892307450         4       31500  VERY_LONG    18567  Elemental Flux  Trade Goods 2023-12-24 15:41:00\n",
      "45966143  1892307450         4       31500  VERY_LONG    18567  Elemental Flux  Trade Goods 2023-12-24 16:41:00\n",
      "18483207  1892307450         4       31500  VERY_LONG    18567  Elemental Flux  Trade Goods 2023-12-24 17:41:00\n",
      "37566042  1892307450         4       31500  VERY_LONG    18567  Elemental Flux  Trade Goods 2023-12-24 18:41:00\n",
      "15410960  1892307450         4       31500  VERY_LONG    18567  Elemental Flux  Trade Goods 2023-12-24 19:41:00\n",
      "43715490  1892307450         4       31500  VERY_LONG    18567  Elemental Flux  Trade Goods 2023-12-24 20:41:00\n",
      "19272056  1892307450         4       31500  VERY_LONG    18567  Elemental Flux  Trade Goods 2023-12-24 21:41:00\n",
      "36151399  1892307450         4       31500  VERY_LONG    18567  Elemental Flux  Trade Goods 2023-12-24 22:41:00\n",
      "16199323  1892307450         4       31500  VERY_LONG    18567  Elemental Flux  Trade Goods 2023-12-24 23:41:00\n",
      "31324193  1892307450         4       31500  VERY_LONG    18567  Elemental Flux  Trade Goods 2023-12-25 00:41:00\n",
      "9196214   1892307450         4       31500  VERY_LONG    18567  Elemental Flux  Trade Goods 2023-12-25 01:41:00\n",
      "27658934  1892307450         4       31500  VERY_LONG    18567  Elemental Flux  Trade Goods 2023-12-25 02:41:00\n",
      "395061    1892307450         4       31500  VERY_LONG    18567  Elemental Flux  Trade Goods 2023-12-25 03:41:00\n",
      "35004191  1892307450         4       31500  VERY_LONG    18567  Elemental Flux  Trade Goods 2023-12-25 04:41:00\n",
      "15595525  1892307450         4       31500  VERY_LONG    18567  Elemental Flux  Trade Goods 2023-12-25 05:41:00\n",
      "44203873  1892307450         4       31500  VERY_LONG    18567  Elemental Flux  Trade Goods 2023-12-25 06:41:00\n",
      "20260066  1892307450         4       31500  VERY_LONG    18567  Elemental Flux  Trade Goods 2023-12-25 07:41:00\n",
      "35546295  1892307450         4       31500  VERY_LONG    18567  Elemental Flux  Trade Goods 2023-12-25 08:41:00\n",
      "16954732  1892307450         4       31500  VERY_LONG    18567  Elemental Flux  Trade Goods 2023-12-25 09:41:00\n",
      "28451827  1892307450         4       31500  VERY_LONG    18567  Elemental Flux  Trade Goods 2023-12-25 10:41:00\n",
      "1204624   1892307450         4       31500  VERY_LONG    18567  Elemental Flux  Trade Goods 2023-12-25 11:41:00\n",
      "30708389  1892307450         4       31500  VERY_LONG    18567  Elemental Flux  Trade Goods 2023-12-25 12:41:00\n",
      "8572768   1892307450         4       31500  VERY_LONG    18567  Elemental Flux  Trade Goods 2023-12-25 13:41:00\n",
      "43337469  1892307450         4       31500  VERY_LONG    18567  Elemental Flux  Trade Goods 2023-12-25 14:41:00\n",
      "19438961  1892307450         4       31500  VERY_LONG    18567  Elemental Flux  Trade Goods 2023-12-25 15:41:00\n",
      "35787971  1892307450         4       31500  VERY_LONG    18567  Elemental Flux  Trade Goods 2023-12-25 16:41:00\n",
      "16381902  1892307450         4       31500  VERY_LONG    18567  Elemental Flux  Trade Goods 2023-12-25 17:41:00\n",
      "44429569  1892307450         4       31500  VERY_LONG    18567  Elemental Flux  Trade Goods 2023-12-25 18:41:00\n",
      "19682151  1892307450         4       31500  VERY_LONG    18567  Elemental Flux  Trade Goods 2023-12-25 19:41:00\n",
      "36596280  1892307450         4       31500  VERY_LONG    18567  Elemental Flux  Trade Goods 2023-12-25 20:41:00\n",
      "14164231  1892307450         4       31500  VERY_LONG    18567  Elemental Flux  Trade Goods 2023-12-25 21:41:00\n",
      "45510357  1892307450         4       31500  VERY_LONG    18567  Elemental Flux  Trade Goods 2023-12-25 22:41:00\n",
      "18574141  1892307450         4       31500  VERY_LONG    18567  Elemental Flux  Trade Goods 2023-12-25 23:41:00\n",
      "40756401  1892307450         4       31500  VERY_LONG    18567  Elemental Flux  Trade Goods 2023-12-26 00:41:00\n",
      "22208424  1892307450         4       31500  VERY_LONG    18567  Elemental Flux  Trade Goods 2023-12-26 01:41:00\n",
      "38497263  1892307450         4       31500  VERY_LONG    18567  Elemental Flux  Trade Goods 2023-12-26 02:41:00\n",
      "13309119  1892307450         4       31500       LONG    18567  Elemental Flux  Trade Goods 2023-12-26 03:41:00\n",
      "25864456  1892307450         4       31500       LONG    18567  Elemental Flux  Trade Goods 2023-12-26 04:41:00\n",
      "3663040   1892307450         4       31500       LONG    18567  Elemental Flux  Trade Goods 2023-12-26 05:41:00\n",
      "33517973  1892307450         4       31500       LONG    18567  Elemental Flux  Trade Goods 2023-12-26 06:41:00\n",
      "5933231   1892307450         4       31500       LONG    18567  Elemental Flux  Trade Goods 2023-12-26 07:41:00\n",
      "25003340  1892307450         4       31500       LONG    18567  Elemental Flux  Trade Goods 2023-12-26 08:41:00\n",
      "3379879   1892307450         4       31500       LONG    18567  Elemental Flux  Trade Goods 2023-12-26 09:41:00\n",
      "37921706  1892307450         4       31500       LONG    18567  Elemental Flux  Trade Goods 2023-12-26 10:41:00\n",
      "13019741  1892307450         4       31500       LONG    18567  Elemental Flux  Trade Goods 2023-12-26 11:41:00\n",
      "41266985  1892307450         4       31500       LONG    18567  Elemental Flux  Trade Goods 2023-12-26 12:41:00\n",
      "22729025  1892307450         4       31500     MEDIUM    18567  Elemental Flux  Trade Goods 2023-12-26 13:41:00\n",
      "34069839  1892307450         4       31500      SHORT    18567  Elemental Flux  Trade Goods 2023-12-26 14:41:00\n",
      "6484406   1892307450         4       31500      SHORT    18567  Elemental Flux  Trade Goods 2023-12-26 15:41:00\n"
     ]
    }
   ],
   "source": [
    "# Filter the DataFrame for auction id 1892306429\n",
    "specific_auction_df = df[df['id'] == 1892307450]\n",
    "\n",
    "# Sort the filtered DataFrame by the 'datetime' column in ascending order\n",
    "specific_auction_df_sorted = specific_auction_df.sort_values(by='datetime', ascending=True)\n",
    "print(specific_auction_df_sorted.to_string())"
   ]
  },
  {
   "cell_type": "code",
   "execution_count": 15,
   "metadata": {},
   "outputs": [
    {
     "name": "stdout",
     "output_type": "stream",
     "text": [
      "                  id  quantity  unit_price  time_left  item.id          item.name   item.class            datetime\n",
      "37082382  1892310233         1         100  VERY_LONG    17404  Blended Bean Brew  Consumables 2023-12-24 14:41:00\n",
      "14100209  1892310233         1         100  VERY_LONG    17404  Blended Bean Brew  Consumables 2023-12-24 15:41:00\n",
      "45966424  1892310233         1         100  VERY_LONG    17404  Blended Bean Brew  Consumables 2023-12-24 16:41:00\n",
      "18483445  1892310233         1         100  VERY_LONG    17404  Blended Bean Brew  Consumables 2023-12-24 17:41:00\n",
      "37566253  1892310233         1         100  VERY_LONG    17404  Blended Bean Brew  Consumables 2023-12-24 18:41:00\n",
      "15411145  1892310233         1         100  VERY_LONG    17404  Blended Bean Brew  Consumables 2023-12-24 19:41:00\n",
      "43715672  1892310233         1         100  VERY_LONG    17404  Blended Bean Brew  Consumables 2023-12-24 20:41:00\n",
      "19272234  1892310233         1         100  VERY_LONG    17404  Blended Bean Brew  Consumables 2023-12-24 21:41:00\n",
      "36151572  1892310233         1         100  VERY_LONG    17404  Blended Bean Brew  Consumables 2023-12-24 22:41:00\n",
      "16199488  1892310233         1         100  VERY_LONG    17404  Blended Bean Brew  Consumables 2023-12-24 23:41:00\n",
      "31324357  1892310233         1         100  VERY_LONG    17404  Blended Bean Brew  Consumables 2023-12-25 00:41:00\n",
      "9196376   1892310233         1         100  VERY_LONG    17404  Blended Bean Brew  Consumables 2023-12-25 01:41:00\n",
      "27659074  1892310233         1         100  VERY_LONG    17404  Blended Bean Brew  Consumables 2023-12-25 02:41:00\n",
      "395164    1892310233         1         100  VERY_LONG    17404  Blended Bean Brew  Consumables 2023-12-25 03:41:00\n",
      "35004293  1892310233         1         100  VERY_LONG    17404  Blended Bean Brew  Consumables 2023-12-25 04:41:00\n",
      "15595622  1892310233         1         100  VERY_LONG    17404  Blended Bean Brew  Consumables 2023-12-25 05:41:00\n",
      "44203968  1892310233         1         100  VERY_LONG    17404  Blended Bean Brew  Consumables 2023-12-25 06:41:00\n",
      "20260161  1892310233         1         100  VERY_LONG    17404  Blended Bean Brew  Consumables 2023-12-25 07:41:00\n",
      "35546388  1892310233         1         100  VERY_LONG    17404  Blended Bean Brew  Consumables 2023-12-25 08:41:00\n",
      "16954825  1892310233         1         100  VERY_LONG    17404  Blended Bean Brew  Consumables 2023-12-25 09:41:00\n",
      "28451919  1892310233         1         100  VERY_LONG    17404  Blended Bean Brew  Consumables 2023-12-25 10:41:00\n",
      "1204716   1892310233         1         100  VERY_LONG    17404  Blended Bean Brew  Consumables 2023-12-25 11:41:00\n",
      "30708479  1892310233         1         100  VERY_LONG    17404  Blended Bean Brew  Consumables 2023-12-25 12:41:00\n",
      "8572856   1892310233         1         100  VERY_LONG    17404  Blended Bean Brew  Consumables 2023-12-25 13:41:00\n",
      "43337557  1892310233         1         100  VERY_LONG    17404  Blended Bean Brew  Consumables 2023-12-25 14:41:00\n",
      "19439015  1892310233         1         100  VERY_LONG    17404  Blended Bean Brew  Consumables 2023-12-25 15:41:00\n",
      "35788024  1892310233         1         100  VERY_LONG    17404  Blended Bean Brew  Consumables 2023-12-25 16:41:00\n",
      "16381949  1892310233         1         100  VERY_LONG    17404  Blended Bean Brew  Consumables 2023-12-25 17:41:00\n",
      "44429616  1892310233         1         100  VERY_LONG    17404  Blended Bean Brew  Consumables 2023-12-25 18:41:00\n",
      "19682198  1892310233         1         100  VERY_LONG    17404  Blended Bean Brew  Consumables 2023-12-25 19:41:00\n",
      "36596326  1892310233         1         100  VERY_LONG    17404  Blended Bean Brew  Consumables 2023-12-25 20:41:00\n",
      "14164276  1892310233         1         100  VERY_LONG    17404  Blended Bean Brew  Consumables 2023-12-25 21:41:00\n",
      "45510401  1892310233         1         100  VERY_LONG    17404  Blended Bean Brew  Consumables 2023-12-25 22:41:00\n",
      "18574183  1892310233         1         100  VERY_LONG    17404  Blended Bean Brew  Consumables 2023-12-25 23:41:00\n",
      "40756443  1892310233         1         100  VERY_LONG    17404  Blended Bean Brew  Consumables 2023-12-26 00:41:00\n",
      "22208464  1892310233         1         100  VERY_LONG    17404  Blended Bean Brew  Consumables 2023-12-26 01:41:00\n",
      "38497302  1892310233         1         100  VERY_LONG    17404  Blended Bean Brew  Consumables 2023-12-26 02:41:00\n",
      "13309158  1892310233         1         100       LONG    17404  Blended Bean Brew  Consumables 2023-12-26 03:41:00\n",
      "25864495  1892310233         1         100       LONG    17404  Blended Bean Brew  Consumables 2023-12-26 04:41:00\n",
      "3663079   1892310233         1         100       LONG    17404  Blended Bean Brew  Consumables 2023-12-26 05:41:00\n",
      "33518012  1892310233         1         100       LONG    17404  Blended Bean Brew  Consumables 2023-12-26 06:41:00\n",
      "5933269   1892310233         1         100       LONG    17404  Blended Bean Brew  Consumables 2023-12-26 07:41:00\n",
      "25003378  1892310233         1         100       LONG    17404  Blended Bean Brew  Consumables 2023-12-26 08:41:00\n",
      "3379917   1892310233         1         100       LONG    17404  Blended Bean Brew  Consumables 2023-12-26 09:41:00\n",
      "37921744  1892310233         1         100       LONG    17404  Blended Bean Brew  Consumables 2023-12-26 10:41:00\n",
      "13019779  1892310233         1         100       LONG    17404  Blended Bean Brew  Consumables 2023-12-26 11:41:00\n",
      "41267023  1892310233         1         100       LONG    17404  Blended Bean Brew  Consumables 2023-12-26 12:41:00\n",
      "22729062  1892310233         1         100     MEDIUM    17404  Blended Bean Brew  Consumables 2023-12-26 13:41:00\n",
      "34069876  1892310233         1         100      SHORT    17404  Blended Bean Brew  Consumables 2023-12-26 14:41:00\n",
      "6484443   1892310233         1         100      SHORT    17404  Blended Bean Brew  Consumables 2023-12-26 15:41:00\n"
     ]
    }
   ],
   "source": [
    "# Filter the DataFrame for auction id 1892310233\n",
    "specific_auction_df = df[df['id'] == 1892310233]\n",
    "\n",
    "# Sort the filtered DataFrame by the 'datetime' column in ascending order\n",
    "specific_auction_df_sorted = specific_auction_df.sort_values(by='datetime', ascending=True)\n",
    "print(specific_auction_df_sorted.to_string())"
   ]
  },
  {
   "cell_type": "code",
   "execution_count": 16,
   "metadata": {},
   "outputs": [
    {
     "name": "stdout",
     "output_type": "stream",
     "text": [
      "                  id  quantity  unit_price  time_left  item.id            item.name   item.class            datetime\n",
      "37082346  1892310138         5         800  VERY_LONG    44482  Trusty Copper Racer  Consumables 2023-12-24 14:41:00\n",
      "14100197  1892310138         5         800  VERY_LONG    44482  Trusty Copper Racer  Consumables 2023-12-24 15:41:00\n",
      "45966413  1892310138         5         800  VERY_LONG    44482  Trusty Copper Racer  Consumables 2023-12-24 16:41:00\n",
      "18483435  1892310138         5         800  VERY_LONG    44482  Trusty Copper Racer  Consumables 2023-12-24 17:41:00\n",
      "37566246  1892310138         5         800  VERY_LONG    44482  Trusty Copper Racer  Consumables 2023-12-24 18:41:00\n",
      "15411139  1892310138         5         800  VERY_LONG    44482  Trusty Copper Racer  Consumables 2023-12-24 19:41:00\n",
      "43715666  1892310138         5         800  VERY_LONG    44482  Trusty Copper Racer  Consumables 2023-12-24 20:41:00\n",
      "19272228  1892310138         5         800  VERY_LONG    44482  Trusty Copper Racer  Consumables 2023-12-24 21:41:00\n",
      "36151566  1892310138         5         800  VERY_LONG    44482  Trusty Copper Racer  Consumables 2023-12-24 22:41:00\n",
      "16199482  1892310138         5         800  VERY_LONG    44482  Trusty Copper Racer  Consumables 2023-12-24 23:41:00\n",
      "31324351  1892310138         5         800  VERY_LONG    44482  Trusty Copper Racer  Consumables 2023-12-25 00:41:00\n",
      "9196370   1892310138         5         800  VERY_LONG    44482  Trusty Copper Racer  Consumables 2023-12-25 01:41:00\n",
      "27659068  1892310138         5         800  VERY_LONG    44482  Trusty Copper Racer  Consumables 2023-12-25 02:41:00\n",
      "395161    1892310138         5         800  VERY_LONG    44482  Trusty Copper Racer  Consumables 2023-12-25 03:41:00\n",
      "35004290  1892310138         5         800  VERY_LONG    44482  Trusty Copper Racer  Consumables 2023-12-25 04:41:00\n",
      "15595619  1892310138         5         800  VERY_LONG    44482  Trusty Copper Racer  Consumables 2023-12-25 05:41:00\n",
      "44203965  1892310138         5         800  VERY_LONG    44482  Trusty Copper Racer  Consumables 2023-12-25 06:41:00\n",
      "20260158  1892310138         5         800  VERY_LONG    44482  Trusty Copper Racer  Consumables 2023-12-25 07:41:00\n",
      "35546385  1892310138         5         800  VERY_LONG    44482  Trusty Copper Racer  Consumables 2023-12-25 08:41:00\n",
      "16954822  1892310138         5         800  VERY_LONG    44482  Trusty Copper Racer  Consumables 2023-12-25 09:41:00\n",
      "28451916  1892310138         5         800  VERY_LONG    44482  Trusty Copper Racer  Consumables 2023-12-25 10:41:00\n",
      "1204713   1892310138         5         800  VERY_LONG    44482  Trusty Copper Racer  Consumables 2023-12-25 11:41:00\n",
      "30708476  1892310138         5         800  VERY_LONG    44482  Trusty Copper Racer  Consumables 2023-12-25 12:41:00\n",
      "8572853   1892310138         5         800  VERY_LONG    44482  Trusty Copper Racer  Consumables 2023-12-25 13:41:00\n",
      "43337554  1892310138         5         800  VERY_LONG    44482  Trusty Copper Racer  Consumables 2023-12-25 14:41:00\n",
      "19439013  1892310138         5         800  VERY_LONG    44482  Trusty Copper Racer  Consumables 2023-12-25 15:41:00\n",
      "35788022  1892310138         5         800  VERY_LONG    44482  Trusty Copper Racer  Consumables 2023-12-25 16:41:00\n",
      "16381948  1892310138         5         800  VERY_LONG    44482  Trusty Copper Racer  Consumables 2023-12-25 17:41:00\n",
      "44429615  1892310138         5         800  VERY_LONG    44482  Trusty Copper Racer  Consumables 2023-12-25 18:41:00\n",
      "19682197  1892310138         5         800  VERY_LONG    44482  Trusty Copper Racer  Consumables 2023-12-25 19:41:00\n",
      "36596325  1892310138         5         800  VERY_LONG    44482  Trusty Copper Racer  Consumables 2023-12-25 20:41:00\n",
      "14164275  1892310138         5         800  VERY_LONG    44482  Trusty Copper Racer  Consumables 2023-12-25 21:41:00\n",
      "45510400  1892310138         5         800  VERY_LONG    44482  Trusty Copper Racer  Consumables 2023-12-25 22:41:00\n",
      "18574182  1892310138         5         800  VERY_LONG    44482  Trusty Copper Racer  Consumables 2023-12-25 23:41:00\n",
      "40756442  1892310138         5         800  VERY_LONG    44482  Trusty Copper Racer  Consumables 2023-12-26 00:41:00\n",
      "22208463  1892310138         5         800  VERY_LONG    44482  Trusty Copper Racer  Consumables 2023-12-26 01:41:00\n",
      "38497301  1892310138         5         800  VERY_LONG    44482  Trusty Copper Racer  Consumables 2023-12-26 02:41:00\n",
      "13309157  1892310138         5         800       LONG    44482  Trusty Copper Racer  Consumables 2023-12-26 03:41:00\n",
      "25864494  1892310138         5         800       LONG    44482  Trusty Copper Racer  Consumables 2023-12-26 04:41:00\n",
      "3663078   1892310138         5         800       LONG    44482  Trusty Copper Racer  Consumables 2023-12-26 05:41:00\n",
      "33518011  1892310138         5         800       LONG    44482  Trusty Copper Racer  Consumables 2023-12-26 06:41:00\n",
      "5933268   1892310138         5         800       LONG    44482  Trusty Copper Racer  Consumables 2023-12-26 07:41:00\n",
      "25003377  1892310138         5         800       LONG    44482  Trusty Copper Racer  Consumables 2023-12-26 08:41:00\n",
      "3379916   1892310138         5         800       LONG    44482  Trusty Copper Racer  Consumables 2023-12-26 09:41:00\n",
      "37921743  1892310138         5         800       LONG    44482  Trusty Copper Racer  Consumables 2023-12-26 10:41:00\n",
      "13019778  1892310138         5         800       LONG    44482  Trusty Copper Racer  Consumables 2023-12-26 11:41:00\n",
      "41267022  1892310138         5         800       LONG    44482  Trusty Copper Racer  Consumables 2023-12-26 12:41:00\n",
      "22729061  1892310138         5         800     MEDIUM    44482  Trusty Copper Racer  Consumables 2023-12-26 13:41:00\n",
      "34069875  1892310138         5         800      SHORT    44482  Trusty Copper Racer  Consumables 2023-12-26 14:41:00\n",
      "6484442   1892310138         5         800      SHORT    44482  Trusty Copper Racer  Consumables 2023-12-26 15:41:00\n"
     ]
    }
   ],
   "source": [
    "# Filter the DataFrame for auction id 1892310138\n",
    "specific_auction_df = df[df['id'] == 1892310138]\n",
    "\n",
    "# Sort the filtered DataFrame by the 'datetime' column in ascending order\n",
    "specific_auction_df_sorted = specific_auction_df.sort_values(by='datetime', ascending=True)\n",
    "print(specific_auction_df_sorted.to_string())"
   ]
  },
  {
   "cell_type": "code",
   "execution_count": 17,
   "metadata": {},
   "outputs": [
    {
     "name": "stdout",
     "output_type": "stream",
     "text": [
      "Auction IDs with varied unit prices:\n",
      "[]\n"
     ]
    }
   ],
   "source": [
    "# Group by 'id' and check for variation in 'unit_price'\n",
    "varied_price_auctions = df.groupby('id').filter(lambda x: x['unit_price'].nunique() > 1)\n",
    "\n",
    "# If you want to see the unique auction IDs with varied prices:\n",
    "unique_auction_ids = varied_price_auctions['id'].unique()\n",
    "print(\"Auction IDs with varied unit prices:\")\n",
    "print(unique_auction_ids)"
   ]
  },
  {
   "cell_type": "code",
   "execution_count": 18,
   "metadata": {},
   "outputs": [
    {
     "name": "stdout",
     "output_type": "stream",
     "text": [
      "Price statistics per item:\n",
      "      item.id      min          max      median          mean\n",
      "0         117      100   2554690000       100.0  4.242948e+06\n",
      "1         118      100    100003000      5000.0  1.362121e+06\n",
      "2         159      100     99000000      9900.0  5.409696e+05\n",
      "3         414      100    480000100       100.0  3.064589e+07\n",
      "4         422      100        10100       100.0  1.701730e+02\n",
      "...       ...      ...          ...         ...           ...\n",
      "8671   210671  4009800     12759700   7949800.0  8.177044e+06\n",
      "8672   210672   509500     30019300   2650000.0  4.341805e+06\n",
      "8673   210673  8000000    401566900  12428900.0  1.562042e+07\n",
      "8674   211270   239500  12000000000   1059600.0  6.645180e+07\n",
      "8675   211400   249500     99999900    698900.0  6.065943e+06\n",
      "\n",
      "[8676 rows x 5 columns]\n"
     ]
    }
   ],
   "source": [
    "# Group by 'item.id' and calculate min, max, median, and mean unit_price\n",
    "price_stats = df.groupby('item.id')['unit_price'].agg(['min', 'max', 'median', 'mean'])\n",
    "\n",
    "# Reset index to make 'item.id' a column\n",
    "price_stats = price_stats.reset_index()\n",
    "\n",
    "print(\"Price statistics per item:\")\n",
    "print(price_stats)"
   ]
  }
 ],
 "metadata": {
  "kernelspec": {
   "display_name": "dev",
   "language": "python",
   "name": "python3"
  },
  "language_info": {
   "codemirror_mode": {
    "name": "ipython",
    "version": 3
   },
   "file_extension": ".py",
   "mimetype": "text/x-python",
   "name": "python",
   "nbconvert_exporter": "python",
   "pygments_lexer": "ipython3",
   "version": "3.10.13"
  }
 },
 "nbformat": 4,
 "nbformat_minor": 2
}
