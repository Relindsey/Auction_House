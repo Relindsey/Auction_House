{
 "cells": [
  {
   "cell_type": "code",
   "execution_count": 4,
   "metadata": {},
   "outputs": [],
   "source": [
    "import pandas as pd\n",
    "import numpy as np\n",
    "import matplotlib.pyplot as plt\n",
    "import seaborn as sns"
   ]
  },
  {
   "cell_type": "code",
   "execution_count": 8,
   "metadata": {},
   "outputs": [],
   "source": [
    "file_path = '../commodities_data.csv'\n",
    "\n",
    "df = pd.read_csv(file_path)"
   ]
  },
  {
   "cell_type": "code",
   "execution_count": 9,
   "metadata": {},
   "outputs": [],
   "source": [
    "df['datetime'] = pd.to_datetime(df['datetime'])"
   ]
  },
  {
   "cell_type": "code",
   "execution_count": 10,
   "metadata": {},
   "outputs": [
    {
     "name": "stdout",
     "output_type": "stream",
     "text": [
      "<class 'pandas.core.frame.DataFrame'>\n",
      "RangeIndex: 79852830 entries, 0 to 79852829\n",
      "Data columns (total 8 columns):\n",
      " #   Column      Dtype         \n",
      "---  ------      -----         \n",
      " 0   id          int64         \n",
      " 1   quantity    int64         \n",
      " 2   unit_price  int64         \n",
      " 3   time_left   object        \n",
      " 4   item.id     int64         \n",
      " 5   item.name   object        \n",
      " 6   item.class  object        \n",
      " 7   datetime    datetime64[ns]\n",
      "dtypes: datetime64[ns](1), int64(4), object(3)\n",
      "memory usage: 4.8+ GB\n",
      "item.class\n",
      "Armor              11\n",
      "Consumables      3201\n",
      "Gems             1003\n",
      "Glyphs            111\n",
      "Miscellaneous    1979\n",
      "Recipes             3\n",
      "Trade Goods      2093\n",
      "Unknown           701\n",
      "Name: item.id, dtype: int64\n"
     ]
    },
    {
     "data": {
      "text/html": [
       "<div>\n",
       "<style scoped>\n",
       "    .dataframe tbody tr th:only-of-type {\n",
       "        vertical-align: middle;\n",
       "    }\n",
       "\n",
       "    .dataframe tbody tr th {\n",
       "        vertical-align: top;\n",
       "    }\n",
       "\n",
       "    .dataframe thead th {\n",
       "        text-align: right;\n",
       "    }\n",
       "</style>\n",
       "<table border=\"1\" class=\"dataframe\">\n",
       "  <thead>\n",
       "    <tr style=\"text-align: right;\">\n",
       "      <th></th>\n",
       "      <th>id</th>\n",
       "      <th>quantity</th>\n",
       "      <th>unit_price</th>\n",
       "      <th>time_left</th>\n",
       "      <th>item.id</th>\n",
       "      <th>item.name</th>\n",
       "      <th>item.class</th>\n",
       "      <th>datetime</th>\n",
       "    </tr>\n",
       "  </thead>\n",
       "  <tbody>\n",
       "    <tr>\n",
       "      <th>0</th>\n",
       "      <td>1899749198</td>\n",
       "      <td>15</td>\n",
       "      <td>109400</td>\n",
       "      <td>SHORT</td>\n",
       "      <td>184090</td>\n",
       "      <td>Potion of the Psychopomp's Speed</td>\n",
       "      <td>Consumables</td>\n",
       "      <td>2023-12-28 15:41:00</td>\n",
       "    </tr>\n",
       "    <tr>\n",
       "      <th>1</th>\n",
       "      <td>1899749311</td>\n",
       "      <td>1</td>\n",
       "      <td>2000</td>\n",
       "      <td>SHORT</td>\n",
       "      <td>168650</td>\n",
       "      <td>Cragscale</td>\n",
       "      <td>Trade Goods</td>\n",
       "      <td>2023-12-28 15:41:00</td>\n",
       "    </tr>\n",
       "    <tr>\n",
       "      <th>2</th>\n",
       "      <td>1899749353</td>\n",
       "      <td>6</td>\n",
       "      <td>2400</td>\n",
       "      <td>SHORT</td>\n",
       "      <td>152576</td>\n",
       "      <td>Tidespray Linen</td>\n",
       "      <td>Trade Goods</td>\n",
       "      <td>2023-12-28 15:41:00</td>\n",
       "    </tr>\n",
       "    <tr>\n",
       "      <th>3</th>\n",
       "      <td>1899749415</td>\n",
       "      <td>2</td>\n",
       "      <td>290200</td>\n",
       "      <td>SHORT</td>\n",
       "      <td>76885</td>\n",
       "      <td>Burning Primal Diamond</td>\n",
       "      <td>Gems</td>\n",
       "      <td>2023-12-28 15:41:00</td>\n",
       "    </tr>\n",
       "    <tr>\n",
       "      <th>4</th>\n",
       "      <td>1899749701</td>\n",
       "      <td>1</td>\n",
       "      <td>9707000</td>\n",
       "      <td>SHORT</td>\n",
       "      <td>139362</td>\n",
       "      <td>Glyph of Mana Touched Souls</td>\n",
       "      <td>Glyphs</td>\n",
       "      <td>2023-12-28 15:41:00</td>\n",
       "    </tr>\n",
       "  </tbody>\n",
       "</table>\n",
       "</div>"
      ],
      "text/plain": [
       "           id  quantity  unit_price time_left  item.id  \\\n",
       "0  1899749198        15      109400     SHORT   184090   \n",
       "1  1899749311         1        2000     SHORT   168650   \n",
       "2  1899749353         6        2400     SHORT   152576   \n",
       "3  1899749415         2      290200     SHORT    76885   \n",
       "4  1899749701         1     9707000     SHORT   139362   \n",
       "\n",
       "                          item.name   item.class            datetime  \n",
       "0  Potion of the Psychopomp's Speed  Consumables 2023-12-28 15:41:00  \n",
       "1                         Cragscale  Trade Goods 2023-12-28 15:41:00  \n",
       "2                   Tidespray Linen  Trade Goods 2023-12-28 15:41:00  \n",
       "3            Burning Primal Diamond         Gems 2023-12-28 15:41:00  \n",
       "4       Glyph of Mana Touched Souls       Glyphs 2023-12-28 15:41:00  "
      ]
     },
     "execution_count": 10,
     "metadata": {},
     "output_type": "execute_result"
    }
   ],
   "source": [
    "class_counts = df.groupby('item.class')['item.id'].nunique()\n",
    "df.info()\n",
    "print(class_counts)\n",
    "df.head()"
   ]
  },
  {
   "cell_type": "code",
   "execution_count": 11,
   "metadata": {},
   "outputs": [
    {
     "name": "stdout",
     "output_type": "stream",
     "text": [
      "Total rows: 79,852,830\n",
      "Rows missing name: 6,902\n",
      "Rows missing class: 7,323,232\n",
      "Rows missing both name and class: 6,902\n"
     ]
    }
   ],
   "source": [
    "# Replace 'Unknown' with NaN for item.name and item.class\n",
    "df['item.name'] = df['item.name'].replace('Unknown', pd.NA)\n",
    "df['item.class'] = df['item.class'].replace('Unknown', pd.NA)\n",
    "\n",
    "total_items = len(df)\n",
    "\n",
    "missing_name = len(df[df['item.name'].isna()])\n",
    "missing_class = len(df[df['item.class'].isna()])\n",
    "missing_both = len(df[df['item.name'].isna() & df['item.class'].isna()])\n",
    "\n",
    "print(f\"Total rows: {total_items:,}\")\n",
    "print(f\"Rows missing name: {missing_name:,}\")\n",
    "print(f\"Rows missing class: {missing_class:,}\")\n",
    "print(f\"Rows missing both name and class: {missing_both:,}\")"
   ]
  },
  {
   "cell_type": "code",
   "execution_count": 12,
   "metadata": {},
   "outputs": [],
   "source": [
    "# Drop rows where either 'item.name' or 'item.class' is NA\n",
    "cleaned_df = df.dropna(subset=['item.name', 'item.class'])"
   ]
  }
 ],
 "metadata": {
  "kernelspec": {
   "display_name": "dev",
   "language": "python",
   "name": "python3"
  },
  "language_info": {
   "codemirror_mode": {
    "name": "ipython",
    "version": 3
   },
   "file_extension": ".py",
   "mimetype": "text/x-python",
   "name": "python",
   "nbconvert_exporter": "python",
   "pygments_lexer": "ipython3",
   "version": "3.10.13"
  }
 },
 "nbformat": 4,
 "nbformat_minor": 2
}
