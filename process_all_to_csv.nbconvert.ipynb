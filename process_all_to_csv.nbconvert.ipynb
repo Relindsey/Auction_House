{
 "cells": [
  {
   "cell_type": "code",
   "execution_count": 1,
   "metadata": {
    "execution": {
     "iopub.execute_input": "2023-12-27T19:37:17.376352Z",
     "iopub.status.busy": "2023-12-27T19:37:17.376100Z",
     "iopub.status.idle": "2023-12-27T19:37:17.380117Z",
     "shell.execute_reply": "2023-12-27T19:37:17.379667Z"
    }
   },
   "outputs": [],
   "source": [
    "# IMPORTANT: BEFORE RUNNING THIS SCRIPT make sure you add the following\n",
    "# to the bottom of your .gitignore file: commodities_data.csv\n",
    "# The generated file is too large for standard Github and can screw with\n",
    "# your commits if not ignored prior to generating the csv file."
   ]
  },
  {
   "cell_type": "code",
   "execution_count": 2,
   "metadata": {
    "execution": {
     "iopub.execute_input": "2023-12-27T19:37:17.382467Z",
     "iopub.status.busy": "2023-12-27T19:37:17.382314Z",
     "iopub.status.idle": "2023-12-27T19:37:17.929443Z",
     "shell.execute_reply": "2023-12-27T19:37:17.929189Z"
    }
   },
   "outputs": [],
   "source": [
    "import pandas as pd\n",
    "import os\n",
    "import json"
   ]
  },
  {
   "cell_type": "code",
   "execution_count": 3,
   "metadata": {
    "execution": {
     "iopub.execute_input": "2023-12-27T19:37:17.931050Z",
     "iopub.status.busy": "2023-12-27T19:37:17.930917Z",
     "iopub.status.idle": "2023-12-27T19:37:17.933314Z",
     "shell.execute_reply": "2023-12-27T19:37:17.933088Z"
    }
   },
   "outputs": [],
   "source": [
    "def combine_json_to_dataframe(folder_path):\n",
    "    all_dataframes = []  # List to store individual DataFrames\n",
    "\n",
    "    for filename in os.listdir(folder_path):\n",
    "        if filename.endswith(\".json\"):\n",
    "            file_path = os.path.join(folder_path, filename)\n",
    "\n",
    "            # Load JSON data\n",
    "            with open(file_path, 'r') as file:\n",
    "                data = json.load(file)\n",
    "\n",
    "            # Convert JSON data to DataFrame\n",
    "            if 'auctions' in data:\n",
    "                df = pd.json_normalize(data, 'auctions')\n",
    "\n",
    "                # Add the file_date as a new column\n",
    "                df['datetime'] = data['file_date']\n",
    "\n",
    "                # Append this DataFrame to the list\n",
    "                all_dataframes.append(df)\n",
    "\n",
    "    # Combine all DataFrames into one\n",
    "    combined_df = pd.concat(all_dataframes, ignore_index=True)\n",
    "    return combined_df\n"
   ]
  },
  {
   "cell_type": "code",
   "execution_count": 4,
   "metadata": {
    "execution": {
     "iopub.execute_input": "2023-12-27T19:37:17.934595Z",
     "iopub.status.busy": "2023-12-27T19:37:17.934509Z",
     "iopub.status.idle": "2023-12-27T19:37:17.935851Z",
     "shell.execute_reply": "2023-12-27T19:37:17.935639Z"
    }
   },
   "outputs": [],
   "source": [
    "# Path to the folder containing JSON files\n",
    "folder_path = 'data'"
   ]
  },
  {
   "cell_type": "code",
   "execution_count": 5,
   "metadata": {
    "execution": {
     "iopub.execute_input": "2023-12-27T19:37:17.937077Z",
     "iopub.status.busy": "2023-12-27T19:37:17.936989Z",
     "iopub.status.idle": "2023-12-27T20:09:23.475432Z",
     "shell.execute_reply": "2023-12-27T20:09:23.460030Z"
    }
   },
   "outputs": [],
   "source": [
    "# Combine all JSON files into a single DataFrame\n",
    "final_dataframe = combine_json_to_dataframe(folder_path)"
   ]
  },
  {
   "cell_type": "code",
   "execution_count": 6,
   "metadata": {
    "execution": {
     "iopub.execute_input": "2023-12-27T20:09:23.532581Z",
     "iopub.status.busy": "2023-12-27T20:09:23.532219Z",
     "iopub.status.idle": "2023-12-27T20:09:25.181116Z",
     "shell.execute_reply": "2023-12-27T20:09:25.180669Z"
    }
   },
   "outputs": [],
   "source": [
    "# Convert the datetime column to a datetime object\n",
    "final_dataframe['datetime'] = pd.to_datetime(final_dataframe['datetime'], format='%Y-%m-%d %H:%M')"
   ]
  },
  {
   "cell_type": "code",
   "execution_count": 7,
   "metadata": {
    "execution": {
     "iopub.execute_input": "2023-12-27T20:09:25.182635Z",
     "iopub.status.busy": "2023-12-27T20:09:25.182548Z",
     "iopub.status.idle": "2023-12-27T20:09:25.210041Z",
     "shell.execute_reply": "2023-12-27T20:09:25.209811Z"
    }
   },
   "outputs": [
    {
     "data": {
      "text/html": [
       "<div>\n",
       "<style scoped>\n",
       "    .dataframe tbody tr th:only-of-type {\n",
       "        vertical-align: middle;\n",
       "    }\n",
       "\n",
       "    .dataframe tbody tr th {\n",
       "        vertical-align: top;\n",
       "    }\n",
       "\n",
       "    .dataframe thead th {\n",
       "        text-align: right;\n",
       "    }\n",
       "</style>\n",
       "<table border=\"1\" class=\"dataframe\">\n",
       "  <thead>\n",
       "    <tr style=\"text-align: right;\">\n",
       "      <th></th>\n",
       "      <th>id</th>\n",
       "      <th>quantity</th>\n",
       "      <th>unit_price</th>\n",
       "      <th>time_left</th>\n",
       "      <th>item.id</th>\n",
       "      <th>item.name</th>\n",
       "      <th>item.class</th>\n",
       "      <th>datetime</th>\n",
       "    </tr>\n",
       "  </thead>\n",
       "  <tbody>\n",
       "    <tr>\n",
       "      <th>33817995</th>\n",
       "      <td>1891659518</td>\n",
       "      <td>2</td>\n",
       "      <td>1449800</td>\n",
       "      <td>LONG</td>\n",
       "      <td>200038</td>\n",
       "      <td>Enchant Ring - Devotion of Haste</td>\n",
       "      <td>Unknown</td>\n",
       "      <td>2023-12-24 08:41:00</td>\n",
       "    </tr>\n",
       "    <tr>\n",
       "      <th>33817996</th>\n",
       "      <td>1891659519</td>\n",
       "      <td>2</td>\n",
       "      <td>185000</td>\n",
       "      <td>VERY_LONG</td>\n",
       "      <td>7067</td>\n",
       "      <td>Elemental Earth</td>\n",
       "      <td>Trade Goods</td>\n",
       "      <td>2023-12-24 08:41:00</td>\n",
       "    </tr>\n",
       "    <tr>\n",
       "      <th>33817997</th>\n",
       "      <td>1891659520</td>\n",
       "      <td>304</td>\n",
       "      <td>139900</td>\n",
       "      <td>LONG</td>\n",
       "      <td>52185</td>\n",
       "      <td>Elementium Ore</td>\n",
       "      <td>Trade Goods</td>\n",
       "      <td>2023-12-24 08:41:00</td>\n",
       "    </tr>\n",
       "    <tr>\n",
       "      <th>33817998</th>\n",
       "      <td>1891659524</td>\n",
       "      <td>4</td>\n",
       "      <td>45000</td>\n",
       "      <td>LONG</td>\n",
       "      <td>192847</td>\n",
       "      <td>Sundered Onyx</td>\n",
       "      <td>Trade Goods</td>\n",
       "      <td>2023-12-24 08:41:00</td>\n",
       "    </tr>\n",
       "    <tr>\n",
       "      <th>33817999</th>\n",
       "      <td>1891659525</td>\n",
       "      <td>47</td>\n",
       "      <td>3000</td>\n",
       "      <td>VERY_LONG</td>\n",
       "      <td>33470</td>\n",
       "      <td>Frostweave Cloth</td>\n",
       "      <td>Trade Goods</td>\n",
       "      <td>2023-12-24 08:41:00</td>\n",
       "    </tr>\n",
       "  </tbody>\n",
       "</table>\n",
       "</div>"
      ],
      "text/plain": [
       "                  id  quantity  unit_price  time_left  item.id  \\\n",
       "33817995  1891659518         2     1449800       LONG   200038   \n",
       "33817996  1891659519         2      185000  VERY_LONG     7067   \n",
       "33817997  1891659520       304      139900       LONG    52185   \n",
       "33817998  1891659524         4       45000       LONG   192847   \n",
       "33817999  1891659525        47        3000  VERY_LONG    33470   \n",
       "\n",
       "                                 item.name   item.class            datetime  \n",
       "33817995  Enchant Ring - Devotion of Haste      Unknown 2023-12-24 08:41:00  \n",
       "33817996                   Elemental Earth  Trade Goods 2023-12-24 08:41:00  \n",
       "33817997                    Elementium Ore  Trade Goods 2023-12-24 08:41:00  \n",
       "33817998                     Sundered Onyx  Trade Goods 2023-12-24 08:41:00  \n",
       "33817999                  Frostweave Cloth  Trade Goods 2023-12-24 08:41:00  "
      ]
     },
     "execution_count": 7,
     "metadata": {},
     "output_type": "execute_result"
    }
   ],
   "source": [
    "# Display the combined DataFrame\n",
    "final_dataframe.tail()"
   ]
  },
  {
   "cell_type": "code",
   "execution_count": 8,
   "metadata": {
    "execution": {
     "iopub.execute_input": "2023-12-27T20:09:25.268064Z",
     "iopub.status.busy": "2023-12-27T20:09:25.267945Z",
     "iopub.status.idle": "2023-12-27T20:09:25.280585Z",
     "shell.execute_reply": "2023-12-27T20:09:25.280340Z"
    }
   },
   "outputs": [
    {
     "name": "stdout",
     "output_type": "stream",
     "text": [
      "<class 'pandas.core.frame.DataFrame'>\n",
      "RangeIndex: 33818000 entries, 0 to 33817999\n",
      "Data columns (total 8 columns):\n",
      " #   Column      Dtype         \n",
      "---  ------      -----         \n",
      " 0   id          int64         \n",
      " 1   quantity    int64         \n",
      " 2   unit_price  int64         \n",
      " 3   time_left   object        \n",
      " 4   item.id     int64         \n",
      " 5   item.name   object        \n",
      " 6   item.class  object        \n",
      " 7   datetime    datetime64[ns]\n",
      "dtypes: datetime64[ns](1), int64(4), object(3)\n",
      "memory usage: 2.0+ GB\n"
     ]
    }
   ],
   "source": [
    "final_dataframe.info()"
   ]
  },
  {
   "cell_type": "code",
   "execution_count": 9,
   "metadata": {
    "execution": {
     "iopub.execute_input": "2023-12-27T20:09:25.281833Z",
     "iopub.status.busy": "2023-12-27T20:09:25.281748Z",
     "iopub.status.idle": "2023-12-27T20:11:34.742570Z",
     "shell.execute_reply": "2023-12-27T20:11:34.740076Z"
    }
   },
   "outputs": [
    {
     "name": "stdout",
     "output_type": "stream",
     "text": [
      "Total items: 33818000\n",
      "Items missing name: 2576\n",
      "Items missing class: 3286832\n",
      "Items missing both name and class: 2576\n"
     ]
    }
   ],
   "source": [
    "total_items = len(final_dataframe)\n",
    "missing_name = final_dataframe['item.name'].isna() | (final_dataframe['item.name'] == 'Unknown')\n",
    "missing_class = final_dataframe['item.class'].isna() | (final_dataframe['item.class'] == 'Unknown')\n",
    "missing_both = missing_name & missing_class\n",
    "\n",
    "# Count based on conditions\n",
    "num_missing_name = final_dataframe[missing_name].shape[0]\n",
    "num_missing_class = final_dataframe[missing_class].shape[0]\n",
    "num_missing_both = final_dataframe[missing_both].shape[0]\n",
    "\n",
    "# Report\n",
    "print(f\"Total items: {total_items}\")\n",
    "print(f\"Items missing name: {num_missing_name}\")\n",
    "print(f\"Items missing class: {num_missing_class}\")\n",
    "print(f\"Items missing both name and class: {num_missing_both}\")\n"
   ]
  },
  {
   "cell_type": "code",
   "execution_count": 10,
   "metadata": {
    "execution": {
     "iopub.execute_input": "2023-12-27T20:11:34.763351Z",
     "iopub.status.busy": "2023-12-27T20:11:34.763053Z",
     "iopub.status.idle": "2023-12-27T20:12:52.129047Z",
     "shell.execute_reply": "2023-12-27T20:12:52.117979Z"
    }
   },
   "outputs": [
    {
     "name": "stdout",
     "output_type": "stream",
     "text": [
      "Data saved to commodities_data.csv\n"
     ]
    }
   ],
   "source": [
    "# Save as a CSV file\n",
    "csv_file_name = 'commodities_data.csv'\n",
    "final_dataframe.to_csv(csv_file_name, index=False)\n",
    "print(f\"Data saved to {csv_file_name}\")\n"
   ]
  }
 ],
 "metadata": {
  "kernelspec": {
   "display_name": "dev",
   "language": "python",
   "name": "python3"
  },
  "language_info": {
   "codemirror_mode": {
    "name": "ipython",
    "version": 3
   },
   "file_extension": ".py",
   "mimetype": "text/x-python",
   "name": "python",
   "nbconvert_exporter": "python",
   "pygments_lexer": "ipython3",
   "version": "3.10.13"
  }
 },
 "nbformat": 4,
 "nbformat_minor": 2
}
