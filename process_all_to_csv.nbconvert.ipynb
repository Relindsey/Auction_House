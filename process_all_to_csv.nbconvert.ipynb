{
 "cells": [
  {
   "cell_type": "code",
   "execution_count": 1,
   "metadata": {
    "execution": {
     "iopub.execute_input": "2023-12-29T16:29:32.820556Z",
     "iopub.status.busy": "2023-12-29T16:29:32.820192Z",
     "iopub.status.idle": "2023-12-29T16:29:32.825487Z",
     "shell.execute_reply": "2023-12-29T16:29:32.824689Z"
    }
   },
   "outputs": [],
   "source": [
    "# IMPORTANT: BEFORE RUNNING THIS SCRIPT make sure you add the following\n",
    "# to the bottom of your .gitignore file: commodities_data.csv\n",
    "# The generated file is too large for standard Github and can screw with\n",
    "# your commits if not ignored prior to generating the csv file."
   ]
  },
  {
   "cell_type": "code",
   "execution_count": 2,
   "metadata": {
    "execution": {
     "iopub.execute_input": "2023-12-29T16:29:32.828989Z",
     "iopub.status.busy": "2023-12-29T16:29:32.828716Z",
     "iopub.status.idle": "2023-12-29T16:29:33.502883Z",
     "shell.execute_reply": "2023-12-29T16:29:33.502627Z"
    }
   },
   "outputs": [],
   "source": [
    "import pandas as pd\n",
    "import os\n",
    "import json"
   ]
  },
  {
   "cell_type": "code",
   "execution_count": 3,
   "metadata": {
    "execution": {
     "iopub.execute_input": "2023-12-29T16:29:33.504477Z",
     "iopub.status.busy": "2023-12-29T16:29:33.504339Z",
     "iopub.status.idle": "2023-12-29T16:29:33.506821Z",
     "shell.execute_reply": "2023-12-29T16:29:33.506563Z"
    }
   },
   "outputs": [],
   "source": [
    "def combine_json_to_dataframe(folder_path):\n",
    "    all_dataframes = []  # List to store individual DataFrames\n",
    "\n",
    "    for filename in os.listdir(folder_path):\n",
    "        if filename.endswith(\".json\"):\n",
    "            file_path = os.path.join(folder_path, filename)\n",
    "\n",
    "            # Load JSON data\n",
    "            with open(file_path, 'r') as file:\n",
    "                data = json.load(file)\n",
    "\n",
    "            # Convert JSON data to DataFrame\n",
    "            if 'auctions' in data:\n",
    "                df = pd.json_normalize(data, 'auctions')\n",
    "\n",
    "                # Add the file_date as a new column\n",
    "                df['datetime'] = data['file_date']\n",
    "\n",
    "                # Append this DataFrame to the list\n",
    "                all_dataframes.append(df)\n",
    "\n",
    "    # Combine all DataFrames into one\n",
    "    combined_df = pd.concat(all_dataframes, ignore_index=True)\n",
    "    return combined_df\n"
   ]
  },
  {
   "cell_type": "code",
   "execution_count": 4,
   "metadata": {
    "execution": {
     "iopub.execute_input": "2023-12-29T16:29:33.508110Z",
     "iopub.status.busy": "2023-12-29T16:29:33.508025Z",
     "iopub.status.idle": "2023-12-29T16:29:33.509487Z",
     "shell.execute_reply": "2023-12-29T16:29:33.509255Z"
    }
   },
   "outputs": [],
   "source": [
    "# Path to the folder containing JSON files\n",
    "folder_path = 'data'"
   ]
  },
  {
   "cell_type": "code",
   "execution_count": 5,
   "metadata": {
    "execution": {
     "iopub.execute_input": "2023-12-29T16:29:33.510659Z",
     "iopub.status.busy": "2023-12-29T16:29:33.510574Z",
     "iopub.status.idle": "2023-12-29T16:41:52.080317Z",
     "shell.execute_reply": "2023-12-29T16:41:52.070234Z"
    }
   },
   "outputs": [],
   "source": [
    "# Combine all JSON files into a single DataFrame\n",
    "final_dataframe = combine_json_to_dataframe(folder_path)"
   ]
  },
  {
   "cell_type": "code",
   "execution_count": 6,
   "metadata": {
    "execution": {
     "iopub.execute_input": "2023-12-29T16:41:52.130924Z",
     "iopub.status.busy": "2023-12-29T16:41:52.130761Z",
     "iopub.status.idle": "2023-12-29T16:41:54.956095Z",
     "shell.execute_reply": "2023-12-29T16:41:54.955696Z"
    }
   },
   "outputs": [],
   "source": [
    "# Convert the datetime column to a datetime object\n",
    "final_dataframe['datetime'] = pd.to_datetime(final_dataframe['datetime'], format='%Y-%m-%d %H:%M')"
   ]
  },
  {
   "cell_type": "code",
   "execution_count": 7,
   "metadata": {
    "execution": {
     "iopub.execute_input": "2023-12-29T16:41:54.958188Z",
     "iopub.status.busy": "2023-12-29T16:41:54.958077Z",
     "iopub.status.idle": "2023-12-29T16:41:55.018991Z",
     "shell.execute_reply": "2023-12-29T16:41:55.018764Z"
    }
   },
   "outputs": [
    {
     "data": {
      "text/html": [
       "<div>\n",
       "<style scoped>\n",
       "    .dataframe tbody tr th:only-of-type {\n",
       "        vertical-align: middle;\n",
       "    }\n",
       "\n",
       "    .dataframe tbody tr th {\n",
       "        vertical-align: top;\n",
       "    }\n",
       "\n",
       "    .dataframe thead th {\n",
       "        text-align: right;\n",
       "    }\n",
       "</style>\n",
       "<table border=\"1\" class=\"dataframe\">\n",
       "  <thead>\n",
       "    <tr style=\"text-align: right;\">\n",
       "      <th></th>\n",
       "      <th>id</th>\n",
       "      <th>quantity</th>\n",
       "      <th>unit_price</th>\n",
       "      <th>time_left</th>\n",
       "      <th>item.id</th>\n",
       "      <th>item.name</th>\n",
       "      <th>item.class</th>\n",
       "      <th>datetime</th>\n",
       "    </tr>\n",
       "  </thead>\n",
       "  <tbody>\n",
       "    <tr>\n",
       "      <th>46568727</th>\n",
       "      <td>1910242848</td>\n",
       "      <td>12</td>\n",
       "      <td>25200</td>\n",
       "      <td>VERY_LONG</td>\n",
       "      <td>197755</td>\n",
       "      <td>Lava Beetle</td>\n",
       "      <td>Trade Goods</td>\n",
       "      <td>2023-12-29 00:41:00</td>\n",
       "    </tr>\n",
       "    <tr>\n",
       "      <th>46568728</th>\n",
       "      <td>1910242860</td>\n",
       "      <td>3</td>\n",
       "      <td>30600</td>\n",
       "      <td>VERY_LONG</td>\n",
       "      <td>191465</td>\n",
       "      <td>Saxifrage</td>\n",
       "      <td>Trade Goods</td>\n",
       "      <td>2023-12-29 00:41:00</td>\n",
       "    </tr>\n",
       "    <tr>\n",
       "      <th>46568729</th>\n",
       "      <td>1910242862</td>\n",
       "      <td>3</td>\n",
       "      <td>1500000</td>\n",
       "      <td>VERY_LONG</td>\n",
       "      <td>193227</td>\n",
       "      <td>Stonecrust Hide</td>\n",
       "      <td>Trade Goods</td>\n",
       "      <td>2023-12-29 00:41:00</td>\n",
       "    </tr>\n",
       "    <tr>\n",
       "      <th>46568730</th>\n",
       "      <td>1910242863</td>\n",
       "      <td>2</td>\n",
       "      <td>25200</td>\n",
       "      <td>VERY_LONG</td>\n",
       "      <td>197755</td>\n",
       "      <td>Lava Beetle</td>\n",
       "      <td>Trade Goods</td>\n",
       "      <td>2023-12-29 00:41:00</td>\n",
       "    </tr>\n",
       "    <tr>\n",
       "      <th>46568731</th>\n",
       "      <td>1910242868</td>\n",
       "      <td>319</td>\n",
       "      <td>19500</td>\n",
       "      <td>VERY_LONG</td>\n",
       "      <td>194966</td>\n",
       "      <td>Thousandbite Piranha</td>\n",
       "      <td>Trade Goods</td>\n",
       "      <td>2023-12-29 00:41:00</td>\n",
       "    </tr>\n",
       "  </tbody>\n",
       "</table>\n",
       "</div>"
      ],
      "text/plain": [
       "                  id  quantity  unit_price  time_left  item.id  \\\n",
       "46568727  1910242848        12       25200  VERY_LONG   197755   \n",
       "46568728  1910242860         3       30600  VERY_LONG   191465   \n",
       "46568729  1910242862         3     1500000  VERY_LONG   193227   \n",
       "46568730  1910242863         2       25200  VERY_LONG   197755   \n",
       "46568731  1910242868       319       19500  VERY_LONG   194966   \n",
       "\n",
       "                     item.name   item.class            datetime  \n",
       "46568727           Lava Beetle  Trade Goods 2023-12-29 00:41:00  \n",
       "46568728             Saxifrage  Trade Goods 2023-12-29 00:41:00  \n",
       "46568729       Stonecrust Hide  Trade Goods 2023-12-29 00:41:00  \n",
       "46568730           Lava Beetle  Trade Goods 2023-12-29 00:41:00  \n",
       "46568731  Thousandbite Piranha  Trade Goods 2023-12-29 00:41:00  "
      ]
     },
     "execution_count": 7,
     "metadata": {},
     "output_type": "execute_result"
    }
   ],
   "source": [
    "# Display the combined DataFrame\n",
    "final_dataframe.tail()"
   ]
  },
  {
   "cell_type": "code",
   "execution_count": 8,
   "metadata": {
    "execution": {
     "iopub.execute_input": "2023-12-29T16:41:55.066771Z",
     "iopub.status.busy": "2023-12-29T16:41:55.066575Z",
     "iopub.status.idle": "2023-12-29T16:41:55.079135Z",
     "shell.execute_reply": "2023-12-29T16:41:55.078872Z"
    }
   },
   "outputs": [
    {
     "name": "stdout",
     "output_type": "stream",
     "text": [
      "<class 'pandas.core.frame.DataFrame'>\n",
      "RangeIndex: 46568732 entries, 0 to 46568731\n",
      "Data columns (total 8 columns):\n",
      " #   Column      Dtype         \n",
      "---  ------      -----         \n",
      " 0   id          int64         \n",
      " 1   quantity    int64         \n",
      " 2   unit_price  int64         \n",
      " 3   time_left   object        \n",
      " 4   item.id     int64         \n",
      " 5   item.name   object        \n",
      " 6   item.class  object        \n",
      " 7   datetime    datetime64[ns]\n",
      "dtypes: datetime64[ns](1), int64(4), object(3)\n",
      "memory usage: 2.8+ GB\n"
     ]
    }
   ],
   "source": [
    "final_dataframe.info()"
   ]
  },
  {
   "cell_type": "code",
   "execution_count": 9,
   "metadata": {
    "execution": {
     "iopub.execute_input": "2023-12-29T16:41:55.080403Z",
     "iopub.status.busy": "2023-12-29T16:41:55.080308Z",
     "iopub.status.idle": "2023-12-29T16:44:29.314161Z",
     "shell.execute_reply": "2023-12-29T16:44:29.310889Z"
    }
   },
   "outputs": [
    {
     "name": "stdout",
     "output_type": "stream",
     "text": [
      "Total items: 46568732\n",
      "Items missing name: 3238\n",
      "Items missing class: 4434558\n",
      "Items missing both name and class: 3238\n"
     ]
    }
   ],
   "source": [
    "total_items = len(final_dataframe)\n",
    "missing_name = final_dataframe['item.name'].isna() | (final_dataframe['item.name'] == 'Unknown')\n",
    "missing_class = final_dataframe['item.class'].isna() | (final_dataframe['item.class'] == 'Unknown')\n",
    "missing_both = missing_name & missing_class\n",
    "\n",
    "# Count based on conditions\n",
    "num_missing_name = final_dataframe[missing_name].shape[0]\n",
    "num_missing_class = final_dataframe[missing_class].shape[0]\n",
    "num_missing_both = final_dataframe[missing_both].shape[0]\n",
    "\n",
    "# Report\n",
    "print(f\"Total items: {total_items}\")\n",
    "print(f\"Items missing name: {num_missing_name}\")\n",
    "print(f\"Items missing class: {num_missing_class}\")\n",
    "print(f\"Items missing both name and class: {num_missing_both}\")\n"
   ]
  },
  {
   "cell_type": "code",
   "execution_count": 10,
   "metadata": {
    "execution": {
     "iopub.execute_input": "2023-12-29T16:44:29.346987Z",
     "iopub.status.busy": "2023-12-29T16:44:29.346224Z",
     "iopub.status.idle": "2023-12-29T16:46:30.656441Z",
     "shell.execute_reply": "2023-12-29T16:46:30.653000Z"
    }
   },
   "outputs": [
    {
     "name": "stdout",
     "output_type": "stream",
     "text": [
      "Data saved to commodities_data.csv\n"
     ]
    }
   ],
   "source": [
    "# Save as a CSV file\n",
    "csv_file_name = 'commodities_data.csv'\n",
    "final_dataframe.to_csv(csv_file_name, index=False)\n",
    "print(f\"Data saved to {csv_file_name}\")\n"
   ]
  }
 ],
 "metadata": {
  "kernelspec": {
   "display_name": "dev",
   "language": "python",
   "name": "python3"
  },
  "language_info": {
   "codemirror_mode": {
    "name": "ipython",
    "version": 3
   },
   "file_extension": ".py",
   "mimetype": "text/x-python",
   "name": "python",
   "nbconvert_exporter": "python",
   "pygments_lexer": "ipython3",
   "version": "3.10.13"
  }
 },
 "nbformat": 4,
 "nbformat_minor": 2
}
