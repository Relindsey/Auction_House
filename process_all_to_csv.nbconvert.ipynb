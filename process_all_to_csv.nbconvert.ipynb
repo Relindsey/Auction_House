{
 "cells": [
  {
   "cell_type": "code",
   "execution_count": 1,
   "metadata": {
    "execution": {
     "iopub.execute_input": "2024-01-03T16:02:37.851784Z",
     "iopub.status.busy": "2024-01-03T16:02:37.851500Z",
     "iopub.status.idle": "2024-01-03T16:02:37.856212Z",
     "shell.execute_reply": "2024-01-03T16:02:37.855694Z"
    }
   },
   "outputs": [],
   "source": [
    "# IMPORTANT: BEFORE RUNNING THIS SCRIPT make sure you add the following\n",
    "# to the bottom of your .gitignore file: commodities_data.csv\n",
    "# The generated file is too large for standard Github and can screw with\n",
    "# your commits if not ignored prior to generating the csv file."
   ]
  },
  {
   "cell_type": "code",
   "execution_count": 2,
   "metadata": {
    "execution": {
     "iopub.execute_input": "2024-01-03T16:02:37.859469Z",
     "iopub.status.busy": "2024-01-03T16:02:37.859240Z",
     "iopub.status.idle": "2024-01-03T16:02:38.942063Z",
     "shell.execute_reply": "2024-01-03T16:02:38.941732Z"
    }
   },
   "outputs": [],
   "source": [
    "import pandas as pd\n",
    "import os\n",
    "import json"
   ]
  },
  {
   "cell_type": "code",
   "execution_count": 3,
   "metadata": {
    "execution": {
     "iopub.execute_input": "2024-01-03T16:02:38.943510Z",
     "iopub.status.busy": "2024-01-03T16:02:38.943400Z",
     "iopub.status.idle": "2024-01-03T16:02:38.945629Z",
     "shell.execute_reply": "2024-01-03T16:02:38.945423Z"
    }
   },
   "outputs": [],
   "source": [
    "def combine_json_to_dataframe(folder_path):\n",
    "    all_dataframes = []  # List to store individual DataFrames\n",
    "\n",
    "    for filename in os.listdir(folder_path):\n",
    "        if filename.endswith(\".json\"):\n",
    "            file_path = os.path.join(folder_path, filename)\n",
    "\n",
    "            # Load JSON data\n",
    "            with open(file_path, 'r') as file:\n",
    "                data = json.load(file)\n",
    "\n",
    "            # Convert JSON data to DataFrame\n",
    "            if 'auctions' in data:\n",
    "                df = pd.json_normalize(data, 'auctions')\n",
    "\n",
    "                # Add the file_date as a new column\n",
    "                df['datetime'] = data['file_date']\n",
    "\n",
    "                # Append this DataFrame to the list\n",
    "                all_dataframes.append(df)\n",
    "\n",
    "    # Combine all DataFrames into one\n",
    "    combined_df = pd.concat(all_dataframes, ignore_index=True)\n",
    "    return combined_df\n"
   ]
  },
  {
   "cell_type": "code",
   "execution_count": 4,
   "metadata": {
    "execution": {
     "iopub.execute_input": "2024-01-03T16:02:38.946699Z",
     "iopub.status.busy": "2024-01-03T16:02:38.946632Z",
     "iopub.status.idle": "2024-01-03T16:02:38.947897Z",
     "shell.execute_reply": "2024-01-03T16:02:38.947701Z"
    }
   },
   "outputs": [],
   "source": [
    "# Path to the folder containing JSON files\n",
    "folder_path = 'data'"
   ]
  },
  {
   "cell_type": "code",
   "execution_count": 5,
   "metadata": {
    "execution": {
     "iopub.execute_input": "2024-01-03T16:02:38.948972Z",
     "iopub.status.busy": "2024-01-03T16:02:38.948906Z",
     "iopub.status.idle": "2024-01-03T16:21:54.070022Z",
     "shell.execute_reply": "2024-01-03T16:21:54.058268Z"
    }
   },
   "outputs": [],
   "source": [
    "# Combine all JSON files into a single DataFrame\n",
    "final_dataframe = combine_json_to_dataframe(folder_path)"
   ]
  },
  {
   "cell_type": "code",
   "execution_count": 6,
   "metadata": {
    "execution": {
     "iopub.execute_input": "2024-01-03T16:21:54.236886Z",
     "iopub.status.busy": "2024-01-03T16:21:54.236463Z",
     "iopub.status.idle": "2024-01-03T16:21:59.459855Z",
     "shell.execute_reply": "2024-01-03T16:21:59.459103Z"
    }
   },
   "outputs": [],
   "source": [
    "# Convert the datetime column to a datetime object\n",
    "final_dataframe['datetime'] = pd.to_datetime(final_dataframe['datetime'], format='%Y-%m-%d %H:%M')"
   ]
  },
  {
   "cell_type": "code",
   "execution_count": 7,
   "metadata": {
    "execution": {
     "iopub.execute_input": "2024-01-03T16:21:59.464477Z",
     "iopub.status.busy": "2024-01-03T16:21:59.464350Z",
     "iopub.status.idle": "2024-01-03T16:21:59.500864Z",
     "shell.execute_reply": "2024-01-03T16:21:59.500649Z"
    }
   },
   "outputs": [
    {
     "data": {
      "text/html": [
       "<div>\n",
       "<style scoped>\n",
       "    .dataframe tbody tr th:only-of-type {\n",
       "        vertical-align: middle;\n",
       "    }\n",
       "\n",
       "    .dataframe tbody tr th {\n",
       "        vertical-align: top;\n",
       "    }\n",
       "\n",
       "    .dataframe thead th {\n",
       "        text-align: right;\n",
       "    }\n",
       "</style>\n",
       "<table border=\"1\" class=\"dataframe\">\n",
       "  <thead>\n",
       "    <tr style=\"text-align: right;\">\n",
       "      <th></th>\n",
       "      <th>id</th>\n",
       "      <th>quantity</th>\n",
       "      <th>unit_price</th>\n",
       "      <th>time_left</th>\n",
       "      <th>item.id</th>\n",
       "      <th>item.name</th>\n",
       "      <th>item.class</th>\n",
       "      <th>datetime</th>\n",
       "    </tr>\n",
       "  </thead>\n",
       "  <tbody>\n",
       "    <tr>\n",
       "      <th>79852825</th>\n",
       "      <td>1910242848</td>\n",
       "      <td>12</td>\n",
       "      <td>25200</td>\n",
       "      <td>VERY_LONG</td>\n",
       "      <td>197755</td>\n",
       "      <td>Lava Beetle</td>\n",
       "      <td>Trade Goods</td>\n",
       "      <td>2023-12-29 00:41:00</td>\n",
       "    </tr>\n",
       "    <tr>\n",
       "      <th>79852826</th>\n",
       "      <td>1910242860</td>\n",
       "      <td>3</td>\n",
       "      <td>30600</td>\n",
       "      <td>VERY_LONG</td>\n",
       "      <td>191465</td>\n",
       "      <td>Saxifrage</td>\n",
       "      <td>Trade Goods</td>\n",
       "      <td>2023-12-29 00:41:00</td>\n",
       "    </tr>\n",
       "    <tr>\n",
       "      <th>79852827</th>\n",
       "      <td>1910242862</td>\n",
       "      <td>3</td>\n",
       "      <td>1500000</td>\n",
       "      <td>VERY_LONG</td>\n",
       "      <td>193227</td>\n",
       "      <td>Stonecrust Hide</td>\n",
       "      <td>Trade Goods</td>\n",
       "      <td>2023-12-29 00:41:00</td>\n",
       "    </tr>\n",
       "    <tr>\n",
       "      <th>79852828</th>\n",
       "      <td>1910242863</td>\n",
       "      <td>2</td>\n",
       "      <td>25200</td>\n",
       "      <td>VERY_LONG</td>\n",
       "      <td>197755</td>\n",
       "      <td>Lava Beetle</td>\n",
       "      <td>Trade Goods</td>\n",
       "      <td>2023-12-29 00:41:00</td>\n",
       "    </tr>\n",
       "    <tr>\n",
       "      <th>79852829</th>\n",
       "      <td>1910242868</td>\n",
       "      <td>319</td>\n",
       "      <td>19500</td>\n",
       "      <td>VERY_LONG</td>\n",
       "      <td>194966</td>\n",
       "      <td>Thousandbite Piranha</td>\n",
       "      <td>Trade Goods</td>\n",
       "      <td>2023-12-29 00:41:00</td>\n",
       "    </tr>\n",
       "  </tbody>\n",
       "</table>\n",
       "</div>"
      ],
      "text/plain": [
       "                  id  quantity  unit_price  time_left  item.id  \\\n",
       "79852825  1910242848        12       25200  VERY_LONG   197755   \n",
       "79852826  1910242860         3       30600  VERY_LONG   191465   \n",
       "79852827  1910242862         3     1500000  VERY_LONG   193227   \n",
       "79852828  1910242863         2       25200  VERY_LONG   197755   \n",
       "79852829  1910242868       319       19500  VERY_LONG   194966   \n",
       "\n",
       "                     item.name   item.class            datetime  \n",
       "79852825           Lava Beetle  Trade Goods 2023-12-29 00:41:00  \n",
       "79852826             Saxifrage  Trade Goods 2023-12-29 00:41:00  \n",
       "79852827       Stonecrust Hide  Trade Goods 2023-12-29 00:41:00  \n",
       "79852828           Lava Beetle  Trade Goods 2023-12-29 00:41:00  \n",
       "79852829  Thousandbite Piranha  Trade Goods 2023-12-29 00:41:00  "
      ]
     },
     "execution_count": 7,
     "metadata": {},
     "output_type": "execute_result"
    }
   ],
   "source": [
    "# Display the combined DataFrame\n",
    "final_dataframe.tail()"
   ]
  },
  {
   "cell_type": "code",
   "execution_count": 8,
   "metadata": {
    "execution": {
     "iopub.execute_input": "2024-01-03T16:21:59.554084Z",
     "iopub.status.busy": "2024-01-03T16:21:59.553984Z",
     "iopub.status.idle": "2024-01-03T16:21:59.571104Z",
     "shell.execute_reply": "2024-01-03T16:21:59.570871Z"
    }
   },
   "outputs": [
    {
     "name": "stdout",
     "output_type": "stream",
     "text": [
      "<class 'pandas.core.frame.DataFrame'>\n",
      "RangeIndex: 79852830 entries, 0 to 79852829\n",
      "Data columns (total 8 columns):\n",
      " #   Column      Dtype         \n",
      "---  ------      -----         \n",
      " 0   id          int64         \n",
      " 1   quantity    int64         \n",
      " 2   unit_price  int64         \n",
      " 3   time_left   object        \n",
      " 4   item.id     int64         \n",
      " 5   item.name   object        \n",
      " 6   item.class  object        \n",
      " 7   datetime    datetime64[ns]\n",
      "dtypes: datetime64[ns](1), int64(4), object(3)\n",
      "memory usage: 4.8+ GB\n"
     ]
    }
   ],
   "source": [
    "final_dataframe.info()"
   ]
  },
  {
   "cell_type": "code",
   "execution_count": 9,
   "metadata": {
    "execution": {
     "iopub.execute_input": "2024-01-03T16:21:59.572614Z",
     "iopub.status.busy": "2024-01-03T16:21:59.572535Z",
     "iopub.status.idle": "2024-01-03T16:32:36.655016Z",
     "shell.execute_reply": "2024-01-03T16:32:36.650680Z"
    }
   },
   "outputs": [
    {
     "name": "stdout",
     "output_type": "stream",
     "text": [
      "Total items: 79852830\n",
      "Items missing name: 6902\n",
      "Items missing class: 7323232\n",
      "Items missing both name and class: 6902\n"
     ]
    }
   ],
   "source": [
    "total_items = len(final_dataframe)\n",
    "missing_name = final_dataframe['item.name'].isna() | (final_dataframe['item.name'] == 'Unknown')\n",
    "missing_class = final_dataframe['item.class'].isna() | (final_dataframe['item.class'] == 'Unknown')\n",
    "missing_both = missing_name & missing_class\n",
    "\n",
    "# Count based on conditions\n",
    "num_missing_name = final_dataframe[missing_name].shape[0]\n",
    "num_missing_class = final_dataframe[missing_class].shape[0]\n",
    "num_missing_both = final_dataframe[missing_both].shape[0]\n",
    "\n",
    "# Report\n",
    "print(f\"Total items: {total_items}\")\n",
    "print(f\"Items missing name: {num_missing_name}\")\n",
    "print(f\"Items missing class: {num_missing_class}\")\n",
    "print(f\"Items missing both name and class: {num_missing_both}\")\n"
   ]
  },
  {
   "cell_type": "code",
   "execution_count": 10,
   "metadata": {
    "execution": {
     "iopub.execute_input": "2024-01-03T16:32:36.705735Z",
     "iopub.status.busy": "2024-01-03T16:32:36.705562Z",
     "iopub.status.idle": "2024-01-03T16:36:13.808920Z",
     "shell.execute_reply": "2024-01-03T16:36:13.806393Z"
    }
   },
   "outputs": [
    {
     "name": "stdout",
     "output_type": "stream",
     "text": [
      "Data saved to commodities_data.csv\n"
     ]
    }
   ],
   "source": [
    "# Save as a CSV file\n",
    "csv_file_name = 'commodities_data.csv'\n",
    "final_dataframe.to_csv(csv_file_name, index=False)\n",
    "print(f\"Data saved to {csv_file_name}\")\n"
   ]
  }
 ],
 "metadata": {
  "kernelspec": {
   "display_name": "dev",
   "language": "python",
   "name": "python3"
  },
  "language_info": {
   "codemirror_mode": {
    "name": "ipython",
    "version": 3
   },
   "file_extension": ".py",
   "mimetype": "text/x-python",
   "name": "python",
   "nbconvert_exporter": "python",
   "pygments_lexer": "ipython3",
   "version": "3.11.5"
  }
 },
 "nbformat": 4,
 "nbformat_minor": 2
}
