{
 "cells": [
  {
   "cell_type": "code",
   "execution_count": 7,
   "metadata": {},
   "outputs": [],
   "source": [
    "import pandas as pd\n",
    "import jupyter as jp\n",
    "import numpy as np\n",
    "import matplotlib.pyplot as plt\n",
    "import requests\n",
    "import json\n",
    "from pathlib import Path\n",
    "from datetime import datetime\n",
    "from datetime import timedelta"
   ]
  },
  {
   "cell_type": "markdown",
   "metadata": {},
   "source": [
    "response = requests.post('https://oauth.battle.net/token', auth=('', ''), data={'grant_type': 'client_credentials'})\n",
    "if response.status_code == 200:\n",
    "    access_token = response.json()['access_token']\n",
    "    print('Access token:', access_token)\n",
    "else:\n",
    "    print('Failed to retreive access token')\n",
    "    print(\"status code:\", response.status_code)\n",
    "    print('Response:', response.text)"
   ]
  },
  {
   "cell_type": "markdown",
   "metadata": {},
   "source": [
    "## Get list of Realms"
   ]
  },
  {
   "cell_type": "code",
   "execution_count": 269,
   "metadata": {},
   "outputs": [],
   "source": [
    "access_token = \"USpJZEkuqyNQmsXqh0mv0l1rQ7VvhINYiU\"  # Replace with your actual access token\n",
    "\n",
    "api_url = \"https://us.api.blizzard.com/data/wow/realm/index\"\n",
    "namespace = \"dynamic-us\"  # Adjust as necessary\n",
    "locale = \"en_US\"  # Locale can be adjusted as needed\n",
    "\n",
    "headers = {\n",
    "    'Authorization': f'Bearer {access_token}',\n",
    "    'Battlenet-Namespace': namespace,\n",
    "    'locale': locale\n",
    "}\n",
    "\n",
    "response = requests.get(api_url, headers=headers)\n",
    "\n",
    "if response.status_code == 200:\n",
    "    realms_data = response.json()\n",
    "    list_of_realms=[]\n",
    "    realm_ids=[]\n",
    "    realm_names=[]\n",
    "    for realm in realms_data.get('realms', []):\n",
    "        list_of_realms.append((realm['id'], realm['name']['en_US']))\n",
    "        realm_ids.append(realm['id'])\n",
    "        realm_names.append(realm['name']['en_US'])\n",
    "    list_of_realms.sort()\n",
    "else:\n",
    "    print('Failed to retrieve realm data')\n",
    "    print('Status Code:', response.status_code)\n",
    "    print('Response:', response.text)"
   ]
  },
  {
   "cell_type": "code",
   "execution_count": 270,
   "metadata": {},
   "outputs": [
    {
     "data": {
      "text/html": [
       "<div>\n",
       "<style scoped>\n",
       "    .dataframe tbody tr th:only-of-type {\n",
       "        vertical-align: middle;\n",
       "    }\n",
       "\n",
       "    .dataframe tbody tr th {\n",
       "        vertical-align: top;\n",
       "    }\n",
       "\n",
       "    .dataframe thead th {\n",
       "        text-align: right;\n",
       "    }\n",
       "</style>\n",
       "<table border=\"1\" class=\"dataframe\">\n",
       "  <thead>\n",
       "    <tr style=\"text-align: right;\">\n",
       "      <th></th>\n",
       "      <th>realm_name</th>\n",
       "    </tr>\n",
       "    <tr>\n",
       "      <th>realm_id</th>\n",
       "      <th></th>\n",
       "    </tr>\n",
       "  </thead>\n",
       "  <tbody>\n",
       "    <tr>\n",
       "      <th>1</th>\n",
       "      <td>Lightbringer</td>\n",
       "    </tr>\n",
       "    <tr>\n",
       "      <th>2</th>\n",
       "      <td>Cenarius</td>\n",
       "    </tr>\n",
       "    <tr>\n",
       "      <th>3</th>\n",
       "      <td>Uther</td>\n",
       "    </tr>\n",
       "    <tr>\n",
       "      <th>4</th>\n",
       "      <td>Kilrogg</td>\n",
       "    </tr>\n",
       "    <tr>\n",
       "      <th>5</th>\n",
       "      <td>Proudmoore</td>\n",
       "    </tr>\n",
       "    <tr>\n",
       "      <th>...</th>\n",
       "      <td>...</td>\n",
       "    </tr>\n",
       "    <tr>\n",
       "      <th>3734</th>\n",
       "      <td>Nagrand</td>\n",
       "    </tr>\n",
       "    <tr>\n",
       "      <th>3735</th>\n",
       "      <td>Dath'Remar</td>\n",
       "    </tr>\n",
       "    <tr>\n",
       "      <th>3736</th>\n",
       "      <td>Jubei'Thos</td>\n",
       "    </tr>\n",
       "    <tr>\n",
       "      <th>3737</th>\n",
       "      <td>Gundrak</td>\n",
       "    </tr>\n",
       "    <tr>\n",
       "      <th>3738</th>\n",
       "      <td>Saurfang</td>\n",
       "    </tr>\n",
       "  </tbody>\n",
       "</table>\n",
       "<p>246 rows × 1 columns</p>\n",
       "</div>"
      ],
      "text/plain": [
       "            realm_name\n",
       "realm_id              \n",
       "1         Lightbringer\n",
       "2             Cenarius\n",
       "3                Uther\n",
       "4              Kilrogg\n",
       "5           Proudmoore\n",
       "...                ...\n",
       "3734           Nagrand\n",
       "3735        Dath'Remar\n",
       "3736        Jubei'Thos\n",
       "3737           Gundrak\n",
       "3738          Saurfang\n",
       "\n",
       "[246 rows x 1 columns]"
      ]
     },
     "execution_count": 270,
     "metadata": {},
     "output_type": "execute_result"
    }
   ],
   "source": [
    "list_of_realms\n",
    "realms_df=pd.DataFrame({'realm_id':realm_ids,\n",
    "                       'realm_name':realm_names})\n",
    "realms_df.sort_values(by='realm_id', inplace=True)\n",
    "realms_df.set_index('realm_id')"
   ]
  },
  {
   "cell_type": "code",
   "execution_count": 271,
   "metadata": {},
   "outputs": [
    {
     "data": {
      "text/html": [
       "<div>\n",
       "<style scoped>\n",
       "    .dataframe tbody tr th:only-of-type {\n",
       "        vertical-align: middle;\n",
       "    }\n",
       "\n",
       "    .dataframe tbody tr th {\n",
       "        vertical-align: top;\n",
       "    }\n",
       "\n",
       "    .dataframe thead th {\n",
       "        text-align: right;\n",
       "    }\n",
       "</style>\n",
       "<table border=\"1\" class=\"dataframe\">\n",
       "  <thead>\n",
       "    <tr style=\"text-align: right;\">\n",
       "      <th></th>\n",
       "      <th>realm_id</th>\n",
       "      <th>realm_name</th>\n",
       "    </tr>\n",
       "  </thead>\n",
       "  <tbody>\n",
       "    <tr>\n",
       "      <th>65</th>\n",
       "      <td>1</td>\n",
       "      <td>Lightbringer</td>\n",
       "    </tr>\n",
       "    <tr>\n",
       "      <th>68</th>\n",
       "      <td>2</td>\n",
       "      <td>Cenarius</td>\n",
       "    </tr>\n",
       "    <tr>\n",
       "      <th>66</th>\n",
       "      <td>3</td>\n",
       "      <td>Uther</td>\n",
       "    </tr>\n",
       "    <tr>\n",
       "      <th>52</th>\n",
       "      <td>4</td>\n",
       "      <td>Kilrogg</td>\n",
       "    </tr>\n",
       "    <tr>\n",
       "      <th>67</th>\n",
       "      <td>5</td>\n",
       "      <td>Proudmoore</td>\n",
       "    </tr>\n",
       "    <tr>\n",
       "      <th>...</th>\n",
       "      <td>...</td>\n",
       "      <td>...</td>\n",
       "    </tr>\n",
       "    <tr>\n",
       "      <th>236</th>\n",
       "      <td>3734</td>\n",
       "      <td>Nagrand</td>\n",
       "    </tr>\n",
       "    <tr>\n",
       "      <th>240</th>\n",
       "      <td>3735</td>\n",
       "      <td>Dath'Remar</td>\n",
       "    </tr>\n",
       "    <tr>\n",
       "      <th>243</th>\n",
       "      <td>3736</td>\n",
       "      <td>Jubei'Thos</td>\n",
       "    </tr>\n",
       "    <tr>\n",
       "      <th>244</th>\n",
       "      <td>3737</td>\n",
       "      <td>Gundrak</td>\n",
       "    </tr>\n",
       "    <tr>\n",
       "      <th>245</th>\n",
       "      <td>3738</td>\n",
       "      <td>Saurfang</td>\n",
       "    </tr>\n",
       "  </tbody>\n",
       "</table>\n",
       "<p>246 rows × 2 columns</p>\n",
       "</div>"
      ],
      "text/plain": [
       "     realm_id    realm_name\n",
       "65          1  Lightbringer\n",
       "68          2      Cenarius\n",
       "66          3         Uther\n",
       "52          4       Kilrogg\n",
       "67          5    Proudmoore\n",
       "..        ...           ...\n",
       "236      3734       Nagrand\n",
       "240      3735    Dath'Remar\n",
       "243      3736    Jubei'Thos\n",
       "244      3737       Gundrak\n",
       "245      3738      Saurfang\n",
       "\n",
       "[246 rows x 2 columns]"
      ]
     },
     "execution_count": 271,
     "metadata": {},
     "output_type": "execute_result"
    }
   ],
   "source": [
    "realms_df"
   ]
  },
  {
   "cell_type": "markdown",
   "metadata": {},
   "source": [
    "## Check if csv file exists"
   ]
  },
  {
   "cell_type": "code",
   "execution_count": 3,
   "metadata": {},
   "outputs": [],
   "source": [
    "csv_file = Path(\"auction_data.csv\")\n",
    "if csv_file.is_file(): csv_exists=True\n",
    "else: csv_exists=False    "
   ]
  },
  {
   "cell_type": "markdown",
   "metadata": {},
   "source": [
    "## Get Current Active Auctions"
   ]
  },
  {
   "cell_type": "code",
   "execution_count": 272,
   "metadata": {},
   "outputs": [
    {
     "name": "stdout",
     "output_type": "stream",
     "text": [
      "*** Realm (1, 'Lightbringer') not found\n",
      "Total processing time 0:00:00\n",
      "*** Realm (2, 'Cenarius') not found\n",
      "Total processing time 0:00:01\n",
      "*** Realm (3, 'Uther') not found\n",
      "Total processing time 0:00:02\n",
      "Added 13803 for Realm Kilrogg to data/auction_data_realm_4_2024_1_3_17.csv, 243 Realms to go. (Realm Processing Time 0:00:02)\n",
      "Total processing time 0:00:04\n",
      "Added 79595 for Realm Proudmoore to data/auction_data_realm_5_2024_1_3_17.csv, 242 Realms to go. (Realm Processing Time 0:00:10)\n",
      "Total processing time 0:00:15\n",
      "*** Realm (6, 'Hyjal') not found\n",
      "Total processing time 0:00:15\n",
      "*** Realm (7, 'Frostwolf') not found\n",
      "Total processing time 0:00:16\n",
      "*** Realm (8, \"Ner'zhul\") not found\n",
      "Total processing time 0:00:17\n",
      "Added 31343 for Realm Kil'jaeden to data/auction_data_realm_9_2024_1_3_17.csv, 238 Realms to go. (Realm Processing Time 0:00:05)\n",
      "Total processing time 0:00:22\n",
      "*** Realm (10, 'Blackrock') not found\n",
      "Total processing time 0:00:23\n",
      "Added 97644 for Realm Tichondrius to data/auction_data_realm_11_2024_1_3_17.csv, 236 Realms to go. (Realm Processing Time 0:00:12)\n",
      "Total processing time 0:00:36\n",
      "Added 18007 for Realm Silver Hand to data/auction_data_realm_12_2024_1_3_17.csv, 235 Realms to go. (Realm Processing Time 0:00:03)\n",
      "Total processing time 0:00:39\n",
      "*** Realm (13, 'Doomhammer') not found\n",
      "Total processing time 0:00:39\n",
      "*** Realm (14, 'Icecrown') not found\n",
      "Total processing time 0:00:40\n",
      "*** Realm (15, 'Deathwing') not found\n",
      "Total processing time 0:00:41\n",
      "*** Realm (16, \"Kel'Thuzad\") not found\n",
      "Total processing time 0:00:42\n",
      "Added 13266 for Realm Eitrigg to data/auction_data_realm_47_2024_1_3_17.csv, 230 Realms to go. (Realm Processing Time 0:00:02)\n",
      "Total processing time 0:00:44\n",
      "*** Realm (51, 'Garona') not found\n",
      "Total processing time 0:00:45\n",
      "Added 38085 for Realm Alleria to data/auction_data_realm_52_2024_1_3_17.csv, 228 Realms to go. (Realm Processing Time 0:00:06)\n",
      "Total processing time 0:00:51\n",
      "Added 37939 for Realm Hellscream to data/auction_data_realm_53_2024_1_3_17.csv, 227 Realms to go. (Realm Processing Time 0:00:05)\n",
      "Total processing time 0:00:57\n",
      "Added 18994 for Realm Blackhand to data/auction_data_realm_54_2024_1_3_17.csv, 226 Realms to go. (Realm Processing Time 0:00:03)\n",
      "Total processing time 0:01:00\n",
      "Added 25595 for Realm Whisperwind to data/auction_data_realm_55_2024_1_3_17.csv, 225 Realms to go. (Realm Processing Time 0:00:03)\n",
      "Total processing time 0:01:04\n",
      "*** Realm (56, 'Archimonde') not found\n",
      "Total processing time 0:01:05\n",
      "Added 120534 for Realm Illidan to data/auction_data_realm_57_2024_1_3_17.csv, 223 Realms to go. (Realm Processing Time 0:00:14)\n",
      "Total processing time 0:01:19\n",
      "Added 8688 for Realm Stormreaver to data/auction_data_realm_58_2024_1_3_17.csv, 222 Realms to go. (Realm Processing Time 0:00:01)\n",
      "Total processing time 0:01:21\n",
      "*** Realm (59, \"Mal'Ganis\") not found\n",
      "Total processing time 0:01:22\n",
      "Added 132739 for Realm Stormrage to data/auction_data_realm_60_2024_1_3_17.csv, 220 Realms to go. (Realm Processing Time 0:00:16)\n",
      "Total processing time 0:01:38\n",
      "Added 76606 for Realm Zul'jin to data/auction_data_realm_61_2024_1_3_17.csv, 219 Realms to go. (Realm Processing Time 0:00:09)\n",
      "Total processing time 0:01:47\n",
      "*** Realm (62, 'Medivh') not found\n",
      "Total processing time 0:01:48\n",
      "Added 14578 for Realm Durotan to data/auction_data_realm_63_2024_1_3_17.csv, 217 Realms to go. (Realm Processing Time 0:00:02)\n",
      "Total processing time 0:01:51\n",
      "Added 19321 for Realm Bloodhoof to data/auction_data_realm_64_2024_1_3_17.csv, 216 Realms to go. (Realm Processing Time 0:00:02)\n",
      "Total processing time 0:01:54\n",
      "*** Realm (65, 'Khadgar') not found\n",
      "Total processing time 0:01:54\n",
      "*** Realm (66, 'Dalaran') not found\n",
      "Total processing time 0:01:55\n",
      "Added 34888 for Realm Elune to data/auction_data_realm_67_2024_1_3_17.csv, 213 Realms to go. (Realm Processing Time 0:00:05)\n",
      "Total processing time 0:02:00\n",
      "*** Realm (68, 'Lothar') not found\n",
      "Total processing time 0:02:01\n",
      "Added 16035 for Realm Arthas to data/auction_data_realm_69_2024_1_3_17.csv, 211 Realms to go. (Realm Processing Time 0:00:03)\n",
      "Total processing time 0:02:04\n",
      "*** Realm (70, 'Mannoroth') not found\n",
      "Total processing time 0:02:05\n",
      "Added 32643 for Realm Warsong to data/auction_data_realm_71_2024_1_3_17.csv, 209 Realms to go. (Realm Processing Time 0:00:04)\n",
      "Total processing time 0:02:10\n",
      "*** Realm (72, 'Shattered Hand') not found\n",
      "Total processing time 0:02:11\n",
      "Added 52278 for Realm Bleeding Hollow to data/auction_data_realm_73_2024_1_3_17.csv, 207 Realms to go. (Realm Processing Time 0:00:06)\n",
      "Total processing time 0:02:18\n",
      "*** Realm (74, 'Skullcrusher') not found\n",
      "Total processing time 0:02:18\n",
      "Added 20625 for Realm Argent Dawn to data/auction_data_realm_75_2024_1_3_17.csv, 205 Realms to go. (Realm Processing Time 0:00:03)\n",
      "Total processing time 0:02:22\n",
      "Added 83875 for Realm Sargeras to data/auction_data_realm_76_2024_1_3_17.csv, 204 Realms to go. (Realm Processing Time 0:00:10)\n",
      "Total processing time 0:02:32\n",
      "Added 77650 for Realm Azgalor to data/auction_data_realm_77_2024_1_3_17.csv, 203 Realms to go. (Realm Processing Time 0:00:10)\n",
      "Total processing time 0:02:43\n",
      "Added 13511 for Realm Magtheridon to data/auction_data_realm_78_2024_1_3_17.csv, 202 Realms to go. (Realm Processing Time 0:00:02)\n",
      "Total processing time 0:02:46\n",
      "*** Realm (79, 'Destromath') not found\n",
      "Total processing time 0:02:46\n",
      "*** Realm (80, 'Gorgonnash') not found\n",
      "Total processing time 0:02:47\n",
      "*** Realm (81, 'Dethecus') not found\n",
      "Total processing time 0:02:48\n",
      "*** Realm (82, 'Spinebreaker') not found\n",
      "Total processing time 0:02:48\n",
      "*** Realm (83, 'Bonechewer') not found\n",
      "Total processing time 0:02:49\n",
      "Added 50508 for Realm Dragonmaw to data/auction_data_realm_84_2024_1_3_17.csv, 196 Realms to go. (Realm Processing Time 0:00:07)\n",
      "Total processing time 0:02:56\n",
      "*** Realm (85, 'Shadowsong') not found\n",
      "Total processing time 0:02:57\n",
      "Added 53597 for Realm Silvermoon to data/auction_data_realm_86_2024_1_3_17.csv, 194 Realms to go. (Realm Processing Time 0:00:06)\n",
      "Total processing time 0:03:04\n",
      "*** Realm (87, 'Windrunner') not found\n",
      "Total processing time 0:03:05\n",
      "*** Realm (88, 'Cenarion Circle') not found\n",
      "Total processing time 0:03:05\n",
      "*** Realm (89, 'Nathrezim') not found\n",
      "Total processing time 0:03:06\n",
      "*** Realm (90, 'Terenas') not found\n",
      "Total processing time 0:03:07\n",
      "*** Realm (91, 'Burning Blade') not found\n",
      "Total processing time 0:03:08\n",
      "*** Realm (92, 'Gorefiend') not found\n",
      "Total processing time 0:03:08\n",
      "*** Realm (93, 'Eredar') not found\n",
      "Total processing time 0:03:09\n",
      "*** Realm (94, 'Shadowmoon') not found\n",
      "Total processing time 0:03:10\n",
      "*** Realm (95, \"Lightning's Blade\") not found\n",
      "Total processing time 0:03:10\n",
      "Added 30432 for Realm Eonar to data/auction_data_realm_96_2024_1_3_17.csv, 184 Realms to go. (Realm Processing Time 0:00:04)\n",
      "Total processing time 0:03:15\n",
      "*** Realm (97, 'Gilneas') not found\n",
      "Total processing time 0:03:16\n",
      "*** Realm (98, 'Kargath') not found\n",
      "Total processing time 0:03:16\n",
      "Added 11921 for Realm Llane to data/auction_data_realm_99_2024_1_3_17.csv, 181 Realms to go. (Realm Processing Time 0:00:02)\n",
      "Total processing time 0:03:19\n",
      "Added 16294 for Realm Earthen Ring to data/auction_data_realm_100_2024_1_3_17.csv, 180 Realms to go. (Realm Processing Time 0:00:02)\n",
      "Total processing time 0:03:21\n",
      "*** Realm (101, 'Laughing Skull') not found\n",
      "Total processing time 0:03:22\n",
      "*** Realm (102, 'Burning Legion') not found\n",
      "Total processing time 0:03:23\n",
      "*** Realm (103, 'Thunderlord') not found\n",
      "Total processing time 0:03:23\n",
      "Added 54204 for Realm Malygos to data/auction_data_realm_104_2024_1_3_17.csv, 176 Realms to go. (Realm Processing Time 0:00:07)\n",
      "Total processing time 0:03:31\n",
      "*** Realm (105, 'Thunderhorn') not found\n",
      "Total processing time 0:03:32\n",
      "Added 27445 for Realm Aggramar to data/auction_data_realm_106_2024_1_3_17.csv, 174 Realms to go. (Realm Processing Time 0:00:03)\n",
      "Total processing time 0:03:36\n",
      "*** Realm (107, 'Crushridge') not found\n",
      "Total processing time 0:03:36\n",
      "*** Realm (108, 'Stonemaul') not found\n",
      "Total processing time 0:03:37\n",
      "*** Realm (109, 'Daggerspine') not found\n",
      "Total processing time 0:03:38\n",
      "*** Realm (110, 'Stormscale') not found\n",
      "Total processing time 0:03:38\n",
      "*** Realm (111, 'Dunemaul') not found\n",
      "Total processing time 0:03:39\n",
      "*** Realm (112, 'Boulderfist') not found\n",
      "Total processing time 0:03:40\n",
      "Added 37913 for Realm Suramar to data/auction_data_realm_113_2024_1_3_17.csv, 167 Realms to go. (Realm Processing Time 0:00:05)\n",
      "Total processing time 0:03:45\n",
      "Added 18055 for Realm Dragonblight to data/auction_data_realm_114_2024_1_3_17.csv, 166 Realms to go. (Realm Processing Time 0:00:03)\n",
      "Total processing time 0:03:49\n",
      "Added 11384 for Realm Draenor to data/auction_data_realm_115_2024_1_3_17.csv, 165 Realms to go. (Realm Processing Time 0:00:02)\n",
      "Total processing time 0:03:51\n",
      "*** Realm (116, 'Uldum') not found\n",
      "Total processing time 0:03:52\n",
      "Added 13213 for Realm Bronzebeard to data/auction_data_realm_117_2024_1_3_17.csv, 163 Realms to go. (Realm Processing Time 0:00:02)\n",
      "Total processing time 0:03:54\n",
      "Added 20529 for Realm Feathermoon to data/auction_data_realm_118_2024_1_3_17.csv, 162 Realms to go. (Realm Processing Time 0:00:03)\n",
      "Total processing time 0:03:58\n",
      "*** Realm (119, 'Bloodscalp') not found\n",
      "Total processing time 0:03:59\n",
      "Added 9645 for Realm Darkspear to data/auction_data_realm_120_2024_1_3_17.csv, 160 Realms to go. (Realm Processing Time 0:00:02)\n",
      "Total processing time 0:04:01\n",
      "Added 40939 for Realm Azjol-Nerub to data/auction_data_realm_121_2024_1_3_17.csv, 159 Realms to go. (Realm Processing Time 0:00:05)\n",
      "Total processing time 0:04:07\n",
      "*** Realm (122, 'Perenolde') not found\n",
      "Total processing time 0:04:08\n",
      "*** Realm (123, \"Eldre'Thalas\") not found\n",
      "Total processing time 0:04:08\n",
      "*** Realm (124, 'Spirestone') not found\n",
      "Total processing time 0:04:09\n",
      "Added 37118 for Realm Shadow Council to data/auction_data_realm_125_2024_1_3_17.csv, 155 Realms to go. (Realm Processing Time 0:00:05)\n",
      "Total processing time 0:04:14\n",
      "*** Realm (126, 'Scarlet Crusade') not found\n",
      "Total processing time 0:04:15\n",
      "Added 39388 for Realm Firetree to data/auction_data_realm_127_2024_1_3_17.csv, 153 Realms to go. (Realm Processing Time 0:00:05)\n",
      "Total processing time 0:04:21\n",
      "*** Realm (128, 'Frostmane') not found\n",
      "Total processing time 0:04:22\n",
      "*** Realm (129, 'Gurubashi') not found\n",
      "Total processing time 0:04:22\n",
      "*** Realm (130, 'Smolderthorn') not found\n",
      "Total processing time 0:04:23\n",
      "*** Realm (131, 'Skywall') not found\n",
      "Total processing time 0:04:24\n",
      "Added 10397 for Realm Runetotem to data/auction_data_realm_151_2024_1_3_17.csv, 148 Realms to go. (Realm Processing Time 0:00:02)\n",
      "Total processing time 0:04:26\n",
      "*** Realm (153, 'Moonrunner') not found\n",
      "Total processing time 0:04:26\n",
      "Added 14039 for Realm Detheroc to data/auction_data_realm_154_2024_1_3_17.csv, 146 Realms to go. (Realm Processing Time 0:00:02)\n",
      "Total processing time 0:04:29\n",
      "Added 12230 for Realm Kalecgos to data/auction_data_realm_155_2024_1_3_17.csv, 145 Realms to go. (Realm Processing Time 0:00:03)\n",
      "Total processing time 0:04:32\n",
      "*** Realm (156, 'Ursin') not found\n",
      "Total processing time 0:04:33\n",
      "Added 14336 for Realm Dark Iron to data/auction_data_realm_157_2024_1_3_17.csv, 143 Realms to go. (Realm Processing Time 0:00:02)\n",
      "Total processing time 0:04:35\n",
      "Added 17931 for Realm Greymane to data/auction_data_realm_158_2024_1_3_17.csv, 142 Realms to go. (Realm Processing Time 0:00:03)\n",
      "Total processing time 0:04:39\n",
      "*** Realm (159, 'Wildhammer') not found\n",
      "Total processing time 0:04:40\n",
      "Added 29742 for Realm Staghelm to data/auction_data_realm_160_2024_1_3_17.csv, 140 Realms to go. (Realm Processing Time 0:00:06)\n",
      "Total processing time 0:04:47\n",
      "Added 49425 for Realm Emerald Dream to data/auction_data_realm_162_2024_1_3_17.csv, 139 Realms to go. (Realm Processing Time 0:00:08)\n",
      "Total processing time 0:04:56\n",
      "Added 26386 for Realm Maelstrom to data/auction_data_realm_163_2024_1_3_17.csv, 138 Realms to go. (Realm Processing Time 0:00:05)\n",
      "Total processing time 0:05:01\n",
      "*** Realm (164, 'Twisting Nether') not found\n",
      "Total processing time 0:05:02\n",
      "*** Realm (1067, \"Cho'gall\") not found\n",
      "Total processing time 0:05:03\n",
      "*** Realm (1068, \"Gul'dan\") not found\n",
      "Total processing time 0:05:04\n",
      "*** Realm (1069, \"Kael'thas\") not found\n",
      "Total processing time 0:05:05\n",
      "Added 22197 for Realm Alexstrasza to data/auction_data_realm_1070_2024_1_3_17.csv, 133 Realms to go. (Realm Processing Time 0:00:06)\n",
      "Total processing time 0:05:11\n",
      "Added 16995 for Realm Kirin Tor to data/auction_data_realm_1071_2024_1_3_17.csv, 132 Realms to go. (Realm Processing Time 0:00:02)\n",
      "Total processing time 0:05:14\n",
      "Added 20823 for Realm Ravencrest to data/auction_data_realm_1072_2024_1_3_17.csv, 131 Realms to go. (Realm Processing Time 0:00:03)\n",
      "Total processing time 0:05:17\n",
      "*** Realm (1075, 'Balnazzar') not found\n",
      "Total processing time 0:05:18\n",
      "*** Realm (1128, 'Azshara') not found\n",
      "Total processing time 0:05:19\n",
      "Added 49619 for Realm Agamaggan to data/auction_data_realm_1129_2024_1_3_17.csv, 128 Realms to go. (Realm Processing Time 0:00:06)\n",
      "Total processing time 0:05:26\n",
      "*** Realm (1130, 'Lightninghoof') not found\n",
      "Total processing time 0:05:27\n",
      "*** Realm (1131, 'Nazjatar') not found\n",
      "Total processing time 0:05:27\n",
      "*** Realm (1132, 'Malfurion') not found\n",
      "Total processing time 0:05:28\n",
      "Added 75722 for Realm Aegwynn to data/auction_data_realm_1136_2024_1_3_17.csv, 124 Realms to go. (Realm Processing Time 0:00:10)\n",
      "Total processing time 0:05:38\n",
      "*** Realm (1137, 'Akama') not found\n",
      "Total processing time 0:05:39\n",
      "Added 31311 for Realm Chromaggus to data/auction_data_realm_1138_2024_1_3_17.csv, 122 Realms to go. (Realm Processing Time 0:00:04)\n",
      "Total processing time 0:05:44\n",
      "*** Realm (1139, 'Draka') not found\n",
      "Total processing time 0:05:44\n",
      "*** Realm (1140, \"Drak'thul\") not found\n",
      "Total processing time 0:05:45\n",
      "*** Realm (1141, 'Garithos') not found\n",
      "Total processing time 0:05:46\n",
      "*** Realm (1142, 'Hakkar') not found\n",
      "Total processing time 0:05:47\n",
      "*** Realm (1143, 'Khaz Modan') not found\n",
      "Total processing time 0:05:48\n",
      "*** Realm (1145, \"Mug'thol\") not found\n",
      "Total processing time 0:05:48\n",
      "*** Realm (1146, 'Korgath') not found\n",
      "Total processing time 0:05:49\n",
      "Added 15963 for Realm Kul Tiras to data/auction_data_realm_1147_2024_1_3_17.csv, 114 Realms to go. (Realm Processing Time 0:00:03)\n",
      "Total processing time 0:05:53\n",
      "*** Realm (1148, 'Malorne') not found\n",
      "Total processing time 0:05:53\n",
      "Added 9237 for Realm Rexxar to data/auction_data_realm_1151_2024_1_3_17.csv, 112 Realms to go. (Realm Processing Time 0:00:01)\n",
      "Total processing time 0:05:55\n",
      "*** Realm (1154, 'Thorium Brotherhood') not found\n",
      "Total processing time 0:05:56\n",
      "*** Realm (1165, 'Arathor') not found\n",
      "Total processing time 0:05:57\n",
      "*** Realm (1173, 'Madoran') not found\n",
      "Total processing time 0:05:58\n",
      "Added 63642 for Realm Trollbane to data/auction_data_realm_1175_2024_1_3_17.csv, 108 Realms to go. (Realm Processing Time 0:00:08)\n",
      "Total processing time 0:06:06\n",
      "*** Realm (1182, 'Muradin') not found\n",
      "Total processing time 0:06:07\n",
      "Added 20117 for Realm Vek'nilash to data/auction_data_realm_1184_2024_1_3_17.csv, 106 Realms to go. (Realm Processing Time 0:00:03)\n",
      "Total processing time 0:06:10\n",
      "Added 32851 for Realm Sen'jin to data/auction_data_realm_1185_2024_1_3_17.csv, 105 Realms to go. (Realm Processing Time 0:00:05)\n",
      "Total processing time 0:06:15\n",
      "Added 20056 for Realm Baelgun to data/auction_data_realm_1190_2024_1_3_17.csv, 104 Realms to go. (Realm Processing Time 0:00:03)\n",
      "Total processing time 0:06:19\n",
      "*** Realm (1258, 'Duskwood') not found\n",
      "Total processing time 0:06:19\n",
      "*** Realm (1259, 'Zuluhed') not found\n",
      "Total processing time 0:06:20\n",
      "*** Realm (1260, 'Steamwheedle Cartel') not found\n",
      "Total processing time 0:06:21\n",
      "*** Realm (1262, 'Norgannon') not found\n",
      "Total processing time 0:06:22\n",
      "*** Realm (1263, 'Thrall') not found\n",
      "Total processing time 0:06:22\n",
      "*** Realm (1264, 'Anetheron') not found\n",
      "Total processing time 0:06:23\n",
      "*** Realm (1265, 'Turalyon') not found\n",
      "Total processing time 0:06:24\n",
      "*** Realm (1266, 'Haomarush') not found\n",
      "Total processing time 0:06:24\n",
      "*** Realm (1267, 'Scilla') not found\n",
      "Total processing time 0:06:25\n",
      "*** Realm (1268, 'Ysondre') not found\n",
      "Total processing time 0:06:26\n",
      "*** Realm (1270, 'Ysera') not found\n",
      "Total processing time 0:06:27\n",
      "*** Realm (1271, 'Dentarg') not found\n",
      "Total processing time 0:06:27\n",
      "*** Realm (1276, 'Andorhal') not found\n",
      "Total processing time 0:06:28\n",
      "*** Realm (1277, 'Executus') not found\n",
      "Total processing time 0:06:29\n",
      "*** Realm (1278, 'Dalvengyr') not found\n",
      "Total processing time 0:06:30\n",
      "*** Realm (1280, 'Black Dragonflight') not found\n",
      "Total processing time 0:06:30\n",
      "*** Realm (1282, 'Altar of Storms') not found\n",
      "Total processing time 0:06:31\n",
      "*** Realm (1283, 'Uldaman') not found\n",
      "Total processing time 0:06:32\n",
      "*** Realm (1284, 'Aerie Peak') not found\n",
      "Total processing time 0:06:33\n",
      "*** Realm (1285, 'Onyxia') not found\n",
      "Total processing time 0:06:33\n",
      "*** Realm (1286, 'Demon Soul') not found\n",
      "Total processing time 0:06:34\n",
      "*** Realm (1287, 'Gnomeregan') not found\n",
      "Total processing time 0:06:35\n",
      "*** Realm (1288, 'Anvilmar') not found\n",
      "Total processing time 0:06:35\n",
      "*** Realm (1289, 'The Venture Co') not found\n",
      "Total processing time 0:06:36\n",
      "*** Realm (1290, 'Sentinels') not found\n",
      "Total processing time 0:06:37\n",
      "*** Realm (1291, 'Jaedenar') not found\n",
      "Total processing time 0:06:38\n",
      "*** Realm (1292, 'Tanaris') not found\n",
      "Total processing time 0:06:38\n",
      "*** Realm (1293, 'Alterac Mountains') not found\n",
      "Total processing time 0:06:39\n",
      "*** Realm (1294, 'Undermine') not found\n",
      "Total processing time 0:06:40\n",
      "*** Realm (1295, 'Lethon') not found\n",
      "Total processing time 0:06:40\n",
      "*** Realm (1296, 'Blackwing Lair') not found\n",
      "Total processing time 0:06:41\n",
      "*** Realm (1297, 'Arygos') not found\n",
      "Total processing time 0:06:42\n",
      "*** Realm (1342, 'Echo Isles') not found\n",
      "Total processing time 0:06:42\n",
      "*** Realm (1344, 'The Forgotten Coast') not found\n",
      "Total processing time 0:06:43\n",
      "*** Realm (1345, 'Fenris') not found\n",
      "Total processing time 0:06:44\n",
      "*** Realm (1346, \"Anub'arak\") not found\n",
      "Total processing time 0:06:45\n",
      "*** Realm (1347, 'Blackwater Raiders') not found\n",
      "Total processing time 0:06:45\n",
      "*** Realm (1348, 'Vashj') not found\n",
      "Total processing time 0:06:46\n",
      "*** Realm (1349, 'Korialstrasz') not found\n",
      "Total processing time 0:06:47\n",
      "*** Realm (1350, 'Misha') not found\n",
      "Total processing time 0:06:47\n",
      "*** Realm (1351, 'Darrowmere') not found\n",
      "Total processing time 0:06:48\n",
      "*** Realm (1352, 'Ravenholdt') not found\n",
      "Total processing time 0:06:49\n",
      "*** Realm (1353, 'Bladefist') not found\n",
      "Total processing time 0:06:49\n",
      "*** Realm (1354, \"Shu'halo\") not found\n",
      "Total processing time 0:06:50\n",
      "*** Realm (1355, 'Winterhoof') not found\n",
      "Total processing time 0:06:51\n",
      "*** Realm (1356, 'Sisters of Elune') not found\n",
      "Total processing time 0:06:52\n",
      "*** Realm (1357, 'Maiev') not found\n",
      "Total processing time 0:06:52\n",
      "*** Realm (1358, 'Rivendare') not found\n",
      "Total processing time 0:06:53\n",
      "*** Realm (1359, 'Nordrassil') not found\n",
      "Total processing time 0:06:54\n",
      "*** Realm (1360, 'Tortheldrin') not found\n",
      "Total processing time 0:06:55\n",
      "*** Realm (1361, 'Cairne') not found\n",
      "Total processing time 0:06:55\n",
      "*** Realm (1362, \"Drak'Tharon\") not found\n",
      "Total processing time 0:06:56\n",
      "*** Realm (1363, 'Antonidas') not found\n",
      "Total processing time 0:06:57\n",
      "*** Realm (1364, 'Shandris') not found\n",
      "Total processing time 0:06:58\n",
      "*** Realm (1365, 'Moon Guard') not found\n",
      "Total processing time 0:06:58\n",
      "*** Realm (1367, 'Nazgrel') not found\n",
      "Total processing time 0:06:59\n",
      "*** Realm (1368, 'Hydraxis') not found\n",
      "Total processing time 0:07:00\n",
      "*** Realm (1369, 'Wyrmrest Accord') not found\n",
      "Total processing time 0:07:00\n",
      "*** Realm (1370, 'Farstriders') not found\n",
      "Total processing time 0:07:01\n",
      "*** Realm (1371, 'Borean Tundra') not found\n",
      "Total processing time 0:07:02\n",
      "*** Realm (1372, \"Quel'dorei\") not found\n",
      "Total processing time 0:07:02\n",
      "*** Realm (1373, 'Garrosh') not found\n",
      "Total processing time 0:07:03\n",
      "*** Realm (1374, \"Mok'Nathal\") not found\n",
      "Total processing time 0:07:04\n",
      "*** Realm (1375, 'Nesingwary') not found\n",
      "Total processing time 0:07:05\n",
      "*** Realm (1377, 'Drenden') not found\n",
      "Total processing time 0:07:05\n",
      "Added 12873 for Realm Drakkari to data/auction_data_realm_1425_2024_1_3_17.csv, 38 Realms to go. (Realm Processing Time 0:00:02)\n",
      "Total processing time 0:07:08\n",
      "Added 49109 for Realm Ragnaros to data/auction_data_realm_1427_2024_1_3_17.csv, 37 Realms to go. (Realm Processing Time 0:00:07)\n",
      "Total processing time 0:07:15\n",
      "Added 52598 for Realm Quel'Thalas to data/auction_data_realm_1428_2024_1_3_17.csv, 36 Realms to go. (Realm Processing Time 0:00:06)\n",
      "Total processing time 0:07:21\n",
      "*** Realm (1549, 'Azuremyst') not found\n",
      "Total processing time 0:07:22\n",
      "*** Realm (1555, 'Auchindoun') not found\n",
      "Total processing time 0:07:23\n",
      "*** Realm (1556, 'Coilfang') not found\n",
      "Total processing time 0:07:24\n",
      "*** Realm (1557, 'Shattered Halls') not found\n",
      "Total processing time 0:07:24\n",
      "*** Realm (1558, 'Blood Furnace') not found\n",
      "Total processing time 0:07:25\n",
      "*** Realm (1559, 'The Underbog') not found\n",
      "Total processing time 0:07:26\n",
      "*** Realm (1563, 'Terokkar') not found\n",
      "Total processing time 0:07:26\n",
      "*** Realm (1564, \"Blade's Edge\") not found\n",
      "Total processing time 0:07:27\n",
      "*** Realm (1565, 'Exodar') not found\n",
      "Total processing time 0:07:28\n",
      "*** Realm (1566, 'Area 52') not found\n",
      "Total processing time 0:07:29\n",
      "*** Realm (1567, 'Velen') not found\n",
      "Total processing time 0:07:29\n",
      "*** Realm (1570, 'The Scryers') not found\n",
      "Total processing time 0:07:30\n",
      "*** Realm (1572, 'Zangarmarsh') not found\n",
      "Total processing time 0:07:31\n",
      "*** Realm (1576, 'Fizzcrank') not found\n",
      "Total processing time 0:07:31\n",
      "*** Realm (1578, 'Ghostlands') not found\n",
      "Total processing time 0:07:32\n",
      "*** Realm (1579, 'Grizzly Hills') not found\n",
      "Total processing time 0:07:33\n",
      "*** Realm (1581, 'Galakrond') not found\n",
      "Total processing time 0:07:33\n",
      "*** Realm (1582, 'Dawnbringer') not found\n",
      "Total processing time 0:07:34\n",
      "Added 6967 for Realm Goldrinn to data/auction_data_realm_3207_2024_1_3_17.csv, 17 Realms to go. (Realm Processing Time 0:00:01)\n",
      "Total processing time 0:07:36\n",
      "Added 9780 for Realm Nemesis to data/auction_data_realm_3208_2024_1_3_17.csv, 16 Realms to go. (Realm Processing Time 0:00:01)\n",
      "Total processing time 0:07:38\n",
      "Added 45272 for Realm Azralon to data/auction_data_realm_3209_2024_1_3_17.csv, 15 Realms to go. (Realm Processing Time 0:00:06)\n",
      "Total processing time 0:07:44\n",
      "*** Realm (3210, 'Tol Barad') not found\n",
      "Total processing time 0:07:45\n",
      "Added 5349 for Realm Gallywix to data/auction_data_realm_3234_2024_1_3_17.csv, 13 Realms to go. (Realm Processing Time 0:00:01)\n",
      "Total processing time 0:07:47\n",
      "Added 37958 for Realm Caelestrasz to data/auction_data_realm_3721_2024_1_3_17.csv, 12 Realms to go. (Realm Processing Time 0:00:06)\n",
      "Total processing time 0:07:53\n",
      "*** Realm (3722, \"Aman'Thul\") not found\n",
      "Total processing time 0:07:54\n",
      "Added 30087 for Realm Barthilas to data/auction_data_realm_3723_2024_1_3_17.csv, 10 Realms to go. (Realm Processing Time 0:00:04)\n",
      "Total processing time 0:07:58\n",
      "*** Realm (3724, 'Thaurissan') not found\n",
      "Total processing time 0:07:59\n",
      "Added 70888 for Realm Frostmourne to data/auction_data_realm_3725_2024_1_3_17.csv, 8 Realms to go. (Realm Processing Time 0:00:10)\n",
      "Total processing time 0:08:09\n",
      "Added 43172 for Realm Khaz'goroth to data/auction_data_realm_3726_2024_1_3_18.csv, 7 Realms to go. (Realm Processing Time 0:00:06)\n",
      "Total processing time 0:08:15\n",
      "*** Realm (3733, 'Dreadmaul') not found\n",
      "Total processing time 0:08:16\n",
      "*** Realm (3734, 'Nagrand') not found\n",
      "Total processing time 0:08:17\n",
      "*** Realm (3735, \"Dath'Remar\") not found\n",
      "Total processing time 0:08:17\n",
      "*** Realm (3736, \"Jubei'Thos\") not found\n",
      "Total processing time 0:08:18\n",
      "*** Realm (3737, 'Gundrak') not found\n",
      "Total processing time 0:08:19\n",
      "*** Realm (3738, 'Saurfang') not found\n",
      "Total processing time 0:08:19\n"
     ]
    }
   ],
   "source": [
    "total_realms=len(list_of_realms)+1\n",
    "start_list_processing_time=datetime.now()\n",
    "list_of_auctions=[]\n",
    "current_realm=-1\n",
    "for realm in list_of_realms:  # this will return a tuple, need to specify [0] when using the id part\n",
    "    current_realm+=1\n",
    "    total_realms-=1\n",
    "    namespace = 'dynamic-us'  # Namespace for US region\n",
    "    # Corrected API URL format\n",
    "    api_url = f'https://us.api.blizzard.com/data/wow/connected-realm/{realm[0]}/auctions' # realm is a tuple, need to specify [0] for the id part of it\n",
    "    # Parameters\n",
    "    params = {\n",
    "        'namespace': namespace,\n",
    "        'locale': 'en_US'  # Or your preferred locale\n",
    "    }\n",
    "    # Headers\n",
    "    headers = {\n",
    "        'Authorization': f'Bearer {access_token}'\n",
    "    }\n",
    "    this_realm_start=datetime.now()\n",
    "    try:\n",
    "        # Making the GET request\n",
    "        response = requests.get(api_url, headers=headers, params=params)\n",
    "    except Exception as err:\n",
    "        print(err)\n",
    "    # Checking the response\n",
    "    if response.status_code == 200:\n",
    "        data = response.json()\n",
    "        now=datetime.now()\n",
    "        df = pd.json_normalize(data, record_path=['auctions'])\n",
    "        df['realm_id']=realm[0]\n",
    "        df['realm_name']=realm[1]\n",
    "        df['time_stamp']=pd.to_datetime(now)\n",
    "        file_name=f'data/auction_data_realm_{realm[0]}_{now.year}_{now.month}_{now.day}_{now.hour}.csv'\n",
    "        # Save DataFrame to CSV\n",
    "        # if csv_exists:\n",
    "            # df.to_csv('C:/Users/Robert/Desktop/Project_1/auction_data.csv', index=False)\n",
    "        # Making sure all the DF's have the columns in the same order\n",
    "        df=df.loc[:,['id', 'buyout', 'quantity', 'time_left', 'item.id', 'item.context','item.bonus_lists', \n",
    "                     'item.modifiers', 'bid', 'item.pet_breed_id','item.pet_level', 'item.pet_quality_id', \n",
    "                     'item.pet_species_id','realm_id', 'time_stamp']]\n",
    "        df.to_csv(file_name, index=False)\n",
    "        list_of_auctions.append(file_name)\n",
    "        # else:\n",
    "        #     df.to_csv('auction_data.csv', index=False)\n",
    "        #     csv_exists=True\n",
    "        secs=(datetime.now()-this_realm_start)\n",
    "        secs=secs.seconds              \n",
    "        print(f\"Added {len(df)} for Realm {realm[1]} to {file_name}, {total_realms} Realms to go. (Realm Processing Time {timedelta(seconds=secs)})\")\n",
    "    elif response.status_code==404:\n",
    "        print(f'*** Realm {realm} not found')\n",
    "        # list_of_realms.pop(current_realm)\n",
    "    else:        \n",
    "        print(f'Failed to retrieve auction data for realm {realm}')        \n",
    "        print(\"Status Code:\", response.status_code, 'Response:', response.text)\n",
    "        \n",
    "\n",
    "    secs=(datetime.now()-start_list_processing_time)\n",
    "    secs=secs.seconds              \n",
    "    print(f\"Total processing time {timedelta(seconds=secs)}\")\n",
    "    "
   ]
  },
  {
   "cell_type": "code",
   "execution_count": 258,
   "metadata": {},
   "outputs": [
    {
     "data": {
      "text/plain": [
       "71"
      ]
     },
     "execution_count": 258,
     "metadata": {},
     "output_type": "execute_result"
    }
   ],
   "source": [
    "len(list_of_auctions)"
   ]
  },
  {
   "cell_type": "code",
   "execution_count": 259,
   "metadata": {},
   "outputs": [
    {
     "data": {
      "text/plain": [
       "246"
      ]
     },
     "execution_count": 259,
     "metadata": {},
     "output_type": "execute_result"
    }
   ],
   "source": [
    "len(list_of_realms)"
   ]
  },
  {
   "cell_type": "markdown",
   "metadata": {},
   "source": [
    "## Load the new files to DF's"
   ]
  },
  {
   "cell_type": "code",
   "execution_count": 273,
   "metadata": {},
   "outputs": [],
   "source": [
    "df_list=[]\n",
    "for filename in list_of_auctions:\n",
    "    df=pd.read_csv(filename)\n",
    "    df_list.append(df)"
   ]
  },
  {
   "cell_type": "markdown",
   "metadata": {},
   "source": [
    "## Compare the columns of the DF's in this run "
   ]
  },
  {
   "cell_type": "code",
   "execution_count": 274,
   "metadata": {},
   "outputs": [
    {
     "name": "stdout",
     "output_type": "stream",
     "text": [
      "0 vs 1: Pass, 1 vs 2: Pass, 2 vs 3: Pass, 3 vs 4: Pass, 4 vs 5: Pass, 5 vs 6: Pass, 6 vs 7: Pass, 7 vs 8: Pass, 8 vs 9: Pass, 9 vs 10: Pass, 10 vs 11: Pass, 11 vs 12: Pass, 12 vs 13: Pass, 13 vs 14: Pass, 14 vs 15: Pass, 15 vs 16: Pass, 16 vs 17: Pass, 17 vs 18: Pass, 18 vs 19: Pass, 19 vs 20: Pass, 20 vs 21: Pass, 21 vs 22: Pass, 22 vs 23: Pass, 23 vs 24: Pass, 24 vs 25: Pass, 25 vs 26: Pass, 26 vs 27: Pass, 27 vs 28: Pass, 28 vs 29: Pass, 29 vs 30: Pass, 30 vs 31: Pass, 31 vs 32: Pass, 32 vs 33: Pass, 33 vs 34: Pass, 34 vs 35: Pass, 35 vs 36: Pass, 36 vs 37: Pass, 37 vs 38: Pass, 38 vs 39: Pass, 39 vs 40: Pass, 40 vs 41: Pass, 41 vs 42: Pass, 42 vs 43: Pass, 43 vs 44: Pass, 44 vs 45: Pass, 45 vs 46: Pass, 46 vs 47: Pass, 47 vs 48: Pass, 48 vs 49: Pass, 49 vs 50: Pass, 50 vs 51: Pass, 51 vs 52: Pass, 52 vs 53: Pass, 53 vs 54: Pass, 54 vs 55: Pass, 55 vs 56: Pass, 56 vs 57: Pass, 57 vs 58: Pass, 58 vs 59: Pass, 59 vs 60: Pass, 60 vs 61: Pass, 61 vs 62: Pass, 62 vs 63: Pass, 63 vs 64: Pass, 64 vs 65: Pass, 65 vs 66: Pass, 66 vs 67: Pass, 67 vs 68: Pass, 68 vs 69: Pass, 69 vs 70: Pass, "
     ]
    }
   ],
   "source": [
    "equal=True\n",
    "error_column=''\n",
    "all_pass=True\n",
    "for df in range(len(df_list)-1):\n",
    "    for col in range(len(df_list[df].columns)):\n",
    "        equal=df_list[df].columns[col]==df_list[df+1].columns[col]\n",
    "        if not equal : \n",
    "            error_column=col\n",
    "            all_Pass=False\n",
    "            break\n",
    "    print(f\"{df} vs {df+1}: Pass, \", end='')\n",
    "    if not equal:\n",
    "        print(f\"\\n Error columns : {col}:{df_list[df].columns[col]},{df_list[df+1].columns[col]}\")"
   ]
  },
  {
   "cell_type": "code",
   "execution_count": 275,
   "metadata": {},
   "outputs": [],
   "source": [
    "if all_pass:\n",
    "    t=start_list_processing_time\n",
    "    this_run_df=pd.concat(df_list,ignore_index=True)\n",
    "    csv_file_name=f'auction_pull_{t.year}_{t.month}_{t.day}_{t.hour}.csv'\n",
    "    this_run_df.to_csv(csv_file_name)\n",
    "    "
   ]
  },
  {
   "cell_type": "code",
   "execution_count": 244,
   "metadata": {},
   "outputs": [
    {
     "data": {
      "text/plain": [
       "True"
      ]
     },
     "execution_count": 244,
     "metadata": {},
     "output_type": "execute_result"
    }
   ],
   "source": [
    "all_pass"
   ]
  },
  {
   "cell_type": "code",
   "execution_count": 282,
   "metadata": {},
   "outputs": [
    {
     "name": "stdout",
     "output_type": "stream",
     "text": [
      "<class 'pandas.core.frame.DataFrame'>\n",
      "RangeIndex: 2467899 entries, 0 to 2467898\n",
      "Data columns (total 15 columns):\n",
      " #   Column               Dtype  \n",
      "---  ------               -----  \n",
      " 0   id                   int64  \n",
      " 1   buyout               float64\n",
      " 2   quantity             int64  \n",
      " 3   time_left            object \n",
      " 4   item.id              int64  \n",
      " 5   item.context         float64\n",
      " 6   item.bonus_lists     object \n",
      " 7   item.modifiers       object \n",
      " 8   bid                  float64\n",
      " 9   item.pet_breed_id    float64\n",
      " 10  item.pet_level       float64\n",
      " 11  item.pet_quality_id  float64\n",
      " 12  item.pet_species_id  float64\n",
      " 13  realm_id             int64  \n",
      " 14  time_stamp           object \n",
      "dtypes: float64(7), int64(4), object(4)\n",
      "memory usage: 282.4+ MB\n"
     ]
    }
   ],
   "source": [
    "this_run_df.info()"
   ]
  },
  {
   "cell_type": "code",
   "execution_count": 284,
   "metadata": {},
   "outputs": [
    {
     "data": {
      "text/plain": [
       "<Axes: xlabel='time_left'>"
      ]
     },
     "execution_count": 284,
     "metadata": {},
     "output_type": "execute_result"
    },
    {
     "data": {
      "image/png": "[encoded data removed]",
      "text/plain": [
       "<Figure size 640x480 with 1 Axes>"
      ]
     },
     "metadata": {},
     "output_type": "display_data"
    }
   ],
   "source": [
    "this_run_df['time_left'].value_counts().plot()"
   ]
  },
  {
   "cell_type": "code",
   "execution_count": 286,
   "metadata": {},
   "outputs": [
    {
     "data": {
      "text/plain": [
       "<Axes: xlabel='buyout'>"
      ]
     },
     "execution_count": 286,
     "metadata": {},
     "output_type": "execute_result"
    },
    {
     "data": {
      "image/png": "[encoded data removed]",
      "text/plain": [
       "<Figure size 640x480 with 1 Axes>"
      ]
     },
     "metadata": {},
     "output_type": "display_data"
    }
   ],
   "source": [
    "this_run_df['buyout'].value_counts().plot()"
   ]
  },
  {
   "cell_type": "code",
   "execution_count": 295,
   "metadata": {},
   "outputs": [
    {
     "data": {
      "text/plain": [
       "buyout\n",
       "5.000000e+07    15789\n",
       "5.000000e+06    15577\n",
       "1.000000e+07    15299\n",
       "1.000000e+06    13778\n",
       "5.000000e+05    13242\n",
       "                ...  \n",
       "1.429131e+09        1\n",
       "2.957845e+08        1\n",
       "6.180289e+09        1\n",
       "8.365760e+07        1\n",
       "6.973846e+08        1\n",
       "Name: count, Length: 464215, dtype: int64"
      ]
     },
     "execution_count": 295,
     "metadata": {},
     "output_type": "execute_result"
    }
   ],
   "source": [
    "import matplotlib.pyplot as plt\n",
    " \n",
    "x =[5, 7, 8, 7, 2, 17, 2, 9,\n",
    "    4, 11, 12, 9, 6] \n",
    " \n",
    "y =[99, 86, 87, 88, 100, 86, \n",
    "    103, 87, 94, 78, 77, 85, 86]\n",
    " \n",
    "plt.scatter(x, y, c =\"blue\")\n",
    " \n",
    "# To show the plot\n",
    "plt.show()\n",
    "\n",
    "this_run_df['buyout'].value_counts()"
   ]
  },
  {
   "cell_type": "code",
   "execution_count": 290,
   "metadata": {},
   "outputs": [
    {
     "data": {
      "text/plain": [
       "<Axes: xlabel='item.id'>"
      ]
     },
     "execution_count": 290,
     "metadata": {},
     "output_type": "execute_result"
    },
    {
     "data": {
      "image/png": "[encoded data removed]",
      "text/plain": [
       "<Figure size 640x480 with 1 Axes>"
      ]
     },
     "metadata": {},
     "output_type": "display_data"
    }
   ],
   "source": [
    "this_run_df['item.id'].value_counts().plot()"
   ]
  },
  {
   "cell_type": "code",
   "execution_count": 291,
   "metadata": {},
   "outputs": [],
   "source": [
    "realm_counts=this_run_df['realm_id'].value_counts()"
   ]
  },
  {
   "cell_type": "code",
   "execution_count": 238,
   "metadata": {},
   "outputs": [],
   "source": [
    "def get_realm_name(realm_id):\n",
    "    return realms_df['realm_name'].loc[realms_df['realm_id']==realm_id]"
   ]
  },
  {
   "cell_type": "code",
   "execution_count": 277,
   "metadata": {},
   "outputs": [
    {
     "data": {
      "text/plain": [
       "array([  60,   57,   11,   61,   76,    5, 1136, 3725,   77, 1175,   73,\n",
       "       1428,   86,  104,  162, 1129, 1427, 3209,   84,  127,  121, 3726,\n",
       "         52, 3721,  125,   53,  113,   67, 1185,   71,  160,    9, 1138,\n",
       "       3723,   96,  163, 1190,   55,   54,  106, 1072, 1070,   75, 1184,\n",
       "        118,  158,   12,   64, 1147,  114,  101,  100,  157,    4,   69,\n",
       "       1071,  117,   78,   63, 1425,  154,  115,   47,   99,  151,  120,\n",
       "        155, 3208, 1151,   58, 3207, 3234], dtype=int64)"
      ]
     },
     "execution_count": 277,
     "metadata": {},
     "output_type": "execute_result"
    }
   ],
   "source": [
    "realm_counts['realm_id'].unique()"
   ]
  },
  {
   "cell_type": "code",
   "execution_count": 235,
   "metadata": {},
   "outputs": [
    {
     "data": {
      "text/plain": [
       "91    Aegwynn\n",
       "Name: realm_name, dtype: object"
      ]
     },
     "execution_count": 235,
     "metadata": {},
     "output_type": "execute_result"
    }
   ],
   "source": [
    "realms_df['realm_name'].loc[realms_df['realm_id']==1136]"
   ]
  },
  {
   "cell_type": "code",
   "execution_count": 233,
   "metadata": {},
   "outputs": [
    {
     "data": {
      "text/html": [
       "<div>\n",
       "<style scoped>\n",
       "    .dataframe tbody tr th:only-of-type {\n",
       "        vertical-align: middle;\n",
       "    }\n",
       "\n",
       "    .dataframe tbody tr th {\n",
       "        vertical-align: top;\n",
       "    }\n",
       "\n",
       "    .dataframe thead th {\n",
       "        text-align: right;\n",
       "    }\n",
       "</style>\n",
       "<table border=\"1\" class=\"dataframe\">\n",
       "  <thead>\n",
       "    <tr style=\"text-align: right;\">\n",
       "      <th></th>\n",
       "      <th>realm_id</th>\n",
       "      <th>realm_name</th>\n",
       "    </tr>\n",
       "  </thead>\n",
       "  <tbody>\n",
       "    <tr>\n",
       "      <th>65</th>\n",
       "      <td>1</td>\n",
       "      <td>Lightbringer</td>\n",
       "    </tr>\n",
       "    <tr>\n",
       "      <th>68</th>\n",
       "      <td>2</td>\n",
       "      <td>Cenarius</td>\n",
       "    </tr>\n",
       "    <tr>\n",
       "      <th>66</th>\n",
       "      <td>3</td>\n",
       "      <td>Uther</td>\n",
       "    </tr>\n",
       "    <tr>\n",
       "      <th>52</th>\n",
       "      <td>4</td>\n",
       "      <td>Kilrogg</td>\n",
       "    </tr>\n",
       "    <tr>\n",
       "      <th>67</th>\n",
       "      <td>5</td>\n",
       "      <td>Proudmoore</td>\n",
       "    </tr>\n",
       "    <tr>\n",
       "      <th>...</th>\n",
       "      <td>...</td>\n",
       "      <td>...</td>\n",
       "    </tr>\n",
       "    <tr>\n",
       "      <th>236</th>\n",
       "      <td>3734</td>\n",
       "      <td>Nagrand</td>\n",
       "    </tr>\n",
       "    <tr>\n",
       "      <th>240</th>\n",
       "      <td>3735</td>\n",
       "      <td>Dath'Remar</td>\n",
       "    </tr>\n",
       "    <tr>\n",
       "      <th>243</th>\n",
       "      <td>3736</td>\n",
       "      <td>Jubei'Thos</td>\n",
       "    </tr>\n",
       "    <tr>\n",
       "      <th>244</th>\n",
       "      <td>3737</td>\n",
       "      <td>Gundrak</td>\n",
       "    </tr>\n",
       "    <tr>\n",
       "      <th>245</th>\n",
       "      <td>3738</td>\n",
       "      <td>Saurfang</td>\n",
       "    </tr>\n",
       "  </tbody>\n",
       "</table>\n",
       "<p>246 rows × 2 columns</p>\n",
       "</div>"
      ],
      "text/plain": [
       "     realm_id    realm_name\n",
       "65          1  Lightbringer\n",
       "68          2      Cenarius\n",
       "66          3         Uther\n",
       "52          4       Kilrogg\n",
       "67          5    Proudmoore\n",
       "..        ...           ...\n",
       "236      3734       Nagrand\n",
       "240      3735    Dath'Remar\n",
       "243      3736    Jubei'Thos\n",
       "244      3737       Gundrak\n",
       "245      3738      Saurfang\n",
       "\n",
       "[246 rows x 2 columns]"
      ]
     },
     "execution_count": 233,
     "metadata": {},
     "output_type": "execute_result"
    }
   ],
   "source": [
    "realms_df"
   ]
  },
  {
   "cell_type": "code",
   "execution_count": 207,
   "metadata": {},
   "outputs": [
    {
     "data": {
      "text/plain": [
       "0       60\n",
       "1       57\n",
       "2       11\n",
       "3       61\n",
       "4       76\n",
       "      ... \n",
       "65     120\n",
       "66     155\n",
       "67    3208\n",
       "68    1151\n",
       "69      58\n",
       "Name: realm_id, Length: 70, dtype: int64"
      ]
     },
     "execution_count": 207,
     "metadata": {},
     "output_type": "execute_result"
    }
   ],
   "source": [
    "realm_counts['realm_id'].head(70)"
   ]
  },
  {
   "cell_type": "code",
   "execution_count": 278,
   "metadata": {},
   "outputs": [
    {
     "name": "stdout",
     "output_type": "stream",
     "text": [
      "<class 'pandas.core.frame.DataFrame'>\n",
      "RangeIndex: 72 entries, 0 to 71\n",
      "Data columns (total 3 columns):\n",
      " #   Column      Non-Null Count  Dtype \n",
      "---  ------      --------------  ----- \n",
      " 0   realm_id    72 non-null     int64 \n",
      " 1   count       72 non-null     int64 \n",
      " 2   realm_name  72 non-null     object\n",
      "dtypes: int64(2), object(1)\n",
      "memory usage: 1.8+ KB\n"
     ]
    }
   ],
   "source": [
    "realm_counts.info()"
   ]
  },
  {
   "cell_type": "code",
   "execution_count": 279,
   "metadata": {},
   "outputs": [
    {
     "data": {
      "text/html": [
       "<div>\n",
       "<style scoped>\n",
       "    .dataframe tbody tr th:only-of-type {\n",
       "        vertical-align: middle;\n",
       "    }\n",
       "\n",
       "    .dataframe tbody tr th {\n",
       "        vertical-align: top;\n",
       "    }\n",
       "\n",
       "    .dataframe thead th {\n",
       "        text-align: right;\n",
       "    }\n",
       "</style>\n",
       "<table border=\"1\" class=\"dataframe\">\n",
       "  <thead>\n",
       "    <tr style=\"text-align: right;\">\n",
       "      <th></th>\n",
       "      <th>realm_id</th>\n",
       "      <th>count</th>\n",
       "      <th>realm_name</th>\n",
       "    </tr>\n",
       "  </thead>\n",
       "  <tbody>\n",
       "    <tr>\n",
       "      <th>53</th>\n",
       "      <td>4</td>\n",
       "      <td>14748</td>\n",
       "      <td>Gallywix</td>\n",
       "    </tr>\n",
       "    <tr>\n",
       "      <th>5</th>\n",
       "      <td>5</td>\n",
       "      <td>76542</td>\n",
       "      <td>Gallywix</td>\n",
       "    </tr>\n",
       "    <tr>\n",
       "      <th>31</th>\n",
       "      <td>9</td>\n",
       "      <td>30932</td>\n",
       "      <td>Gallywix</td>\n",
       "    </tr>\n",
       "    <tr>\n",
       "      <th>2</th>\n",
       "      <td>11</td>\n",
       "      <td>93543</td>\n",
       "      <td>Gallywix</td>\n",
       "    </tr>\n",
       "    <tr>\n",
       "      <th>46</th>\n",
       "      <td>12</td>\n",
       "      <td>19329</td>\n",
       "      <td>Gallywix</td>\n",
       "    </tr>\n",
       "    <tr>\n",
       "      <th>...</th>\n",
       "      <td>...</td>\n",
       "      <td>...</td>\n",
       "      <td>...</td>\n",
       "    </tr>\n",
       "    <tr>\n",
       "      <th>71</th>\n",
       "      <td>3234</td>\n",
       "      <td>5340</td>\n",
       "      <td>Gallywix</td>\n",
       "    </tr>\n",
       "    <tr>\n",
       "      <th>23</th>\n",
       "      <td>3721</td>\n",
       "      <td>39016</td>\n",
       "      <td>Gallywix</td>\n",
       "    </tr>\n",
       "    <tr>\n",
       "      <th>33</th>\n",
       "      <td>3723</td>\n",
       "      <td>29795</td>\n",
       "      <td>Gallywix</td>\n",
       "    </tr>\n",
       "    <tr>\n",
       "      <th>7</th>\n",
       "      <td>3725</td>\n",
       "      <td>73519</td>\n",
       "      <td>Gallywix</td>\n",
       "    </tr>\n",
       "    <tr>\n",
       "      <th>21</th>\n",
       "      <td>3726</td>\n",
       "      <td>40582</td>\n",
       "      <td>Gallywix</td>\n",
       "    </tr>\n",
       "  </tbody>\n",
       "</table>\n",
       "<p>72 rows × 3 columns</p>\n",
       "</div>"
      ],
      "text/plain": [
       "    realm_id  count realm_name\n",
       "53         4  14748   Gallywix\n",
       "5          5  76542   Gallywix\n",
       "31         9  30932   Gallywix\n",
       "2         11  93543   Gallywix\n",
       "46        12  19329   Gallywix\n",
       "..       ...    ...        ...\n",
       "71      3234   5340   Gallywix\n",
       "23      3721  39016   Gallywix\n",
       "33      3723  29795   Gallywix\n",
       "7       3725  73519   Gallywix\n",
       "21      3726  40582   Gallywix\n",
       "\n",
       "[72 rows x 3 columns]"
      ]
     },
     "execution_count": 279,
     "metadata": {},
     "output_type": "execute_result"
    }
   ],
   "source": [
    "realm_counts.sort_values('realm_id')"
   ]
  },
  {
   "cell_type": "code",
   "execution_count": 280,
   "metadata": {},
   "outputs": [
    {
     "data": {
      "text/plain": [
       "<Axes: >"
      ]
     },
     "execution_count": 280,
     "metadata": {},
     "output_type": "execute_result"
    },
    {
     "data": {
      "image/png": "[encoded data removed]",
      "text/plain": [
       "<Figure size 640x480 with 1 Axes>"
      ]
     },
     "metadata": {},
     "output_type": "display_data"
    }
   ],
   "source": [
    "realm_counts.plot()"
   ]
  },
  {
   "cell_type": "code",
   "execution_count": 114,
   "metadata": {},
   "outputs": [
    {
     "name": "stdout",
     "output_type": "stream",
     "text": [
      "<class 'pandas.core.frame.DataFrame'>\n",
      "RangeIndex: 2459498 entries, 0 to 2459497\n",
      "Data columns (total 15 columns):\n",
      " #   Column               Dtype  \n",
      "---  ------               -----  \n",
      " 0   id                   int64  \n",
      " 1   buyout               float64\n",
      " 2   quantity             int64  \n",
      " 3   time_left            object \n",
      " 4   item.id              int64  \n",
      " 5   item.context         float64\n",
      " 6   item.bonus_lists     object \n",
      " 7   item.modifiers       object \n",
      " 8   bid                  float64\n",
      " 9   item.pet_breed_id    float64\n",
      " 10  item.pet_level       float64\n",
      " 11  item.pet_quality_id  float64\n",
      " 12  item.pet_species_id  float64\n",
      " 13  realm_id             int64  \n",
      " 14  time_stamp           object \n",
      "dtypes: float64(7), int64(4), object(4)\n",
      "memory usage: 281.5+ MB\n"
     ]
    }
   ],
   "source": [
    "this_run_df.info()"
   ]
  },
  {
   "cell_type": "code",
   "execution_count": null,
   "metadata": {},
   "outputs": [],
   "source": [
    "df.isna().sum()"
   ]
  },
  {
   "cell_type": "code",
   "execution_count": null,
   "metadata": {},
   "outputs": [],
   "source": [
    "df['item.pet_breed_id'].value_counts().sum()/len(df)"
   ]
  },
  {
   "cell_type": "code",
   "execution_count": null,
   "metadata": {},
   "outputs": [],
   "source": [
    "df.loc[df['item.pet_breed_id']>0]"
   ]
  },
  {
   "cell_type": "code",
   "execution_count": null,
   "metadata": {},
   "outputs": [],
   "source": [
    "df['bid'].value_counts().sum()"
   ]
  },
  {
   "cell_type": "code",
   "execution_count": null,
   "metadata": {},
   "outputs": [],
   "source": [
    "bonus_list=df['item.bonus_lists']\n",
    "for item in bonus_list:\n",
    "    if isinstance(item,list):\n",
    "        if(len(item)>max):\n",
    "            max=len(item)\n",
    "            print(max, item)"
   ]
  },
  {
   "cell_type": "code",
   "execution_count": null,
   "metadata": {},
   "outputs": [],
   "source": [
    "max=0"
   ]
  },
  {
   "cell_type": "code",
   "execution_count": null,
   "metadata": {},
   "outputs": [],
   "source": [
    "exploded_bonus_list"
   ]
  },
  {
   "cell_type": "code",
   "execution_count": null,
   "metadata": {},
   "outputs": [],
   "source": [
    "df['item.bonus_lists'].value_counts()"
   ]
  },
  {
   "cell_type": "code",
   "execution_count": null,
   "metadata": {},
   "outputs": [],
   "source": [
    "df.loc[df['item.bonus_lists']==9527]"
   ]
  },
  {
   "cell_type": "code",
   "execution_count": null,
   "metadata": {},
   "outputs": [],
   "source": [
    "modifiers=pd.json_normalize(df['item.modifiers'])\n",
    "modifiers[0]"
   ]
  },
  {
   "cell_type": "code",
   "execution_count": null,
   "metadata": {},
   "outputs": [],
   "source": [
    "type_28=pd.json_normalize(modifiers[0])\n",
    "type_28"
   ]
  },
  {
   "cell_type": "code",
   "execution_count": null,
   "metadata": {},
   "outputs": [],
   "source": [
    "type_28.value_counts()"
   ]
  },
  {
   "cell_type": "code",
   "execution_count": null,
   "metadata": {},
   "outputs": [],
   "source": [
    "modifiers[1]"
   ]
  },
  {
   "cell_type": "code",
   "execution_count": null,
   "metadata": {},
   "outputs": [],
   "source": [
    "type_29=pd.json_normalize(modifiers[1])\n",
    "type_29"
   ]
  },
  {
   "cell_type": "code",
   "execution_count": null,
   "metadata": {},
   "outputs": [],
   "source": [
    "bonus_list=pd.json_normalize(df['item.bonus_lists'])\n",
    "bonus_list_list=pd.json_normalize(bonus_list[3])\n",
    "bonus_list_list"
   ]
  },
  {
   "cell_type": "code",
   "execution_count": null,
   "metadata": {},
   "outputs": [],
   "source": [
    "import pandas as pd\n",
    "import matplotlib.pyplot as plt\n",
    "\n",
    "# Load the data\n",
    "df = pd.read_csv('C:/Users/Robert/Desktop/Project_1/auction_data.csv')\n",
    "# remove data that is nan\n",
    "df = df.dropna()\n",
    "# Filter for the item 'Brain Hacker'\n",
    "# Note: Adjust the column name 'item_name' to the actual column name in your CSV that holds the item names\n",
    "brain_hacker_df = df[df['item.id'] == '1263']\n",
    "\n",
    "# Extract the auction prices\n",
    "# Note: Replace 'price' with the actual column name in your CSV that holds the prices\n",
    "prices = brain_hacker_df['buyout']\n",
    "\n",
    "# Plotting the prices\n",
    "plt.figure(figsize=(10, 6))\n",
    "plt.plot(prices, marker='o')\n",
    "plt.title('Auction Prices for Brain Hacker')\n",
    "plt.xlabel('Auction Entry')\n",
    "plt.ylabel('Price')\n",
    "plt.grid(True)\n",
    "plt.show()"
   ]
  },
  {
   "cell_type": "code",
   "execution_count": 90,
   "metadata": {},
   "outputs": [],
   "source": [
    "df=pd.read_csv('commodities_data_01-02-24.csv')"
   ]
  },
  {
   "cell_type": "code",
   "execution_count": 96,
   "metadata": {},
   "outputs": [
    {
     "data": {
      "text/html": [
       "<div>\n",
       "<style scoped>\n",
       "    .dataframe tbody tr th:only-of-type {\n",
       "        vertical-align: middle;\n",
       "    }\n",
       "\n",
       "    .dataframe tbody tr th {\n",
       "        vertical-align: top;\n",
       "    }\n",
       "\n",
       "    .dataframe thead th {\n",
       "        text-align: right;\n",
       "    }\n",
       "</style>\n",
       "<table border=\"1\" class=\"dataframe\">\n",
       "  <thead>\n",
       "    <tr style=\"text-align: right;\">\n",
       "      <th></th>\n",
       "      <th>id</th>\n",
       "      <th>quantity</th>\n",
       "      <th>unit_price</th>\n",
       "      <th>time_left</th>\n",
       "      <th>item.id</th>\n",
       "    </tr>\n",
       "  </thead>\n",
       "  <tbody>\n",
       "    <tr>\n",
       "      <th>2717</th>\n",
       "      <td>1922545813</td>\n",
       "      <td>82</td>\n",
       "      <td>9500</td>\n",
       "      <td>SHORT</td>\n",
       "      <td>193214</td>\n",
       "    </tr>\n",
       "    <tr>\n",
       "      <th>5423</th>\n",
       "      <td>1922545884</td>\n",
       "      <td>12</td>\n",
       "      <td>9500</td>\n",
       "      <td>SHORT</td>\n",
       "      <td>193214</td>\n",
       "    </tr>\n",
       "    <tr>\n",
       "      <th>22850</th>\n",
       "      <td>1922546192</td>\n",
       "      <td>15</td>\n",
       "      <td>9500</td>\n",
       "      <td>SHORT</td>\n",
       "      <td>193214</td>\n",
       "    </tr>\n",
       "    <tr>\n",
       "      <th>10528</th>\n",
       "      <td>1922546412</td>\n",
       "      <td>15</td>\n",
       "      <td>9500</td>\n",
       "      <td>SHORT</td>\n",
       "      <td>193214</td>\n",
       "    </tr>\n",
       "    <tr>\n",
       "      <th>62000</th>\n",
       "      <td>1922546847</td>\n",
       "      <td>1</td>\n",
       "      <td>137000</td>\n",
       "      <td>SHORT</td>\n",
       "      <td>3712</td>\n",
       "    </tr>\n",
       "    <tr>\n",
       "      <th>...</th>\n",
       "      <td>...</td>\n",
       "      <td>...</td>\n",
       "      <td>...</td>\n",
       "      <td>...</td>\n",
       "      <td>...</td>\n",
       "    </tr>\n",
       "    <tr>\n",
       "      <th>311209</th>\n",
       "      <td>1930703333</td>\n",
       "      <td>2552</td>\n",
       "      <td>12700</td>\n",
       "      <td>LONG</td>\n",
       "      <td>190394</td>\n",
       "    </tr>\n",
       "    <tr>\n",
       "      <th>311210</th>\n",
       "      <td>1930703335</td>\n",
       "      <td>18</td>\n",
       "      <td>5150000</td>\n",
       "      <td>LONG</td>\n",
       "      <td>193936</td>\n",
       "    </tr>\n",
       "    <tr>\n",
       "      <th>311211</th>\n",
       "      <td>1930703340</td>\n",
       "      <td>5</td>\n",
       "      <td>2100</td>\n",
       "      <td>VERY_LONG</td>\n",
       "      <td>191461</td>\n",
       "    </tr>\n",
       "    <tr>\n",
       "      <th>311212</th>\n",
       "      <td>1930703341</td>\n",
       "      <td>458</td>\n",
       "      <td>35000</td>\n",
       "      <td>LONG</td>\n",
       "      <td>188658</td>\n",
       "    </tr>\n",
       "    <tr>\n",
       "      <th>311213</th>\n",
       "      <td>1930703345</td>\n",
       "      <td>1</td>\n",
       "      <td>650000</td>\n",
       "      <td>LONG</td>\n",
       "      <td>191326</td>\n",
       "    </tr>\n",
       "  </tbody>\n",
       "</table>\n",
       "<p>311214 rows × 5 columns</p>\n",
       "</div>"
      ],
      "text/plain": [
       "                id  quantity  unit_price  time_left  item.id\n",
       "2717    1922545813        82        9500      SHORT   193214\n",
       "5423    1922545884        12        9500      SHORT   193214\n",
       "22850   1922546192        15        9500      SHORT   193214\n",
       "10528   1922546412        15        9500      SHORT   193214\n",
       "62000   1922546847         1      137000      SHORT     3712\n",
       "...            ...       ...         ...        ...      ...\n",
       "311209  1930703333      2552       12700       LONG   190394\n",
       "311210  1930703335        18     5150000       LONG   193936\n",
       "311211  1930703340         5        2100  VERY_LONG   191461\n",
       "311212  1930703341       458       35000       LONG   188658\n",
       "311213  1930703345         1      650000       LONG   191326\n",
       "\n",
       "[311214 rows x 5 columns]"
      ]
     },
     "execution_count": 96,
     "metadata": {},
     "output_type": "execute_result"
    }
   ],
   "source": [
    "df.sort_values('id')"
   ]
  },
  {
   "cell_type": "code",
   "execution_count": null,
   "metadata": {},
   "outputs": [],
   "source": []
  }
 ],
 "metadata": {
  "kernelspec": {
   "display_name": "Python 3 (ipykernel)",
   "language": "python",
   "name": "python3"
  },
  "language_info": {
   "codemirror_mode": {
    "name": "ipython",
    "version": 3
   },
   "file_extension": ".py",
   "mimetype": "text/x-python",
   "name": "python",
   "nbconvert_exporter": "python",
   "pygments_lexer": "ipython3",
   "version": "3.11.5"
  }
 },
 "nbformat": 4,
 "nbformat_minor": 4
}
