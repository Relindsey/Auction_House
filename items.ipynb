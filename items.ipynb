{
 "cells": [
  {
   "cell_type": "code",
   "execution_count": 2,
   "metadata": {},
   "outputs": [],
   "source": [
    "import pandas as pd\n",
    "import jupyter as jp\n",
    "import numpy as np\n",
    "import matplotlib.pyplot as plt\n",
    "import requests\n",
    "import os\n",
    "import json"
   ]
  },
  {
   "cell_type": "code",
   "execution_count": 3,
   "metadata": {},
   "outputs": [],
   "source": [
    "CLIENT_ID = os.environ.get('CLIENT_ID')\n",
    "CLIENT_SECRET = os.environ.get('CLIENT_SECRET')"
   ]
  },
  {
   "cell_type": "code",
   "execution_count": 4,
   "metadata": {},
   "outputs": [],
   "source": [
    "response = requests.post('https://oauth.battle.net/token', \n",
    "                         auth=(CLIENT_ID, CLIENT_SECRET), \n",
    "                         data={'grant_type': 'client_credentials'})\n",
    "if response.status_code == 200:\n",
    "    access_token = response.json()['access_token']\n",
    "else:\n",
    "    print('Failed to retreive access token')\n",
    "    print(\"status code:\", response.status_code)\n",
    "    print('Response:', response.text)"
   ]
  },
  {
   "cell_type": "code",
   "execution_count": 5,
   "metadata": {},
   "outputs": [],
   "source": [
    "namespace = \"dynamic-us\"  # Adjust as necessary\n",
    "locale = \"en_US\"  # Locale can be adjusted as needed\n",
    "\n",
    "headers = {\n",
    "    'Authorization': f'Bearer {access_token}',\n",
    "    'Battlenet-Namespace': namespace,\n",
    "    'locale': locale\n",
    "}\n",
    "\n",
    "params = {\n",
    "    'namespace': namespace,\n",
    "    'locale': locale\n",
    "}"
   ]
  },
  {
   "cell_type": "code",
   "execution_count": 8,
   "metadata": {},
   "outputs": [
    {
     "name": "stdout",
     "output_type": "stream",
     "text": [
      "Failed to retrieve auction data\n",
      "Status Code: 404\n",
      "Response: {\"code\":404,\"type\":\"BLZWEBAPI00000404\",\"detail\":\"Not Found\"}\n"
     ]
    }
   ],
   "source": [
    "# Items\n",
    "\n",
    "api_url = f'https://us.api.blizzard.com/data/wow/item/3182'\n",
    "\n",
    "\n",
    "# Making the GET request\n",
    "response = requests.get(api_url, headers=headers, params=params)\n",
    "\n",
    "# Checking the response\n",
    "if response.status_code == 200:\n",
    "    data = response.json()\n",
    "    df = pd.json_normalize(data, record_path=['auctions'])\n",
    "\n",
    "    # Save DataFrame to CSV\n",
    "    df.to_csv('./items_data_12_21.csv', index=False)\n",
    "    print(\"Data saved to 'items_data_12_21.csv'\")\n",
    "\n",
    "else:\n",
    "    print('Failed to retrieve auction data')\n",
    "    print(\"Status Code:\", response.status_code)\n",
    "    print('Response:', response.text)"
   ]
  }
 ],
 "metadata": {
  "kernelspec": {
   "display_name": "dev",
   "language": "python",
   "name": "python3"
  },
  "language_info": {
   "codemirror_mode": {
    "name": "ipython",
    "version": 3
   },
   "file_extension": ".py",
   "mimetype": "text/x-python",
   "name": "python",
   "nbconvert_exporter": "python",
   "pygments_lexer": "ipython3",
   "version": "3.10.13"
  }
 },
 "nbformat": 4,
 "nbformat_minor": 2
}
