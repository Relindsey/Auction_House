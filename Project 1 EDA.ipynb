{
 "cells": [
  {
   "cell_type": "markdown",
   "id": "b8b02b2a-98c3-4792-9222-a29f896419aa",
   "metadata": {},
   "source": [
    "# Blizzard Commodities DataFrame (79+M rows)"
   ]
  },
  {
   "cell_type": "markdown",
   "id": "424a4938-d1fd-4d03-90eb-8d3c34a67df7",
   "metadata": {},
   "source": [
    "## Data pulled hourly between 2023-12-22 19:41:00 and 2024-01-03 12:41:00"
   ]
  },
  {
   "cell_type": "markdown",
   "id": "d5faed0a-1266-494a-b19b-79e55451babe",
   "metadata": {},
   "source": [
    "## Imports Section"
   ]
  },
  {
   "cell_type": "code",
   "execution_count": 1,
   "id": "a80294a2-5451-40e5-84e1-726fbafe4e3b",
   "metadata": {},
   "outputs": [],
   "source": [
    "from datetime import datetime\n",
    "import pandas as pd\n",
    "import matplotlib.pyplot as plt\n",
    "import json\n",
    "import os\n",
    "import numpy as np\n",
    "import statistics\n",
    "from datetime import datetime\n",
    "from random import sample"
   ]
  },
  {
   "cell_type": "markdown",
   "id": "ccce9cbb-d833-49e2-b389-23e078ca1b0a",
   "metadata": {},
   "source": [
    "## Open csv / Load to DF"
   ]
  },
  {
   "cell_type": "code",
   "execution_count": 2,
   "id": "0a879a47-a003-46c3-9e24-3ea98d39babf",
   "metadata": {},
   "outputs": [
    {
     "data": {
      "text/plain": [
       "'(2024-01-08 18:02:05.982118) Loading csv file ...'"
      ]
     },
     "metadata": {},
     "output_type": "display_data"
    },
    {
     "data": {
      "text/plain": [
       "'(Time to load : 0:00:57.655398'"
      ]
     },
     "metadata": {},
     "output_type": "display_data"
    }
   ],
   "source": [
    "start=datetime.now()\n",
    "display(f\"({start}) Loading csv file ...\")\n",
    "Blizzard_Commodities_DF=pd.read_csv('commodities_data.csv')\n",
    "Blizzard_Commodities_DF.shape\n",
    "display(f\"(Time to load : {datetime.now()-start}\")"
   ]
  },
  {
   "cell_type": "markdown",
   "id": "d2502d22-f572-4e40-a3db-756597fd49e8",
   "metadata": {},
   "source": [
    "## Find na/NaN values"
   ]
  },
  {
   "cell_type": "code",
   "execution_count": null,
   "id": "c37c7dd5-93ff-416a-847b-f5fe43af791c",
   "metadata": {},
   "outputs": [],
   "source": [
    "Blizzard_Commodities_DF.isna().sum()"
   ]
  },
  {
   "cell_type": "markdown",
   "id": "351eb90c-081d-46d3-a6e3-fa8f60a4ea0a",
   "metadata": {},
   "source": [
    "## DF Structure (Review/Correct)"
   ]
  },
  {
   "cell_type": "code",
   "execution_count": 3,
   "id": "a0822f73-0fd7-49ac-8a44-d33963bc19ad",
   "metadata": {},
   "outputs": [
    {
     "name": "stdout",
     "output_type": "stream",
     "text": [
      "<class 'pandas.core.frame.DataFrame'>\n",
      "RangeIndex: 79852830 entries, 0 to 79852829\n",
      "Data columns (total 8 columns):\n",
      " #   Column      Dtype \n",
      "---  ------      ----- \n",
      " 0   id          int64 \n",
      " 1   quantity    int64 \n",
      " 2   unit_price  int64 \n",
      " 3   time_left   object\n",
      " 4   item.id     int64 \n",
      " 5   item.name   object\n",
      " 6   item.class  object\n",
      " 7   datetime    object\n",
      "dtypes: int64(4), object(4)\n",
      "memory usage: 4.8+ GB\n"
     ]
    }
   ],
   "source": [
    "Blizzard_Commodities_DF.info()"
   ]
  },
  {
   "cell_type": "code",
   "execution_count": 4,
   "id": "7b8e4d4d-810d-45f9-b43c-6c59638c5aae",
   "metadata": {},
   "outputs": [],
   "source": [
    "start=datetime.now()"
   ]
  },
  {
   "cell_type": "code",
   "execution_count": 5,
   "id": "317fb149-c82d-450b-92c4-1833a13901a9",
   "metadata": {},
   "outputs": [],
   "source": [
    "# Change datedime columns to datetime\n",
    "Blizzard_Commodities_DF['datetime'] = pd.to_datetime(Blizzard_Commodities_DF['datetime'])"
   ]
  },
  {
   "cell_type": "code",
   "execution_count": 6,
   "id": "a2c61c33-8891-4b80-8433-83f31bf2aa18",
   "metadata": {},
   "outputs": [
    {
     "data": {
      "text/plain": [
       "'(2024-01-08 18:03:03.658390) Re-Casting id columns ...'"
      ]
     },
     "metadata": {},
     "output_type": "display_data"
    },
    {
     "data": {
      "text/plain": [
       "'(Time to cast : 0:00:47.045537'"
      ]
     },
     "metadata": {},
     "output_type": "display_data"
    }
   ],
   "source": [
    "# Change id columns to string\n",
    "display(f\"({start}) Re-Casting id columns ...\")\n",
    "Blizzard_Commodities_DF['id']=Blizzard_Commodities_DF['id'].astype(str)\n",
    "Blizzard_Commodities_DF['item.id']=Blizzard_Commodities_DF['item.id'].astype(str)\n",
    "display(f\"(Time to cast : {datetime.now()-start}\")"
   ]
  },
  {
   "cell_type": "code",
   "execution_count": 7,
   "id": "de454d9e-14d2-41f8-a83e-a609dd4b6602",
   "metadata": {},
   "outputs": [
    {
     "name": "stdout",
     "output_type": "stream",
     "text": [
      "<class 'pandas.core.frame.DataFrame'>\n",
      "RangeIndex: 79852830 entries, 0 to 79852829\n",
      "Data columns (total 8 columns):\n",
      " #   Column      Dtype         \n",
      "---  ------      -----         \n",
      " 0   id          object        \n",
      " 1   quantity    int64         \n",
      " 2   unit_price  int64         \n",
      " 3   time_left   object        \n",
      " 4   item.id     object        \n",
      " 5   item.name   object        \n",
      " 6   item.class  object        \n",
      " 7   datetime    datetime64[ns]\n",
      "dtypes: datetime64[ns](1), int64(2), object(5)\n",
      "memory usage: 4.8+ GB\n"
     ]
    }
   ],
   "source": [
    "# Verifiy change\n",
    "Blizzard_Commodities_DF.info()"
   ]
  },
  {
   "cell_type": "markdown",
   "id": "1afcb6e1-c8d6-4c63-b86d-72659f089259",
   "metadata": {},
   "source": [
    "## Data Overview"
   ]
  },
  {
   "cell_type": "code",
   "execution_count": null,
   "id": "266f65f4-0e2b-4963-a71e-4fa2d7d6b3b2",
   "metadata": {},
   "outputs": [],
   "source": [
    "Blizzard_Commodities_DF"
   ]
  },
  {
   "cell_type": "markdown",
   "id": "4609fad6-fbc5-4420-a694-081662146f83",
   "metadata": {},
   "source": [
    "### Initial Value Analisys by Column"
   ]
  },
  {
   "cell_type": "markdown",
   "id": "7d409f73-0d14-48dc-93ff-298cd1254d8c",
   "metadata": {},
   "source": [
    "- id"
   ]
  },
  {
   "cell_type": "code",
   "execution_count": null,
   "id": "9fa3a2bc-894b-4553-b8d8-b2d4f53497ce",
   "metadata": {},
   "outputs": [],
   "source": [
    "Blizzard_Commodities_DF['id'].value_counts()"
   ]
  },
  {
   "cell_type": "markdown",
   "id": "12e99ded-203e-4ddc-8ac3-e89d3b0c3428",
   "metadata": {},
   "source": [
    "- id .. from this we can tell auctions last no more than 50 hrs, a bit over 2 days."
   ]
  },
  {
   "cell_type": "code",
   "execution_count": null,
   "id": "28c9bde9-ab47-4f9b-838e-4cf4aec6f2c7",
   "metadata": {},
   "outputs": [],
   "source": [
    "Blizzard_Commodities_DF['id'].value_counts().plot()"
   ]
  },
  {
   "cell_type": "code",
   "execution_count": 8,
   "id": "9cca7ca1-6e3a-4543-abd2-45fbc8174953",
   "metadata": {},
   "outputs": [],
   "source": [
    "auction_id_cc=pd.DataFrame(Blizzard_Commodities_DF['id'].value_counts().value_counts())"
   ]
  },
  {
   "cell_type": "code",
   "execution_count": 9,
   "id": "59843f78-afd5-4c5d-905e-7fad175c96a4",
   "metadata": {},
   "outputs": [
    {
     "data": {
      "text/html": [
       "<div>\n",
       "<style scoped>\n",
       "    .dataframe tbody tr th:only-of-type {\n",
       "        vertical-align: middle;\n",
       "    }\n",
       "\n",
       "    .dataframe tbody tr th {\n",
       "        vertical-align: top;\n",
       "    }\n",
       "\n",
       "    .dataframe thead th {\n",
       "        text-align: right;\n",
       "    }\n",
       "</style>\n",
       "<table border=\"1\" class=\"dataframe\">\n",
       "  <thead>\n",
       "    <tr style=\"text-align: right;\">\n",
       "      <th></th>\n",
       "      <th>count</th>\n",
       "    </tr>\n",
       "    <tr>\n",
       "      <th>count</th>\n",
       "      <th></th>\n",
       "    </tr>\n",
       "  </thead>\n",
       "  <tbody>\n",
       "    <tr>\n",
       "      <th>1</th>\n",
       "      <td>2109005</td>\n",
       "    </tr>\n",
       "    <tr>\n",
       "      <th>2</th>\n",
       "      <td>930071</td>\n",
       "    </tr>\n",
       "    <tr>\n",
       "      <th>12</th>\n",
       "      <td>612889</td>\n",
       "    </tr>\n",
       "    <tr>\n",
       "      <th>48</th>\n",
       "      <td>468105</td>\n",
       "    </tr>\n",
       "    <tr>\n",
       "      <th>24</th>\n",
       "      <td>463246</td>\n",
       "    </tr>\n",
       "    <tr>\n",
       "      <th>3</th>\n",
       "      <td>364507</td>\n",
       "    </tr>\n",
       "    <tr>\n",
       "      <th>4</th>\n",
       "      <td>231023</td>\n",
       "    </tr>\n",
       "    <tr>\n",
       "      <th>5</th>\n",
       "      <td>172418</td>\n",
       "    </tr>\n",
       "    <tr>\n",
       "      <th>6</th>\n",
       "      <td>138057</td>\n",
       "    </tr>\n",
       "    <tr>\n",
       "      <th>47</th>\n",
       "      <td>130531</td>\n",
       "    </tr>\n",
       "    <tr>\n",
       "      <th>7</th>\n",
       "      <td>119175</td>\n",
       "    </tr>\n",
       "    <tr>\n",
       "      <th>11</th>\n",
       "      <td>109887</td>\n",
       "    </tr>\n",
       "    <tr>\n",
       "      <th>8</th>\n",
       "      <td>103680</td>\n",
       "    </tr>\n",
       "    <tr>\n",
       "      <th>9</th>\n",
       "      <td>95134</td>\n",
       "    </tr>\n",
       "    <tr>\n",
       "      <th>10</th>\n",
       "      <td>87794</td>\n",
       "    </tr>\n",
       "    <tr>\n",
       "      <th>23</th>\n",
       "      <td>80167</td>\n",
       "    </tr>\n",
       "    <tr>\n",
       "      <th>13</th>\n",
       "      <td>66944</td>\n",
       "    </tr>\n",
       "    <tr>\n",
       "      <th>14</th>\n",
       "      <td>48638</td>\n",
       "    </tr>\n",
       "    <tr>\n",
       "      <th>15</th>\n",
       "      <td>43846</td>\n",
       "    </tr>\n",
       "    <tr>\n",
       "      <th>16</th>\n",
       "      <td>43304</td>\n",
       "    </tr>\n",
       "    <tr>\n",
       "      <th>17</th>\n",
       "      <td>39856</td>\n",
       "    </tr>\n",
       "    <tr>\n",
       "      <th>18</th>\n",
       "      <td>36378</td>\n",
       "    </tr>\n",
       "    <tr>\n",
       "      <th>19</th>\n",
       "      <td>36150</td>\n",
       "    </tr>\n",
       "    <tr>\n",
       "      <th>22</th>\n",
       "      <td>34809</td>\n",
       "    </tr>\n",
       "    <tr>\n",
       "      <th>20</th>\n",
       "      <td>34577</td>\n",
       "    </tr>\n",
       "    <tr>\n",
       "      <th>21</th>\n",
       "      <td>34281</td>\n",
       "    </tr>\n",
       "    <tr>\n",
       "      <th>25</th>\n",
       "      <td>30380</td>\n",
       "    </tr>\n",
       "    <tr>\n",
       "      <th>26</th>\n",
       "      <td>19407</td>\n",
       "    </tr>\n",
       "    <tr>\n",
       "      <th>49</th>\n",
       "      <td>17684</td>\n",
       "    </tr>\n",
       "    <tr>\n",
       "      <th>31</th>\n",
       "      <td>15871</td>\n",
       "    </tr>\n",
       "    <tr>\n",
       "      <th>27</th>\n",
       "      <td>15849</td>\n",
       "    </tr>\n",
       "    <tr>\n",
       "      <th>30</th>\n",
       "      <td>15120</td>\n",
       "    </tr>\n",
       "    <tr>\n",
       "      <th>28</th>\n",
       "      <td>15099</td>\n",
       "    </tr>\n",
       "    <tr>\n",
       "      <th>29</th>\n",
       "      <td>14466</td>\n",
       "    </tr>\n",
       "    <tr>\n",
       "      <th>33</th>\n",
       "      <td>14120</td>\n",
       "    </tr>\n",
       "    <tr>\n",
       "      <th>35</th>\n",
       "      <td>14097</td>\n",
       "    </tr>\n",
       "    <tr>\n",
       "      <th>34</th>\n",
       "      <td>13820</td>\n",
       "    </tr>\n",
       "    <tr>\n",
       "      <th>32</th>\n",
       "      <td>13618</td>\n",
       "    </tr>\n",
       "    <tr>\n",
       "      <th>36</th>\n",
       "      <td>12702</td>\n",
       "    </tr>\n",
       "    <tr>\n",
       "      <th>45</th>\n",
       "      <td>12670</td>\n",
       "    </tr>\n",
       "    <tr>\n",
       "      <th>46</th>\n",
       "      <td>12599</td>\n",
       "    </tr>\n",
       "    <tr>\n",
       "      <th>37</th>\n",
       "      <td>12515</td>\n",
       "    </tr>\n",
       "    <tr>\n",
       "      <th>38</th>\n",
       "      <td>12149</td>\n",
       "    </tr>\n",
       "    <tr>\n",
       "      <th>39</th>\n",
       "      <td>11890</td>\n",
       "    </tr>\n",
       "    <tr>\n",
       "      <th>40</th>\n",
       "      <td>11680</td>\n",
       "    </tr>\n",
       "    <tr>\n",
       "      <th>44</th>\n",
       "      <td>11604</td>\n",
       "    </tr>\n",
       "    <tr>\n",
       "      <th>43</th>\n",
       "      <td>11060</td>\n",
       "    </tr>\n",
       "    <tr>\n",
       "      <th>41</th>\n",
       "      <td>10683</td>\n",
       "    </tr>\n",
       "    <tr>\n",
       "      <th>42</th>\n",
       "      <td>10603</td>\n",
       "    </tr>\n",
       "    <tr>\n",
       "      <th>50</th>\n",
       "      <td>139</td>\n",
       "    </tr>\n",
       "  </tbody>\n",
       "</table>\n",
       "</div>"
      ],
      "text/plain": [
       "         count\n",
       "count         \n",
       "1      2109005\n",
       "2       930071\n",
       "12      612889\n",
       "48      468105\n",
       "24      463246\n",
       "3       364507\n",
       "4       231023\n",
       "5       172418\n",
       "6       138057\n",
       "47      130531\n",
       "7       119175\n",
       "11      109887\n",
       "8       103680\n",
       "9        95134\n",
       "10       87794\n",
       "23       80167\n",
       "13       66944\n",
       "14       48638\n",
       "15       43846\n",
       "16       43304\n",
       "17       39856\n",
       "18       36378\n",
       "19       36150\n",
       "22       34809\n",
       "20       34577\n",
       "21       34281\n",
       "25       30380\n",
       "26       19407\n",
       "49       17684\n",
       "31       15871\n",
       "27       15849\n",
       "30       15120\n",
       "28       15099\n",
       "29       14466\n",
       "33       14120\n",
       "35       14097\n",
       "34       13820\n",
       "32       13618\n",
       "36       12702\n",
       "45       12670\n",
       "46       12599\n",
       "37       12515\n",
       "38       12149\n",
       "39       11890\n",
       "40       11680\n",
       "44       11604\n",
       "43       11060\n",
       "41       10683\n",
       "42       10603\n",
       "50         139"
      ]
     },
     "execution_count": 9,
     "metadata": {},
     "output_type": "execute_result"
    }
   ],
   "source": [
    "auction_id_cc"
   ]
  },
  {
   "cell_type": "code",
   "execution_count": 10,
   "id": "7724b651-55c8-4a14-86a1-0a50f856e03a",
   "metadata": {},
   "outputs": [],
   "source": [
    "auction_id_cc.rename(columns={'count':'repetitions'}, inplace=True)"
   ]
  },
  {
   "cell_type": "code",
   "execution_count": 11,
   "id": "0765f68c-b2a3-4ac0-b230-3a7d11c83e1a",
   "metadata": {},
   "outputs": [],
   "source": [
    "auction_id_cc.reset_index(inplace=True)"
   ]
  },
  {
   "cell_type": "code",
   "execution_count": 12,
   "id": "d6edb4fb-141b-4925-ab8f-aac5a31960b3",
   "metadata": {},
   "outputs": [],
   "source": [
    "auction_id_cc.sort_values('count', inplace=True)"
   ]
  },
  {
   "cell_type": "code",
   "execution_count": 13,
   "id": "d73d91f1-3afa-4f5a-8460-8115d0779871",
   "metadata": {},
   "outputs": [
    {
     "data": {
      "text/html": [
       "<div>\n",
       "<style scoped>\n",
       "    .dataframe tbody tr th:only-of-type {\n",
       "        vertical-align: middle;\n",
       "    }\n",
       "\n",
       "    .dataframe tbody tr th {\n",
       "        vertical-align: top;\n",
       "    }\n",
       "\n",
       "    .dataframe thead th {\n",
       "        text-align: right;\n",
       "    }\n",
       "</style>\n",
       "<table border=\"1\" class=\"dataframe\">\n",
       "  <thead>\n",
       "    <tr style=\"text-align: right;\">\n",
       "      <th></th>\n",
       "      <th>count</th>\n",
       "      <th>repetitions</th>\n",
       "    </tr>\n",
       "  </thead>\n",
       "  <tbody>\n",
       "    <tr>\n",
       "      <th>0</th>\n",
       "      <td>1</td>\n",
       "      <td>2109005</td>\n",
       "    </tr>\n",
       "    <tr>\n",
       "      <th>1</th>\n",
       "      <td>2</td>\n",
       "      <td>930071</td>\n",
       "    </tr>\n",
       "    <tr>\n",
       "      <th>5</th>\n",
       "      <td>3</td>\n",
       "      <td>364507</td>\n",
       "    </tr>\n",
       "    <tr>\n",
       "      <th>6</th>\n",
       "      <td>4</td>\n",
       "      <td>231023</td>\n",
       "    </tr>\n",
       "    <tr>\n",
       "      <th>7</th>\n",
       "      <td>5</td>\n",
       "      <td>172418</td>\n",
       "    </tr>\n",
       "    <tr>\n",
       "      <th>8</th>\n",
       "      <td>6</td>\n",
       "      <td>138057</td>\n",
       "    </tr>\n",
       "    <tr>\n",
       "      <th>10</th>\n",
       "      <td>7</td>\n",
       "      <td>119175</td>\n",
       "    </tr>\n",
       "    <tr>\n",
       "      <th>12</th>\n",
       "      <td>8</td>\n",
       "      <td>103680</td>\n",
       "    </tr>\n",
       "    <tr>\n",
       "      <th>13</th>\n",
       "      <td>9</td>\n",
       "      <td>95134</td>\n",
       "    </tr>\n",
       "    <tr>\n",
       "      <th>14</th>\n",
       "      <td>10</td>\n",
       "      <td>87794</td>\n",
       "    </tr>\n",
       "    <tr>\n",
       "      <th>11</th>\n",
       "      <td>11</td>\n",
       "      <td>109887</td>\n",
       "    </tr>\n",
       "    <tr>\n",
       "      <th>2</th>\n",
       "      <td>12</td>\n",
       "      <td>612889</td>\n",
       "    </tr>\n",
       "    <tr>\n",
       "      <th>16</th>\n",
       "      <td>13</td>\n",
       "      <td>66944</td>\n",
       "    </tr>\n",
       "    <tr>\n",
       "      <th>17</th>\n",
       "      <td>14</td>\n",
       "      <td>48638</td>\n",
       "    </tr>\n",
       "    <tr>\n",
       "      <th>18</th>\n",
       "      <td>15</td>\n",
       "      <td>43846</td>\n",
       "    </tr>\n",
       "    <tr>\n",
       "      <th>19</th>\n",
       "      <td>16</td>\n",
       "      <td>43304</td>\n",
       "    </tr>\n",
       "    <tr>\n",
       "      <th>20</th>\n",
       "      <td>17</td>\n",
       "      <td>39856</td>\n",
       "    </tr>\n",
       "    <tr>\n",
       "      <th>21</th>\n",
       "      <td>18</td>\n",
       "      <td>36378</td>\n",
       "    </tr>\n",
       "    <tr>\n",
       "      <th>22</th>\n",
       "      <td>19</td>\n",
       "      <td>36150</td>\n",
       "    </tr>\n",
       "    <tr>\n",
       "      <th>24</th>\n",
       "      <td>20</td>\n",
       "      <td>34577</td>\n",
       "    </tr>\n",
       "    <tr>\n",
       "      <th>25</th>\n",
       "      <td>21</td>\n",
       "      <td>34281</td>\n",
       "    </tr>\n",
       "    <tr>\n",
       "      <th>23</th>\n",
       "      <td>22</td>\n",
       "      <td>34809</td>\n",
       "    </tr>\n",
       "    <tr>\n",
       "      <th>15</th>\n",
       "      <td>23</td>\n",
       "      <td>80167</td>\n",
       "    </tr>\n",
       "    <tr>\n",
       "      <th>4</th>\n",
       "      <td>24</td>\n",
       "      <td>463246</td>\n",
       "    </tr>\n",
       "    <tr>\n",
       "      <th>26</th>\n",
       "      <td>25</td>\n",
       "      <td>30380</td>\n",
       "    </tr>\n",
       "    <tr>\n",
       "      <th>27</th>\n",
       "      <td>26</td>\n",
       "      <td>19407</td>\n",
       "    </tr>\n",
       "    <tr>\n",
       "      <th>30</th>\n",
       "      <td>27</td>\n",
       "      <td>15849</td>\n",
       "    </tr>\n",
       "    <tr>\n",
       "      <th>32</th>\n",
       "      <td>28</td>\n",
       "      <td>15099</td>\n",
       "    </tr>\n",
       "    <tr>\n",
       "      <th>33</th>\n",
       "      <td>29</td>\n",
       "      <td>14466</td>\n",
       "    </tr>\n",
       "    <tr>\n",
       "      <th>31</th>\n",
       "      <td>30</td>\n",
       "      <td>15120</td>\n",
       "    </tr>\n",
       "    <tr>\n",
       "      <th>29</th>\n",
       "      <td>31</td>\n",
       "      <td>15871</td>\n",
       "    </tr>\n",
       "    <tr>\n",
       "      <th>37</th>\n",
       "      <td>32</td>\n",
       "      <td>13618</td>\n",
       "    </tr>\n",
       "    <tr>\n",
       "      <th>34</th>\n",
       "      <td>33</td>\n",
       "      <td>14120</td>\n",
       "    </tr>\n",
       "    <tr>\n",
       "      <th>36</th>\n",
       "      <td>34</td>\n",
       "      <td>13820</td>\n",
       "    </tr>\n",
       "    <tr>\n",
       "      <th>35</th>\n",
       "      <td>35</td>\n",
       "      <td>14097</td>\n",
       "    </tr>\n",
       "    <tr>\n",
       "      <th>38</th>\n",
       "      <td>36</td>\n",
       "      <td>12702</td>\n",
       "    </tr>\n",
       "    <tr>\n",
       "      <th>41</th>\n",
       "      <td>37</td>\n",
       "      <td>12515</td>\n",
       "    </tr>\n",
       "    <tr>\n",
       "      <th>42</th>\n",
       "      <td>38</td>\n",
       "      <td>12149</td>\n",
       "    </tr>\n",
       "    <tr>\n",
       "      <th>43</th>\n",
       "      <td>39</td>\n",
       "      <td>11890</td>\n",
       "    </tr>\n",
       "    <tr>\n",
       "      <th>44</th>\n",
       "      <td>40</td>\n",
       "      <td>11680</td>\n",
       "    </tr>\n",
       "    <tr>\n",
       "      <th>47</th>\n",
       "      <td>41</td>\n",
       "      <td>10683</td>\n",
       "    </tr>\n",
       "    <tr>\n",
       "      <th>48</th>\n",
       "      <td>42</td>\n",
       "      <td>10603</td>\n",
       "    </tr>\n",
       "    <tr>\n",
       "      <th>46</th>\n",
       "      <td>43</td>\n",
       "      <td>11060</td>\n",
       "    </tr>\n",
       "    <tr>\n",
       "      <th>45</th>\n",
       "      <td>44</td>\n",
       "      <td>11604</td>\n",
       "    </tr>\n",
       "    <tr>\n",
       "      <th>39</th>\n",
       "      <td>45</td>\n",
       "      <td>12670</td>\n",
       "    </tr>\n",
       "    <tr>\n",
       "      <th>40</th>\n",
       "      <td>46</td>\n",
       "      <td>12599</td>\n",
       "    </tr>\n",
       "    <tr>\n",
       "      <th>9</th>\n",
       "      <td>47</td>\n",
       "      <td>130531</td>\n",
       "    </tr>\n",
       "    <tr>\n",
       "      <th>3</th>\n",
       "      <td>48</td>\n",
       "      <td>468105</td>\n",
       "    </tr>\n",
       "    <tr>\n",
       "      <th>28</th>\n",
       "      <td>49</td>\n",
       "      <td>17684</td>\n",
       "    </tr>\n",
       "    <tr>\n",
       "      <th>49</th>\n",
       "      <td>50</td>\n",
       "      <td>139</td>\n",
       "    </tr>\n",
       "  </tbody>\n",
       "</table>\n",
       "</div>"
      ],
      "text/plain": [
       "    count  repetitions\n",
       "0       1      2109005\n",
       "1       2       930071\n",
       "5       3       364507\n",
       "6       4       231023\n",
       "7       5       172418\n",
       "8       6       138057\n",
       "10      7       119175\n",
       "12      8       103680\n",
       "13      9        95134\n",
       "14     10        87794\n",
       "11     11       109887\n",
       "2      12       612889\n",
       "16     13        66944\n",
       "17     14        48638\n",
       "18     15        43846\n",
       "19     16        43304\n",
       "20     17        39856\n",
       "21     18        36378\n",
       "22     19        36150\n",
       "24     20        34577\n",
       "25     21        34281\n",
       "23     22        34809\n",
       "15     23        80167\n",
       "4      24       463246\n",
       "26     25        30380\n",
       "27     26        19407\n",
       "30     27        15849\n",
       "32     28        15099\n",
       "33     29        14466\n",
       "31     30        15120\n",
       "29     31        15871\n",
       "37     32        13618\n",
       "34     33        14120\n",
       "36     34        13820\n",
       "35     35        14097\n",
       "38     36        12702\n",
       "41     37        12515\n",
       "42     38        12149\n",
       "43     39        11890\n",
       "44     40        11680\n",
       "47     41        10683\n",
       "48     42        10603\n",
       "46     43        11060\n",
       "45     44        11604\n",
       "39     45        12670\n",
       "40     46        12599\n",
       "9      47       130531\n",
       "3      48       468105\n",
       "28     49        17684\n",
       "49     50          139"
      ]
     },
     "execution_count": 13,
     "metadata": {},
     "output_type": "execute_result"
    }
   ],
   "source": [
    "auction_id_cc"
   ]
  },
  {
   "cell_type": "code",
   "execution_count": null,
   "id": "cf8a9980-aa7d-49c7-80b2-20a9f9a034d2",
   "metadata": {},
   "outputs": [],
   "source": [
    "auction_id_cc['repetitions'].plot()"
   ]
  },
  {
   "cell_type": "code",
   "execution_count": 34,
   "id": "fdac69b1-43ef-44b5-975f-240438528a10",
   "metadata": {},
   "outputs": [],
   "source": [
    "ax=0"
   ]
  },
  {
   "cell_type": "code",
   "execution_count": 36,
   "id": "6e2fee6d-5406-4214-8d9d-2347937612b3",
   "metadata": {},
   "outputs": [
    {
     "ename": "TypeError",
     "evalue": "'tuple' object is not callable",
     "output_type": "error",
     "traceback": [
      "\u001b[1;31m---------------------------------------------------------------------------\u001b[0m",
      "\u001b[1;31mTypeError\u001b[0m                                 Traceback (most recent call last)",
      "Cell \u001b[1;32mIn[36], line 3\u001b[0m\n\u001b[0;32m      1\u001b[0m x\u001b[38;5;241m=\u001b[39mauction_id_cc[\u001b[38;5;124m'\u001b[39m\u001b[38;5;124mcount\u001b[39m\u001b[38;5;124m'\u001b[39m]\n\u001b[0;32m      2\u001b[0m y\u001b[38;5;241m=\u001b[39mauction_id_cc[\u001b[38;5;124m'\u001b[39m\u001b[38;5;124mrepetitions\u001b[39m\u001b[38;5;124m'\u001b[39m]\n\u001b[1;32m----> 3\u001b[0m plt\u001b[38;5;241m.\u001b[39mscatter(x,y)\n\u001b[0;32m      4\u001b[0m plt\u001b[38;5;241m.\u001b[39mxticks(rotation\u001b[38;5;241m=\u001b[39m\u001b[38;5;124m'\u001b[39m\u001b[38;5;124mvertical\u001b[39m\u001b[38;5;124m'\u001b[39m)\n\u001b[0;32m      5\u001b[0m plt\u001b[38;5;241m.\u001b[39mshow()\n",
      "File \u001b[1;32mC:\\ProgramData\\anaconda3\\Lib\\site-packages\\matplotlib\\pyplot.py:3687\u001b[0m, in \u001b[0;36mscatter\u001b[1;34m(x, y, s, c, marker, cmap, norm, vmin, vmax, alpha, linewidths, edgecolors, plotnonfinite, data, **kwargs)\u001b[0m\n\u001b[0;32m   3668\u001b[0m \u001b[38;5;129m@_copy_docstring_and_deprecators\u001b[39m(Axes\u001b[38;5;241m.\u001b[39mscatter)\n\u001b[0;32m   3669\u001b[0m \u001b[38;5;28;01mdef\u001b[39;00m \u001b[38;5;21mscatter\u001b[39m(\n\u001b[0;32m   3670\u001b[0m     x: \u001b[38;5;28mfloat\u001b[39m \u001b[38;5;241m|\u001b[39m ArrayLike,\n\u001b[1;32m   (...)\u001b[0m\n\u001b[0;32m   3685\u001b[0m     \u001b[38;5;241m*\u001b[39m\u001b[38;5;241m*\u001b[39mkwargs,\n\u001b[0;32m   3686\u001b[0m ) \u001b[38;5;241m-\u001b[39m\u001b[38;5;241m>\u001b[39m PathCollection:\n\u001b[1;32m-> 3687\u001b[0m     __ret \u001b[38;5;241m=\u001b[39m gca()\u001b[38;5;241m.\u001b[39mscatter(\n\u001b[0;32m   3688\u001b[0m         x,\n\u001b[0;32m   3689\u001b[0m         y,\n\u001b[0;32m   3690\u001b[0m         s\u001b[38;5;241m=\u001b[39ms,\n\u001b[0;32m   3691\u001b[0m         c\u001b[38;5;241m=\u001b[39mc,\n\u001b[0;32m   3692\u001b[0m         marker\u001b[38;5;241m=\u001b[39mmarker,\n\u001b[0;32m   3693\u001b[0m         cmap\u001b[38;5;241m=\u001b[39mcmap,\n\u001b[0;32m   3694\u001b[0m         norm\u001b[38;5;241m=\u001b[39mnorm,\n\u001b[0;32m   3695\u001b[0m         vmin\u001b[38;5;241m=\u001b[39mvmin,\n\u001b[0;32m   3696\u001b[0m         vmax\u001b[38;5;241m=\u001b[39mvmax,\n\u001b[0;32m   3697\u001b[0m         alpha\u001b[38;5;241m=\u001b[39malpha,\n\u001b[0;32m   3698\u001b[0m         linewidths\u001b[38;5;241m=\u001b[39mlinewidths,\n\u001b[0;32m   3699\u001b[0m         edgecolors\u001b[38;5;241m=\u001b[39medgecolors,\n\u001b[0;32m   3700\u001b[0m         plotnonfinite\u001b[38;5;241m=\u001b[39mplotnonfinite,\n\u001b[0;32m   3701\u001b[0m         \u001b[38;5;241m*\u001b[39m\u001b[38;5;241m*\u001b[39m({\u001b[38;5;124m\"\u001b[39m\u001b[38;5;124mdata\u001b[39m\u001b[38;5;124m\"\u001b[39m: data} \u001b[38;5;28;01mif\u001b[39;00m data \u001b[38;5;129;01mis\u001b[39;00m \u001b[38;5;129;01mnot\u001b[39;00m \u001b[38;5;28;01mNone\u001b[39;00m \u001b[38;5;28;01melse\u001b[39;00m {}),\n\u001b[0;32m   3702\u001b[0m         \u001b[38;5;241m*\u001b[39m\u001b[38;5;241m*\u001b[39mkwargs,\n\u001b[0;32m   3703\u001b[0m     )\n\u001b[0;32m   3704\u001b[0m     sci(__ret)\n\u001b[0;32m   3705\u001b[0m     \u001b[38;5;28;01mreturn\u001b[39;00m __ret\n",
      "File \u001b[1;32mC:\\ProgramData\\anaconda3\\Lib\\site-packages\\matplotlib\\pyplot.py:2528\u001b[0m, in \u001b[0;36mgca\u001b[1;34m()\u001b[0m\n\u001b[0;32m   2526\u001b[0m \u001b[38;5;129m@_copy_docstring_and_deprecators\u001b[39m(Figure\u001b[38;5;241m.\u001b[39mgca)\n\u001b[0;32m   2527\u001b[0m \u001b[38;5;28;01mdef\u001b[39;00m \u001b[38;5;21mgca\u001b[39m() \u001b[38;5;241m-\u001b[39m\u001b[38;5;241m>\u001b[39m Axes:\n\u001b[1;32m-> 2528\u001b[0m     \u001b[38;5;28;01mreturn\u001b[39;00m gcf()\u001b[38;5;241m.\u001b[39mgca()\n",
      "File \u001b[1;32mC:\\ProgramData\\anaconda3\\Lib\\site-packages\\matplotlib\\pyplot.py:1000\u001b[0m, in \u001b[0;36mgcf\u001b[1;34m()\u001b[0m\n\u001b[0;32m    998\u001b[0m     \u001b[38;5;28;01mreturn\u001b[39;00m manager\u001b[38;5;241m.\u001b[39mcanvas\u001b[38;5;241m.\u001b[39mfigure\n\u001b[0;32m    999\u001b[0m \u001b[38;5;28;01melse\u001b[39;00m:\n\u001b[1;32m-> 1000\u001b[0m     \u001b[38;5;28;01mreturn\u001b[39;00m figure()\n",
      "\u001b[1;31mTypeError\u001b[0m: 'tuple' object is not callable"
     ]
    }
   ],
   "source": [
    "x=auction_id_cc['count']\n",
    "y=auction_id_cc['repetitions']\n",
    "plt.scatter(x,y)\n",
    "plt.xticks(rotation='vertical')\n",
    "plt.show()"
   ]
  },
  {
   "cell_type": "code",
   "execution_count": null,
   "id": "f89a786a-4007-4ef3-8c1c-2577df8e0f1d",
   "metadata": {},
   "outputs": [],
   "source": [
    "auction_id_cc.reset_index(drop=True, inplace=True)"
   ]
  },
  {
   "cell_type": "code",
   "execution_count": null,
   "id": "cd2488d9-dd25-4f53-957d-0fc825a7d062",
   "metadata": {},
   "outputs": [],
   "source": [
    "Blizzard_Commodities_DF['id'].value_counts().value_counts().plot()"
   ]
  },
  {
   "cell_type": "markdown",
   "id": "a3a3c650-805c-415a-a033-62a8e9aa77b0",
   "metadata": {},
   "source": [
    "- quantity"
   ]
  },
  {
   "cell_type": "code",
   "execution_count": null,
   "id": "bb1c1007-87bc-4e5e-bc54-d5491c722d2b",
   "metadata": {},
   "outputs": [],
   "source": [
    "Blizzard_Commodities_DF['quantity'].value_counts()"
   ]
  },
  {
   "cell_type": "code",
   "execution_count": null,
   "id": "e773e779-c6d5-48a7-8b1a-951bac6683f0",
   "metadata": {},
   "outputs": [],
   "source": [
    "Blizzard_Commodities_DF['quantity'].value_counts().plot()"
   ]
  },
  {
   "cell_type": "markdown",
   "id": "1b3f6173-e912-4d68-b171-3246d181d345",
   "metadata": {},
   "source": [
    "- unit_price"
   ]
  },
  {
   "cell_type": "code",
   "execution_count": null,
   "id": "22228c6e-47a6-4532-a55b-e5a94b631737",
   "metadata": {},
   "outputs": [],
   "source": [
    "Blizzard_Commodities_DF['unit_price'].value_counts()"
   ]
  },
  {
   "cell_type": "code",
   "execution_count": null,
   "id": "d6f72986-f67c-42ba-b50d-ae644ebf38f8",
   "metadata": {},
   "outputs": [],
   "source": [
    "Blizzard_Commodities_DF['unit_price'].value_counts().plot()"
   ]
  },
  {
   "cell_type": "markdown",
   "id": "24a88e7a-d50b-412f-b984-f48161bb2232",
   "metadata": {},
   "source": [
    "- time_left"
   ]
  },
  {
   "cell_type": "code",
   "execution_count": null,
   "id": "d34a715c-460b-4ae7-8dea-a3c031cdefb3",
   "metadata": {},
   "outputs": [],
   "source": [
    "Blizzard_Commodities_DF['time_left'].value_counts()"
   ]
  },
  {
   "cell_type": "code",
   "execution_count": null,
   "id": "b733beef-1969-4d63-a6b9-0d5538cafd58",
   "metadata": {},
   "outputs": [],
   "source": [
    "Blizzard_Commodities_DF['time_left'].value_counts().plot()"
   ]
  },
  {
   "cell_type": "markdown",
   "id": "b01159ae-2db0-4b92-905b-f92886f93d03",
   "metadata": {},
   "source": [
    "- item.id"
   ]
  },
  {
   "cell_type": "markdown",
   "id": "2997ade3-2327-4dd9-9b84-1f5baed2f696",
   "metadata": {},
   "source": [
    "- item.name"
   ]
  },
  {
   "cell_type": "code",
   "execution_count": null,
   "id": "6dbfdde2-6a55-4692-85dc-ac3e2cc3fe29",
   "metadata": {},
   "outputs": [],
   "source": [
    "Blizzard_Commodities_DF['item.name'].value_counts() "
   ]
  },
  {
   "cell_type": "code",
   "execution_count": null,
   "id": "5487a848-7586-4dda-ad98-8bbd13f19c58",
   "metadata": {},
   "outputs": [],
   "source": [
    "Blizzard_Commodities_DF['item.name'].value_counts().plot()"
   ]
  },
  {
   "cell_type": "markdown",
   "id": "c2d98a21-cdc0-4c02-b60c-f17dc9f3c7ec",
   "metadata": {},
   "source": [
    "- item.class"
   ]
  },
  {
   "cell_type": "code",
   "execution_count": null,
   "id": "6306a8f0-700b-4a45-8dd0-958b27c006f9",
   "metadata": {},
   "outputs": [],
   "source": [
    "Blizzard_Commodities_DF['item.class'].value_counts()"
   ]
  },
  {
   "cell_type": "code",
   "execution_count": null,
   "id": "08cbc624-58a6-49f8-8755-d856680e27d7",
   "metadata": {},
   "outputs": [],
   "source": [
    "Blizzard_Commodities_DF['item.class'].value_counts().plot()"
   ]
  },
  {
   "cell_type": "markdown",
   "id": "bd2709bb-030e-4e7b-863e-b822992d454d",
   "metadata": {},
   "source": [
    "- date_time"
   ]
  },
  {
   "cell_type": "code",
   "execution_count": null,
   "id": "7b8a7661-bb94-48e2-8b02-4d8356c2be1f",
   "metadata": {},
   "outputs": [],
   "source": [
    "Blizzard_Commodities_DF['datetime'].value_counts()"
   ]
  },
  {
   "cell_type": "code",
   "execution_count": null,
   "id": "e945027d-524b-4d7f-8199-1f2040f2aadf",
   "metadata": {},
   "outputs": [],
   "source": [
    "Blizzard_Commodities_DF['datetime'].value_counts().plot()"
   ]
  },
  {
   "cell_type": "markdown",
   "id": "f5b3ce43-3b90-49c5-a85f-a14faec17193",
   "metadata": {},
   "source": [
    "### ** Modify DF for easier analysis of datetime data"
   ]
  },
  {
   "cell_type": "code",
   "execution_count": null,
   "id": "6c509f81-6b89-49c4-9b75-de1c249ed130",
   "metadata": {},
   "outputs": [],
   "source": [
    "Blizzard_Commodities_DF['date']=pd.to_datetime(Blizzard_Commodities_DF['datetime']).dt.date\n",
    "Blizzard_Commodities_DF['date']=pd.to_datetime(Blizzard_Commodities_DF['date'])\n",
    "Blizzard_Commodities_DF['time']=pd.to_datetime(Blizzard_Commodities_DF['datetime']).dt.time\n",
    "# Blizzard_Commodities_DF.drop(columns='datetime', inplace=True)"
   ]
  },
  {
   "cell_type": "code",
   "execution_count": null,
   "id": "48c47889-a876-4c6e-a6cf-25b293eb7e7a",
   "metadata": {},
   "outputs": [],
   "source": [
    "Blizzard_Commodities_DF.info()"
   ]
  },
  {
   "cell_type": "markdown",
   "id": "e1c0f2b0-2944-409b-87b3-8518ade6ebe6",
   "metadata": {},
   "source": [
    "## Divide Blizzard_Commodities_DF in Blizzard_1 and Blizzard_2 "
   ]
  },
  {
   "cell_type": "markdown",
   "id": "f3ea64f8-abf6-4807-a8be-9eb7dc1dcdec",
   "metadata": {},
   "source": [
    "## and save as CSV to close the DF and use less memory"
   ]
  },
  {
   "cell_type": "code",
   "execution_count": null,
   "id": "1e8620fd-1d0f-48ad-8b00-c005bd9303db",
   "metadata": {},
   "outputs": [],
   "source": [
    "Blizzard_1_df=Blizzard_Commodities_DF.iloc[0:int(79852830/2)]\n",
    "Blizzard_1_df.to_csv('Blizzard_1.csv')\n",
    "Blizzard_2_df=Blizzard_Commodities_DF.iloc[int(79852830/2):]\n",
    "Blizzard_2_df.to_csv('Blizzard_2.csv')\n",
    "Blizzard_Commodities_DF=[]\n",
    "Blizzard_2_df=[]"
   ]
  },
  {
   "cell_type": "markdown",
   "id": "081908dd-45fa-40c1-843c-2218a811f22c",
   "metadata": {},
   "source": [
    "- date"
   ]
  },
  {
   "cell_type": "code",
   "execution_count": null,
   "id": "9688c80d-9a98-42ac-8589-f60627cde754",
   "metadata": {},
   "outputs": [],
   "source": [
    "Blizzard_Commodities_DF['date'].value_counts()"
   ]
  },
  {
   "cell_type": "code",
   "execution_count": null,
   "id": "842f4095-7543-4c79-977d-f107c562f9c5",
   "metadata": {},
   "outputs": [],
   "source": [
    "Blizzard_Commodities_DF['date'].value_counts().plot()"
   ]
  },
  {
   "cell_type": "markdown",
   "id": "185e00e6-d1b0-4230-b265-bbd5ed166185",
   "metadata": {},
   "source": [
    "- time"
   ]
  },
  {
   "cell_type": "code",
   "execution_count": null,
   "id": "317a859e-c5aa-43ae-a2f0-2b5b6b14fe6f",
   "metadata": {},
   "outputs": [],
   "source": [
    "Blizzard_Commodities_DF['time'].value_counts()"
   ]
  },
  {
   "cell_type": "code",
   "execution_count": null,
   "id": "b766624d-14b7-4d63-b054-efaf29fa1ecc",
   "metadata": {},
   "outputs": [],
   "source": [
    "Blizzard_Commodities_DF['time'].value_counts().plot()"
   ]
  },
  {
   "cell_type": "markdown",
   "id": "4c38d69c-a7ba-4e5d-9385-8ad8b5077538",
   "metadata": {},
   "source": [
    "## Analysis based on 'item.name' column"
   ]
  },
  {
   "cell_type": "code",
   "execution_count": null,
   "id": "3aad4102-bfb9-48b6-b28d-fa20d11de1a4",
   "metadata": {},
   "outputs": [],
   "source": [
    "item_name_count_df=pd.DataFrame(Blizzard_Commodities_DF['item.name'].value_counts())\n",
    "item_name_count_df.reset_index()"
   ]
  },
  {
   "cell_type": "markdown",
   "id": "a57d0401-6d51-4ce0-8013-65f13e1cb9be",
   "metadata": {},
   "source": [
    "### The most offered item is 'Fluorescent Fluid', analysing data"
   ]
  },
  {
   "cell_type": "code",
   "execution_count": null,
   "id": "1ab5d31b-012e-4e18-b861-15b95e4e8f4a",
   "metadata": {},
   "outputs": [],
   "source": [
    "fluorecent_fluid_df=Blizzard_Commodities_DF.loc[Blizzard_Commodities_DF['item.name']=='Fluorescent Fluid']"
   ]
  },
  {
   "cell_type": "code",
   "execution_count": null,
   "id": "4b5a1be7-9bfa-4f56-9adb-542edea0cab2",
   "metadata": {},
   "outputs": [],
   "source": [
    "#Did not work as I expected\n",
    "for column in fluorecent_fluid_df:\n",
    "    try:\n",
    "        display(f\"Columns: {column}\")\n",
    "        display(fluorecent_fluid_df[column].value_counts())\n",
    "    except Exception as err:\n",
    "        print(err)\n",
    "    try:\n",
    "        display(fluorecent_fluid_df[column].value_counts().plot())\n",
    "    except Exception as err:\n",
    "        print(err)"
   ]
  },
  {
   "cell_type": "code",
   "execution_count": null,
   "id": "d014bcd9-cec5-4927-9319-55114ce8b440",
   "metadata": {},
   "outputs": [],
   "source": [
    "fluorecent_fluid_df.info()"
   ]
  },
  {
   "cell_type": "code",
   "execution_count": null,
   "id": "6954b25b-38d0-433d-ab2d-3bf96c29490d",
   "metadata": {},
   "outputs": [],
   "source": [
    "fluorecent_fluid_df['id'].value_counts()"
   ]
  },
  {
   "cell_type": "code",
   "execution_count": null,
   "id": "cf64d215-63a5-42ce-9ab3-5b96df4cc99b",
   "metadata": {},
   "outputs": [],
   "source": [
    "fluorecent_fluid_df['id'].value_counts().plot()"
   ]
  },
  {
   "cell_type": "code",
   "execution_count": null,
   "id": "8e2856e7-837e-4956-b4ab-cb120f4a8b00",
   "metadata": {},
   "outputs": [],
   "source": [
    "fluorecent_fluid_df['quantity'].value_counts()"
   ]
  },
  {
   "cell_type": "code",
   "execution_count": null,
   "id": "22f55e1d-3c9c-435f-8532-bc85c9a2a33a",
   "metadata": {},
   "outputs": [],
   "source": [
    "fluorecent_fluid_df['quantity'].value_counts().plot()"
   ]
  },
  {
   "cell_type": "code",
   "execution_count": null,
   "id": "5fc35f3b-638e-4f41-acde-4cf7a0c37cde",
   "metadata": {},
   "outputs": [],
   "source": [
    "fluorecent_fluid_df['unit_price'].value_counts()"
   ]
  },
  {
   "cell_type": "code",
   "execution_count": null,
   "id": "4799ccb6-caec-4e67-9a56-d6a3fa958bec",
   "metadata": {},
   "outputs": [],
   "source": [
    "fluorecent_fluid_df['unit_price'].value_counts().plot()"
   ]
  },
  {
   "cell_type": "code",
   "execution_count": null,
   "id": "cb1dc083-e2dd-4ad3-bc39-33c04d7fe29b",
   "metadata": {},
   "outputs": [],
   "source": [
    "fluorecent_fluid_df['time_left'].value_counts()"
   ]
  },
  {
   "cell_type": "code",
   "execution_count": null,
   "id": "d2293ec4-e853-4f29-aa5a-9d4ca3c8b986",
   "metadata": {},
   "outputs": [],
   "source": [
    "fluorecent_fluid_df['time_left'].value_counts().plot()"
   ]
  },
  {
   "cell_type": "code",
   "execution_count": null,
   "id": "87a944ce-2592-4211-8152-6a69d46ae58a",
   "metadata": {},
   "outputs": [],
   "source": [
    "fluorecent_fluid_df['date'].value_counts()"
   ]
  },
  {
   "cell_type": "code",
   "execution_count": null,
   "id": "ced2c615-3247-4b0e-8d7e-0da08c0bd5a5",
   "metadata": {},
   "outputs": [],
   "source": [
    "fluorecent_fluid_df['date'].value_counts().plot()"
   ]
  },
  {
   "cell_type": "code",
   "execution_count": null,
   "id": "938c2d5b-e9e8-40b4-acc3-9738a3135daa",
   "metadata": {},
   "outputs": [],
   "source": [
    "fluorecent_fluid_df['time'].value_counts()"
   ]
  },
  {
   "cell_type": "code",
   "execution_count": null,
   "id": "032e13a8-39d9-4068-af4c-b1e49c4001fb",
   "metadata": {},
   "outputs": [],
   "source": [
    "fluorecent_fluid_df['time'].value_counts().plot()"
   ]
  },
  {
   "cell_type": "code",
   "execution_count": null,
   "id": "a2a11d81-603e-40a4-994c-5c7d32a28d36",
   "metadata": {},
   "outputs": [],
   "source": [
    "time_plot=pd.DataFrame(fluorecent_fluid_df['time'].value_counts())\n",
    "time_plot.info()"
   ]
  },
  {
   "cell_type": "code",
   "execution_count": null,
   "id": "fae4bf94-ca74-447c-a565-93f5b0d1e9e1",
   "metadata": {},
   "outputs": [],
   "source": [
    "time_plot"
   ]
  },
  {
   "cell_type": "code",
   "execution_count": null,
   "id": "a06d023f-7a56-45f8-9b07-902c3ed17f78",
   "metadata": {},
   "outputs": [],
   "source": [
    "xtick=[str(d) for d in time_plot.index]\n",
    "y=time_plot['count']\n",
    "plt.plot()"
   ]
  },
  {
   "cell_type": "code",
   "execution_count": null,
   "id": "1ab78b7d-a840-4f1c-a249-bcd90c63b917",
   "metadata": {},
   "outputs": [],
   "source": [
    "time_plot.sort_values(0,inplace=True)\n",
    "time_plot.reset_index(drop=True)\n",
    "time_plot[0]=time_plot[0].astype(str)"
   ]
  },
  {
   "cell_type": "code",
   "execution_count": null,
   "id": "858efcf1-98bb-4c5d-841b-9b7318202fef",
   "metadata": {},
   "outputs": [],
   "source": [
    "time_plot"
   ]
  },
  {
   "cell_type": "code",
   "execution_count": null,
   "id": "f91061ae-7580-41d6-961f-b0058ceeb634",
   "metadata": {},
   "outputs": [],
   "source": [
    "y.info()"
   ]
  },
  {
   "cell_type": "code",
   "execution_count": null,
   "id": "700f51b7-ba2c-4783-b260-b03916329cf1",
   "metadata": {},
   "outputs": [],
   "source": [
    "time_plot.plot()"
   ]
  },
  {
   "cell_type": "markdown",
   "id": "972a1814-c34e-4fa7-84bc-095502a6b32a",
   "metadata": {},
   "source": [
    "### Find the auction(s) the lasted the longest"
   ]
  },
  {
   "cell_type": "markdown",
   "id": "02c2deb3-8b16-40b4-b424-4a81280aed0d",
   "metadata": {},
   "source": [
    "### (Waste of 2 hrs to process, same results as 20 sec value_counts())"
   ]
  },
  {
   "cell_type": "code",
   "execution_count": null,
   "id": "b00b8cf0-f489-4b89-9d3b-e8162db3aa75",
   "metadata": {},
   "outputs": [],
   "source": [
    "# get the auction(s) that was live the longest\n",
    "# max=0\n",
    "# id_max=0\n",
    "# max_ids=[]\n",
    "# for id in fluorecent_fluid_df['id'].unique():\n",
    "#     display(id)\n",
    "#     days=fluorecent_fluid_df['date'].loc[fluorecent_fluid_df['id']==id]\n",
    "#     if len(list(set(days)))>max:\n",
    "#         max=len(list(set(days)))\n",
    "#         id_max=id\n",
    "#     if len(list(set(days)))==max:\n",
    "#         max_ids.append(id)\n",
    "#         display(f\"id:{id} max with :{max}\")\n",
    "# display(id_max, max)"
   ]
  },
  {
   "cell_type": "code",
   "execution_count": null,
   "id": "995fc66d-977b-4531-8373-da357b6451e7",
   "metadata": {},
   "outputs": [],
   "source": [
    "fluorecent_fluid_df.sort_values(['date','time'], ascending=[True,True])\n",
    "fluorecent_fluid_df.head(30)"
   ]
  },
  {
   "cell_type": "code",
   "execution_count": null,
   "id": "ace5172b-c3d0-42d8-a6ea-348fbe0cacc3",
   "metadata": {},
   "outputs": [],
   "source": [
    "fluorecent_fluid_df.tail()"
   ]
  },
  {
   "cell_type": "code",
   "execution_count": null,
   "id": "c711d837-64e9-40ae-b936-02b4775af32f",
   "metadata": {},
   "outputs": [],
   "source": [
    "fluorecent_fluid_df.loc[fluorecent_fluid_df['id']==max_ids[0]].shape"
   ]
  },
  {
   "cell_type": "code",
   "execution_count": null,
   "id": "7edbef14-2a3c-49f1-a5eb-bf8c1d10ccc7",
   "metadata": {},
   "outputs": [],
   "source": [
    "from random import sample\n",
    "list=sample(max_ids,int(len(max_ids)/100))\n",
    "for i in list:\n",
    "    print(i, fluorecent_fluid_df.loc[fluorecent_fluid_df['id']==i].shape)\n"
   ]
  },
  {
   "cell_type": "code",
   "execution_count": null,
   "id": "7d7f12dd-53f2-4744-b9a4-e5bed182e549",
   "metadata": {},
   "outputs": [],
   "source": [
    "Exceptional_Pelt_df=Blizzard_Commodities_DF.loc[Blizzard_Commodities_DF['item.name']=='Exceptional Pelt']"
   ]
  },
  {
   "cell_type": "code",
   "execution_count": null,
   "id": "a41ed4bc-8118-48e2-b233-cef51d2121e6",
   "metadata": {},
   "outputs": [],
   "source": [
    "Exceptional_Pelt_df.to_csv('Exceptional_Pelt.csv',index=False)"
   ]
  },
  {
   "cell_type": "markdown",
   "id": "d5599729-5bb4-4582-a0f8-9d25a49c1ddf",
   "metadata": {},
   "source": [
    "## Group DF by item.name"
   ]
  },
  {
   "cell_type": "code",
   "execution_count": null,
   "id": "a161a3a9-8a8a-4960-9955-656f197d6101",
   "metadata": {},
   "outputs": [],
   "source": [
    "Blizzard_Commodities_DF.info()"
   ]
  },
  {
   "cell_type": "code",
   "execution_count": null,
   "id": "01e32fda-6cec-4a5e-b237-dbe028fba556",
   "metadata": {},
   "outputs": [],
   "source": [
    "now=datetime.now()\n",
    "# grouped_DF=Blizzard_Commodities_DF['id','quantity','unit_price','item.name'].groupby('item.name').sum()\n",
    "grouped_DF=Blizzard_Commodities_DF[['id','quantity','unit_price','item.name']]\n",
    "print(F\"Time elapsed {datetime.now()-now}\")"
   ]
  },
  {
   "cell_type": "code",
   "execution_count": null,
   "id": "711ec950-47f9-48db-8ce0-f6bdecc04f2c",
   "metadata": {},
   "outputs": [],
   "source": [
    "grouped_DF"
   ]
  },
  {
   "cell_type": "code",
   "execution_count": null,
   "id": "fbc4dd35-b70d-4910-b3a7-b51e1a50d184",
   "metadata": {},
   "outputs": [],
   "source": [
    "start=datetime.now()\n",
    "print(f\"({start}) Export item.name and (price, quantity) columns ...\")"
   ]
  },
  {
   "cell_type": "code",
   "execution_count": null,
   "id": "e2aa3892-092a-41a8-80a4-08301f43dc83",
   "metadata": {},
   "outputs": [],
   "source": [
    "# grouped_DF=Blizzard_Commodities_DF[['id','quantity','unit_price','item.name']].groupby('item.name').sum()\n",
    "name_price_df=Blizzard_Commodities_DF[['item.name','unit_price']]\n",
    "name_quantity_df=Blizzard_Commodities_DF[['item.name','quantity']]\n",
    "print(F\"Time elapsed {datetime.now()-start}\")"
   ]
  },
  {
   "cell_type": "code",
   "execution_count": null,
   "id": "ab92d813-3a76-4e0a-9225-5170ed7846ca",
   "metadata": {},
   "outputs": [],
   "source": [
    "start=datetime.now()\n",
    "print(f\"({start}) Groupping by item.name and summing quantity and unit_price columns ...\")"
   ]
  },
  {
   "cell_type": "code",
   "execution_count": null,
   "id": "31af9653-9d5d-4972-844b-3044328b18d2",
   "metadata": {},
   "outputs": [],
   "source": [
    "datetime.now()\n",
    "grouped_DF"
   ]
  },
  {
   "cell_type": "code",
   "execution_count": null,
   "id": "c5e703e8-f6c4-46e7-ba14-24956c9031fb",
   "metadata": {},
   "outputs": [],
   "source": [
    "start=datetime.now()\n",
    "print(f\"({start}) Grupping by item.name and summing quantity and unit_price columns ...\")"
   ]
  },
  {
   "cell_type": "code",
   "execution_count": null,
   "id": "c41d0045-af12-481a-954d-77d76612ed4a",
   "metadata": {},
   "outputs": [],
   "source": [
    "name_price_df.sum()"
   ]
  },
  {
   "cell_type": "code",
   "execution_count": null,
   "id": "2376a5e6-8b46-4d8a-9969-bd2d7ef8d240",
   "metadata": {},
   "outputs": [],
   "source": [
    "import gc"
   ]
  },
  {
   "cell_type": "code",
   "execution_count": null,
   "id": "e7486725-3510-4582-b26e-00903706a611",
   "metadata": {},
   "outputs": [],
   "source": [
    "del Blizzard_Commodities_DF"
   ]
  },
  {
   "cell_type": "code",
   "execution_count": null,
   "id": "e19e61fd-b4b4-4083-9fe8-e9e2f8b1d987",
   "metadata": {},
   "outputs": [],
   "source": [
    "gc.collect()"
   ]
  },
  {
   "cell_type": "code",
   "execution_count": null,
   "id": "8e1eaf46-3fa3-407b-a7f4-6e09f5b57cd8",
   "metadata": {},
   "outputs": [],
   "source": [
    "blizzard_1_df=pd.read_csv('blizzard_2.csv')\n",
    "blizzard_1_df"
   ]
  },
  {
   "cell_type": "code",
   "execution_count": null,
   "id": "107a3cf7-2074-42fd-b040-0473db896feb",
   "metadata": {},
   "outputs": [],
   "source": [
    "blizzard_1_df.columns"
   ]
  },
  {
   "cell_type": "code",
   "execution_count": null,
   "id": "f481385c-3743-4112-9a51-e70a03fa6f08",
   "metadata": {},
   "outputs": [],
   "source": [
    "blizzard_1_df.drop(columns=['Unnamed: 0', 'time_left', 'item.id',\n",
    "       'id', 'item.class', 'datetime', 'date', 'time'],axis=1,inplace=True)"
   ]
  },
  {
   "cell_type": "code",
   "execution_count": null,
   "id": "413f6e51-fc2c-4c9d-a57b-4796a9527dd0",
   "metadata": {},
   "outputs": [],
   "source": [
    "blizzard_1_df.columns"
   ]
  },
  {
   "cell_type": "code",
   "execution_count": null,
   "id": "064153ad-a37a-4f87-bffa-9f930638af22",
   "metadata": {},
   "outputs": [],
   "source": [
    "now=datetime.now()\n",
    "now"
   ]
  },
  {
   "cell_type": "code",
   "execution_count": null,
   "id": "4048c543-6d02-4c2a-a0fd-09b4feaaabe4",
   "metadata": {},
   "outputs": [],
   "source": [
    "numeric_columns_df=Blizzard_Commodities_DF[['quantity', 'unit_price', 'item.name']]"
   ]
  },
  {
   "cell_type": "code",
   "execution_count": null,
   "id": "0af31544-e18b-4b9f-9f84-e6126ce062f4",
   "metadata": {},
   "outputs": [],
   "source": [
    "groupby_df=numeric_columns_df.groupby('item.name').sum()"
   ]
  },
  {
   "cell_type": "code",
   "execution_count": null,
   "id": "03c10755-d296-45d2-9262-a18bb3e3aec6",
   "metadata": {},
   "outputs": [],
   "source": [
    "numeric_columns_df"
   ]
  },
  {
   "cell_type": "code",
   "execution_count": null,
   "id": "e3afef49-7181-4019-96da-65c370a9deca",
   "metadata": {},
   "outputs": [],
   "source": [
    "groupby_df"
   ]
  },
  {
   "cell_type": "code",
   "execution_count": null,
   "id": "b9337981-37b5-4408-a144-aea1a5e2ad89",
   "metadata": {},
   "outputs": [],
   "source": [
    "groupby_df['average_price']=groupby_df['unit_price']/groupby_df['quantity']"
   ]
  },
  {
   "cell_type": "code",
   "execution_count": null,
   "id": "3f4a862b-2be3-451d-8006-4e74d5a5441d",
   "metadata": {},
   "outputs": [],
   "source": [
    "groupby_df['price_mode']=statistics.mode(groupby_df['unit_price'])"
   ]
  },
  {
   "cell_type": "code",
   "execution_count": null,
   "id": "2f9213fd-0652-4870-b811-8d3ec09d769c",
   "metadata": {},
   "outputs": [],
   "source": [
    "groupby_df.iloc[0]"
   ]
  },
  {
   "cell_type": "code",
   "execution_count": null,
   "id": "b3866d5f-c721-429d-9ae3-121aa2ff9920",
   "metadata": {},
   "outputs": [],
   "source": [
    "groupby_df.reset_index(inplace=True)"
   ]
  },
  {
   "cell_type": "code",
   "execution_count": null,
   "id": "9674dcf6-ff6a-4988-ab9b-5c43cf4c960e",
   "metadata": {},
   "outputs": [],
   "source": [
    "groupby_df.sort_values('unit_price')"
   ]
  },
  {
   "cell_type": "code",
   "execution_count": null,
   "id": "0d9d2e09-cb5a-4877-bdba-652c2f0f1257",
   "metadata": {},
   "outputs": [],
   "source": []
  }
 ],
 "metadata": {
  "kernelspec": {
   "display_name": "Python 3 (ipykernel)",
   "language": "python",
   "name": "python3"
  },
  "language_info": {
   "codemirror_mode": {
    "name": "ipython",
    "version": 3
   },
   "file_extension": ".py",
   "mimetype": "text/x-python",
   "name": "python",
   "nbconvert_exporter": "python",
   "pygments_lexer": "ipython3",
   "version": "3.11.5"
  }
 },
 "nbformat": 4,
 "nbformat_minor": 5
}
