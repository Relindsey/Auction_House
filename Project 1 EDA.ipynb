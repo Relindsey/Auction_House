{
 "cells": [
  {
   "cell_type": "markdown",
   "id": "b8b02b2a-98c3-4792-9222-a29f896419aa",
   "metadata": {},
   "source": [
    "# Blizzard Commodities DataFrame (79+M rows)"
   ]
  },
  {
   "cell_type": "markdown",
   "id": "424a4938-d1fd-4d03-90eb-8d3c34a67df7",
   "metadata": {},
   "source": [
    "## Data pulled hourly between 2023-12-22 19:41:00 and 2024-01-03 12:41:00"
   ]
  },
  {
   "cell_type": "markdown",
   "id": "d5faed0a-1266-494a-b19b-79e55451babe",
   "metadata": {},
   "source": [
    "## Imports Section"
   ]
  },
  {
   "cell_type": "code",
   "execution_count": 2,
   "id": "a80294a2-5451-40e5-84e1-726fbafe4e3b",
   "metadata": {},
   "outputs": [],
   "source": [
    "from datetime import datetime\n",
    "import pandas as pd\n",
    "import matplotlib.pyplot as plt\n",
    "import matplotlib as mpl\n",
    "import json\n",
    "import os\n",
    "import numpy as np\n",
    "import statistics\n",
    "import ctypes\n",
    "from datetime import datetime\n",
    "from random import sample"
   ]
  },
  {
   "cell_type": "markdown",
   "id": "ccce9cbb-d833-49e2-b389-23e078ca1b0a",
   "metadata": {},
   "source": [
    "## Open csv / Load to DF"
   ]
  },
  {
   "cell_type": "code",
   "execution_count": 3,
   "id": "0a879a47-a003-46c3-9e24-3ea98d39babf",
   "metadata": {},
   "outputs": [
    {
     "data": {
      "text/plain": [
       "'(2024-01-10 09:25:34.300613) Loading csv file ...'"
      ]
     },
     "metadata": {},
     "output_type": "display_data"
    },
    {
     "data": {
      "text/plain": [
       "'(Time to load : 0:01:01.205907'"
      ]
     },
     "metadata": {},
     "output_type": "display_data"
    }
   ],
   "source": [
    "start=datetime.now()\n",
    "display(f\"({start}) Loading csv file ...\")\n",
    "Blizzard_Commodities_DF=pd.read_csv('commodities_data.csv')\n",
    "Blizzard_Commodities_DF.shape\n",
    "display(f\"(Time to load : {datetime.now()-start}\")"
   ]
  },
  {
   "cell_type": "markdown",
   "id": "d2502d22-f572-4e40-a3db-756597fd49e8",
   "metadata": {},
   "source": [
    "## Find na/NaN values"
   ]
  },
  {
   "cell_type": "code",
   "execution_count": 3,
   "id": "c37c7dd5-93ff-416a-847b-f5fe43af791c",
   "metadata": {},
   "outputs": [
    {
     "data": {
      "text/plain": [
       "id            0\n",
       "quantity      0\n",
       "unit_price    0\n",
       "time_left     0\n",
       "item.id       0\n",
       "item.name     0\n",
       "item.class    0\n",
       "datetime      0\n",
       "dtype: int64"
      ]
     },
     "execution_count": 3,
     "metadata": {},
     "output_type": "execute_result"
    }
   ],
   "source": [
    "Blizzard_Commodities_DF.isna().sum()"
   ]
  },
  {
   "cell_type": "markdown",
   "id": "351eb90c-081d-46d3-a6e3-fa8f60a4ea0a",
   "metadata": {},
   "source": [
    "## DF Structure (Review/Correct)"
   ]
  },
  {
   "cell_type": "code",
   "execution_count": 4,
   "id": "a0822f73-0fd7-49ac-8a44-d33963bc19ad",
   "metadata": {},
   "outputs": [
    {
     "name": "stdout",
     "output_type": "stream",
     "text": [
      "<class 'pandas.core.frame.DataFrame'>\n",
      "RangeIndex: 79852830 entries, 0 to 79852829\n",
      "Data columns (total 8 columns):\n",
      " #   Column      Dtype \n",
      "---  ------      ----- \n",
      " 0   id          int64 \n",
      " 1   quantity    int64 \n",
      " 2   unit_price  int64 \n",
      " 3   time_left   object\n",
      " 4   item.id     int64 \n",
      " 5   item.name   object\n",
      " 6   item.class  object\n",
      " 7   datetime    object\n",
      "dtypes: int64(4), object(4)\n",
      "memory usage: 4.8+ GB\n"
     ]
    }
   ],
   "source": [
    "Blizzard_Commodities_DF.info()"
   ]
  },
  {
   "cell_type": "code",
   "execution_count": 5,
   "id": "7b8e4d4d-810d-45f9-b43c-6c59638c5aae",
   "metadata": {},
   "outputs": [],
   "source": [
    "start=datetime.now()"
   ]
  },
  {
   "cell_type": "code",
   "execution_count": 6,
   "id": "317fb149-c82d-450b-92c4-1833a13901a9",
   "metadata": {},
   "outputs": [],
   "source": [
    "# Change datedime columns to datetime\n",
    "Blizzard_Commodities_DF['datetime'] = pd.to_datetime(Blizzard_Commodities_DF['datetime'])"
   ]
  },
  {
   "cell_type": "code",
   "execution_count": 7,
   "id": "a2c61c33-8891-4b80-8433-83f31bf2aa18",
   "metadata": {},
   "outputs": [
    {
     "data": {
      "text/plain": [
       "'(2024-01-08 19:31:10.686598) Re-Casting id columns ...'"
      ]
     },
     "metadata": {},
     "output_type": "display_data"
    },
    {
     "data": {
      "text/plain": [
       "'(Time to cast : 0:00:52.063704'"
      ]
     },
     "metadata": {},
     "output_type": "display_data"
    }
   ],
   "source": [
    "# Change id columns to string\n",
    "display(f\"({start}) Re-Casting id columns ...\")\n",
    "Blizzard_Commodities_DF['id']=Blizzard_Commodities_DF['id'].astype(str)\n",
    "Blizzard_Commodities_DF['item.id']=Blizzard_Commodities_DF['item.id'].astype(str)\n",
    "display(f\"(Time to cast : {datetime.now()-start}\")"
   ]
  },
  {
   "cell_type": "code",
   "execution_count": 7,
   "id": "de454d9e-14d2-41f8-a83e-a609dd4b6602",
   "metadata": {},
   "outputs": [
    {
     "name": "stdout",
     "output_type": "stream",
     "text": [
      "<class 'pandas.core.frame.DataFrame'>\n",
      "RangeIndex: 79852830 entries, 0 to 79852829\n",
      "Data columns (total 8 columns):\n",
      " #   Column      Dtype         \n",
      "---  ------      -----         \n",
      " 0   id          object        \n",
      " 1   quantity    int64         \n",
      " 2   unit_price  int64         \n",
      " 3   time_left   object        \n",
      " 4   item.id     object        \n",
      " 5   item.name   object        \n",
      " 6   item.class  object        \n",
      " 7   datetime    datetime64[ns]\n",
      "dtypes: datetime64[ns](1), int64(2), object(5)\n",
      "memory usage: 4.8+ GB\n"
     ]
    }
   ],
   "source": [
    "# Verifiy change\n",
    "Blizzard_Commodities_DF.info()"
   ]
  },
  {
   "cell_type": "markdown",
   "id": "1afcb6e1-c8d6-4c63-b86d-72659f089259",
   "metadata": {},
   "source": [
    "## Data Overview"
   ]
  },
  {
   "cell_type": "code",
   "execution_count": 8,
   "id": "266f65f4-0e2b-4963-a71e-4fa2d7d6b3b2",
   "metadata": {},
   "outputs": [
    {
     "data": {
      "text/html": [
       "<div>\n",
       "<style scoped>\n",
       "    .dataframe tbody tr th:only-of-type {\n",
       "        vertical-align: middle;\n",
       "    }\n",
       "\n",
       "    .dataframe tbody tr th {\n",
       "        vertical-align: top;\n",
       "    }\n",
       "\n",
       "    .dataframe thead th {\n",
       "        text-align: right;\n",
       "    }\n",
       "</style>\n",
       "<table border=\"1\" class=\"dataframe\">\n",
       "  <thead>\n",
       "    <tr style=\"text-align: right;\">\n",
       "      <th></th>\n",
       "      <th>id</th>\n",
       "      <th>quantity</th>\n",
       "      <th>unit_price</th>\n",
       "      <th>time_left</th>\n",
       "      <th>item.id</th>\n",
       "      <th>item.name</th>\n",
       "      <th>item.class</th>\n",
       "      <th>datetime</th>\n",
       "    </tr>\n",
       "  </thead>\n",
       "  <tbody>\n",
       "    <tr>\n",
       "      <th>0</th>\n",
       "      <td>1899749198</td>\n",
       "      <td>15</td>\n",
       "      <td>109400</td>\n",
       "      <td>SHORT</td>\n",
       "      <td>184090</td>\n",
       "      <td>Potion of the Psychopomp's Speed</td>\n",
       "      <td>Consumables</td>\n",
       "      <td>2023-12-28 15:41:00</td>\n",
       "    </tr>\n",
       "    <tr>\n",
       "      <th>1</th>\n",
       "      <td>1899749311</td>\n",
       "      <td>1</td>\n",
       "      <td>2000</td>\n",
       "      <td>SHORT</td>\n",
       "      <td>168650</td>\n",
       "      <td>Cragscale</td>\n",
       "      <td>Trade Goods</td>\n",
       "      <td>2023-12-28 15:41:00</td>\n",
       "    </tr>\n",
       "    <tr>\n",
       "      <th>2</th>\n",
       "      <td>1899749353</td>\n",
       "      <td>6</td>\n",
       "      <td>2400</td>\n",
       "      <td>SHORT</td>\n",
       "      <td>152576</td>\n",
       "      <td>Tidespray Linen</td>\n",
       "      <td>Trade Goods</td>\n",
       "      <td>2023-12-28 15:41:00</td>\n",
       "    </tr>\n",
       "    <tr>\n",
       "      <th>3</th>\n",
       "      <td>1899749415</td>\n",
       "      <td>2</td>\n",
       "      <td>290200</td>\n",
       "      <td>SHORT</td>\n",
       "      <td>76885</td>\n",
       "      <td>Burning Primal Diamond</td>\n",
       "      <td>Gems</td>\n",
       "      <td>2023-12-28 15:41:00</td>\n",
       "    </tr>\n",
       "    <tr>\n",
       "      <th>4</th>\n",
       "      <td>1899749701</td>\n",
       "      <td>1</td>\n",
       "      <td>9707000</td>\n",
       "      <td>SHORT</td>\n",
       "      <td>139362</td>\n",
       "      <td>Glyph of Mana Touched Souls</td>\n",
       "      <td>Glyphs</td>\n",
       "      <td>2023-12-28 15:41:00</td>\n",
       "    </tr>\n",
       "    <tr>\n",
       "      <th>...</th>\n",
       "      <td>...</td>\n",
       "      <td>...</td>\n",
       "      <td>...</td>\n",
       "      <td>...</td>\n",
       "      <td>...</td>\n",
       "      <td>...</td>\n",
       "      <td>...</td>\n",
       "      <td>...</td>\n",
       "    </tr>\n",
       "    <tr>\n",
       "      <th>79852825</th>\n",
       "      <td>1910242848</td>\n",
       "      <td>12</td>\n",
       "      <td>25200</td>\n",
       "      <td>VERY_LONG</td>\n",
       "      <td>197755</td>\n",
       "      <td>Lava Beetle</td>\n",
       "      <td>Trade Goods</td>\n",
       "      <td>2023-12-29 00:41:00</td>\n",
       "    </tr>\n",
       "    <tr>\n",
       "      <th>79852826</th>\n",
       "      <td>1910242860</td>\n",
       "      <td>3</td>\n",
       "      <td>30600</td>\n",
       "      <td>VERY_LONG</td>\n",
       "      <td>191465</td>\n",
       "      <td>Saxifrage</td>\n",
       "      <td>Trade Goods</td>\n",
       "      <td>2023-12-29 00:41:00</td>\n",
       "    </tr>\n",
       "    <tr>\n",
       "      <th>79852827</th>\n",
       "      <td>1910242862</td>\n",
       "      <td>3</td>\n",
       "      <td>1500000</td>\n",
       "      <td>VERY_LONG</td>\n",
       "      <td>193227</td>\n",
       "      <td>Stonecrust Hide</td>\n",
       "      <td>Trade Goods</td>\n",
       "      <td>2023-12-29 00:41:00</td>\n",
       "    </tr>\n",
       "    <tr>\n",
       "      <th>79852828</th>\n",
       "      <td>1910242863</td>\n",
       "      <td>2</td>\n",
       "      <td>25200</td>\n",
       "      <td>VERY_LONG</td>\n",
       "      <td>197755</td>\n",
       "      <td>Lava Beetle</td>\n",
       "      <td>Trade Goods</td>\n",
       "      <td>2023-12-29 00:41:00</td>\n",
       "    </tr>\n",
       "    <tr>\n",
       "      <th>79852829</th>\n",
       "      <td>1910242868</td>\n",
       "      <td>319</td>\n",
       "      <td>19500</td>\n",
       "      <td>VERY_LONG</td>\n",
       "      <td>194966</td>\n",
       "      <td>Thousandbite Piranha</td>\n",
       "      <td>Trade Goods</td>\n",
       "      <td>2023-12-29 00:41:00</td>\n",
       "    </tr>\n",
       "  </tbody>\n",
       "</table>\n",
       "<p>79852830 rows × 8 columns</p>\n",
       "</div>"
      ],
      "text/plain": [
       "                  id  quantity  unit_price  time_left item.id  \\\n",
       "0         1899749198        15      109400      SHORT  184090   \n",
       "1         1899749311         1        2000      SHORT  168650   \n",
       "2         1899749353         6        2400      SHORT  152576   \n",
       "3         1899749415         2      290200      SHORT   76885   \n",
       "4         1899749701         1     9707000      SHORT  139362   \n",
       "...              ...       ...         ...        ...     ...   \n",
       "79852825  1910242848        12       25200  VERY_LONG  197755   \n",
       "79852826  1910242860         3       30600  VERY_LONG  191465   \n",
       "79852827  1910242862         3     1500000  VERY_LONG  193227   \n",
       "79852828  1910242863         2       25200  VERY_LONG  197755   \n",
       "79852829  1910242868       319       19500  VERY_LONG  194966   \n",
       "\n",
       "                                 item.name   item.class            datetime  \n",
       "0         Potion of the Psychopomp's Speed  Consumables 2023-12-28 15:41:00  \n",
       "1                                Cragscale  Trade Goods 2023-12-28 15:41:00  \n",
       "2                          Tidespray Linen  Trade Goods 2023-12-28 15:41:00  \n",
       "3                   Burning Primal Diamond         Gems 2023-12-28 15:41:00  \n",
       "4              Glyph of Mana Touched Souls       Glyphs 2023-12-28 15:41:00  \n",
       "...                                    ...          ...                 ...  \n",
       "79852825                       Lava Beetle  Trade Goods 2023-12-29 00:41:00  \n",
       "79852826                         Saxifrage  Trade Goods 2023-12-29 00:41:00  \n",
       "79852827                   Stonecrust Hide  Trade Goods 2023-12-29 00:41:00  \n",
       "79852828                       Lava Beetle  Trade Goods 2023-12-29 00:41:00  \n",
       "79852829              Thousandbite Piranha  Trade Goods 2023-12-29 00:41:00  \n",
       "\n",
       "[79852830 rows x 8 columns]"
      ]
     },
     "execution_count": 8,
     "metadata": {},
     "output_type": "execute_result"
    }
   ],
   "source": [
    "Blizzard_Commodities_DF"
   ]
  },
  {
   "cell_type": "markdown",
   "id": "4609fad6-fbc5-4420-a694-081662146f83",
   "metadata": {},
   "source": [
    "### Initial Value Analisys by Column"
   ]
  },
  {
   "cell_type": "markdown",
   "id": "7d409f73-0d14-48dc-93ff-298cd1254d8c",
   "metadata": {},
   "source": [
    "- id"
   ]
  },
  {
   "cell_type": "code",
   "execution_count": 9,
   "id": "9fa3a2bc-894b-4553-b8d8-b2d4f53497ce",
   "metadata": {},
   "outputs": [
    {
     "data": {
      "text/plain": [
       "id\n",
       "1892309585    50\n",
       "1920662957    50\n",
       "1920664843    50\n",
       "1920664735    50\n",
       "1892307074    50\n",
       "              ..\n",
       "1918269591     1\n",
       "1918269568     1\n",
       "1918269565     1\n",
       "1918269561     1\n",
       "1910242863     1\n",
       "Name: count, Length: 6964297, dtype: int64"
      ]
     },
     "execution_count": 9,
     "metadata": {},
     "output_type": "execute_result"
    }
   ],
   "source": [
    "Blizzard_Commodities_DF['id'].value_counts()"
   ]
  },
  {
   "cell_type": "markdown",
   "id": "12e99ded-203e-4ddc-8ac3-e89d3b0c3428",
   "metadata": {},
   "source": [
    "- id .. from this we can tell auctions last no more than 50 hrs, a bit over 2 days."
   ]
  },
  {
   "cell_type": "code",
   "execution_count": 10,
   "id": "28c9bde9-ab47-4f9b-838e-4cf4aec6f2c7",
   "metadata": {},
   "outputs": [
    {
     "data": {
      "text/plain": [
       "<Axes: xlabel='id'>"
      ]
     },
     "execution_count": 10,
     "metadata": {},
     "output_type": "execute_result"
    },
    {
     "data": {
      "image/png": "[encoded data removed]",
      "text/plain": [
       "<Figure size 640x480 with 1 Axes>"
      ]
     },
     "metadata": {},
     "output_type": "display_data"
    }
   ],
   "source": [
    "Blizzard_Commodities_DF['id'].value_counts().plot()"
   ]
  },
  {
   "cell_type": "code",
   "execution_count": 5,
   "id": "d580c55f",
   "metadata": {},
   "outputs": [
    {
     "data": {
      "text/plain": [
       "43.63794364312723"
      ]
     },
     "execution_count": 5,
     "metadata": {},
     "output_type": "execute_result"
    }
   ],
   "source": [
    "auction_id_cc=pd.DataFrame(Blizzard_Commodities_DF['id'].value_counts().value_counts())\n",
    "auction_id_cc.rename(columns={'count':\"repetitions\"}, inplace=True)\n",
    "auction_id_cc.reset_index(inplace=True)\n",
    "auction_id_cc.sort_values('count',inplace=True)\n",
    "auction_id_cc.reset_index(drop=True,inplace=True)\n",
    "auction_id_cc['percentage']=(auction_id_cc['repetitions']/6964297)*100\n",
    "auction_id_cc['percentage'].iloc[0:2].sum()"
   ]
  },
  {
   "cell_type": "code",
   "execution_count": 251,
   "id": "750b3c1d",
   "metadata": {},
   "outputs": [
    {
     "data": {
      "text/plain": [
       "8.800443174666444"
      ]
     },
     "execution_count": 251,
     "metadata": {},
     "output_type": "execute_result"
    }
   ],
   "source": [
    "auction_id_cc['percentage'].iloc[11]"
   ]
  },
  {
   "cell_type": "code",
   "execution_count": 6,
   "id": "61e2fd8a",
   "metadata": {},
   "outputs": [
    {
     "data": {
      "text/html": [
       "<div>\n",
       "<style scoped>\n",
       "    .dataframe tbody tr th:only-of-type {\n",
       "        vertical-align: middle;\n",
       "    }\n",
       "\n",
       "    .dataframe tbody tr th {\n",
       "        vertical-align: top;\n",
       "    }\n",
       "\n",
       "    .dataframe thead th {\n",
       "        text-align: right;\n",
       "    }\n",
       "</style>\n",
       "<table border=\"1\" class=\"dataframe\">\n",
       "  <thead>\n",
       "    <tr style=\"text-align: right;\">\n",
       "      <th></th>\n",
       "      <th>count</th>\n",
       "      <th>repetitions</th>\n",
       "      <th>percentage</th>\n",
       "    </tr>\n",
       "  </thead>\n",
       "  <tbody>\n",
       "    <tr>\n",
       "      <th>0</th>\n",
       "      <td>1</td>\n",
       "      <td>2109005</td>\n",
       "      <td>30.283100</td>\n",
       "    </tr>\n",
       "    <tr>\n",
       "      <th>1</th>\n",
       "      <td>2</td>\n",
       "      <td>930071</td>\n",
       "      <td>13.354844</td>\n",
       "    </tr>\n",
       "    <tr>\n",
       "      <th>2</th>\n",
       "      <td>3</td>\n",
       "      <td>364507</td>\n",
       "      <td>5.233938</td>\n",
       "    </tr>\n",
       "    <tr>\n",
       "      <th>3</th>\n",
       "      <td>4</td>\n",
       "      <td>231023</td>\n",
       "      <td>3.317248</td>\n",
       "    </tr>\n",
       "    <tr>\n",
       "      <th>4</th>\n",
       "      <td>5</td>\n",
       "      <td>172418</td>\n",
       "      <td>2.475742</td>\n",
       "    </tr>\n",
       "    <tr>\n",
       "      <th>5</th>\n",
       "      <td>6</td>\n",
       "      <td>138057</td>\n",
       "      <td>1.982354</td>\n",
       "    </tr>\n",
       "    <tr>\n",
       "      <th>6</th>\n",
       "      <td>7</td>\n",
       "      <td>119175</td>\n",
       "      <td>1.711228</td>\n",
       "    </tr>\n",
       "    <tr>\n",
       "      <th>7</th>\n",
       "      <td>8</td>\n",
       "      <td>103680</td>\n",
       "      <td>1.488736</td>\n",
       "    </tr>\n",
       "    <tr>\n",
       "      <th>8</th>\n",
       "      <td>9</td>\n",
       "      <td>95134</td>\n",
       "      <td>1.366024</td>\n",
       "    </tr>\n",
       "    <tr>\n",
       "      <th>9</th>\n",
       "      <td>10</td>\n",
       "      <td>87794</td>\n",
       "      <td>1.260630</td>\n",
       "    </tr>\n",
       "    <tr>\n",
       "      <th>10</th>\n",
       "      <td>11</td>\n",
       "      <td>109887</td>\n",
       "      <td>1.577862</td>\n",
       "    </tr>\n",
       "    <tr>\n",
       "      <th>11</th>\n",
       "      <td>12</td>\n",
       "      <td>612889</td>\n",
       "      <td>8.800443</td>\n",
       "    </tr>\n",
       "    <tr>\n",
       "      <th>12</th>\n",
       "      <td>13</td>\n",
       "      <td>66944</td>\n",
       "      <td>0.961246</td>\n",
       "    </tr>\n",
       "    <tr>\n",
       "      <th>13</th>\n",
       "      <td>14</td>\n",
       "      <td>48638</td>\n",
       "      <td>0.698391</td>\n",
       "    </tr>\n",
       "    <tr>\n",
       "      <th>14</th>\n",
       "      <td>15</td>\n",
       "      <td>43846</td>\n",
       "      <td>0.629583</td>\n",
       "    </tr>\n",
       "    <tr>\n",
       "      <th>15</th>\n",
       "      <td>16</td>\n",
       "      <td>43304</td>\n",
       "      <td>0.621800</td>\n",
       "    </tr>\n",
       "    <tr>\n",
       "      <th>16</th>\n",
       "      <td>17</td>\n",
       "      <td>39856</td>\n",
       "      <td>0.572290</td>\n",
       "    </tr>\n",
       "    <tr>\n",
       "      <th>17</th>\n",
       "      <td>18</td>\n",
       "      <td>36378</td>\n",
       "      <td>0.522350</td>\n",
       "    </tr>\n",
       "    <tr>\n",
       "      <th>18</th>\n",
       "      <td>19</td>\n",
       "      <td>36150</td>\n",
       "      <td>0.519076</td>\n",
       "    </tr>\n",
       "    <tr>\n",
       "      <th>19</th>\n",
       "      <td>20</td>\n",
       "      <td>34577</td>\n",
       "      <td>0.496489</td>\n",
       "    </tr>\n",
       "    <tr>\n",
       "      <th>20</th>\n",
       "      <td>21</td>\n",
       "      <td>34281</td>\n",
       "      <td>0.492239</td>\n",
       "    </tr>\n",
       "    <tr>\n",
       "      <th>21</th>\n",
       "      <td>22</td>\n",
       "      <td>34809</td>\n",
       "      <td>0.499821</td>\n",
       "    </tr>\n",
       "    <tr>\n",
       "      <th>22</th>\n",
       "      <td>23</td>\n",
       "      <td>80167</td>\n",
       "      <td>1.151114</td>\n",
       "    </tr>\n",
       "    <tr>\n",
       "      <th>23</th>\n",
       "      <td>24</td>\n",
       "      <td>463246</td>\n",
       "      <td>6.651727</td>\n",
       "    </tr>\n",
       "    <tr>\n",
       "      <th>24</th>\n",
       "      <td>25</td>\n",
       "      <td>30380</td>\n",
       "      <td>0.436225</td>\n",
       "    </tr>\n",
       "    <tr>\n",
       "      <th>25</th>\n",
       "      <td>26</td>\n",
       "      <td>19407</td>\n",
       "      <td>0.278664</td>\n",
       "    </tr>\n",
       "    <tr>\n",
       "      <th>26</th>\n",
       "      <td>27</td>\n",
       "      <td>15849</td>\n",
       "      <td>0.227575</td>\n",
       "    </tr>\n",
       "    <tr>\n",
       "      <th>27</th>\n",
       "      <td>28</td>\n",
       "      <td>15099</td>\n",
       "      <td>0.216806</td>\n",
       "    </tr>\n",
       "    <tr>\n",
       "      <th>28</th>\n",
       "      <td>29</td>\n",
       "      <td>14466</td>\n",
       "      <td>0.207717</td>\n",
       "    </tr>\n",
       "    <tr>\n",
       "      <th>29</th>\n",
       "      <td>30</td>\n",
       "      <td>15120</td>\n",
       "      <td>0.217107</td>\n",
       "    </tr>\n",
       "    <tr>\n",
       "      <th>30</th>\n",
       "      <td>31</td>\n",
       "      <td>15871</td>\n",
       "      <td>0.227891</td>\n",
       "    </tr>\n",
       "    <tr>\n",
       "      <th>31</th>\n",
       "      <td>32</td>\n",
       "      <td>13618</td>\n",
       "      <td>0.195540</td>\n",
       "    </tr>\n",
       "    <tr>\n",
       "      <th>32</th>\n",
       "      <td>33</td>\n",
       "      <td>14120</td>\n",
       "      <td>0.202748</td>\n",
       "    </tr>\n",
       "    <tr>\n",
       "      <th>33</th>\n",
       "      <td>34</td>\n",
       "      <td>13820</td>\n",
       "      <td>0.198441</td>\n",
       "    </tr>\n",
       "    <tr>\n",
       "      <th>34</th>\n",
       "      <td>35</td>\n",
       "      <td>14097</td>\n",
       "      <td>0.202418</td>\n",
       "    </tr>\n",
       "    <tr>\n",
       "      <th>35</th>\n",
       "      <td>36</td>\n",
       "      <td>12702</td>\n",
       "      <td>0.182387</td>\n",
       "    </tr>\n",
       "    <tr>\n",
       "      <th>36</th>\n",
       "      <td>37</td>\n",
       "      <td>12515</td>\n",
       "      <td>0.179702</td>\n",
       "    </tr>\n",
       "    <tr>\n",
       "      <th>37</th>\n",
       "      <td>38</td>\n",
       "      <td>12149</td>\n",
       "      <td>0.174447</td>\n",
       "    </tr>\n",
       "    <tr>\n",
       "      <th>38</th>\n",
       "      <td>39</td>\n",
       "      <td>11890</td>\n",
       "      <td>0.170728</td>\n",
       "    </tr>\n",
       "    <tr>\n",
       "      <th>39</th>\n",
       "      <td>40</td>\n",
       "      <td>11680</td>\n",
       "      <td>0.167713</td>\n",
       "    </tr>\n",
       "    <tr>\n",
       "      <th>40</th>\n",
       "      <td>41</td>\n",
       "      <td>10683</td>\n",
       "      <td>0.153397</td>\n",
       "    </tr>\n",
       "    <tr>\n",
       "      <th>41</th>\n",
       "      <td>42</td>\n",
       "      <td>10603</td>\n",
       "      <td>0.152248</td>\n",
       "    </tr>\n",
       "    <tr>\n",
       "      <th>42</th>\n",
       "      <td>43</td>\n",
       "      <td>11060</td>\n",
       "      <td>0.158810</td>\n",
       "    </tr>\n",
       "    <tr>\n",
       "      <th>43</th>\n",
       "      <td>44</td>\n",
       "      <td>11604</td>\n",
       "      <td>0.166621</td>\n",
       "    </tr>\n",
       "    <tr>\n",
       "      <th>44</th>\n",
       "      <td>45</td>\n",
       "      <td>12670</td>\n",
       "      <td>0.181928</td>\n",
       "    </tr>\n",
       "    <tr>\n",
       "      <th>45</th>\n",
       "      <td>46</td>\n",
       "      <td>12599</td>\n",
       "      <td>0.180908</td>\n",
       "    </tr>\n",
       "    <tr>\n",
       "      <th>46</th>\n",
       "      <td>47</td>\n",
       "      <td>130531</td>\n",
       "      <td>1.874288</td>\n",
       "    </tr>\n",
       "    <tr>\n",
       "      <th>47</th>\n",
       "      <td>48</td>\n",
       "      <td>468105</td>\n",
       "      <td>6.721497</td>\n",
       "    </tr>\n",
       "    <tr>\n",
       "      <th>48</th>\n",
       "      <td>49</td>\n",
       "      <td>17684</td>\n",
       "      <td>0.253924</td>\n",
       "    </tr>\n",
       "    <tr>\n",
       "      <th>49</th>\n",
       "      <td>50</td>\n",
       "      <td>139</td>\n",
       "      <td>0.001996</td>\n",
       "    </tr>\n",
       "  </tbody>\n",
       "</table>\n",
       "</div>"
      ],
      "text/plain": [
       "    count  repetitions  percentage\n",
       "0       1      2109005   30.283100\n",
       "1       2       930071   13.354844\n",
       "2       3       364507    5.233938\n",
       "3       4       231023    3.317248\n",
       "4       5       172418    2.475742\n",
       "5       6       138057    1.982354\n",
       "6       7       119175    1.711228\n",
       "7       8       103680    1.488736\n",
       "8       9        95134    1.366024\n",
       "9      10        87794    1.260630\n",
       "10     11       109887    1.577862\n",
       "11     12       612889    8.800443\n",
       "12     13        66944    0.961246\n",
       "13     14        48638    0.698391\n",
       "14     15        43846    0.629583\n",
       "15     16        43304    0.621800\n",
       "16     17        39856    0.572290\n",
       "17     18        36378    0.522350\n",
       "18     19        36150    0.519076\n",
       "19     20        34577    0.496489\n",
       "20     21        34281    0.492239\n",
       "21     22        34809    0.499821\n",
       "22     23        80167    1.151114\n",
       "23     24       463246    6.651727\n",
       "24     25        30380    0.436225\n",
       "25     26        19407    0.278664\n",
       "26     27        15849    0.227575\n",
       "27     28        15099    0.216806\n",
       "28     29        14466    0.207717\n",
       "29     30        15120    0.217107\n",
       "30     31        15871    0.227891\n",
       "31     32        13618    0.195540\n",
       "32     33        14120    0.202748\n",
       "33     34        13820    0.198441\n",
       "34     35        14097    0.202418\n",
       "35     36        12702    0.182387\n",
       "36     37        12515    0.179702\n",
       "37     38        12149    0.174447\n",
       "38     39        11890    0.170728\n",
       "39     40        11680    0.167713\n",
       "40     41        10683    0.153397\n",
       "41     42        10603    0.152248\n",
       "42     43        11060    0.158810\n",
       "43     44        11604    0.166621\n",
       "44     45        12670    0.181928\n",
       "45     46        12599    0.180908\n",
       "46     47       130531    1.874288\n",
       "47     48       468105    6.721497\n",
       "48     49        17684    0.253924\n",
       "49     50          139    0.001996"
      ]
     },
     "execution_count": 6,
     "metadata": {},
     "output_type": "execute_result"
    }
   ],
   "source": [
    "auction_id_cc"
   ]
  },
  {
   "cell_type": "code",
   "execution_count": 7,
   "id": "716fc36a",
   "metadata": {},
   "outputs": [],
   "source": [
    "xticks=[]\n",
    "for x in range(26):\n",
    "    xticks.append(x*2)\n",
    "yticks=[]\n",
    "for y in range(12):\n",
    "    yticks.append(y*200000)\n",
    "    "
   ]
  },
  {
   "cell_type": "code",
   "execution_count": 8,
   "id": "fdac69b1-43ef-44b5-975f-240438528a10",
   "metadata": {},
   "outputs": [
    {
     "data": {
      "text/plain": [
       "Text(20, 1500000, '43.64% of Auctions last 2 hours or less\\n8.80% last 12 hrs, 6.65% last 24 hrs\\nand 6.72 last 48 hrs ')"
      ]
     },
     "execution_count": 8,
     "metadata": {},
     "output_type": "execute_result"
    },
    {
     "data": {
      "image/png": "[encoded data removed]",
      "text/plain": [
       "<Figure size 1000x600 with 1 Axes>"
      ]
     },
     "metadata": {},
     "output_type": "display_data"
    }
   ],
   "source": [
    "y=auction_id_cc['repetitions']\n",
    "x=auction_id_cc['count']\n",
    "fig, ax = plt.subplots(figsize=(10, 6)) #, layout='constrained'\n",
    "plt.xticks(xticks)\n",
    "plt.yticks(yticks)\n",
    "ax.yaxis.set_major_formatter(mpl.ticker.StrMethodFormatter(\"{x:,.0f}\"))\n",
    "\n",
    "ax.plot(x, y)  # Plot some data on the axes.\n",
    "ax.set_xlabel('Perceived Hour Duration')  # Add an x-label to the axes.\n",
    "ax.set_ylabel('Number of Auctions')  # Add a y-label to the axes.\n",
    "ax.set_title(\"Perceived Duration of individual Auctions in Hrs\")  # Add a title to the axes.\n",
    "ax.text(20,1500000,f\"{auction_id_cc['percentage'].iloc[0:2].sum():.2f}% of Auctions last 2 hours or less\\n8.80% last 12 hrs, 6.65% last 24 hrs\\nand 6.72 last 48 hrs \",ha='center', va='center', fontsize=14)\n",
    "# ax.legend()  # Add a legend."
   ]
  },
  {
   "cell_type": "code",
   "execution_count": 96,
   "id": "6e2fee6d-5406-4214-8d9d-2347937612b3",
   "metadata": {},
   "outputs": [
    {
     "data": {
      "image/png": "[encoded data removed]",
      "text/plain": [
       "<Figure size 1000x600 with 1 Axes>"
      ]
     },
     "metadata": {},
     "output_type": "display_data"
    }
   ],
   "source": [
    "# plt.xlim=(0,100)\n",
    "x=auction_id_cc['count']\n",
    "y=auction_id_cc['repetitions']\n",
    "fig, ax = plt.subplots(figsize=(10, 6), layout='constrained')\n",
    "plt.scatter(x,y)\n",
    "plt.xticks(rotation='vertical')\n",
    "plt.show()\n"
   ]
  },
  {
   "cell_type": "markdown",
   "id": "a3a3c650-805c-415a-a033-62a8e9aa77b0",
   "metadata": {},
   "source": [
    "- quantity"
   ]
  },
  {
   "cell_type": "code",
   "execution_count": 11,
   "id": "bb1c1007-87bc-4e5e-bc54-d5491c722d2b",
   "metadata": {},
   "outputs": [
    {
     "data": {
      "text/html": [
       "<div>\n",
       "<style scoped>\n",
       "    .dataframe tbody tr th:only-of-type {\n",
       "        vertical-align: middle;\n",
       "    }\n",
       "\n",
       "    .dataframe tbody tr th {\n",
       "        vertical-align: top;\n",
       "    }\n",
       "\n",
       "    .dataframe thead th {\n",
       "        text-align: right;\n",
       "    }\n",
       "</style>\n",
       "<table border=\"1\" class=\"dataframe\">\n",
       "  <thead>\n",
       "    <tr style=\"text-align: right;\">\n",
       "      <th></th>\n",
       "      <th>quantity</th>\n",
       "      <th>repetitions</th>\n",
       "      <th>percentage</th>\n",
       "    </tr>\n",
       "  </thead>\n",
       "  <tbody>\n",
       "    <tr>\n",
       "      <th>0</th>\n",
       "      <td>1</td>\n",
       "      <td>3482</td>\n",
       "      <td>0.049998</td>\n",
       "    </tr>\n",
       "    <tr>\n",
       "      <th>1</th>\n",
       "      <td>2</td>\n",
       "      <td>2805</td>\n",
       "      <td>0.040277</td>\n",
       "    </tr>\n",
       "    <tr>\n",
       "      <th>2</th>\n",
       "      <td>3</td>\n",
       "      <td>1025</td>\n",
       "      <td>0.014718</td>\n",
       "    </tr>\n",
       "    <tr>\n",
       "      <th>3</th>\n",
       "      <td>4</td>\n",
       "      <td>704</td>\n",
       "      <td>0.010109</td>\n",
       "    </tr>\n",
       "    <tr>\n",
       "      <th>4</th>\n",
       "      <td>5</td>\n",
       "      <td>494</td>\n",
       "      <td>0.007093</td>\n",
       "    </tr>\n",
       "    <tr>\n",
       "      <th>...</th>\n",
       "      <td>...</td>\n",
       "      <td>...</td>\n",
       "      <td>...</td>\n",
       "    </tr>\n",
       "    <tr>\n",
       "      <th>1673</th>\n",
       "      <td>4226175</td>\n",
       "      <td>1</td>\n",
       "      <td>0.000014</td>\n",
       "    </tr>\n",
       "    <tr>\n",
       "      <th>1674</th>\n",
       "      <td>5073014</td>\n",
       "      <td>1</td>\n",
       "      <td>0.000014</td>\n",
       "    </tr>\n",
       "    <tr>\n",
       "      <th>1675</th>\n",
       "      <td>6293980</td>\n",
       "      <td>1</td>\n",
       "      <td>0.000014</td>\n",
       "    </tr>\n",
       "    <tr>\n",
       "      <th>1676</th>\n",
       "      <td>10361141</td>\n",
       "      <td>1</td>\n",
       "      <td>0.000014</td>\n",
       "    </tr>\n",
       "    <tr>\n",
       "      <th>1677</th>\n",
       "      <td>20189464</td>\n",
       "      <td>1</td>\n",
       "      <td>0.000014</td>\n",
       "    </tr>\n",
       "  </tbody>\n",
       "</table>\n",
       "<p>1678 rows × 3 columns</p>\n",
       "</div>"
      ],
      "text/plain": [
       "      quantity  repetitions  percentage\n",
       "0            1         3482    0.049998\n",
       "1            2         2805    0.040277\n",
       "2            3         1025    0.014718\n",
       "3            4          704    0.010109\n",
       "4            5          494    0.007093\n",
       "...        ...          ...         ...\n",
       "1673   4226175            1    0.000014\n",
       "1674   5073014            1    0.000014\n",
       "1675   6293980            1    0.000014\n",
       "1676  10361141            1    0.000014\n",
       "1677  20189464            1    0.000014\n",
       "\n",
       "[1678 rows x 3 columns]"
      ]
     },
     "execution_count": 11,
     "metadata": {},
     "output_type": "execute_result"
    }
   ],
   "source": [
    "\n",
    "auction_quantity_cc=pd.DataFrame(Blizzard_Commodities_DF['quantity'].value_counts().value_counts())\n",
    "auction_quantity_cc.rename(columns={'count':\"repetitions\"}, inplace=True)\n",
    "auction_quantity_cc.reset_index(inplace=True)\n",
    "auction_quantity_cc.rename(columns={'count':\"quantity\"}, inplace=True)\n",
    "auction_quantity_cc.sort_values('quantity',inplace=True)\n",
    "auction_quantity_cc.reset_index(drop=True,inplace=True)\n",
    "auction_quantity_cc['percentage']=(auction_quantity_cc['repetitions']/auction_id_cc['repetitions'].sum())*100\n",
    "auction_quantity_cc\n",
    "auction_quantity_cc"
   ]
  },
  {
   "cell_type": "code",
   "execution_count": 12,
   "id": "97f9d828",
   "metadata": {},
   "outputs": [
    {
     "data": {
      "text/plain": [
       "<Axes: >"
      ]
     },
     "execution_count": 12,
     "metadata": {},
     "output_type": "execute_result"
    },
    {
     "data": {
      "image/png": "[encoded data removed]",
      "text/plain": [
       "<Figure size 640x480 with 1 Axes>"
      ]
     },
     "metadata": {},
     "output_type": "display_data"
    }
   ],
   "source": [
    "# auction_quantity_cc[['quantity','repetitions']].plot()\n",
    "# auction_quantity_cc['quantity'].plot()\n",
    "auction_quantity_cc['repetitions'].plot()"
   ]
  },
  {
   "cell_type": "code",
   "execution_count": 13,
   "id": "75351c25",
   "metadata": {},
   "outputs": [
    {
     "data": {
      "text/plain": [
       "<Axes: >"
      ]
     },
     "execution_count": 13,
     "metadata": {},
     "output_type": "execute_result"
    },
    {
     "data": {
      "image/png": "[encoded data removed]",
      "text/plain": [
       "<Figure size 640x480 with 1 Axes>"
      ]
     },
     "metadata": {},
     "output_type": "display_data"
    }
   ],
   "source": [
    "auction_quantity_cc['repetitions'].loc[auction_quantity_cc['quantity']<250].plot()"
   ]
  },
  {
   "cell_type": "code",
   "execution_count": 14,
   "id": "02f13366",
   "metadata": {},
   "outputs": [
    {
     "data": {
      "text/plain": [
       "<Axes: >"
      ]
     },
     "execution_count": 14,
     "metadata": {},
     "output_type": "execute_result"
    },
    {
     "data": {
      "image/png": "[encoded data removed]",
      "text/plain": [
       "<Figure size 640x480 with 1 Axes>"
      ]
     },
     "metadata": {},
     "output_type": "display_data"
    }
   ],
   "source": [
    "auction_quantity_cc['repetitions'].loc[auction_quantity_cc['quantity']<100].plot()"
   ]
  },
  {
   "cell_type": "code",
   "execution_count": 15,
   "id": "1b04ff82",
   "metadata": {},
   "outputs": [
    {
     "data": {
      "text/plain": [
       "id\n",
       "1892309585    50\n",
       "1920662957    50\n",
       "1920664843    50\n",
       "1920664735    50\n",
       "1892307074    50\n",
       "              ..\n",
       "1918269591     1\n",
       "1918269568     1\n",
       "1918269565     1\n",
       "1918269561     1\n",
       "1910242863     1\n",
       "Name: count, Length: 6964297, dtype: int64"
      ]
     },
     "execution_count": 15,
     "metadata": {},
     "output_type": "execute_result"
    }
   ],
   "source": [
    "Blizzard_Commodities_DF['id'].value_counts()"
   ]
  },
  {
   "cell_type": "code",
   "execution_count": 16,
   "id": "8945137e",
   "metadata": {},
   "outputs": [
    {
     "data": {
      "text/plain": [
       "0.025355964906733582"
      ]
     },
     "execution_count": 16,
     "metadata": {},
     "output_type": "execute_result"
    }
   ],
   "source": [
    "auction_quantity_cc['repetitions'].loc[auction_quantity_cc['quantity']<100].sum()/auction_quantity_cc['quantity'].sum()*100"
   ]
  },
  {
   "cell_type": "code",
   "execution_count": 17,
   "id": "d53c65f5",
   "metadata": {},
   "outputs": [
    {
     "data": {
      "text/html": [
       "<div>\n",
       "<style scoped>\n",
       "    .dataframe tbody tr th:only-of-type {\n",
       "        vertical-align: middle;\n",
       "    }\n",
       "\n",
       "    .dataframe tbody tr th {\n",
       "        vertical-align: top;\n",
       "    }\n",
       "\n",
       "    .dataframe thead th {\n",
       "        text-align: right;\n",
       "    }\n",
       "</style>\n",
       "<table border=\"1\" class=\"dataframe\">\n",
       "  <thead>\n",
       "    <tr style=\"text-align: right;\">\n",
       "      <th></th>\n",
       "      <th>id</th>\n",
       "      <th>quantity</th>\n",
       "      <th>unit_price</th>\n",
       "      <th>time_left</th>\n",
       "      <th>item.id</th>\n",
       "      <th>item.name</th>\n",
       "      <th>item.class</th>\n",
       "      <th>datetime</th>\n",
       "    </tr>\n",
       "  </thead>\n",
       "  <tbody>\n",
       "  </tbody>\n",
       "</table>\n",
       "</div>"
      ],
      "text/plain": [
       "Empty DataFrame\n",
       "Columns: [id, quantity, unit_price, time_left, item.id, item.name, item.class, datetime]\n",
       "Index: []"
      ]
     },
     "execution_count": 17,
     "metadata": {},
     "output_type": "execute_result"
    }
   ],
   "source": [
    "Blizzard_Commodities_DF.loc[Blizzard_Commodities_DF['id']=='1920664843'].sort_values('datetime')"
   ]
  },
  {
   "cell_type": "markdown",
   "id": "a4663600",
   "metadata": {},
   "source": [
    "## Let's start analysing quantity offered, auction duration and  offered quantity changed"
   ]
  },
  {
   "cell_type": "markdown",
   "id": "e5775c36",
   "metadata": {},
   "source": [
    "### Get a list of unique id's"
   ]
  },
  {
   "cell_type": "code",
   "execution_count": 18,
   "id": "6603a768",
   "metadata": {},
   "outputs": [
    {
     "data": {
      "text/plain": [
       "array([1899749198, 1899749311, 1899749353, ..., 1910242860, 1910242862,\n",
       "       1910242863], dtype=int64)"
      ]
     },
     "execution_count": 18,
     "metadata": {},
     "output_type": "execute_result"
    }
   ],
   "source": [
    "list_of_ids=Blizzard_Commodities_DF['id'].unique()\n",
    "list_of_ids"
   ]
  },
  {
   "cell_type": "markdown",
   "id": "b7be833d",
   "metadata": {},
   "source": [
    "### Record Auction id, item.name, auction perceived duration, initial offered quantity, quantity difference on last entry"
   ]
  },
  {
   "cell_type": "code",
   "execution_count": 291,
   "id": "54d133e3",
   "metadata": {},
   "outputs": [
    {
     "ename": "KeyboardInterrupt",
     "evalue": "",
     "output_type": "error",
     "traceback": [
      "\u001b[1;31m---------------------------------------------------------------------------\u001b[0m",
      "\u001b[1;31mKeyboardInterrupt\u001b[0m                         Traceback (most recent call last)",
      "Cell \u001b[1;32mIn[291], line 18\u001b[0m\n\u001b[0;32m     16\u001b[0m auction_change_by_id\u001b[38;5;241m.\u001b[39mappend(auction)\n\u001b[0;32m     17\u001b[0m \u001b[38;5;28;01mfor\u001b[39;00m index \u001b[38;5;129;01min\u001b[39;00m temp_auction_list\u001b[38;5;241m.\u001b[39mindex:\n\u001b[1;32m---> 18\u001b[0m     Blizzard_Commodities_DF\u001b[38;5;241m.\u001b[39mdrop(index,axis\u001b[38;5;241m=\u001b[39m\u001b[38;5;241m0\u001b[39m)\n\u001b[0;32m     19\u001b[0m progress\u001b[38;5;241m+\u001b[39m\u001b[38;5;241m=\u001b[39m\u001b[38;5;241m1\u001b[39m\n\u001b[0;32m     20\u001b[0m printed_text\u001b[38;5;241m=\u001b[39mprinted_text\u001b[38;5;241m+\u001b[39m\u001b[38;5;124mf\u001b[39m\u001b[38;5;124m\"\u001b[39m\u001b[38;5;132;01m{\u001b[39;00mprogress\u001b[38;5;132;01m}\u001b[39;00m\u001b[38;5;124m/\u001b[39m\u001b[38;5;132;01m{\u001b[39;00mtotal\u001b[38;5;132;01m}\u001b[39;00m\u001b[38;5;124m ,\u001b[39m\u001b[38;5;124m\"\u001b[39m\n",
      "File \u001b[1;32mc:\\ProgramData\\anaconda3\\Lib\\site-packages\\pandas\\core\\frame.py:5344\u001b[0m, in \u001b[0;36mDataFrame.drop\u001b[1;34m(self, labels, axis, index, columns, level, inplace, errors)\u001b[0m\n\u001b[0;32m   5196\u001b[0m \u001b[38;5;28;01mdef\u001b[39;00m \u001b[38;5;21mdrop\u001b[39m(\n\u001b[0;32m   5197\u001b[0m     \u001b[38;5;28mself\u001b[39m,\n\u001b[0;32m   5198\u001b[0m     labels: IndexLabel \u001b[38;5;241m|\u001b[39m \u001b[38;5;28;01mNone\u001b[39;00m \u001b[38;5;241m=\u001b[39m \u001b[38;5;28;01mNone\u001b[39;00m,\n\u001b[1;32m   (...)\u001b[0m\n\u001b[0;32m   5205\u001b[0m     errors: IgnoreRaise \u001b[38;5;241m=\u001b[39m \u001b[38;5;124m\"\u001b[39m\u001b[38;5;124mraise\u001b[39m\u001b[38;5;124m\"\u001b[39m,\n\u001b[0;32m   5206\u001b[0m ) \u001b[38;5;241m-\u001b[39m\u001b[38;5;241m>\u001b[39m DataFrame \u001b[38;5;241m|\u001b[39m \u001b[38;5;28;01mNone\u001b[39;00m:\n\u001b[0;32m   5207\u001b[0m \u001b[38;5;250m    \u001b[39m\u001b[38;5;124;03m\"\"\"\u001b[39;00m\n\u001b[0;32m   5208\u001b[0m \u001b[38;5;124;03m    Drop specified labels from rows or columns.\u001b[39;00m\n\u001b[0;32m   5209\u001b[0m \n\u001b[1;32m   (...)\u001b[0m\n\u001b[0;32m   5342\u001b[0m \u001b[38;5;124;03m            weight  1.0     0.8\u001b[39;00m\n\u001b[0;32m   5343\u001b[0m \u001b[38;5;124;03m    \"\"\"\u001b[39;00m\n\u001b[1;32m-> 5344\u001b[0m     \u001b[38;5;28;01mreturn\u001b[39;00m \u001b[38;5;28msuper\u001b[39m()\u001b[38;5;241m.\u001b[39mdrop(\n\u001b[0;32m   5345\u001b[0m         labels\u001b[38;5;241m=\u001b[39mlabels,\n\u001b[0;32m   5346\u001b[0m         axis\u001b[38;5;241m=\u001b[39maxis,\n\u001b[0;32m   5347\u001b[0m         index\u001b[38;5;241m=\u001b[39mindex,\n\u001b[0;32m   5348\u001b[0m         columns\u001b[38;5;241m=\u001b[39mcolumns,\n\u001b[0;32m   5349\u001b[0m         level\u001b[38;5;241m=\u001b[39mlevel,\n\u001b[0;32m   5350\u001b[0m         inplace\u001b[38;5;241m=\u001b[39minplace,\n\u001b[0;32m   5351\u001b[0m         errors\u001b[38;5;241m=\u001b[39merrors,\n\u001b[0;32m   5352\u001b[0m     )\n",
      "File \u001b[1;32mc:\\ProgramData\\anaconda3\\Lib\\site-packages\\pandas\\core\\generic.py:4711\u001b[0m, in \u001b[0;36mNDFrame.drop\u001b[1;34m(self, labels, axis, index, columns, level, inplace, errors)\u001b[0m\n\u001b[0;32m   4709\u001b[0m \u001b[38;5;28;01mfor\u001b[39;00m axis, labels \u001b[38;5;129;01min\u001b[39;00m axes\u001b[38;5;241m.\u001b[39mitems():\n\u001b[0;32m   4710\u001b[0m     \u001b[38;5;28;01mif\u001b[39;00m labels \u001b[38;5;129;01mis\u001b[39;00m \u001b[38;5;129;01mnot\u001b[39;00m \u001b[38;5;28;01mNone\u001b[39;00m:\n\u001b[1;32m-> 4711\u001b[0m         obj \u001b[38;5;241m=\u001b[39m obj\u001b[38;5;241m.\u001b[39m_drop_axis(labels, axis, level\u001b[38;5;241m=\u001b[39mlevel, errors\u001b[38;5;241m=\u001b[39merrors)\n\u001b[0;32m   4713\u001b[0m \u001b[38;5;28;01mif\u001b[39;00m inplace:\n\u001b[0;32m   4714\u001b[0m     \u001b[38;5;28mself\u001b[39m\u001b[38;5;241m.\u001b[39m_update_inplace(obj)\n",
      "File \u001b[1;32mc:\\ProgramData\\anaconda3\\Lib\\site-packages\\pandas\\core\\generic.py:4792\u001b[0m, in \u001b[0;36mNDFrame._drop_axis\u001b[1;34m(self, labels, axis, level, errors, only_slice)\u001b[0m\n\u001b[0;32m   4789\u001b[0m     new_axis \u001b[38;5;241m=\u001b[39m axis\u001b[38;5;241m.\u001b[39mtake(indexer)\n\u001b[0;32m   4791\u001b[0m bm_axis \u001b[38;5;241m=\u001b[39m \u001b[38;5;28mself\u001b[39m\u001b[38;5;241m.\u001b[39mndim \u001b[38;5;241m-\u001b[39m axis_num \u001b[38;5;241m-\u001b[39m \u001b[38;5;241m1\u001b[39m\n\u001b[1;32m-> 4792\u001b[0m new_mgr \u001b[38;5;241m=\u001b[39m \u001b[38;5;28mself\u001b[39m\u001b[38;5;241m.\u001b[39m_mgr\u001b[38;5;241m.\u001b[39mreindex_indexer(\n\u001b[0;32m   4793\u001b[0m     new_axis,\n\u001b[0;32m   4794\u001b[0m     indexer,\n\u001b[0;32m   4795\u001b[0m     axis\u001b[38;5;241m=\u001b[39mbm_axis,\n\u001b[0;32m   4796\u001b[0m     allow_dups\u001b[38;5;241m=\u001b[39m\u001b[38;5;28;01mTrue\u001b[39;00m,\n\u001b[0;32m   4797\u001b[0m     copy\u001b[38;5;241m=\u001b[39m\u001b[38;5;28;01mNone\u001b[39;00m,\n\u001b[0;32m   4798\u001b[0m     only_slice\u001b[38;5;241m=\u001b[39monly_slice,\n\u001b[0;32m   4799\u001b[0m )\n\u001b[0;32m   4800\u001b[0m result \u001b[38;5;241m=\u001b[39m \u001b[38;5;28mself\u001b[39m\u001b[38;5;241m.\u001b[39m_constructor_from_mgr(new_mgr, axes\u001b[38;5;241m=\u001b[39mnew_mgr\u001b[38;5;241m.\u001b[39maxes)\n\u001b[0;32m   4801\u001b[0m \u001b[38;5;28;01mif\u001b[39;00m \u001b[38;5;28mself\u001b[39m\u001b[38;5;241m.\u001b[39mndim \u001b[38;5;241m==\u001b[39m \u001b[38;5;241m1\u001b[39m:\n",
      "File \u001b[1;32mc:\\ProgramData\\anaconda3\\Lib\\site-packages\\pandas\\core\\internals\\managers.py:670\u001b[0m, in \u001b[0;36mBaseBlockManager.reindex_indexer\u001b[1;34m(self, new_axis, indexer, axis, fill_value, allow_dups, copy, only_slice, use_na_proxy)\u001b[0m\n\u001b[0;32m    663\u001b[0m     new_blocks \u001b[38;5;241m=\u001b[39m \u001b[38;5;28mself\u001b[39m\u001b[38;5;241m.\u001b[39m_slice_take_blocks_ax0(\n\u001b[0;32m    664\u001b[0m         indexer,\n\u001b[0;32m    665\u001b[0m         fill_value\u001b[38;5;241m=\u001b[39mfill_value,\n\u001b[0;32m    666\u001b[0m         only_slice\u001b[38;5;241m=\u001b[39monly_slice,\n\u001b[0;32m    667\u001b[0m         use_na_proxy\u001b[38;5;241m=\u001b[39muse_na_proxy,\n\u001b[0;32m    668\u001b[0m     )\n\u001b[0;32m    669\u001b[0m \u001b[38;5;28;01melse\u001b[39;00m:\n\u001b[1;32m--> 670\u001b[0m     new_blocks \u001b[38;5;241m=\u001b[39m [\n\u001b[0;32m    671\u001b[0m         blk\u001b[38;5;241m.\u001b[39mtake_nd(\n\u001b[0;32m    672\u001b[0m             indexer,\n\u001b[0;32m    673\u001b[0m             axis\u001b[38;5;241m=\u001b[39m\u001b[38;5;241m1\u001b[39m,\n\u001b[0;32m    674\u001b[0m             fill_value\u001b[38;5;241m=\u001b[39m(\n\u001b[0;32m    675\u001b[0m                 fill_value \u001b[38;5;28;01mif\u001b[39;00m fill_value \u001b[38;5;129;01mis\u001b[39;00m \u001b[38;5;129;01mnot\u001b[39;00m \u001b[38;5;28;01mNone\u001b[39;00m \u001b[38;5;28;01melse\u001b[39;00m blk\u001b[38;5;241m.\u001b[39mfill_value\n\u001b[0;32m    676\u001b[0m             ),\n\u001b[0;32m    677\u001b[0m         )\n\u001b[0;32m    678\u001b[0m         \u001b[38;5;28;01mfor\u001b[39;00m blk \u001b[38;5;129;01min\u001b[39;00m \u001b[38;5;28mself\u001b[39m\u001b[38;5;241m.\u001b[39mblocks\n\u001b[0;32m    679\u001b[0m     ]\n\u001b[0;32m    681\u001b[0m new_axes \u001b[38;5;241m=\u001b[39m \u001b[38;5;28mlist\u001b[39m(\u001b[38;5;28mself\u001b[39m\u001b[38;5;241m.\u001b[39maxes)\n\u001b[0;32m    682\u001b[0m new_axes[axis] \u001b[38;5;241m=\u001b[39m new_axis\n",
      "File \u001b[1;32mc:\\ProgramData\\anaconda3\\Lib\\site-packages\\pandas\\core\\internals\\managers.py:671\u001b[0m, in \u001b[0;36m<listcomp>\u001b[1;34m(.0)\u001b[0m\n\u001b[0;32m    663\u001b[0m     new_blocks \u001b[38;5;241m=\u001b[39m \u001b[38;5;28mself\u001b[39m\u001b[38;5;241m.\u001b[39m_slice_take_blocks_ax0(\n\u001b[0;32m    664\u001b[0m         indexer,\n\u001b[0;32m    665\u001b[0m         fill_value\u001b[38;5;241m=\u001b[39mfill_value,\n\u001b[0;32m    666\u001b[0m         only_slice\u001b[38;5;241m=\u001b[39monly_slice,\n\u001b[0;32m    667\u001b[0m         use_na_proxy\u001b[38;5;241m=\u001b[39muse_na_proxy,\n\u001b[0;32m    668\u001b[0m     )\n\u001b[0;32m    669\u001b[0m \u001b[38;5;28;01melse\u001b[39;00m:\n\u001b[0;32m    670\u001b[0m     new_blocks \u001b[38;5;241m=\u001b[39m [\n\u001b[1;32m--> 671\u001b[0m         blk\u001b[38;5;241m.\u001b[39mtake_nd(\n\u001b[0;32m    672\u001b[0m             indexer,\n\u001b[0;32m    673\u001b[0m             axis\u001b[38;5;241m=\u001b[39m\u001b[38;5;241m1\u001b[39m,\n\u001b[0;32m    674\u001b[0m             fill_value\u001b[38;5;241m=\u001b[39m(\n\u001b[0;32m    675\u001b[0m                 fill_value \u001b[38;5;28;01mif\u001b[39;00m fill_value \u001b[38;5;129;01mis\u001b[39;00m \u001b[38;5;129;01mnot\u001b[39;00m \u001b[38;5;28;01mNone\u001b[39;00m \u001b[38;5;28;01melse\u001b[39;00m blk\u001b[38;5;241m.\u001b[39mfill_value\n\u001b[0;32m    676\u001b[0m             ),\n\u001b[0;32m    677\u001b[0m         )\n\u001b[0;32m    678\u001b[0m         \u001b[38;5;28;01mfor\u001b[39;00m blk \u001b[38;5;129;01min\u001b[39;00m \u001b[38;5;28mself\u001b[39m\u001b[38;5;241m.\u001b[39mblocks\n\u001b[0;32m    679\u001b[0m     ]\n\u001b[0;32m    681\u001b[0m new_axes \u001b[38;5;241m=\u001b[39m \u001b[38;5;28mlist\u001b[39m(\u001b[38;5;28mself\u001b[39m\u001b[38;5;241m.\u001b[39maxes)\n\u001b[0;32m    682\u001b[0m new_axes[axis] \u001b[38;5;241m=\u001b[39m new_axis\n",
      "File \u001b[1;32mc:\\ProgramData\\anaconda3\\Lib\\site-packages\\pandas\\core\\internals\\blocks.py:1061\u001b[0m, in \u001b[0;36mBlock.take_nd\u001b[1;34m(self, indexer, axis, new_mgr_locs, fill_value)\u001b[0m\n\u001b[0;32m   1058\u001b[0m     allow_fill \u001b[38;5;241m=\u001b[39m \u001b[38;5;28;01mTrue\u001b[39;00m\n\u001b[0;32m   1060\u001b[0m \u001b[38;5;66;03m# Note: algos.take_nd has upcast logic similar to coerce_to_target_dtype\u001b[39;00m\n\u001b[1;32m-> 1061\u001b[0m new_values \u001b[38;5;241m=\u001b[39m algos\u001b[38;5;241m.\u001b[39mtake_nd(\n\u001b[0;32m   1062\u001b[0m     values, indexer, axis\u001b[38;5;241m=\u001b[39maxis, allow_fill\u001b[38;5;241m=\u001b[39mallow_fill, fill_value\u001b[38;5;241m=\u001b[39mfill_value\n\u001b[0;32m   1063\u001b[0m )\n\u001b[0;32m   1065\u001b[0m \u001b[38;5;66;03m# Called from three places in managers, all of which satisfy\u001b[39;00m\n\u001b[0;32m   1066\u001b[0m \u001b[38;5;66;03m#  these assertions\u001b[39;00m\n\u001b[0;32m   1067\u001b[0m \u001b[38;5;28;01mif\u001b[39;00m \u001b[38;5;28misinstance\u001b[39m(\u001b[38;5;28mself\u001b[39m, ExtensionBlock):\n\u001b[0;32m   1068\u001b[0m     \u001b[38;5;66;03m# NB: in this case, the 'axis' kwarg will be ignored in the\u001b[39;00m\n\u001b[0;32m   1069\u001b[0m     \u001b[38;5;66;03m#  algos.take_nd call above.\u001b[39;00m\n",
      "File \u001b[1;32mc:\\ProgramData\\anaconda3\\Lib\\site-packages\\pandas\\core\\array_algos\\take.py:111\u001b[0m, in \u001b[0;36mtake_nd\u001b[1;34m(arr, indexer, axis, fill_value, allow_fill)\u001b[0m\n\u001b[0;32m    108\u001b[0m     \u001b[38;5;28;01mif\u001b[39;00m \u001b[38;5;129;01mnot\u001b[39;00m is_1d_only_ea_dtype(arr\u001b[38;5;241m.\u001b[39mdtype):\n\u001b[0;32m    109\u001b[0m         \u001b[38;5;66;03m# i.e. DatetimeArray, TimedeltaArray\u001b[39;00m\n\u001b[0;32m    110\u001b[0m         arr \u001b[38;5;241m=\u001b[39m cast(\u001b[38;5;124m\"\u001b[39m\u001b[38;5;124mNDArrayBackedExtensionArray\u001b[39m\u001b[38;5;124m\"\u001b[39m, arr)\n\u001b[1;32m--> 111\u001b[0m         \u001b[38;5;28;01mreturn\u001b[39;00m arr\u001b[38;5;241m.\u001b[39mtake(\n\u001b[0;32m    112\u001b[0m             indexer, fill_value\u001b[38;5;241m=\u001b[39mfill_value, allow_fill\u001b[38;5;241m=\u001b[39mallow_fill, axis\u001b[38;5;241m=\u001b[39maxis\n\u001b[0;32m    113\u001b[0m         )\n\u001b[0;32m    115\u001b[0m     \u001b[38;5;28;01mreturn\u001b[39;00m arr\u001b[38;5;241m.\u001b[39mtake(indexer, fill_value\u001b[38;5;241m=\u001b[39mfill_value, allow_fill\u001b[38;5;241m=\u001b[39mallow_fill)\n\u001b[0;32m    117\u001b[0m arr \u001b[38;5;241m=\u001b[39m np\u001b[38;5;241m.\u001b[39masarray(arr)\n",
      "File \u001b[1;32mc:\\ProgramData\\anaconda3\\Lib\\site-packages\\pandas\\core\\arrays\\_mixins.py:160\u001b[0m, in \u001b[0;36mNDArrayBackedExtensionArray.take\u001b[1;34m(self, indices, allow_fill, fill_value, axis)\u001b[0m\n\u001b[0;32m    157\u001b[0m \u001b[38;5;28;01mif\u001b[39;00m allow_fill:\n\u001b[0;32m    158\u001b[0m     fill_value \u001b[38;5;241m=\u001b[39m \u001b[38;5;28mself\u001b[39m\u001b[38;5;241m.\u001b[39m_validate_scalar(fill_value)\n\u001b[1;32m--> 160\u001b[0m new_data \u001b[38;5;241m=\u001b[39m take(\n\u001b[0;32m    161\u001b[0m     \u001b[38;5;28mself\u001b[39m\u001b[38;5;241m.\u001b[39m_ndarray,\n\u001b[0;32m    162\u001b[0m     indices,\n\u001b[0;32m    163\u001b[0m     allow_fill\u001b[38;5;241m=\u001b[39mallow_fill,\n\u001b[0;32m    164\u001b[0m     fill_value\u001b[38;5;241m=\u001b[39mfill_value,\n\u001b[0;32m    165\u001b[0m     axis\u001b[38;5;241m=\u001b[39maxis,\n\u001b[0;32m    166\u001b[0m )\n\u001b[0;32m    167\u001b[0m \u001b[38;5;28;01mreturn\u001b[39;00m \u001b[38;5;28mself\u001b[39m\u001b[38;5;241m.\u001b[39m_from_backing_data(new_data)\n",
      "File \u001b[1;32mc:\\ProgramData\\anaconda3\\Lib\\site-packages\\pandas\\core\\algorithms.py:1314\u001b[0m, in \u001b[0;36mtake\u001b[1;34m(arr, indices, axis, allow_fill, fill_value)\u001b[0m\n\u001b[0;32m   1311\u001b[0m \u001b[38;5;28;01mif\u001b[39;00m allow_fill:\n\u001b[0;32m   1312\u001b[0m     \u001b[38;5;66;03m# Pandas style, -1 means NA\u001b[39;00m\n\u001b[0;32m   1313\u001b[0m     validate_indices(indices, arr\u001b[38;5;241m.\u001b[39mshape[axis])\n\u001b[1;32m-> 1314\u001b[0m     result \u001b[38;5;241m=\u001b[39m take_nd(\n\u001b[0;32m   1315\u001b[0m         arr, indices, axis\u001b[38;5;241m=\u001b[39maxis, allow_fill\u001b[38;5;241m=\u001b[39m\u001b[38;5;28;01mTrue\u001b[39;00m, fill_value\u001b[38;5;241m=\u001b[39mfill_value\n\u001b[0;32m   1316\u001b[0m     )\n\u001b[0;32m   1317\u001b[0m \u001b[38;5;28;01melse\u001b[39;00m:\n\u001b[0;32m   1318\u001b[0m     \u001b[38;5;66;03m# NumPy style\u001b[39;00m\n\u001b[0;32m   1319\u001b[0m     result \u001b[38;5;241m=\u001b[39m arr\u001b[38;5;241m.\u001b[39mtake(indices, axis\u001b[38;5;241m=\u001b[39maxis)\n",
      "File \u001b[1;32mc:\\ProgramData\\anaconda3\\Lib\\site-packages\\pandas\\core\\array_algos\\take.py:118\u001b[0m, in \u001b[0;36mtake_nd\u001b[1;34m(arr, indexer, axis, fill_value, allow_fill)\u001b[0m\n\u001b[0;32m    115\u001b[0m     \u001b[38;5;28;01mreturn\u001b[39;00m arr\u001b[38;5;241m.\u001b[39mtake(indexer, fill_value\u001b[38;5;241m=\u001b[39mfill_value, allow_fill\u001b[38;5;241m=\u001b[39mallow_fill)\n\u001b[0;32m    117\u001b[0m arr \u001b[38;5;241m=\u001b[39m np\u001b[38;5;241m.\u001b[39masarray(arr)\n\u001b[1;32m--> 118\u001b[0m \u001b[38;5;28;01mreturn\u001b[39;00m _take_nd_ndarray(arr, indexer, axis, fill_value, allow_fill)\n",
      "File \u001b[1;32mc:\\ProgramData\\anaconda3\\Lib\\site-packages\\pandas\\core\\array_algos\\take.py:163\u001b[0m, in \u001b[0;36m_take_nd_ndarray\u001b[1;34m(arr, indexer, axis, fill_value, allow_fill)\u001b[0m\n\u001b[0;32m    158\u001b[0m     out \u001b[38;5;241m=\u001b[39m np\u001b[38;5;241m.\u001b[39mempty(out_shape, dtype\u001b[38;5;241m=\u001b[39mdtype)\n\u001b[0;32m    160\u001b[0m func \u001b[38;5;241m=\u001b[39m _get_take_nd_function(\n\u001b[0;32m    161\u001b[0m     arr\u001b[38;5;241m.\u001b[39mndim, arr\u001b[38;5;241m.\u001b[39mdtype, out\u001b[38;5;241m.\u001b[39mdtype, axis\u001b[38;5;241m=\u001b[39maxis, mask_info\u001b[38;5;241m=\u001b[39mmask_info\n\u001b[0;32m    162\u001b[0m )\n\u001b[1;32m--> 163\u001b[0m func(arr, indexer, out, fill_value)\n\u001b[0;32m    165\u001b[0m \u001b[38;5;28;01mif\u001b[39;00m flip_order:\n\u001b[0;32m    166\u001b[0m     out \u001b[38;5;241m=\u001b[39m out\u001b[38;5;241m.\u001b[39mT\n",
      "File \u001b[1;32mc:\\ProgramData\\anaconda3\\Lib\\site-packages\\pandas\\core\\array_algos\\take.py:370\u001b[0m, in \u001b[0;36m_view_wrapper.<locals>.wrapper\u001b[1;34m(arr, indexer, out, fill_value)\u001b[0m\n\u001b[0;32m    367\u001b[0m         fill_value \u001b[38;5;241m=\u001b[39m fill_value\u001b[38;5;241m.\u001b[39mastype(\u001b[38;5;124m\"\u001b[39m\u001b[38;5;124mM8[ns]\u001b[39m\u001b[38;5;124m\"\u001b[39m)\n\u001b[0;32m    368\u001b[0m     fill_value \u001b[38;5;241m=\u001b[39m fill_wrap(fill_value)\n\u001b[1;32m--> 370\u001b[0m f(arr, indexer, out, fill_value\u001b[38;5;241m=\u001b[39mfill_value)\n",
      "\u001b[1;31mKeyboardInterrupt\u001b[0m: "
     ]
    }
   ],
   "source": [
    "# first attempt before droping rows:  3666 ids in 155m 51.6s\n",
    "auction_change_by_id=[]\n",
    "progress=0\n",
    "printed_text=\"\"\n",
    "total=len(list_of_ids)\n",
    "for id in list_of_ids:\n",
    "    temp_auction_list=Blizzard_Commodities_DF.loc[Blizzard_Commodities_DF['id']==id] \\\n",
    "        .sort_values('datetime')\n",
    "    auction={'id':id, \n",
    "             'item.name':temp_auction_list.iloc[0]['item.name'], \n",
    "             'duration':len(temp_auction_list), \n",
    "             'offered':temp_auction_list.iloc[0]['quantity'],\n",
    "             'sold':temp_auction_list.iloc[0]['quantity']- \\\n",
    "                temp_auction_list.iloc[-1]['quantity']\n",
    "             }\n",
    "    auction_change_by_id.append(auction)\n",
    "    for index in temp_auction_list.index:\n",
    "        Blizzard_Commodities_DF.drop(index,axis=0)\n",
    "    progress+=1\n",
    "    printed_text=printed_text+f\"{progress}/{total} ,\"\n",
    "    if len(printed_text)>80:\n",
    "        print(\"\\n\", end='')\n",
    "        printed_text=\"\"\n",
    "\n",
    "    print(f\"{progress}/{total} DF Size {len(Blizzard_Commodities_DF)},\", end='')"
   ]
  },
  {
   "cell_type": "code",
   "execution_count": 19,
   "id": "e8844f8a",
   "metadata": {},
   "outputs": [
    {
     "ename": "NameError",
     "evalue": "name 'temp_auction_list' is not defined",
     "output_type": "error",
     "traceback": [
      "\u001b[1;31m---------------------------------------------------------------------------\u001b[0m",
      "\u001b[1;31mNameError\u001b[0m                                 Traceback (most recent call last)",
      "Cell \u001b[1;32mIn[19], line 1\u001b[0m\n\u001b[1;32m----> 1\u001b[0m temp_auction_list\n",
      "\u001b[1;31mNameError\u001b[0m: name 'temp_auction_list' is not defined"
     ]
    }
   ],
   "source": [
    "temp_auction_list"
   ]
  },
  {
   "cell_type": "code",
   "execution_count": 265,
   "id": "92b4ed71",
   "metadata": {},
   "outputs": [
    {
     "data": {
      "text/html": [
       "<div>\n",
       "<style scoped>\n",
       "    .dataframe tbody tr th:only-of-type {\n",
       "        vertical-align: middle;\n",
       "    }\n",
       "\n",
       "    .dataframe tbody tr th {\n",
       "        vertical-align: top;\n",
       "    }\n",
       "\n",
       "    .dataframe thead th {\n",
       "        text-align: right;\n",
       "    }\n",
       "</style>\n",
       "<table border=\"1\" class=\"dataframe\">\n",
       "  <thead>\n",
       "    <tr style=\"text-align: right;\">\n",
       "      <th></th>\n",
       "      <th>id</th>\n",
       "      <th>quantity</th>\n",
       "      <th>unit_price</th>\n",
       "      <th>time_left</th>\n",
       "      <th>item.id</th>\n",
       "      <th>item.name</th>\n",
       "      <th>item.class</th>\n",
       "      <th>datetime</th>\n",
       "    </tr>\n",
       "  </thead>\n",
       "  <tbody>\n",
       "    <tr>\n",
       "      <th>64489955</th>\n",
       "      <td>1920664843</td>\n",
       "      <td>20</td>\n",
       "      <td>16400</td>\n",
       "      <td>VERY_LONG</td>\n",
       "      <td>118391</td>\n",
       "      <td>Worm Supreme</td>\n",
       "      <td>Consumables</td>\n",
       "      <td>2023-12-31 14:41:00</td>\n",
       "    </tr>\n",
       "    <tr>\n",
       "      <th>22409170</th>\n",
       "      <td>1920664843</td>\n",
       "      <td>20</td>\n",
       "      <td>16400</td>\n",
       "      <td>VERY_LONG</td>\n",
       "      <td>118391</td>\n",
       "      <td>Worm Supreme</td>\n",
       "      <td>Consumables</td>\n",
       "      <td>2023-12-31 15:41:00</td>\n",
       "    </tr>\n",
       "    <tr>\n",
       "      <th>78417207</th>\n",
       "      <td>1920664843</td>\n",
       "      <td>20</td>\n",
       "      <td>16400</td>\n",
       "      <td>VERY_LONG</td>\n",
       "      <td>118391</td>\n",
       "      <td>Worm Supreme</td>\n",
       "      <td>Consumables</td>\n",
       "      <td>2023-12-31 16:41:00</td>\n",
       "    </tr>\n",
       "    <tr>\n",
       "      <th>31915672</th>\n",
       "      <td>1920664843</td>\n",
       "      <td>20</td>\n",
       "      <td>16400</td>\n",
       "      <td>VERY_LONG</td>\n",
       "      <td>118391</td>\n",
       "      <td>Worm Supreme</td>\n",
       "      <td>Consumables</td>\n",
       "      <td>2023-12-31 17:41:00</td>\n",
       "    </tr>\n",
       "    <tr>\n",
       "      <th>65253229</th>\n",
       "      <td>1920664843</td>\n",
       "      <td>20</td>\n",
       "      <td>16400</td>\n",
       "      <td>VERY_LONG</td>\n",
       "      <td>118391</td>\n",
       "      <td>Worm Supreme</td>\n",
       "      <td>Consumables</td>\n",
       "      <td>2023-12-31 18:41:00</td>\n",
       "    </tr>\n",
       "    <tr>\n",
       "      <th>24848796</th>\n",
       "      <td>1920664843</td>\n",
       "      <td>20</td>\n",
       "      <td>16400</td>\n",
       "      <td>VERY_LONG</td>\n",
       "      <td>118391</td>\n",
       "      <td>Worm Supreme</td>\n",
       "      <td>Consumables</td>\n",
       "      <td>2023-12-31 19:41:00</td>\n",
       "    </tr>\n",
       "    <tr>\n",
       "      <th>73288659</th>\n",
       "      <td>1920664843</td>\n",
       "      <td>20</td>\n",
       "      <td>16400</td>\n",
       "      <td>VERY_LONG</td>\n",
       "      <td>118391</td>\n",
       "      <td>Worm Supreme</td>\n",
       "      <td>Consumables</td>\n",
       "      <td>2023-12-31 20:41:00</td>\n",
       "    </tr>\n",
       "    <tr>\n",
       "      <th>33564140</th>\n",
       "      <td>1920664843</td>\n",
       "      <td>20</td>\n",
       "      <td>16400</td>\n",
       "      <td>VERY_LONG</td>\n",
       "      <td>118391</td>\n",
       "      <td>Worm Supreme</td>\n",
       "      <td>Consumables</td>\n",
       "      <td>2023-12-31 21:41:00</td>\n",
       "    </tr>\n",
       "    <tr>\n",
       "      <th>62446198</th>\n",
       "      <td>1920664843</td>\n",
       "      <td>20</td>\n",
       "      <td>16400</td>\n",
       "      <td>VERY_LONG</td>\n",
       "      <td>118391</td>\n",
       "      <td>Worm Supreme</td>\n",
       "      <td>Consumables</td>\n",
       "      <td>2023-12-31 22:41:00</td>\n",
       "    </tr>\n",
       "    <tr>\n",
       "      <th>27365367</th>\n",
       "      <td>1920664843</td>\n",
       "      <td>20</td>\n",
       "      <td>16400</td>\n",
       "      <td>VERY_LONG</td>\n",
       "      <td>118391</td>\n",
       "      <td>Worm Supreme</td>\n",
       "      <td>Consumables</td>\n",
       "      <td>2023-12-31 23:41:00</td>\n",
       "    </tr>\n",
       "    <tr>\n",
       "      <th>69097415</th>\n",
       "      <td>1920664843</td>\n",
       "      <td>20</td>\n",
       "      <td>16400</td>\n",
       "      <td>VERY_LONG</td>\n",
       "      <td>118391</td>\n",
       "      <td>Worm Supreme</td>\n",
       "      <td>Consumables</td>\n",
       "      <td>2024-01-01 00:41:00</td>\n",
       "    </tr>\n",
       "    <tr>\n",
       "      <th>20057657</th>\n",
       "      <td>1920664843</td>\n",
       "      <td>20</td>\n",
       "      <td>16400</td>\n",
       "      <td>VERY_LONG</td>\n",
       "      <td>118391</td>\n",
       "      <td>Worm Supreme</td>\n",
       "      <td>Consumables</td>\n",
       "      <td>2024-01-01 01:41:00</td>\n",
       "    </tr>\n",
       "    <tr>\n",
       "      <th>70445548</th>\n",
       "      <td>1920664843</td>\n",
       "      <td>20</td>\n",
       "      <td>16400</td>\n",
       "      <td>VERY_LONG</td>\n",
       "      <td>118391</td>\n",
       "      <td>Worm Supreme</td>\n",
       "      <td>Consumables</td>\n",
       "      <td>2024-01-01 02:41:00</td>\n",
       "    </tr>\n",
       "    <tr>\n",
       "      <th>37106419</th>\n",
       "      <td>1920664843</td>\n",
       "      <td>20</td>\n",
       "      <td>16400</td>\n",
       "      <td>VERY_LONG</td>\n",
       "      <td>118391</td>\n",
       "      <td>Worm Supreme</td>\n",
       "      <td>Consumables</td>\n",
       "      <td>2024-01-01 03:41:00</td>\n",
       "    </tr>\n",
       "    <tr>\n",
       "      <th>55931670</th>\n",
       "      <td>1920664843</td>\n",
       "      <td>20</td>\n",
       "      <td>16400</td>\n",
       "      <td>VERY_LONG</td>\n",
       "      <td>118391</td>\n",
       "      <td>Worm Supreme</td>\n",
       "      <td>Consumables</td>\n",
       "      <td>2024-01-01 04:41:00</td>\n",
       "    </tr>\n",
       "    <tr>\n",
       "      <th>11306131</th>\n",
       "      <td>1920664843</td>\n",
       "      <td>20</td>\n",
       "      <td>16400</td>\n",
       "      <td>VERY_LONG</td>\n",
       "      <td>118391</td>\n",
       "      <td>Worm Supreme</td>\n",
       "      <td>Consumables</td>\n",
       "      <td>2024-01-01 05:41:00</td>\n",
       "    </tr>\n",
       "    <tr>\n",
       "      <th>40996664</th>\n",
       "      <td>1920664843</td>\n",
       "      <td>20</td>\n",
       "      <td>16400</td>\n",
       "      <td>VERY_LONG</td>\n",
       "      <td>118391</td>\n",
       "      <td>Worm Supreme</td>\n",
       "      <td>Consumables</td>\n",
       "      <td>2024-01-01 06:41:00</td>\n",
       "    </tr>\n",
       "    <tr>\n",
       "      <th>9347749</th>\n",
       "      <td>1920664843</td>\n",
       "      <td>20</td>\n",
       "      <td>16400</td>\n",
       "      <td>VERY_LONG</td>\n",
       "      <td>118391</td>\n",
       "      <td>Worm Supreme</td>\n",
       "      <td>Consumables</td>\n",
       "      <td>2024-01-01 07:41:00</td>\n",
       "    </tr>\n",
       "    <tr>\n",
       "      <th>56481473</th>\n",
       "      <td>1920664843</td>\n",
       "      <td>20</td>\n",
       "      <td>16400</td>\n",
       "      <td>VERY_LONG</td>\n",
       "      <td>118391</td>\n",
       "      <td>Worm Supreme</td>\n",
       "      <td>Consumables</td>\n",
       "      <td>2024-01-01 08:41:00</td>\n",
       "    </tr>\n",
       "    <tr>\n",
       "      <th>13281011</th>\n",
       "      <td>1920664843</td>\n",
       "      <td>20</td>\n",
       "      <td>16400</td>\n",
       "      <td>VERY_LONG</td>\n",
       "      <td>118391</td>\n",
       "      <td>Worm Supreme</td>\n",
       "      <td>Consumables</td>\n",
       "      <td>2024-01-01 09:41:00</td>\n",
       "    </tr>\n",
       "    <tr>\n",
       "      <th>71550702</th>\n",
       "      <td>1920664843</td>\n",
       "      <td>20</td>\n",
       "      <td>16400</td>\n",
       "      <td>VERY_LONG</td>\n",
       "      <td>118391</td>\n",
       "      <td>Worm Supreme</td>\n",
       "      <td>Consumables</td>\n",
       "      <td>2024-01-01 10:41:00</td>\n",
       "    </tr>\n",
       "    <tr>\n",
       "      <th>38214141</th>\n",
       "      <td>1920664843</td>\n",
       "      <td>20</td>\n",
       "      <td>16400</td>\n",
       "      <td>VERY_LONG</td>\n",
       "      <td>118391</td>\n",
       "      <td>Worm Supreme</td>\n",
       "      <td>Consumables</td>\n",
       "      <td>2024-01-01 11:41:00</td>\n",
       "    </tr>\n",
       "    <tr>\n",
       "      <th>67913154</th>\n",
       "      <td>1920664843</td>\n",
       "      <td>20</td>\n",
       "      <td>16400</td>\n",
       "      <td>VERY_LONG</td>\n",
       "      <td>118391</td>\n",
       "      <td>Worm Supreme</td>\n",
       "      <td>Consumables</td>\n",
       "      <td>2024-01-01 12:41:00</td>\n",
       "    </tr>\n",
       "    <tr>\n",
       "      <th>18883327</th>\n",
       "      <td>1920664843</td>\n",
       "      <td>20</td>\n",
       "      <td>16400</td>\n",
       "      <td>VERY_LONG</td>\n",
       "      <td>118391</td>\n",
       "      <td>Worm Supreme</td>\n",
       "      <td>Consumables</td>\n",
       "      <td>2024-01-01 13:41:00</td>\n",
       "    </tr>\n",
       "    <tr>\n",
       "      <th>39848336</th>\n",
       "      <td>1920664843</td>\n",
       "      <td>20</td>\n",
       "      <td>16400</td>\n",
       "      <td>VERY_LONG</td>\n",
       "      <td>118391</td>\n",
       "      <td>Worm Supreme</td>\n",
       "      <td>Consumables</td>\n",
       "      <td>2024-01-01 14:41:00</td>\n",
       "    </tr>\n",
       "    <tr>\n",
       "      <th>7925293</th>\n",
       "      <td>1920664843</td>\n",
       "      <td>20</td>\n",
       "      <td>16400</td>\n",
       "      <td>VERY_LONG</td>\n",
       "      <td>118391</td>\n",
       "      <td>Worm Supreme</td>\n",
       "      <td>Consumables</td>\n",
       "      <td>2024-01-01 15:41:00</td>\n",
       "    </tr>\n",
       "    <tr>\n",
       "      <th>57316025</th>\n",
       "      <td>1920664843</td>\n",
       "      <td>20</td>\n",
       "      <td>16400</td>\n",
       "      <td>VERY_LONG</td>\n",
       "      <td>118391</td>\n",
       "      <td>Worm Supreme</td>\n",
       "      <td>Consumables</td>\n",
       "      <td>2024-01-01 16:41:00</td>\n",
       "    </tr>\n",
       "    <tr>\n",
       "      <th>12406432</th>\n",
       "      <td>1920664843</td>\n",
       "      <td>20</td>\n",
       "      <td>16400</td>\n",
       "      <td>VERY_LONG</td>\n",
       "      <td>118391</td>\n",
       "      <td>Worm Supreme</td>\n",
       "      <td>Consumables</td>\n",
       "      <td>2024-01-01 17:41:00</td>\n",
       "    </tr>\n",
       "    <tr>\n",
       "      <th>41508470</th>\n",
       "      <td>1920664843</td>\n",
       "      <td>20</td>\n",
       "      <td>16400</td>\n",
       "      <td>VERY_LONG</td>\n",
       "      <td>118391</td>\n",
       "      <td>Worm Supreme</td>\n",
       "      <td>Consumables</td>\n",
       "      <td>2024-01-01 18:41:00</td>\n",
       "    </tr>\n",
       "    <tr>\n",
       "      <th>9037834</th>\n",
       "      <td>1920664843</td>\n",
       "      <td>20</td>\n",
       "      <td>16400</td>\n",
       "      <td>VERY_LONG</td>\n",
       "      <td>118391</td>\n",
       "      <td>Worm Supreme</td>\n",
       "      <td>Consumables</td>\n",
       "      <td>2024-01-01 19:41:00</td>\n",
       "    </tr>\n",
       "    <tr>\n",
       "      <th>57845853</th>\n",
       "      <td>1920664843</td>\n",
       "      <td>20</td>\n",
       "      <td>16400</td>\n",
       "      <td>VERY_LONG</td>\n",
       "      <td>118391</td>\n",
       "      <td>Worm Supreme</td>\n",
       "      <td>Consumables</td>\n",
       "      <td>2024-01-01 20:41:00</td>\n",
       "    </tr>\n",
       "    <tr>\n",
       "      <th>9569572</th>\n",
       "      <td>1920664843</td>\n",
       "      <td>20</td>\n",
       "      <td>16400</td>\n",
       "      <td>VERY_LONG</td>\n",
       "      <td>118391</td>\n",
       "      <td>Worm Supreme</td>\n",
       "      <td>Consumables</td>\n",
       "      <td>2024-01-01 21:41:00</td>\n",
       "    </tr>\n",
       "    <tr>\n",
       "      <th>43190583</th>\n",
       "      <td>1920664843</td>\n",
       "      <td>20</td>\n",
       "      <td>16400</td>\n",
       "      <td>VERY_LONG</td>\n",
       "      <td>118391</td>\n",
       "      <td>Worm Supreme</td>\n",
       "      <td>Consumables</td>\n",
       "      <td>2024-01-01 22:41:00</td>\n",
       "    </tr>\n",
       "    <tr>\n",
       "      <th>6767480</th>\n",
       "      <td>1920664843</td>\n",
       "      <td>20</td>\n",
       "      <td>16400</td>\n",
       "      <td>VERY_LONG</td>\n",
       "      <td>118391</td>\n",
       "      <td>Worm Supreme</td>\n",
       "      <td>Consumables</td>\n",
       "      <td>2024-01-01 23:41:00</td>\n",
       "    </tr>\n",
       "    <tr>\n",
       "      <th>44562167</th>\n",
       "      <td>1920664843</td>\n",
       "      <td>20</td>\n",
       "      <td>16400</td>\n",
       "      <td>VERY_LONG</td>\n",
       "      <td>118391</td>\n",
       "      <td>Worm Supreme</td>\n",
       "      <td>Consumables</td>\n",
       "      <td>2024-01-02 00:41:00</td>\n",
       "    </tr>\n",
       "    <tr>\n",
       "      <th>2847648</th>\n",
       "      <td>1920664843</td>\n",
       "      <td>20</td>\n",
       "      <td>16400</td>\n",
       "      <td>VERY_LONG</td>\n",
       "      <td>118391</td>\n",
       "      <td>Worm Supreme</td>\n",
       "      <td>Consumables</td>\n",
       "      <td>2024-01-02 01:41:00</td>\n",
       "    </tr>\n",
       "    <tr>\n",
       "      <th>51025919</th>\n",
       "      <td>1920664843</td>\n",
       "      <td>20</td>\n",
       "      <td>16400</td>\n",
       "      <td>VERY_LONG</td>\n",
       "      <td>118391</td>\n",
       "      <td>Worm Supreme</td>\n",
       "      <td>Consumables</td>\n",
       "      <td>2024-01-02 02:41:00</td>\n",
       "    </tr>\n",
       "    <tr>\n",
       "      <th>18266032</th>\n",
       "      <td>1920664843</td>\n",
       "      <td>20</td>\n",
       "      <td>16400</td>\n",
       "      <td>LONG</td>\n",
       "      <td>118391</td>\n",
       "      <td>Worm Supreme</td>\n",
       "      <td>Consumables</td>\n",
       "      <td>2024-01-02 03:41:00</td>\n",
       "    </tr>\n",
       "    <tr>\n",
       "      <th>78743987</th>\n",
       "      <td>1920664843</td>\n",
       "      <td>20</td>\n",
       "      <td>16400</td>\n",
       "      <td>LONG</td>\n",
       "      <td>118391</td>\n",
       "      <td>Worm Supreme</td>\n",
       "      <td>Consumables</td>\n",
       "      <td>2024-01-02 04:41:00</td>\n",
       "    </tr>\n",
       "    <tr>\n",
       "      <th>31430828</th>\n",
       "      <td>1920664843</td>\n",
       "      <td>20</td>\n",
       "      <td>16400</td>\n",
       "      <td>LONG</td>\n",
       "      <td>118391</td>\n",
       "      <td>Worm Supreme</td>\n",
       "      <td>Consumables</td>\n",
       "      <td>2024-01-02 05:41:00</td>\n",
       "    </tr>\n",
       "    <tr>\n",
       "      <th>62567702</th>\n",
       "      <td>1920664843</td>\n",
       "      <td>20</td>\n",
       "      <td>16400</td>\n",
       "      <td>LONG</td>\n",
       "      <td>118391</td>\n",
       "      <td>Worm Supreme</td>\n",
       "      <td>Consumables</td>\n",
       "      <td>2024-01-02 06:41:00</td>\n",
       "    </tr>\n",
       "    <tr>\n",
       "      <th>23554688</th>\n",
       "      <td>1920664843</td>\n",
       "      <td>20</td>\n",
       "      <td>16400</td>\n",
       "      <td>LONG</td>\n",
       "      <td>118391</td>\n",
       "      <td>Worm Supreme</td>\n",
       "      <td>Consumables</td>\n",
       "      <td>2024-01-02 07:41:00</td>\n",
       "    </tr>\n",
       "    <tr>\n",
       "      <th>76229019</th>\n",
       "      <td>1920664843</td>\n",
       "      <td>20</td>\n",
       "      <td>16400</td>\n",
       "      <td>LONG</td>\n",
       "      <td>118391</td>\n",
       "      <td>Worm Supreme</td>\n",
       "      <td>Consumables</td>\n",
       "      <td>2024-01-02 08:41:00</td>\n",
       "    </tr>\n",
       "    <tr>\n",
       "      <th>30295519</th>\n",
       "      <td>1920664843</td>\n",
       "      <td>20</td>\n",
       "      <td>16400</td>\n",
       "      <td>LONG</td>\n",
       "      <td>118391</td>\n",
       "      <td>Worm Supreme</td>\n",
       "      <td>Consumables</td>\n",
       "      <td>2024-01-02 09:41:00</td>\n",
       "    </tr>\n",
       "    <tr>\n",
       "      <th>49586508</th>\n",
       "      <td>1920664843</td>\n",
       "      <td>20</td>\n",
       "      <td>16400</td>\n",
       "      <td>LONG</td>\n",
       "      <td>118391</td>\n",
       "      <td>Worm Supreme</td>\n",
       "      <td>Consumables</td>\n",
       "      <td>2024-01-02 10:41:00</td>\n",
       "    </tr>\n",
       "    <tr>\n",
       "      <th>16874383</th>\n",
       "      <td>1920664843</td>\n",
       "      <td>20</td>\n",
       "      <td>16400</td>\n",
       "      <td>LONG</td>\n",
       "      <td>118391</td>\n",
       "      <td>Worm Supreme</td>\n",
       "      <td>Consumables</td>\n",
       "      <td>2024-01-02 11:41:00</td>\n",
       "    </tr>\n",
       "    <tr>\n",
       "      <th>45916025</th>\n",
       "      <td>1920664843</td>\n",
       "      <td>20</td>\n",
       "      <td>16400</td>\n",
       "      <td>LONG</td>\n",
       "      <td>118391</td>\n",
       "      <td>Worm Supreme</td>\n",
       "      <td>Consumables</td>\n",
       "      <td>2024-01-02 12:41:00</td>\n",
       "    </tr>\n",
       "    <tr>\n",
       "      <th>4215470</th>\n",
       "      <td>1920664843</td>\n",
       "      <td>20</td>\n",
       "      <td>16400</td>\n",
       "      <td>MEDIUM</td>\n",
       "      <td>118391</td>\n",
       "      <td>Worm Supreme</td>\n",
       "      <td>Consumables</td>\n",
       "      <td>2024-01-02 13:41:00</td>\n",
       "    </tr>\n",
       "    <tr>\n",
       "      <th>64490384</th>\n",
       "      <td>1920664843</td>\n",
       "      <td>20</td>\n",
       "      <td>16400</td>\n",
       "      <td>SHORT</td>\n",
       "      <td>118391</td>\n",
       "      <td>Worm Supreme</td>\n",
       "      <td>Consumables</td>\n",
       "      <td>2024-01-02 14:41:00</td>\n",
       "    </tr>\n",
       "    <tr>\n",
       "      <th>25206001</th>\n",
       "      <td>1920664843</td>\n",
       "      <td>20</td>\n",
       "      <td>16400</td>\n",
       "      <td>SHORT</td>\n",
       "      <td>118391</td>\n",
       "      <td>Worm Supreme</td>\n",
       "      <td>Consumables</td>\n",
       "      <td>2024-01-02 15:41:00</td>\n",
       "    </tr>\n",
       "  </tbody>\n",
       "</table>\n",
       "</div>"
      ],
      "text/plain": [
       "                  id  quantity  unit_price  time_left item.id     item.name  \\\n",
       "64489955  1920664843        20       16400  VERY_LONG  118391  Worm Supreme   \n",
       "22409170  1920664843        20       16400  VERY_LONG  118391  Worm Supreme   \n",
       "78417207  1920664843        20       16400  VERY_LONG  118391  Worm Supreme   \n",
       "31915672  1920664843        20       16400  VERY_LONG  118391  Worm Supreme   \n",
       "65253229  1920664843        20       16400  VERY_LONG  118391  Worm Supreme   \n",
       "24848796  1920664843        20       16400  VERY_LONG  118391  Worm Supreme   \n",
       "73288659  1920664843        20       16400  VERY_LONG  118391  Worm Supreme   \n",
       "33564140  1920664843        20       16400  VERY_LONG  118391  Worm Supreme   \n",
       "62446198  1920664843        20       16400  VERY_LONG  118391  Worm Supreme   \n",
       "27365367  1920664843        20       16400  VERY_LONG  118391  Worm Supreme   \n",
       "69097415  1920664843        20       16400  VERY_LONG  118391  Worm Supreme   \n",
       "20057657  1920664843        20       16400  VERY_LONG  118391  Worm Supreme   \n",
       "70445548  1920664843        20       16400  VERY_LONG  118391  Worm Supreme   \n",
       "37106419  1920664843        20       16400  VERY_LONG  118391  Worm Supreme   \n",
       "55931670  1920664843        20       16400  VERY_LONG  118391  Worm Supreme   \n",
       "11306131  1920664843        20       16400  VERY_LONG  118391  Worm Supreme   \n",
       "40996664  1920664843        20       16400  VERY_LONG  118391  Worm Supreme   \n",
       "9347749   1920664843        20       16400  VERY_LONG  118391  Worm Supreme   \n",
       "56481473  1920664843        20       16400  VERY_LONG  118391  Worm Supreme   \n",
       "13281011  1920664843        20       16400  VERY_LONG  118391  Worm Supreme   \n",
       "71550702  1920664843        20       16400  VERY_LONG  118391  Worm Supreme   \n",
       "38214141  1920664843        20       16400  VERY_LONG  118391  Worm Supreme   \n",
       "67913154  1920664843        20       16400  VERY_LONG  118391  Worm Supreme   \n",
       "18883327  1920664843        20       16400  VERY_LONG  118391  Worm Supreme   \n",
       "39848336  1920664843        20       16400  VERY_LONG  118391  Worm Supreme   \n",
       "7925293   1920664843        20       16400  VERY_LONG  118391  Worm Supreme   \n",
       "57316025  1920664843        20       16400  VERY_LONG  118391  Worm Supreme   \n",
       "12406432  1920664843        20       16400  VERY_LONG  118391  Worm Supreme   \n",
       "41508470  1920664843        20       16400  VERY_LONG  118391  Worm Supreme   \n",
       "9037834   1920664843        20       16400  VERY_LONG  118391  Worm Supreme   \n",
       "57845853  1920664843        20       16400  VERY_LONG  118391  Worm Supreme   \n",
       "9569572   1920664843        20       16400  VERY_LONG  118391  Worm Supreme   \n",
       "43190583  1920664843        20       16400  VERY_LONG  118391  Worm Supreme   \n",
       "6767480   1920664843        20       16400  VERY_LONG  118391  Worm Supreme   \n",
       "44562167  1920664843        20       16400  VERY_LONG  118391  Worm Supreme   \n",
       "2847648   1920664843        20       16400  VERY_LONG  118391  Worm Supreme   \n",
       "51025919  1920664843        20       16400  VERY_LONG  118391  Worm Supreme   \n",
       "18266032  1920664843        20       16400       LONG  118391  Worm Supreme   \n",
       "78743987  1920664843        20       16400       LONG  118391  Worm Supreme   \n",
       "31430828  1920664843        20       16400       LONG  118391  Worm Supreme   \n",
       "62567702  1920664843        20       16400       LONG  118391  Worm Supreme   \n",
       "23554688  1920664843        20       16400       LONG  118391  Worm Supreme   \n",
       "76229019  1920664843        20       16400       LONG  118391  Worm Supreme   \n",
       "30295519  1920664843        20       16400       LONG  118391  Worm Supreme   \n",
       "49586508  1920664843        20       16400       LONG  118391  Worm Supreme   \n",
       "16874383  1920664843        20       16400       LONG  118391  Worm Supreme   \n",
       "45916025  1920664843        20       16400       LONG  118391  Worm Supreme   \n",
       "4215470   1920664843        20       16400     MEDIUM  118391  Worm Supreme   \n",
       "64490384  1920664843        20       16400      SHORT  118391  Worm Supreme   \n",
       "25206001  1920664843        20       16400      SHORT  118391  Worm Supreme   \n",
       "\n",
       "           item.class            datetime  \n",
       "64489955  Consumables 2023-12-31 14:41:00  \n",
       "22409170  Consumables 2023-12-31 15:41:00  \n",
       "78417207  Consumables 2023-12-31 16:41:00  \n",
       "31915672  Consumables 2023-12-31 17:41:00  \n",
       "65253229  Consumables 2023-12-31 18:41:00  \n",
       "24848796  Consumables 2023-12-31 19:41:00  \n",
       "73288659  Consumables 2023-12-31 20:41:00  \n",
       "33564140  Consumables 2023-12-31 21:41:00  \n",
       "62446198  Consumables 2023-12-31 22:41:00  \n",
       "27365367  Consumables 2023-12-31 23:41:00  \n",
       "69097415  Consumables 2024-01-01 00:41:00  \n",
       "20057657  Consumables 2024-01-01 01:41:00  \n",
       "70445548  Consumables 2024-01-01 02:41:00  \n",
       "37106419  Consumables 2024-01-01 03:41:00  \n",
       "55931670  Consumables 2024-01-01 04:41:00  \n",
       "11306131  Consumables 2024-01-01 05:41:00  \n",
       "40996664  Consumables 2024-01-01 06:41:00  \n",
       "9347749   Consumables 2024-01-01 07:41:00  \n",
       "56481473  Consumables 2024-01-01 08:41:00  \n",
       "13281011  Consumables 2024-01-01 09:41:00  \n",
       "71550702  Consumables 2024-01-01 10:41:00  \n",
       "38214141  Consumables 2024-01-01 11:41:00  \n",
       "67913154  Consumables 2024-01-01 12:41:00  \n",
       "18883327  Consumables 2024-01-01 13:41:00  \n",
       "39848336  Consumables 2024-01-01 14:41:00  \n",
       "7925293   Consumables 2024-01-01 15:41:00  \n",
       "57316025  Consumables 2024-01-01 16:41:00  \n",
       "12406432  Consumables 2024-01-01 17:41:00  \n",
       "41508470  Consumables 2024-01-01 18:41:00  \n",
       "9037834   Consumables 2024-01-01 19:41:00  \n",
       "57845853  Consumables 2024-01-01 20:41:00  \n",
       "9569572   Consumables 2024-01-01 21:41:00  \n",
       "43190583  Consumables 2024-01-01 22:41:00  \n",
       "6767480   Consumables 2024-01-01 23:41:00  \n",
       "44562167  Consumables 2024-01-02 00:41:00  \n",
       "2847648   Consumables 2024-01-02 01:41:00  \n",
       "51025919  Consumables 2024-01-02 02:41:00  \n",
       "18266032  Consumables 2024-01-02 03:41:00  \n",
       "78743987  Consumables 2024-01-02 04:41:00  \n",
       "31430828  Consumables 2024-01-02 05:41:00  \n",
       "62567702  Consumables 2024-01-02 06:41:00  \n",
       "23554688  Consumables 2024-01-02 07:41:00  \n",
       "76229019  Consumables 2024-01-02 08:41:00  \n",
       "30295519  Consumables 2024-01-02 09:41:00  \n",
       "49586508  Consumables 2024-01-02 10:41:00  \n",
       "16874383  Consumables 2024-01-02 11:41:00  \n",
       "45916025  Consumables 2024-01-02 12:41:00  \n",
       "4215470   Consumables 2024-01-02 13:41:00  \n",
       "64490384  Consumables 2024-01-02 14:41:00  \n",
       "25206001  Consumables 2024-01-02 15:41:00  "
      ]
     },
     "execution_count": 265,
     "metadata": {},
     "output_type": "execute_result"
    }
   ],
   "source": [
    "temp_auction_list=Blizzard_Commodities_DF.loc[Blizzard_Commodities_DF['id']=='1920664843'].sort_values('datetime')\n",
    "temp_auction_list"
   ]
  },
  {
   "cell_type": "code",
   "execution_count": 273,
   "id": "7017d950",
   "metadata": {},
   "outputs": [
    {
     "data": {
      "text/plain": [
       "{'id': '1920664843',\n",
       " 'item.name': 'Worm Supreme',\n",
       " 'duration': 50,\n",
       " 'offered': 20,\n",
       " 'sold': 0}"
      ]
     },
     "execution_count": 273,
     "metadata": {},
     "output_type": "execute_result"
    }
   ],
   "source": [
    "auction={'id':temp_auction_list.iloc[0]['id'], \n",
    "             'item.name':temp_auction_list.iloc[0]['item.name'], \n",
    "             'duration':len(temp_auction_list), \n",
    "             'offered':temp_auction_list.iloc[0]['quantity'],\n",
    "             'sold':temp_auction_list.iloc[0]['quantity']-temp_auction_list.iloc[-1]['quantity']\n",
    "             }\n",
    "auction"
   ]
  },
  {
   "cell_type": "code",
   "execution_count": 270,
   "id": "617270ad",
   "metadata": {},
   "outputs": [
    {
     "data": {
      "text/plain": [
       "50"
      ]
     },
     "execution_count": 270,
     "metadata": {},
     "output_type": "execute_result"
    }
   ],
   "source": [
    "len(temp_auction_list)"
   ]
  },
  {
   "cell_type": "code",
   "execution_count": 20,
   "id": "2ec5a8b7",
   "metadata": {},
   "outputs": [
    {
     "ename": "NameError",
     "evalue": "name 'temp_auction_list' is not defined",
     "output_type": "error",
     "traceback": [
      "\u001b[1;31m---------------------------------------------------------------------------\u001b[0m",
      "\u001b[1;31mNameError\u001b[0m                                 Traceback (most recent call last)",
      "Cell \u001b[1;32mIn[20], line 1\u001b[0m\n\u001b[1;32m----> 1\u001b[0m temp_auction_list\u001b[38;5;241m.\u001b[39miloc[\u001b[38;5;241m0\u001b[39m][\u001b[38;5;124m'\u001b[39m\u001b[38;5;124mitem.name\u001b[39m\u001b[38;5;124m'\u001b[39m]\n",
      "\u001b[1;31mNameError\u001b[0m: name 'temp_auction_list' is not defined"
     ]
    }
   ],
   "source": [
    "temp_auction_list.iloc[0]['item.name']"
   ]
  },
  {
   "cell_type": "code",
   "execution_count": 21,
   "id": "b5aa2a42",
   "metadata": {},
   "outputs": [
    {
     "data": {
      "text/plain": [
       "15"
      ]
     },
     "execution_count": 21,
     "metadata": {},
     "output_type": "execute_result"
    }
   ],
   "source": [
    "# Evenly distributed bins did not work\n",
    "# bins=[]\n",
    "# bin_index=[]\n",
    "# for b in range(18):\n",
    "#     bins.append(b*100)\n",
    "#     bin_index.append(b*100)\n",
    "bins=[0,100,200,500,1000,2000,5000,10000,20000,50000,100000,200000,500000,1000000,20000000]\n",
    "len(bins)"
   ]
  },
  {
   "cell_type": "code",
   "execution_count": 22,
   "id": "4f1f7968",
   "metadata": {},
   "outputs": [
    {
     "name": "stderr",
     "output_type": "stream",
     "text": [
      "C:\\Users\\Fidel\\AppData\\Local\\Temp\\ipykernel_3508\\88329472.py:1: FutureWarning: The default of observed=False is deprecated and will be changed to True in a future version of pandas. Pass observed=False to retain current behavior or observed=True to adopt the future default and silence this warning.\n",
      "  binned_auction_quantity=pd.DataFrame(auction_quantity_cc.groupby(pd.cut(auction_quantity_cc['quantity'],bins)).size())\n"
     ]
    }
   ],
   "source": [
    "\n",
    "binned_auction_quantity=pd.DataFrame(auction_quantity_cc.groupby(pd.cut(auction_quantity_cc['quantity'],bins)).size())\n",
    "binned_auction_quantity.reset_index(inplace=True, drop=True)\n",
    "binned_auction_quantity.rename(columns={0:'repetitions'}, inplace=True)\n",
    "binned_auction_quantity['percentage']=(binned_auction_quantity['repetitions']/binned_auction_quantity['repetitions'].sum())*100"
   ]
  },
  {
   "cell_type": "code",
   "execution_count": 23,
   "id": "b953e038",
   "metadata": {},
   "outputs": [
    {
     "data": {
      "text/html": [
       "<div>\n",
       "<style scoped>\n",
       "    .dataframe tbody tr th:only-of-type {\n",
       "        vertical-align: middle;\n",
       "    }\n",
       "\n",
       "    .dataframe tbody tr th {\n",
       "        vertical-align: top;\n",
       "    }\n",
       "\n",
       "    .dataframe thead th {\n",
       "        text-align: right;\n",
       "    }\n",
       "</style>\n",
       "<table border=\"1\" class=\"dataframe\">\n",
       "  <thead>\n",
       "    <tr style=\"text-align: right;\">\n",
       "      <th></th>\n",
       "      <th>repetitions</th>\n",
       "      <th>percentage</th>\n",
       "    </tr>\n",
       "  </thead>\n",
       "  <tbody>\n",
       "    <tr>\n",
       "      <th>0</th>\n",
       "      <td>100</td>\n",
       "      <td>5.963029</td>\n",
       "    </tr>\n",
       "    <tr>\n",
       "      <th>1</th>\n",
       "      <td>100</td>\n",
       "      <td>5.963029</td>\n",
       "    </tr>\n",
       "    <tr>\n",
       "      <th>2</th>\n",
       "      <td>289</td>\n",
       "      <td>17.233154</td>\n",
       "    </tr>\n",
       "    <tr>\n",
       "      <th>3</th>\n",
       "      <td>238</td>\n",
       "      <td>14.192010</td>\n",
       "    </tr>\n",
       "    <tr>\n",
       "      <th>4</th>\n",
       "      <td>314</td>\n",
       "      <td>18.723912</td>\n",
       "    </tr>\n",
       "    <tr>\n",
       "      <th>5</th>\n",
       "      <td>306</td>\n",
       "      <td>18.246869</td>\n",
       "    </tr>\n",
       "    <tr>\n",
       "      <th>6</th>\n",
       "      <td>102</td>\n",
       "      <td>6.082290</td>\n",
       "    </tr>\n",
       "    <tr>\n",
       "      <th>7</th>\n",
       "      <td>85</td>\n",
       "      <td>5.068575</td>\n",
       "    </tr>\n",
       "    <tr>\n",
       "      <th>8</th>\n",
       "      <td>62</td>\n",
       "      <td>3.697078</td>\n",
       "    </tr>\n",
       "    <tr>\n",
       "      <th>9</th>\n",
       "      <td>30</td>\n",
       "      <td>1.788909</td>\n",
       "    </tr>\n",
       "    <tr>\n",
       "      <th>10</th>\n",
       "      <td>17</td>\n",
       "      <td>1.013715</td>\n",
       "    </tr>\n",
       "    <tr>\n",
       "      <th>11</th>\n",
       "      <td>13</td>\n",
       "      <td>0.775194</td>\n",
       "    </tr>\n",
       "    <tr>\n",
       "      <th>12</th>\n",
       "      <td>10</td>\n",
       "      <td>0.596303</td>\n",
       "    </tr>\n",
       "    <tr>\n",
       "      <th>13</th>\n",
       "      <td>11</td>\n",
       "      <td>0.655933</td>\n",
       "    </tr>\n",
       "  </tbody>\n",
       "</table>\n",
       "</div>"
      ],
      "text/plain": [
       "    repetitions  percentage\n",
       "0           100    5.963029\n",
       "1           100    5.963029\n",
       "2           289   17.233154\n",
       "3           238   14.192010\n",
       "4           314   18.723912\n",
       "5           306   18.246869\n",
       "6           102    6.082290\n",
       "7            85    5.068575\n",
       "8            62    3.697078\n",
       "9            30    1.788909\n",
       "10           17    1.013715\n",
       "11           13    0.775194\n",
       "12           10    0.596303\n",
       "13           11    0.655933"
      ]
     },
     "execution_count": 23,
     "metadata": {},
     "output_type": "execute_result"
    }
   ],
   "source": [
    "binned_auction_quantity['repetitions'].sum()\n",
    "binned_auction_quantity"
   ]
  },
  {
   "cell_type": "code",
   "execution_count": 28,
   "id": "46de42b6",
   "metadata": {},
   "outputs": [],
   "source": [
    "xticks=[]\n",
    "for x in range(26):\n",
    "    xticks.append(x*2)\n",
    "yticks=[]\n",
    "for y in range(12):\n",
    "    yticks.append(y*200000)    "
   ]
  },
  {
   "cell_type": "code",
   "execution_count": 33,
   "id": "f5dff2d3",
   "metadata": {},
   "outputs": [
    {
     "data": {
      "text/plain": [
       "(25,\n",
       " [100,\n",
       "  200,\n",
       "  500,\n",
       "  1000,\n",
       "  2000,\n",
       "  5000,\n",
       "  10000,\n",
       "  20000,\n",
       "  50000,\n",
       "  100000,\n",
       "  200000,\n",
       "  500000,\n",
       "  1000000,\n",
       "  20000000])"
      ]
     },
     "execution_count": 33,
     "metadata": {},
     "output_type": "execute_result"
    }
   ],
   "source": [
    "bins.pop(0)\n",
    "x,bins"
   ]
  },
  {
   "cell_type": "code",
   "execution_count": 37,
   "id": "417f342a",
   "metadata": {},
   "outputs": [
    {
     "data": {
      "text/plain": [
       "Text(0.5, 1.0, 'Perceived Duration of individual Auctions in Hrs')"
      ]
     },
     "execution_count": 37,
     "metadata": {},
     "output_type": "execute_result"
    },
    {
     "data": {
      "image/png": "[encoded data removed]",
      "text/plain": [
       "<Figure size 1000x500 with 1 Axes>"
      ]
     },
     "metadata": {},
     "output_type": "display_data"
    }
   ],
   "source": [
    "plt.xlim=(0,100)\n",
    "# y=[]\n",
    "# for bin_range in binned_auction_quantity['quantity']:\n",
    "#     y.append(str(bin_range))\n",
    "y=binned_auction_quantity['repetitions']\n",
    "fig, ax = plt.subplots(figsize=(10, 5)) #, layout='constrained'\n",
    "# plt.xticks(xticks)\n",
    "# plt.yticks(yticks)\n",
    "ax.yaxis.set_major_formatter(mpl.ticker.StrMethodFormatter(\"{x:,.0f}\"))\n",
    "plt.xticks(rotation='vertical')\n",
    "ax.plot(bins, y)  # Plot some data on the axes.\n",
    "ax.set_xlabel('Perceived Hour Duration')  # Add an x-label to the axes.\n",
    "ax.set_ylabel('Number of Auctions')  # Add a y-label to the axes.\n",
    "ax.set_title(\"Perceived Duration of individual Auctions in Hrs\")  # Add a title to the axes.\n",
    "# ax.text(20,1500000,f\"{auction_id_cc['percentage'].iloc[0:2].sum():.4f}% of Auctions last 2 hours or less\",ha='center', va='center', fontsize=14)\n",
    "# ax.legend()  # Add a legend."
   ]
  },
  {
   "cell_type": "code",
   "execution_count": 36,
   "id": "e773e779-c6d5-48a7-8b1a-951bac6683f0",
   "metadata": {},
   "outputs": [
    {
     "data": {
      "text/plain": [
       "<Axes: xlabel='quantity'>"
      ]
     },
     "execution_count": 36,
     "metadata": {},
     "output_type": "execute_result"
    },
    {
     "data": {
      "image/png": "[encoded data removed]",
      "text/plain": [
       "<Figure size 640x480 with 1 Axes>"
      ]
     },
     "metadata": {},
     "output_type": "display_data"
    }
   ],
   "source": [
    "Blizzard_Commodities_DF['quantity'].value_counts().plot()"
   ]
  },
  {
   "cell_type": "markdown",
   "id": "1b3f6173-e912-4d68-b171-3246d181d345",
   "metadata": {},
   "source": [
    "- unit_price"
   ]
  },
  {
   "cell_type": "code",
   "execution_count": 38,
   "id": "22228c6e-47a6-4532-a55b-e5a94b631737",
   "metadata": {},
   "outputs": [
    {
     "data": {
      "text/plain": [
       "unit_price\n",
       "700           2037633\n",
       "10000         1270848\n",
       "100           1110950\n",
       "6300          1001087\n",
       "50000          844017\n",
       "               ...   \n",
       "15999000            1\n",
       "30002800            1\n",
       "23478400            1\n",
       "1600005100          1\n",
       "2334800             1\n",
       "Name: count, Length: 66443, dtype: int64"
      ]
     },
     "execution_count": 38,
     "metadata": {},
     "output_type": "execute_result"
    }
   ],
   "source": [
    "Blizzard_Commodities_DF['unit_price'].value_counts()"
   ]
  },
  {
   "cell_type": "code",
   "execution_count": 39,
   "id": "d6f72986-f67c-42ba-b50d-ae644ebf38f8",
   "metadata": {},
   "outputs": [
    {
     "data": {
      "text/plain": [
       "<Axes: xlabel='unit_price'>"
      ]
     },
     "execution_count": 39,
     "metadata": {},
     "output_type": "execute_result"
    },
    {
     "data": {
      "image/png": "[encoded data removed]",
      "text/plain": [
       "<Figure size 640x480 with 1 Axes>"
      ]
     },
     "metadata": {},
     "output_type": "display_data"
    }
   ],
   "source": [
    "Blizzard_Commodities_DF['unit_price'].value_counts().plot()"
   ]
  },
  {
   "cell_type": "markdown",
   "id": "24a88e7a-d50b-412f-b984-f48161bb2232",
   "metadata": {},
   "source": [
    "- time_left"
   ]
  },
  {
   "cell_type": "code",
   "execution_count": 40,
   "id": "d34a715c-460b-4ae7-8dea-a3c031cdefb3",
   "metadata": {},
   "outputs": [
    {
     "data": {
      "text/plain": [
       "time_left\n",
       "VERY_LONG    52560381\n",
       "LONG         23422910\n",
       "MEDIUM        2911779\n",
       "SHORT          957760\n",
       "Name: count, dtype: int64"
      ]
     },
     "execution_count": 40,
     "metadata": {},
     "output_type": "execute_result"
    }
   ],
   "source": [
    "Blizzard_Commodities_DF['time_left'].value_counts()"
   ]
  },
  {
   "cell_type": "code",
   "execution_count": 41,
   "id": "b733beef-1969-4d63-a6b9-0d5538cafd58",
   "metadata": {},
   "outputs": [
    {
     "data": {
      "text/plain": [
       "<Axes: xlabel='time_left'>"
      ]
     },
     "execution_count": 41,
     "metadata": {},
     "output_type": "execute_result"
    },
    {
     "data": {
      "image/png": "[encoded data removed]",
      "text/plain": [
       "<Figure size 640x480 with 1 Axes>"
      ]
     },
     "metadata": {},
     "output_type": "display_data"
    }
   ],
   "source": [
    "Blizzard_Commodities_DF['time_left'].value_counts().plot()"
   ]
  },
  {
   "cell_type": "markdown",
   "id": "b01159ae-2db0-4b92-905b-f92886f93d03",
   "metadata": {},
   "source": [
    "- item.id"
   ]
  },
  {
   "cell_type": "markdown",
   "id": "2997ade3-2327-4dd9-9b84-1f5baed2f696",
   "metadata": {},
   "source": [
    "- item.name"
   ]
  },
  {
   "cell_type": "code",
   "execution_count": 42,
   "id": "6dbfdde2-6a55-4692-85dc-ac3e2cc3fe29",
   "metadata": {},
   "outputs": [
    {
     "data": {
      "text/plain": [
       "item.name\n",
       "Fluorescent Fluid            978744\n",
       "Exceptional Pelt             665069\n",
       "Hochenblume                  497568\n",
       "Adamant Scales               465241\n",
       "Resilient Leather            454930\n",
       "                              ...  \n",
       "Masterful Mana Buns               2\n",
       "Blood Soaked Tail                 1\n",
       "Emberflea Collection              1\n",
       "Elemental-Distilled Water         1\n",
       "Extra Large Grooming Comb         1\n",
       "Name: count, Length: 7964, dtype: int64"
      ]
     },
     "execution_count": 42,
     "metadata": {},
     "output_type": "execute_result"
    }
   ],
   "source": [
    "Blizzard_Commodities_DF['item.name'].value_counts() "
   ]
  },
  {
   "cell_type": "code",
   "execution_count": 43,
   "id": "5487a848-7586-4dda-ad98-8bbd13f19c58",
   "metadata": {},
   "outputs": [
    {
     "data": {
      "text/plain": [
       "<Axes: xlabel='item.name'>"
      ]
     },
     "execution_count": 43,
     "metadata": {},
     "output_type": "execute_result"
    },
    {
     "data": {
      "image/png": "[encoded data removed]",
      "text/plain": [
       "<Figure size 640x480 with 1 Axes>"
      ]
     },
     "metadata": {},
     "output_type": "display_data"
    }
   ],
   "source": [
    "Blizzard_Commodities_DF['item.name'].value_counts().plot()"
   ]
  },
  {
   "cell_type": "markdown",
   "id": "c2d98a21-cdc0-4c02-b60c-f17dc9f3c7ec",
   "metadata": {},
   "source": [
    "- item.class"
   ]
  },
  {
   "cell_type": "code",
   "execution_count": 44,
   "id": "6306a8f0-700b-4a45-8dd0-958b27c006f9",
   "metadata": {},
   "outputs": [
    {
     "data": {
      "text/plain": [
       "item.class\n",
       "Trade Goods      43471369\n",
       "Consumables      19247503\n",
       "Unknown           7323232\n",
       "Miscellaneous     6179978\n",
       "Gems              2865191\n",
       "Glyphs             734695\n",
       "Armor               24651\n",
       "Recipes              6211\n",
       "Name: count, dtype: int64"
      ]
     },
     "execution_count": 44,
     "metadata": {},
     "output_type": "execute_result"
    }
   ],
   "source": [
    "Blizzard_Commodities_DF['item.class'].value_counts()"
   ]
  },
  {
   "cell_type": "code",
   "execution_count": 45,
   "id": "08cbc624-58a6-49f8-8755-d856680e27d7",
   "metadata": {},
   "outputs": [
    {
     "data": {
      "text/plain": [
       "<Axes: xlabel='item.class'>"
      ]
     },
     "execution_count": 45,
     "metadata": {},
     "output_type": "execute_result"
    },
    {
     "data": {
      "image/png": "[encoded data removed]",
      "text/plain": [
       "<Figure size 640x480 with 1 Axes>"
      ]
     },
     "metadata": {},
     "output_type": "display_data"
    }
   ],
   "source": [
    "Blizzard_Commodities_DF['item.class'].value_counts().plot()"
   ]
  },
  {
   "cell_type": "markdown",
   "id": "bd2709bb-030e-4e7b-863e-b822992d454d",
   "metadata": {},
   "source": [
    "- date_time"
   ]
  },
  {
   "cell_type": "code",
   "execution_count": 46,
   "id": "7b8a7661-bb94-48e2-8b02-4d8356c2be1f",
   "metadata": {},
   "outputs": [
    {
     "data": {
      "text/plain": [
       "datetime\n",
       "2024-01-03 05:41:00    315767\n",
       "2024-01-03 06:41:00    315556\n",
       "2024-01-03 07:41:00    312663\n",
       "2024-01-03 03:41:00    312455\n",
       "2024-01-03 00:41:00    311214\n",
       "                        ...  \n",
       "2023-12-25 16:41:00    255753\n",
       "2023-12-25 19:41:00    255363\n",
       "2023-12-30 16:41:00    254537\n",
       "2023-12-25 17:41:00    253814\n",
       "2023-12-25 18:41:00    253721\n",
       "Name: count, Length: 285, dtype: int64"
      ]
     },
     "execution_count": 46,
     "metadata": {},
     "output_type": "execute_result"
    }
   ],
   "source": [
    "Blizzard_Commodities_DF['datetime'].value_counts()"
   ]
  },
  {
   "cell_type": "code",
   "execution_count": 47,
   "id": "e945027d-524b-4d7f-8199-1f2040f2aadf",
   "metadata": {},
   "outputs": [
    {
     "data": {
      "text/plain": [
       "<Axes: xlabel='datetime'>"
      ]
     },
     "execution_count": 47,
     "metadata": {},
     "output_type": "execute_result"
    },
    {
     "data": {
      "image/png": "[encoded data removed]",
      "text/plain": [
       "<Figure size 640x480 with 1 Axes>"
      ]
     },
     "metadata": {},
     "output_type": "display_data"
    }
   ],
   "source": [
    "Blizzard_Commodities_DF['datetime'].value_counts().plot()"
   ]
  },
  {
   "cell_type": "markdown",
   "id": "f5b3ce43-3b90-49c5-a85f-a14faec17193",
   "metadata": {},
   "source": [
    "### ** Modify DF for easier analysis of datetime data"
   ]
  },
  {
   "cell_type": "code",
   "execution_count": 48,
   "id": "6c509f81-6b89-49c4-9b75-de1c249ed130",
   "metadata": {},
   "outputs": [],
   "source": [
    "Blizzard_Commodities_DF['date']=pd.to_datetime(Blizzard_Commodities_DF['datetime']).dt.date\n",
    "Blizzard_Commodities_DF['date']=pd.to_datetime(Blizzard_Commodities_DF['date'])\n",
    "Blizzard_Commodities_DF['time']=pd.to_datetime(Blizzard_Commodities_DF['datetime']).dt.time\n",
    "# Blizzard_Commodities_DF.drop(columns='datetime', inplace=True)"
   ]
  },
  {
   "cell_type": "code",
   "execution_count": 49,
   "id": "48c47889-a876-4c6e-a6cf-25b293eb7e7a",
   "metadata": {},
   "outputs": [
    {
     "name": "stdout",
     "output_type": "stream",
     "text": [
      "<class 'pandas.core.frame.DataFrame'>\n",
      "RangeIndex: 79852830 entries, 0 to 79852829\n",
      "Data columns (total 10 columns):\n",
      " #   Column      Dtype         \n",
      "---  ------      -----         \n",
      " 0   id          int64         \n",
      " 1   quantity    int64         \n",
      " 2   unit_price  int64         \n",
      " 3   time_left   object        \n",
      " 4   item.id     int64         \n",
      " 5   item.name   object        \n",
      " 6   item.class  object        \n",
      " 7   datetime    object        \n",
      " 8   date        datetime64[ns]\n",
      " 9   time        object        \n",
      "dtypes: datetime64[ns](1), int64(4), object(5)\n",
      "memory usage: 5.9+ GB\n"
     ]
    }
   ],
   "source": [
    "Blizzard_Commodities_DF.info()"
   ]
  },
  {
   "cell_type": "markdown",
   "id": "e1c0f2b0-2944-409b-87b3-8518ade6ebe6",
   "metadata": {},
   "source": [
    "## Divide Blizzard_Commodities_DF in Blizzard_1 and Blizzard_2 "
   ]
  },
  {
   "cell_type": "markdown",
   "id": "f3ea64f8-abf6-4807-a8be-9eb7dc1dcdec",
   "metadata": {},
   "source": [
    "## and save as CSV to close the DF and use less memory"
   ]
  },
  {
   "cell_type": "code",
   "execution_count": 50,
   "id": "1e8620fd-1d0f-48ad-8b00-c005bd9303db",
   "metadata": {},
   "outputs": [],
   "source": [
    "temp_df=Blizzard_Commodities_DF.iloc[0:int(79852830/2)]\n",
    "temp_df.to_csv('Blizzard_1.csv')\n",
    "temp_df=Blizzard_Commodities_DF.iloc[int(79852830/2):]\n",
    "temp_df.to_csv('Blizzard_2.csv')\n",
    "temp_df=[]"
   ]
  },
  {
   "cell_type": "markdown",
   "id": "081908dd-45fa-40c1-843c-2218a811f22c",
   "metadata": {},
   "source": [
    "- date"
   ]
  },
  {
   "cell_type": "code",
   "execution_count": 51,
   "id": "9688c80d-9a98-42ac-8589-f60627cde754",
   "metadata": {},
   "outputs": [
    {
     "data": {
      "text/plain": [
       "date\n",
       "2023-12-27    6995127\n",
       "2024-01-02    6938995\n",
       "2023-12-28    6876115\n",
       "2023-12-23    6807004\n",
       "2023-12-24    6729335\n",
       "2023-12-26    6660379\n",
       "2023-12-31    6579628\n",
       "2023-12-30    6518004\n",
       "2024-01-01    6452228\n",
       "2023-12-25    6361764\n",
       "2023-12-29    6344696\n",
       "2024-01-03    4902498\n",
       "2023-12-22    1687057\n",
       "Name: count, dtype: int64"
      ]
     },
     "execution_count": 51,
     "metadata": {},
     "output_type": "execute_result"
    }
   ],
   "source": [
    "Blizzard_Commodities_DF['date'].value_counts()"
   ]
  },
  {
   "cell_type": "code",
   "execution_count": 52,
   "id": "842f4095-7543-4c79-977d-f107c562f9c5",
   "metadata": {},
   "outputs": [
    {
     "data": {
      "text/plain": [
       "<Axes: xlabel='date'>"
      ]
     },
     "execution_count": 52,
     "metadata": {},
     "output_type": "execute_result"
    },
    {
     "data": {
      "image/png": "[encoded data removed]",
      "text/plain": [
       "<Figure size 640x480 with 1 Axes>"
      ]
     },
     "metadata": {},
     "output_type": "display_data"
    }
   ],
   "source": [
    "Blizzard_Commodities_DF['date'].value_counts().plot()"
   ]
  },
  {
   "cell_type": "markdown",
   "id": "185e00e6-d1b0-4230-b265-bbd5ed166185",
   "metadata": {},
   "source": [
    "- time"
   ]
  },
  {
   "cell_type": "code",
   "execution_count": 53,
   "id": "317a859e-c5aa-43ae-a2f0-2b5b6b14fe6f",
   "metadata": {},
   "outputs": [
    {
     "data": {
      "text/plain": [
       "time\n",
       "04:41:00    3456157\n",
       "05:41:00    3450119\n",
       "03:41:00    3442899\n",
       "02:41:00    3434250\n",
       "06:41:00    3429642\n",
       "00:41:00    3427522\n",
       "01:41:00    3422419\n",
       "07:41:00    3407182\n",
       "08:41:00    3390034\n",
       "22:41:00    3377253\n",
       "09:41:00    3370757\n",
       "10:41:00    3347745\n",
       "21:41:00    3333862\n",
       "20:41:00    3314112\n",
       "11:41:00    3313217\n",
       "19:41:00    3308048\n",
       "18:41:00    3307403\n",
       "12:41:00    3301426\n",
       "15:41:00    3296969\n",
       "13:41:00    3289191\n",
       "14:41:00    3280429\n",
       "23:41:00    3125552\n",
       "17:41:00    3017569\n",
       "16:41:00    3009073\n",
       "Name: count, dtype: int64"
      ]
     },
     "execution_count": 53,
     "metadata": {},
     "output_type": "execute_result"
    }
   ],
   "source": [
    "Blizzard_Commodities_DF['time'].value_counts()"
   ]
  },
  {
   "cell_type": "code",
   "execution_count": 54,
   "id": "b766624d-14b7-4d63-b054-efaf29fa1ecc",
   "metadata": {},
   "outputs": [
    {
     "data": {
      "text/plain": [
       "<Axes: xlabel='time'>"
      ]
     },
     "execution_count": 54,
     "metadata": {},
     "output_type": "execute_result"
    },
    {
     "data": {
      "image/png": "[encoded data removed]",
      "text/plain": [
       "<Figure size 640x480 with 1 Axes>"
      ]
     },
     "metadata": {},
     "output_type": "display_data"
    }
   ],
   "source": [
    "Blizzard_Commodities_DF['time'].value_counts().plot()"
   ]
  },
  {
   "cell_type": "markdown",
   "id": "4c38d69c-a7ba-4e5d-9385-8ad8b5077538",
   "metadata": {},
   "source": [
    "## Analysis based on 'item.name' column"
   ]
  },
  {
   "cell_type": "code",
   "execution_count": 55,
   "id": "3aad4102-bfb9-48b6-b28d-fa20d11de1a4",
   "metadata": {},
   "outputs": [
    {
     "data": {
      "text/html": [
       "<div>\n",
       "<style scoped>\n",
       "    .dataframe tbody tr th:only-of-type {\n",
       "        vertical-align: middle;\n",
       "    }\n",
       "\n",
       "    .dataframe tbody tr th {\n",
       "        vertical-align: top;\n",
       "    }\n",
       "\n",
       "    .dataframe thead th {\n",
       "        text-align: right;\n",
       "    }\n",
       "</style>\n",
       "<table border=\"1\" class=\"dataframe\">\n",
       "  <thead>\n",
       "    <tr style=\"text-align: right;\">\n",
       "      <th></th>\n",
       "      <th>item.name</th>\n",
       "      <th>count</th>\n",
       "    </tr>\n",
       "  </thead>\n",
       "  <tbody>\n",
       "    <tr>\n",
       "      <th>0</th>\n",
       "      <td>Fluorescent Fluid</td>\n",
       "      <td>978744</td>\n",
       "    </tr>\n",
       "    <tr>\n",
       "      <th>1</th>\n",
       "      <td>Exceptional Pelt</td>\n",
       "      <td>665069</td>\n",
       "    </tr>\n",
       "    <tr>\n",
       "      <th>2</th>\n",
       "      <td>Hochenblume</td>\n",
       "      <td>497568</td>\n",
       "    </tr>\n",
       "    <tr>\n",
       "      <th>3</th>\n",
       "      <td>Adamant Scales</td>\n",
       "      <td>465241</td>\n",
       "    </tr>\n",
       "    <tr>\n",
       "      <th>4</th>\n",
       "      <td>Resilient Leather</td>\n",
       "      <td>454930</td>\n",
       "    </tr>\n",
       "    <tr>\n",
       "      <th>...</th>\n",
       "      <td>...</td>\n",
       "      <td>...</td>\n",
       "    </tr>\n",
       "    <tr>\n",
       "      <th>7959</th>\n",
       "      <td>Masterful Mana Buns</td>\n",
       "      <td>2</td>\n",
       "    </tr>\n",
       "    <tr>\n",
       "      <th>7960</th>\n",
       "      <td>Blood Soaked Tail</td>\n",
       "      <td>1</td>\n",
       "    </tr>\n",
       "    <tr>\n",
       "      <th>7961</th>\n",
       "      <td>Emberflea Collection</td>\n",
       "      <td>1</td>\n",
       "    </tr>\n",
       "    <tr>\n",
       "      <th>7962</th>\n",
       "      <td>Elemental-Distilled Water</td>\n",
       "      <td>1</td>\n",
       "    </tr>\n",
       "    <tr>\n",
       "      <th>7963</th>\n",
       "      <td>Extra Large Grooming Comb</td>\n",
       "      <td>1</td>\n",
       "    </tr>\n",
       "  </tbody>\n",
       "</table>\n",
       "<p>7964 rows × 2 columns</p>\n",
       "</div>"
      ],
      "text/plain": [
       "                      item.name   count\n",
       "0             Fluorescent Fluid  978744\n",
       "1              Exceptional Pelt  665069\n",
       "2                   Hochenblume  497568\n",
       "3                Adamant Scales  465241\n",
       "4             Resilient Leather  454930\n",
       "...                         ...     ...\n",
       "7959        Masterful Mana Buns       2\n",
       "7960          Blood Soaked Tail       1\n",
       "7961       Emberflea Collection       1\n",
       "7962  Elemental-Distilled Water       1\n",
       "7963  Extra Large Grooming Comb       1\n",
       "\n",
       "[7964 rows x 2 columns]"
      ]
     },
     "execution_count": 55,
     "metadata": {},
     "output_type": "execute_result"
    }
   ],
   "source": [
    "item_name_count_df=pd.DataFrame(Blizzard_Commodities_DF['item.name'].value_counts())\n",
    "item_name_count_df.reset_index()"
   ]
  },
  {
   "cell_type": "markdown",
   "id": "a57d0401-6d51-4ce0-8013-65f13e1cb9be",
   "metadata": {},
   "source": [
    "### The most offered item is 'Fluorescent Fluid', analysing data"
   ]
  },
  {
   "cell_type": "code",
   "execution_count": 56,
   "id": "1ab5d31b-012e-4e18-b861-15b95e4e8f4a",
   "metadata": {},
   "outputs": [],
   "source": [
    "fluorecent_fluid_df=Blizzard_Commodities_DF.loc[Blizzard_Commodities_DF['item.name']=='Fluorescent Fluid']"
   ]
  },
  {
   "cell_type": "code",
   "execution_count": null,
   "id": "4b5a1be7-9bfa-4f56-9adb-542edea0cab2",
   "metadata": {},
   "outputs": [],
   "source": [
    "#Did not work as I expected\n",
    "for column in fluorecent_fluid_df:\n",
    "    try:\n",
    "        display(f\"Columns: {column}\")\n",
    "        display(fluorecent_fluid_df[column].value_counts())\n",
    "    except Exception as err:\n",
    "        print(err)\n",
    "    try:\n",
    "        display(fluorecent_fluid_df[column].value_counts().plot())\n",
    "    except Exception as err:\n",
    "        print(err)"
   ]
  },
  {
   "cell_type": "code",
   "execution_count": 57,
   "id": "d014bcd9-cec5-4927-9319-55114ce8b440",
   "metadata": {},
   "outputs": [
    {
     "name": "stdout",
     "output_type": "stream",
     "text": [
      "<class 'pandas.core.frame.DataFrame'>\n",
      "Index: 978744 entries, 17 to 79852799\n",
      "Data columns (total 10 columns):\n",
      " #   Column      Non-Null Count   Dtype         \n",
      "---  ------      --------------   -----         \n",
      " 0   id          978744 non-null  int64         \n",
      " 1   quantity    978744 non-null  int64         \n",
      " 2   unit_price  978744 non-null  int64         \n",
      " 3   time_left   978744 non-null  object        \n",
      " 4   item.id     978744 non-null  int64         \n",
      " 5   item.name   978744 non-null  object        \n",
      " 6   item.class  978744 non-null  object        \n",
      " 7   datetime    978744 non-null  object        \n",
      " 8   date        978744 non-null  datetime64[ns]\n",
      " 9   time        978744 non-null  object        \n",
      "dtypes: datetime64[ns](1), int64(4), object(5)\n",
      "memory usage: 82.1+ MB\n"
     ]
    }
   ],
   "source": [
    "fluorecent_fluid_df.info()"
   ]
  },
  {
   "cell_type": "code",
   "execution_count": 58,
   "id": "6954b25b-38d0-433d-ab2d-3bf96c29490d",
   "metadata": {},
   "outputs": [
    {
     "data": {
      "text/plain": [
       "id\n",
       "1920665016    50\n",
       "1902771003    49\n",
       "1902767818    49\n",
       "1902767354    49\n",
       "1902766698    49\n",
       "              ..\n",
       "1928105488     1\n",
       "1928101860     1\n",
       "1928100641     1\n",
       "1928100308     1\n",
       "1920047736     1\n",
       "Name: count, Length: 37282, dtype: int64"
      ]
     },
     "execution_count": 58,
     "metadata": {},
     "output_type": "execute_result"
    }
   ],
   "source": [
    "fluorecent_fluid_df['id'].value_counts()"
   ]
  },
  {
   "cell_type": "code",
   "execution_count": 59,
   "id": "cf64d215-63a5-42ce-9ab3-5b96df4cc99b",
   "metadata": {},
   "outputs": [
    {
     "data": {
      "text/plain": [
       "<Axes: xlabel='id'>"
      ]
     },
     "execution_count": 59,
     "metadata": {},
     "output_type": "execute_result"
    },
    {
     "data": {
      "image/png": "[encoded data removed]",
      "text/plain": [
       "<Figure size 640x480 with 1 Axes>"
      ]
     },
     "metadata": {},
     "output_type": "display_data"
    }
   ],
   "source": [
    "fluorecent_fluid_df['id'].value_counts().plot()"
   ]
  },
  {
   "cell_type": "code",
   "execution_count": 60,
   "id": "8e2856e7-837e-4956-b4ab-cb120f4a8b00",
   "metadata": {},
   "outputs": [
    {
     "data": {
      "text/plain": [
       "quantity\n",
       "1       188007\n",
       "2       116251\n",
       "3        71802\n",
       "4        52698\n",
       "6        48298\n",
       "         ...  \n",
       "274          1\n",
       "1211         1\n",
       "248          1\n",
       "225          1\n",
       "504          1\n",
       "Name: count, Length: 367, dtype: int64"
      ]
     },
     "execution_count": 60,
     "metadata": {},
     "output_type": "execute_result"
    }
   ],
   "source": [
    "fluorecent_fluid_df['quantity'].value_counts()"
   ]
  },
  {
   "cell_type": "code",
   "execution_count": 61,
   "id": "22f55e1d-3c9c-435f-8532-bc85c9a2a33a",
   "metadata": {},
   "outputs": [
    {
     "data": {
      "text/plain": [
       "<Axes: xlabel='quantity'>"
      ]
     },
     "execution_count": 61,
     "metadata": {},
     "output_type": "execute_result"
    },
    {
     "data": {
      "image/png": "[encoded data removed]",
      "text/plain": [
       "<Figure size 640x480 with 1 Axes>"
      ]
     },
     "metadata": {},
     "output_type": "display_data"
    }
   ],
   "source": [
    "fluorecent_fluid_df['quantity'].value_counts().plot()"
   ]
  },
  {
   "cell_type": "code",
   "execution_count": 62,
   "id": "5fc35f3b-638e-4f41-acde-4cf7a0c37cde",
   "metadata": {},
   "outputs": [
    {
     "data": {
      "text/plain": [
       "unit_price\n",
       "6300         884821\n",
       "9400          43379\n",
       "74600          9218\n",
       "10000          2774\n",
       "6600           2703\n",
       "              ...  \n",
       "3500              2\n",
       "100006200         2\n",
       "5600              1\n",
       "3200              1\n",
       "2500              1\n",
       "Name: count, Length: 148, dtype: int64"
      ]
     },
     "execution_count": 62,
     "metadata": {},
     "output_type": "execute_result"
    }
   ],
   "source": [
    "fluorecent_fluid_df['unit_price'].value_counts()"
   ]
  },
  {
   "cell_type": "code",
   "execution_count": 63,
   "id": "4799ccb6-caec-4e67-9a56-d6a3fa958bec",
   "metadata": {},
   "outputs": [
    {
     "data": {
      "text/plain": [
       "<Axes: xlabel='unit_price'>"
      ]
     },
     "execution_count": 63,
     "metadata": {},
     "output_type": "execute_result"
    },
    {
     "data": {
      "image/png": "[encoded data removed]",
      "text/plain": [
       "<Figure size 640x480 with 1 Axes>"
      ]
     },
     "metadata": {},
     "output_type": "display_data"
    }
   ],
   "source": [
    "fluorecent_fluid_df['unit_price'].value_counts().plot()"
   ]
  },
  {
   "cell_type": "code",
   "execution_count": 64,
   "id": "cb1dc083-e2dd-4ad3-bc39-33c04d7fe29b",
   "metadata": {},
   "outputs": [
    {
     "data": {
      "text/plain": [
       "time_left\n",
       "VERY_LONG    680771\n",
       "LONG         250207\n",
       "MEDIUM        35672\n",
       "SHORT         12094\n",
       "Name: count, dtype: int64"
      ]
     },
     "execution_count": 64,
     "metadata": {},
     "output_type": "execute_result"
    }
   ],
   "source": [
    "fluorecent_fluid_df['time_left'].value_counts()"
   ]
  },
  {
   "cell_type": "code",
   "execution_count": 65,
   "id": "d2293ec4-e853-4f29-aa5a-9d4ca3c8b986",
   "metadata": {},
   "outputs": [
    {
     "data": {
      "text/plain": [
       "<Axes: xlabel='time_left'>"
      ]
     },
     "execution_count": 65,
     "metadata": {},
     "output_type": "execute_result"
    },
    {
     "data": {
      "image/png": "[encoded data removed]",
      "text/plain": [
       "<Figure size 640x480 with 1 Axes>"
      ]
     },
     "metadata": {},
     "output_type": "display_data"
    }
   ],
   "source": [
    "fluorecent_fluid_df['time_left'].value_counts().plot()"
   ]
  },
  {
   "cell_type": "code",
   "execution_count": 66,
   "id": "87a944ce-2592-4211-8152-6a69d46ae58a",
   "metadata": {},
   "outputs": [
    {
     "data": {
      "text/plain": [
       "date\n",
       "2023-12-27    110414\n",
       "2023-12-28    108682\n",
       "2023-12-23     99650\n",
       "2023-12-24     92633\n",
       "2023-12-26     92544\n",
       "2023-12-31     85393\n",
       "2023-12-25     81734\n",
       "2024-01-01     72222\n",
       "2024-01-03     58656\n",
       "2023-12-30     55231\n",
       "2024-01-02     51113\n",
       "2023-12-29     44852\n",
       "2023-12-22     25620\n",
       "Name: count, dtype: int64"
      ]
     },
     "execution_count": 66,
     "metadata": {},
     "output_type": "execute_result"
    }
   ],
   "source": [
    "fluorecent_fluid_df['date'].value_counts()"
   ]
  },
  {
   "cell_type": "code",
   "execution_count": 67,
   "id": "ced2c615-3247-4b0e-8d7e-0da08c0bd5a5",
   "metadata": {},
   "outputs": [
    {
     "data": {
      "text/plain": [
       "<Axes: xlabel='date'>"
      ]
     },
     "execution_count": 67,
     "metadata": {},
     "output_type": "execute_result"
    },
    {
     "data": {
      "image/png": "[encoded data removed]",
      "text/plain": [
       "<Figure size 640x480 with 1 Axes>"
      ]
     },
     "metadata": {},
     "output_type": "display_data"
    }
   ],
   "source": [
    "fluorecent_fluid_df['date'].value_counts().plot()"
   ]
  },
  {
   "cell_type": "code",
   "execution_count": 68,
   "id": "938c2d5b-e9e8-40b4-acc3-9738a3135daa",
   "metadata": {},
   "outputs": [
    {
     "data": {
      "text/plain": [
       "time\n",
       "07:41:00    43850\n",
       "06:41:00    43779\n",
       "05:41:00    43512\n",
       "04:41:00    43189\n",
       "03:41:00    42913\n",
       "02:41:00    42379\n",
       "01:41:00    42091\n",
       "00:41:00    41680\n",
       "15:41:00    40772\n",
       "14:41:00    40623\n",
       "22:41:00    40560\n",
       "13:41:00    40500\n",
       "12:41:00    40451\n",
       "10:41:00    40437\n",
       "09:41:00    40378\n",
       "11:41:00    40332\n",
       "08:41:00    40327\n",
       "21:41:00    39951\n",
       "23:41:00    39714\n",
       "20:41:00    39563\n",
       "19:41:00    38995\n",
       "18:41:00    38510\n",
       "17:41:00    37275\n",
       "16:41:00    36963\n",
       "Name: count, dtype: int64"
      ]
     },
     "execution_count": 68,
     "metadata": {},
     "output_type": "execute_result"
    }
   ],
   "source": [
    "fluorecent_fluid_df['time'].value_counts()"
   ]
  },
  {
   "cell_type": "code",
   "execution_count": 69,
   "id": "032e13a8-39d9-4068-af4c-b1e49c4001fb",
   "metadata": {},
   "outputs": [
    {
     "data": {
      "text/plain": [
       "<Axes: xlabel='time'>"
      ]
     },
     "execution_count": 69,
     "metadata": {},
     "output_type": "execute_result"
    },
    {
     "data": {
      "image/png": "[encoded data removed]",
      "text/plain": [
       "<Figure size 640x480 with 1 Axes>"
      ]
     },
     "metadata": {},
     "output_type": "display_data"
    }
   ],
   "source": [
    "fluorecent_fluid_df['time'].value_counts().plot()"
   ]
  },
  {
   "cell_type": "markdown",
   "id": "972a1814-c34e-4fa7-84bc-095502a6b32a",
   "metadata": {},
   "source": [
    "### Find the auction(s) the lasted the longest"
   ]
  },
  {
   "cell_type": "markdown",
   "id": "02c2deb3-8b16-40b4-b424-4a81280aed0d",
   "metadata": {},
   "source": [
    "### (Waste of 2 hrs to process, same results as 20 sec value_counts())"
   ]
  },
  {
   "cell_type": "code",
   "execution_count": null,
   "id": "b00b8cf0-f489-4b89-9d3b-e8162db3aa75",
   "metadata": {},
   "outputs": [],
   "source": [
    "# get the auction(s) that was live the longest\n",
    "# max=0\n",
    "# id_max=0\n",
    "# max_ids=[]\n",
    "# for id in fluorecent_fluid_df['id'].unique():\n",
    "#     display(id)\n",
    "#     days=fluorecent_fluid_df['date'].loc[fluorecent_fluid_df['id']==id]\n",
    "#     if len(list(set(days)))>max:\n",
    "#         max=len(list(set(days)))\n",
    "#         id_max=id\n",
    "#     if len(list(set(days)))==max:\n",
    "#         max_ids.append(id)\n",
    "#         display(f\"id:{id} max with :{max}\")\n",
    "# display(id_max, max)"
   ]
  },
  {
   "cell_type": "code",
   "execution_count": 78,
   "id": "995fc66d-977b-4531-8373-da357b6451e7",
   "metadata": {},
   "outputs": [
    {
     "data": {
      "text/html": [
       "<div>\n",
       "<style scoped>\n",
       "    .dataframe tbody tr th:only-of-type {\n",
       "        vertical-align: middle;\n",
       "    }\n",
       "\n",
       "    .dataframe tbody tr th {\n",
       "        vertical-align: top;\n",
       "    }\n",
       "\n",
       "    .dataframe thead th {\n",
       "        text-align: right;\n",
       "    }\n",
       "</style>\n",
       "<table border=\"1\" class=\"dataframe\">\n",
       "  <thead>\n",
       "    <tr style=\"text-align: right;\">\n",
       "      <th></th>\n",
       "      <th>id</th>\n",
       "      <th>quantity</th>\n",
       "      <th>unit_price</th>\n",
       "      <th>time_left</th>\n",
       "      <th>item.id</th>\n",
       "      <th>item.name</th>\n",
       "      <th>item.class</th>\n",
       "      <th>datetime</th>\n",
       "      <th>date</th>\n",
       "      <th>time</th>\n",
       "    </tr>\n",
       "  </thead>\n",
       "  <tbody>\n",
       "    <tr>\n",
       "      <th>17</th>\n",
       "      <td>1899751061</td>\n",
       "      <td>28</td>\n",
       "      <td>6300</td>\n",
       "      <td>SHORT</td>\n",
       "      <td>192615</td>\n",
       "      <td>Fluorescent Fluid</td>\n",
       "      <td>Unknown</td>\n",
       "      <td>2023-12-28 15:41:00</td>\n",
       "      <td>2023-12-28</td>\n",
       "      <td>15:41:00</td>\n",
       "    </tr>\n",
       "    <tr>\n",
       "      <th>18</th>\n",
       "      <td>1899751205</td>\n",
       "      <td>84</td>\n",
       "      <td>6300</td>\n",
       "      <td>SHORT</td>\n",
       "      <td>192615</td>\n",
       "      <td>Fluorescent Fluid</td>\n",
       "      <td>Unknown</td>\n",
       "      <td>2023-12-28 15:41:00</td>\n",
       "      <td>2023-12-28</td>\n",
       "      <td>15:41:00</td>\n",
       "    </tr>\n",
       "    <tr>\n",
       "      <th>24</th>\n",
       "      <td>1899752493</td>\n",
       "      <td>101</td>\n",
       "      <td>6300</td>\n",
       "      <td>SHORT</td>\n",
       "      <td>192615</td>\n",
       "      <td>Fluorescent Fluid</td>\n",
       "      <td>Unknown</td>\n",
       "      <td>2023-12-28 15:41:00</td>\n",
       "      <td>2023-12-28</td>\n",
       "      <td>15:41:00</td>\n",
       "    </tr>\n",
       "    <tr>\n",
       "      <th>32</th>\n",
       "      <td>1899753275</td>\n",
       "      <td>24</td>\n",
       "      <td>7900</td>\n",
       "      <td>SHORT</td>\n",
       "      <td>192615</td>\n",
       "      <td>Fluorescent Fluid</td>\n",
       "      <td>Unknown</td>\n",
       "      <td>2023-12-28 15:41:00</td>\n",
       "      <td>2023-12-28</td>\n",
       "      <td>15:41:00</td>\n",
       "    </tr>\n",
       "    <tr>\n",
       "      <th>39</th>\n",
       "      <td>1899753849</td>\n",
       "      <td>109</td>\n",
       "      <td>6300</td>\n",
       "      <td>SHORT</td>\n",
       "      <td>192615</td>\n",
       "      <td>Fluorescent Fluid</td>\n",
       "      <td>Unknown</td>\n",
       "      <td>2023-12-28 15:41:00</td>\n",
       "      <td>2023-12-28</td>\n",
       "      <td>15:41:00</td>\n",
       "    </tr>\n",
       "    <tr>\n",
       "      <th>42</th>\n",
       "      <td>1899754318</td>\n",
       "      <td>3</td>\n",
       "      <td>6300</td>\n",
       "      <td>SHORT</td>\n",
       "      <td>192615</td>\n",
       "      <td>Fluorescent Fluid</td>\n",
       "      <td>Unknown</td>\n",
       "      <td>2023-12-28 15:41:00</td>\n",
       "      <td>2023-12-28</td>\n",
       "      <td>15:41:00</td>\n",
       "    </tr>\n",
       "    <tr>\n",
       "      <th>51</th>\n",
       "      <td>1899755426</td>\n",
       "      <td>2</td>\n",
       "      <td>6300</td>\n",
       "      <td>SHORT</td>\n",
       "      <td>192615</td>\n",
       "      <td>Fluorescent Fluid</td>\n",
       "      <td>Unknown</td>\n",
       "      <td>2023-12-28 15:41:00</td>\n",
       "      <td>2023-12-28</td>\n",
       "      <td>15:41:00</td>\n",
       "    </tr>\n",
       "    <tr>\n",
       "      <th>61</th>\n",
       "      <td>1899756400</td>\n",
       "      <td>29</td>\n",
       "      <td>6300</td>\n",
       "      <td>SHORT</td>\n",
       "      <td>192615</td>\n",
       "      <td>Fluorescent Fluid</td>\n",
       "      <td>Unknown</td>\n",
       "      <td>2023-12-28 15:41:00</td>\n",
       "      <td>2023-12-28</td>\n",
       "      <td>15:41:00</td>\n",
       "    </tr>\n",
       "    <tr>\n",
       "      <th>68</th>\n",
       "      <td>1899757569</td>\n",
       "      <td>2</td>\n",
       "      <td>6300</td>\n",
       "      <td>SHORT</td>\n",
       "      <td>192615</td>\n",
       "      <td>Fluorescent Fluid</td>\n",
       "      <td>Unknown</td>\n",
       "      <td>2023-12-28 15:41:00</td>\n",
       "      <td>2023-12-28</td>\n",
       "      <td>15:41:00</td>\n",
       "    </tr>\n",
       "    <tr>\n",
       "      <th>133</th>\n",
       "      <td>1899761589</td>\n",
       "      <td>4</td>\n",
       "      <td>6300</td>\n",
       "      <td>SHORT</td>\n",
       "      <td>192615</td>\n",
       "      <td>Fluorescent Fluid</td>\n",
       "      <td>Unknown</td>\n",
       "      <td>2023-12-28 15:41:00</td>\n",
       "      <td>2023-12-28</td>\n",
       "      <td>15:41:00</td>\n",
       "    </tr>\n",
       "    <tr>\n",
       "      <th>151</th>\n",
       "      <td>1899762569</td>\n",
       "      <td>22</td>\n",
       "      <td>6300</td>\n",
       "      <td>SHORT</td>\n",
       "      <td>192615</td>\n",
       "      <td>Fluorescent Fluid</td>\n",
       "      <td>Unknown</td>\n",
       "      <td>2023-12-28 15:41:00</td>\n",
       "      <td>2023-12-28</td>\n",
       "      <td>15:41:00</td>\n",
       "    </tr>\n",
       "    <tr>\n",
       "      <th>171</th>\n",
       "      <td>1899763690</td>\n",
       "      <td>4</td>\n",
       "      <td>6300</td>\n",
       "      <td>SHORT</td>\n",
       "      <td>192615</td>\n",
       "      <td>Fluorescent Fluid</td>\n",
       "      <td>Unknown</td>\n",
       "      <td>2023-12-28 15:41:00</td>\n",
       "      <td>2023-12-28</td>\n",
       "      <td>15:41:00</td>\n",
       "    </tr>\n",
       "    <tr>\n",
       "      <th>188</th>\n",
       "      <td>1899765066</td>\n",
       "      <td>11</td>\n",
       "      <td>6300</td>\n",
       "      <td>SHORT</td>\n",
       "      <td>192615</td>\n",
       "      <td>Fluorescent Fluid</td>\n",
       "      <td>Unknown</td>\n",
       "      <td>2023-12-28 15:41:00</td>\n",
       "      <td>2023-12-28</td>\n",
       "      <td>15:41:00</td>\n",
       "    </tr>\n",
       "    <tr>\n",
       "      <th>190</th>\n",
       "      <td>1899765218</td>\n",
       "      <td>1</td>\n",
       "      <td>6300</td>\n",
       "      <td>SHORT</td>\n",
       "      <td>192615</td>\n",
       "      <td>Fluorescent Fluid</td>\n",
       "      <td>Unknown</td>\n",
       "      <td>2023-12-28 15:41:00</td>\n",
       "      <td>2023-12-28</td>\n",
       "      <td>15:41:00</td>\n",
       "    </tr>\n",
       "    <tr>\n",
       "      <th>213</th>\n",
       "      <td>1899767301</td>\n",
       "      <td>1</td>\n",
       "      <td>6300</td>\n",
       "      <td>SHORT</td>\n",
       "      <td>192615</td>\n",
       "      <td>Fluorescent Fluid</td>\n",
       "      <td>Unknown</td>\n",
       "      <td>2023-12-28 15:41:00</td>\n",
       "      <td>2023-12-28</td>\n",
       "      <td>15:41:00</td>\n",
       "    </tr>\n",
       "    <tr>\n",
       "      <th>232</th>\n",
       "      <td>1899769257</td>\n",
       "      <td>4</td>\n",
       "      <td>6300</td>\n",
       "      <td>SHORT</td>\n",
       "      <td>192615</td>\n",
       "      <td>Fluorescent Fluid</td>\n",
       "      <td>Unknown</td>\n",
       "      <td>2023-12-28 15:41:00</td>\n",
       "      <td>2023-12-28</td>\n",
       "      <td>15:41:00</td>\n",
       "    </tr>\n",
       "    <tr>\n",
       "      <th>246</th>\n",
       "      <td>1899770902</td>\n",
       "      <td>4</td>\n",
       "      <td>6300</td>\n",
       "      <td>SHORT</td>\n",
       "      <td>192615</td>\n",
       "      <td>Fluorescent Fluid</td>\n",
       "      <td>Unknown</td>\n",
       "      <td>2023-12-28 15:41:00</td>\n",
       "      <td>2023-12-28</td>\n",
       "      <td>15:41:00</td>\n",
       "    </tr>\n",
       "    <tr>\n",
       "      <th>265</th>\n",
       "      <td>1899773539</td>\n",
       "      <td>74</td>\n",
       "      <td>7500</td>\n",
       "      <td>SHORT</td>\n",
       "      <td>192615</td>\n",
       "      <td>Fluorescent Fluid</td>\n",
       "      <td>Unknown</td>\n",
       "      <td>2023-12-28 15:41:00</td>\n",
       "      <td>2023-12-28</td>\n",
       "      <td>15:41:00</td>\n",
       "    </tr>\n",
       "    <tr>\n",
       "      <th>326</th>\n",
       "      <td>1899779222</td>\n",
       "      <td>4</td>\n",
       "      <td>6300</td>\n",
       "      <td>SHORT</td>\n",
       "      <td>192615</td>\n",
       "      <td>Fluorescent Fluid</td>\n",
       "      <td>Unknown</td>\n",
       "      <td>2023-12-28 15:41:00</td>\n",
       "      <td>2023-12-28</td>\n",
       "      <td>15:41:00</td>\n",
       "    </tr>\n",
       "    <tr>\n",
       "      <th>353</th>\n",
       "      <td>1899781906</td>\n",
       "      <td>8</td>\n",
       "      <td>6300</td>\n",
       "      <td>SHORT</td>\n",
       "      <td>192615</td>\n",
       "      <td>Fluorescent Fluid</td>\n",
       "      <td>Unknown</td>\n",
       "      <td>2023-12-28 15:41:00</td>\n",
       "      <td>2023-12-28</td>\n",
       "      <td>15:41:00</td>\n",
       "    </tr>\n",
       "    <tr>\n",
       "      <th>357</th>\n",
       "      <td>1899783327</td>\n",
       "      <td>2</td>\n",
       "      <td>6300</td>\n",
       "      <td>SHORT</td>\n",
       "      <td>192615</td>\n",
       "      <td>Fluorescent Fluid</td>\n",
       "      <td>Unknown</td>\n",
       "      <td>2023-12-28 15:41:00</td>\n",
       "      <td>2023-12-28</td>\n",
       "      <td>15:41:00</td>\n",
       "    </tr>\n",
       "    <tr>\n",
       "      <th>411</th>\n",
       "      <td>1899792364</td>\n",
       "      <td>1</td>\n",
       "      <td>6300</td>\n",
       "      <td>MEDIUM</td>\n",
       "      <td>192615</td>\n",
       "      <td>Fluorescent Fluid</td>\n",
       "      <td>Unknown</td>\n",
       "      <td>2023-12-28 15:41:00</td>\n",
       "      <td>2023-12-28</td>\n",
       "      <td>15:41:00</td>\n",
       "    </tr>\n",
       "    <tr>\n",
       "      <th>484</th>\n",
       "      <td>1899799604</td>\n",
       "      <td>1</td>\n",
       "      <td>6300</td>\n",
       "      <td>MEDIUM</td>\n",
       "      <td>192615</td>\n",
       "      <td>Fluorescent Fluid</td>\n",
       "      <td>Unknown</td>\n",
       "      <td>2023-12-28 15:41:00</td>\n",
       "      <td>2023-12-28</td>\n",
       "      <td>15:41:00</td>\n",
       "    </tr>\n",
       "    <tr>\n",
       "      <th>495</th>\n",
       "      <td>1899800780</td>\n",
       "      <td>19</td>\n",
       "      <td>6300</td>\n",
       "      <td>MEDIUM</td>\n",
       "      <td>192615</td>\n",
       "      <td>Fluorescent Fluid</td>\n",
       "      <td>Unknown</td>\n",
       "      <td>2023-12-28 15:41:00</td>\n",
       "      <td>2023-12-28</td>\n",
       "      <td>15:41:00</td>\n",
       "    </tr>\n",
       "    <tr>\n",
       "      <th>515</th>\n",
       "      <td>1899802728</td>\n",
       "      <td>1</td>\n",
       "      <td>6300</td>\n",
       "      <td>MEDIUM</td>\n",
       "      <td>192615</td>\n",
       "      <td>Fluorescent Fluid</td>\n",
       "      <td>Unknown</td>\n",
       "      <td>2023-12-28 15:41:00</td>\n",
       "      <td>2023-12-28</td>\n",
       "      <td>15:41:00</td>\n",
       "    </tr>\n",
       "    <tr>\n",
       "      <th>516</th>\n",
       "      <td>1899802839</td>\n",
       "      <td>1</td>\n",
       "      <td>6300</td>\n",
       "      <td>MEDIUM</td>\n",
       "      <td>192615</td>\n",
       "      <td>Fluorescent Fluid</td>\n",
       "      <td>Unknown</td>\n",
       "      <td>2023-12-28 15:41:00</td>\n",
       "      <td>2023-12-28</td>\n",
       "      <td>15:41:00</td>\n",
       "    </tr>\n",
       "    <tr>\n",
       "      <th>521</th>\n",
       "      <td>1899803251</td>\n",
       "      <td>24</td>\n",
       "      <td>6300</td>\n",
       "      <td>MEDIUM</td>\n",
       "      <td>192615</td>\n",
       "      <td>Fluorescent Fluid</td>\n",
       "      <td>Unknown</td>\n",
       "      <td>2023-12-28 15:41:00</td>\n",
       "      <td>2023-12-28</td>\n",
       "      <td>15:41:00</td>\n",
       "    </tr>\n",
       "    <tr>\n",
       "      <th>602</th>\n",
       "      <td>1899811243</td>\n",
       "      <td>42</td>\n",
       "      <td>6300</td>\n",
       "      <td>MEDIUM</td>\n",
       "      <td>192615</td>\n",
       "      <td>Fluorescent Fluid</td>\n",
       "      <td>Unknown</td>\n",
       "      <td>2023-12-28 15:41:00</td>\n",
       "      <td>2023-12-28</td>\n",
       "      <td>15:41:00</td>\n",
       "    </tr>\n",
       "    <tr>\n",
       "      <th>627</th>\n",
       "      <td>1899812717</td>\n",
       "      <td>4</td>\n",
       "      <td>6300</td>\n",
       "      <td>MEDIUM</td>\n",
       "      <td>192615</td>\n",
       "      <td>Fluorescent Fluid</td>\n",
       "      <td>Unknown</td>\n",
       "      <td>2023-12-28 15:41:00</td>\n",
       "      <td>2023-12-28</td>\n",
       "      <td>15:41:00</td>\n",
       "    </tr>\n",
       "    <tr>\n",
       "      <th>628</th>\n",
       "      <td>1899812777</td>\n",
       "      <td>2</td>\n",
       "      <td>6300</td>\n",
       "      <td>MEDIUM</td>\n",
       "      <td>192615</td>\n",
       "      <td>Fluorescent Fluid</td>\n",
       "      <td>Unknown</td>\n",
       "      <td>2023-12-28 15:41:00</td>\n",
       "      <td>2023-12-28</td>\n",
       "      <td>15:41:00</td>\n",
       "    </tr>\n",
       "  </tbody>\n",
       "</table>\n",
       "</div>"
      ],
      "text/plain": [
       "             id  quantity  unit_price time_left  item.id          item.name  \\\n",
       "17   1899751061        28        6300     SHORT   192615  Fluorescent Fluid   \n",
       "18   1899751205        84        6300     SHORT   192615  Fluorescent Fluid   \n",
       "24   1899752493       101        6300     SHORT   192615  Fluorescent Fluid   \n",
       "32   1899753275        24        7900     SHORT   192615  Fluorescent Fluid   \n",
       "39   1899753849       109        6300     SHORT   192615  Fluorescent Fluid   \n",
       "42   1899754318         3        6300     SHORT   192615  Fluorescent Fluid   \n",
       "51   1899755426         2        6300     SHORT   192615  Fluorescent Fluid   \n",
       "61   1899756400        29        6300     SHORT   192615  Fluorescent Fluid   \n",
       "68   1899757569         2        6300     SHORT   192615  Fluorescent Fluid   \n",
       "133  1899761589         4        6300     SHORT   192615  Fluorescent Fluid   \n",
       "151  1899762569        22        6300     SHORT   192615  Fluorescent Fluid   \n",
       "171  1899763690         4        6300     SHORT   192615  Fluorescent Fluid   \n",
       "188  1899765066        11        6300     SHORT   192615  Fluorescent Fluid   \n",
       "190  1899765218         1        6300     SHORT   192615  Fluorescent Fluid   \n",
       "213  1899767301         1        6300     SHORT   192615  Fluorescent Fluid   \n",
       "232  1899769257         4        6300     SHORT   192615  Fluorescent Fluid   \n",
       "246  1899770902         4        6300     SHORT   192615  Fluorescent Fluid   \n",
       "265  1899773539        74        7500     SHORT   192615  Fluorescent Fluid   \n",
       "326  1899779222         4        6300     SHORT   192615  Fluorescent Fluid   \n",
       "353  1899781906         8        6300     SHORT   192615  Fluorescent Fluid   \n",
       "357  1899783327         2        6300     SHORT   192615  Fluorescent Fluid   \n",
       "411  1899792364         1        6300    MEDIUM   192615  Fluorescent Fluid   \n",
       "484  1899799604         1        6300    MEDIUM   192615  Fluorescent Fluid   \n",
       "495  1899800780        19        6300    MEDIUM   192615  Fluorescent Fluid   \n",
       "515  1899802728         1        6300    MEDIUM   192615  Fluorescent Fluid   \n",
       "516  1899802839         1        6300    MEDIUM   192615  Fluorescent Fluid   \n",
       "521  1899803251        24        6300    MEDIUM   192615  Fluorescent Fluid   \n",
       "602  1899811243        42        6300    MEDIUM   192615  Fluorescent Fluid   \n",
       "627  1899812717         4        6300    MEDIUM   192615  Fluorescent Fluid   \n",
       "628  1899812777         2        6300    MEDIUM   192615  Fluorescent Fluid   \n",
       "\n",
       "    item.class             datetime       date      time  \n",
       "17     Unknown  2023-12-28 15:41:00 2023-12-28  15:41:00  \n",
       "18     Unknown  2023-12-28 15:41:00 2023-12-28  15:41:00  \n",
       "24     Unknown  2023-12-28 15:41:00 2023-12-28  15:41:00  \n",
       "32     Unknown  2023-12-28 15:41:00 2023-12-28  15:41:00  \n",
       "39     Unknown  2023-12-28 15:41:00 2023-12-28  15:41:00  \n",
       "42     Unknown  2023-12-28 15:41:00 2023-12-28  15:41:00  \n",
       "51     Unknown  2023-12-28 15:41:00 2023-12-28  15:41:00  \n",
       "61     Unknown  2023-12-28 15:41:00 2023-12-28  15:41:00  \n",
       "68     Unknown  2023-12-28 15:41:00 2023-12-28  15:41:00  \n",
       "133    Unknown  2023-12-28 15:41:00 2023-12-28  15:41:00  \n",
       "151    Unknown  2023-12-28 15:41:00 2023-12-28  15:41:00  \n",
       "171    Unknown  2023-12-28 15:41:00 2023-12-28  15:41:00  \n",
       "188    Unknown  2023-12-28 15:41:00 2023-12-28  15:41:00  \n",
       "190    Unknown  2023-12-28 15:41:00 2023-12-28  15:41:00  \n",
       "213    Unknown  2023-12-28 15:41:00 2023-12-28  15:41:00  \n",
       "232    Unknown  2023-12-28 15:41:00 2023-12-28  15:41:00  \n",
       "246    Unknown  2023-12-28 15:41:00 2023-12-28  15:41:00  \n",
       "265    Unknown  2023-12-28 15:41:00 2023-12-28  15:41:00  \n",
       "326    Unknown  2023-12-28 15:41:00 2023-12-28  15:41:00  \n",
       "353    Unknown  2023-12-28 15:41:00 2023-12-28  15:41:00  \n",
       "357    Unknown  2023-12-28 15:41:00 2023-12-28  15:41:00  \n",
       "411    Unknown  2023-12-28 15:41:00 2023-12-28  15:41:00  \n",
       "484    Unknown  2023-12-28 15:41:00 2023-12-28  15:41:00  \n",
       "495    Unknown  2023-12-28 15:41:00 2023-12-28  15:41:00  \n",
       "515    Unknown  2023-12-28 15:41:00 2023-12-28  15:41:00  \n",
       "516    Unknown  2023-12-28 15:41:00 2023-12-28  15:41:00  \n",
       "521    Unknown  2023-12-28 15:41:00 2023-12-28  15:41:00  \n",
       "602    Unknown  2023-12-28 15:41:00 2023-12-28  15:41:00  \n",
       "627    Unknown  2023-12-28 15:41:00 2023-12-28  15:41:00  \n",
       "628    Unknown  2023-12-28 15:41:00 2023-12-28  15:41:00  "
      ]
     },
     "execution_count": 78,
     "metadata": {},
     "output_type": "execute_result"
    }
   ],
   "source": [
    "fluorecent_fluid_df.sort_values(['date','time'], ascending=[True,True])\n",
    "fluorecent_fluid_df.head(30)"
   ]
  },
  {
   "cell_type": "code",
   "execution_count": 79,
   "id": "ace5172b-c3d0-42d8-a6ea-348fbe0cacc3",
   "metadata": {},
   "outputs": [
    {
     "data": {
      "text/html": [
       "<div>\n",
       "<style scoped>\n",
       "    .dataframe tbody tr th:only-of-type {\n",
       "        vertical-align: middle;\n",
       "    }\n",
       "\n",
       "    .dataframe tbody tr th {\n",
       "        vertical-align: top;\n",
       "    }\n",
       "\n",
       "    .dataframe thead th {\n",
       "        text-align: right;\n",
       "    }\n",
       "</style>\n",
       "<table border=\"1\" class=\"dataframe\">\n",
       "  <thead>\n",
       "    <tr style=\"text-align: right;\">\n",
       "      <th></th>\n",
       "      <th>id</th>\n",
       "      <th>quantity</th>\n",
       "      <th>unit_price</th>\n",
       "      <th>time_left</th>\n",
       "      <th>item.id</th>\n",
       "      <th>item.name</th>\n",
       "      <th>item.class</th>\n",
       "      <th>datetime</th>\n",
       "      <th>date</th>\n",
       "      <th>time</th>\n",
       "    </tr>\n",
       "  </thead>\n",
       "  <tbody>\n",
       "    <tr>\n",
       "      <th>79851665</th>\n",
       "      <td>1910238223</td>\n",
       "      <td>20</td>\n",
       "      <td>6300</td>\n",
       "      <td>VERY_LONG</td>\n",
       "      <td>192615</td>\n",
       "      <td>Fluorescent Fluid</td>\n",
       "      <td>Unknown</td>\n",
       "      <td>2023-12-29 00:41:00</td>\n",
       "      <td>2023-12-29</td>\n",
       "      <td>00:41:00</td>\n",
       "    </tr>\n",
       "    <tr>\n",
       "      <th>79851763</th>\n",
       "      <td>1910238748</td>\n",
       "      <td>1</td>\n",
       "      <td>6300</td>\n",
       "      <td>VERY_LONG</td>\n",
       "      <td>192615</td>\n",
       "      <td>Fluorescent Fluid</td>\n",
       "      <td>Unknown</td>\n",
       "      <td>2023-12-29 00:41:00</td>\n",
       "      <td>2023-12-29</td>\n",
       "      <td>00:41:00</td>\n",
       "    </tr>\n",
       "    <tr>\n",
       "      <th>79852312</th>\n",
       "      <td>1910241065</td>\n",
       "      <td>4</td>\n",
       "      <td>6300</td>\n",
       "      <td>VERY_LONG</td>\n",
       "      <td>192615</td>\n",
       "      <td>Fluorescent Fluid</td>\n",
       "      <td>Unknown</td>\n",
       "      <td>2023-12-29 00:41:00</td>\n",
       "      <td>2023-12-29</td>\n",
       "      <td>00:41:00</td>\n",
       "    </tr>\n",
       "    <tr>\n",
       "      <th>79852419</th>\n",
       "      <td>1910241453</td>\n",
       "      <td>208</td>\n",
       "      <td>6300</td>\n",
       "      <td>VERY_LONG</td>\n",
       "      <td>192615</td>\n",
       "      <td>Fluorescent Fluid</td>\n",
       "      <td>Unknown</td>\n",
       "      <td>2023-12-29 00:41:00</td>\n",
       "      <td>2023-12-29</td>\n",
       "      <td>00:41:00</td>\n",
       "    </tr>\n",
       "    <tr>\n",
       "      <th>79852799</th>\n",
       "      <td>1910242768</td>\n",
       "      <td>2</td>\n",
       "      <td>6300</td>\n",
       "      <td>VERY_LONG</td>\n",
       "      <td>192615</td>\n",
       "      <td>Fluorescent Fluid</td>\n",
       "      <td>Unknown</td>\n",
       "      <td>2023-12-29 00:41:00</td>\n",
       "      <td>2023-12-29</td>\n",
       "      <td>00:41:00</td>\n",
       "    </tr>\n",
       "  </tbody>\n",
       "</table>\n",
       "</div>"
      ],
      "text/plain": [
       "                  id  quantity  unit_price  time_left  item.id  \\\n",
       "79851665  1910238223        20        6300  VERY_LONG   192615   \n",
       "79851763  1910238748         1        6300  VERY_LONG   192615   \n",
       "79852312  1910241065         4        6300  VERY_LONG   192615   \n",
       "79852419  1910241453       208        6300  VERY_LONG   192615   \n",
       "79852799  1910242768         2        6300  VERY_LONG   192615   \n",
       "\n",
       "                  item.name item.class             datetime       date  \\\n",
       "79851665  Fluorescent Fluid    Unknown  2023-12-29 00:41:00 2023-12-29   \n",
       "79851763  Fluorescent Fluid    Unknown  2023-12-29 00:41:00 2023-12-29   \n",
       "79852312  Fluorescent Fluid    Unknown  2023-12-29 00:41:00 2023-12-29   \n",
       "79852419  Fluorescent Fluid    Unknown  2023-12-29 00:41:00 2023-12-29   \n",
       "79852799  Fluorescent Fluid    Unknown  2023-12-29 00:41:00 2023-12-29   \n",
       "\n",
       "              time  \n",
       "79851665  00:41:00  \n",
       "79851763  00:41:00  \n",
       "79852312  00:41:00  \n",
       "79852419  00:41:00  \n",
       "79852799  00:41:00  "
      ]
     },
     "execution_count": 79,
     "metadata": {},
     "output_type": "execute_result"
    }
   ],
   "source": [
    "fluorecent_fluid_df.tail()"
   ]
  },
  {
   "cell_type": "code",
   "execution_count": 80,
   "id": "7d7f12dd-53f2-4744-b9a4-e5bed182e549",
   "metadata": {},
   "outputs": [],
   "source": [
    "Exceptional_Pelt_df=Blizzard_Commodities_DF.loc[Blizzard_Commodities_DF['item.name']=='Exceptional Pelt']"
   ]
  },
  {
   "cell_type": "code",
   "execution_count": 81,
   "id": "a41ed4bc-8118-48e2-b233-cef51d2121e6",
   "metadata": {},
   "outputs": [],
   "source": [
    "Exceptional_Pelt_df.to_csv('Exceptional_Pelt.csv',index=False)"
   ]
  },
  {
   "cell_type": "markdown",
   "id": "d5599729-5bb4-4582-a0f8-9d25a49c1ddf",
   "metadata": {},
   "source": [
    "## Group DF by item.name"
   ]
  },
  {
   "cell_type": "code",
   "execution_count": 82,
   "id": "a161a3a9-8a8a-4960-9955-656f197d6101",
   "metadata": {},
   "outputs": [
    {
     "name": "stdout",
     "output_type": "stream",
     "text": [
      "<class 'pandas.core.frame.DataFrame'>\n",
      "RangeIndex: 79852830 entries, 0 to 79852829\n",
      "Data columns (total 10 columns):\n",
      " #   Column      Dtype         \n",
      "---  ------      -----         \n",
      " 0   id          int64         \n",
      " 1   quantity    int64         \n",
      " 2   unit_price  int64         \n",
      " 3   time_left   object        \n",
      " 4   item.id     int64         \n",
      " 5   item.name   object        \n",
      " 6   item.class  object        \n",
      " 7   datetime    object        \n",
      " 8   date        datetime64[ns]\n",
      " 9   time        object        \n",
      "dtypes: datetime64[ns](1), int64(4), object(5)\n",
      "memory usage: 5.9+ GB\n"
     ]
    }
   ],
   "source": [
    "Blizzard_Commodities_DF.info()"
   ]
  },
  {
   "cell_type": "code",
   "execution_count": 83,
   "id": "01e32fda-6cec-4a5e-b237-dbe028fba556",
   "metadata": {},
   "outputs": [
    {
     "name": "stdout",
     "output_type": "stream",
     "text": [
      "Time elapsed 0:00:00.814082\n"
     ]
    }
   ],
   "source": [
    "now=datetime.now()\n",
    "# grouped_DF=Blizzard_Commodities_DF['id','quantity','unit_price','item.name'].groupby('item.name').sum()\n",
    "grouped_DF=Blizzard_Commodities_DF[['id','quantity','unit_price','item.name']]\n",
    "print(F\"Time elapsed {datetime.now()-now}\")"
   ]
  },
  {
   "cell_type": "code",
   "execution_count": 84,
   "id": "711ec950-47f9-48db-8ce0-f6bdecc04f2c",
   "metadata": {},
   "outputs": [
    {
     "data": {
      "text/html": [
       "<div>\n",
       "<style scoped>\n",
       "    .dataframe tbody tr th:only-of-type {\n",
       "        vertical-align: middle;\n",
       "    }\n",
       "\n",
       "    .dataframe tbody tr th {\n",
       "        vertical-align: top;\n",
       "    }\n",
       "\n",
       "    .dataframe thead th {\n",
       "        text-align: right;\n",
       "    }\n",
       "</style>\n",
       "<table border=\"1\" class=\"dataframe\">\n",
       "  <thead>\n",
       "    <tr style=\"text-align: right;\">\n",
       "      <th></th>\n",
       "      <th>id</th>\n",
       "      <th>quantity</th>\n",
       "      <th>unit_price</th>\n",
       "      <th>item.name</th>\n",
       "    </tr>\n",
       "  </thead>\n",
       "  <tbody>\n",
       "    <tr>\n",
       "      <th>0</th>\n",
       "      <td>1899749198</td>\n",
       "      <td>15</td>\n",
       "      <td>109400</td>\n",
       "      <td>Potion of the Psychopomp's Speed</td>\n",
       "    </tr>\n",
       "    <tr>\n",
       "      <th>1</th>\n",
       "      <td>1899749311</td>\n",
       "      <td>1</td>\n",
       "      <td>2000</td>\n",
       "      <td>Cragscale</td>\n",
       "    </tr>\n",
       "    <tr>\n",
       "      <th>2</th>\n",
       "      <td>1899749353</td>\n",
       "      <td>6</td>\n",
       "      <td>2400</td>\n",
       "      <td>Tidespray Linen</td>\n",
       "    </tr>\n",
       "    <tr>\n",
       "      <th>3</th>\n",
       "      <td>1899749415</td>\n",
       "      <td>2</td>\n",
       "      <td>290200</td>\n",
       "      <td>Burning Primal Diamond</td>\n",
       "    </tr>\n",
       "    <tr>\n",
       "      <th>4</th>\n",
       "      <td>1899749701</td>\n",
       "      <td>1</td>\n",
       "      <td>9707000</td>\n",
       "      <td>Glyph of Mana Touched Souls</td>\n",
       "    </tr>\n",
       "    <tr>\n",
       "      <th>...</th>\n",
       "      <td>...</td>\n",
       "      <td>...</td>\n",
       "      <td>...</td>\n",
       "      <td>...</td>\n",
       "    </tr>\n",
       "    <tr>\n",
       "      <th>79852825</th>\n",
       "      <td>1910242848</td>\n",
       "      <td>12</td>\n",
       "      <td>25200</td>\n",
       "      <td>Lava Beetle</td>\n",
       "    </tr>\n",
       "    <tr>\n",
       "      <th>79852826</th>\n",
       "      <td>1910242860</td>\n",
       "      <td>3</td>\n",
       "      <td>30600</td>\n",
       "      <td>Saxifrage</td>\n",
       "    </tr>\n",
       "    <tr>\n",
       "      <th>79852827</th>\n",
       "      <td>1910242862</td>\n",
       "      <td>3</td>\n",
       "      <td>1500000</td>\n",
       "      <td>Stonecrust Hide</td>\n",
       "    </tr>\n",
       "    <tr>\n",
       "      <th>79852828</th>\n",
       "      <td>1910242863</td>\n",
       "      <td>2</td>\n",
       "      <td>25200</td>\n",
       "      <td>Lava Beetle</td>\n",
       "    </tr>\n",
       "    <tr>\n",
       "      <th>79852829</th>\n",
       "      <td>1910242868</td>\n",
       "      <td>319</td>\n",
       "      <td>19500</td>\n",
       "      <td>Thousandbite Piranha</td>\n",
       "    </tr>\n",
       "  </tbody>\n",
       "</table>\n",
       "<p>79852830 rows × 4 columns</p>\n",
       "</div>"
      ],
      "text/plain": [
       "                  id  quantity  unit_price                         item.name\n",
       "0         1899749198        15      109400  Potion of the Psychopomp's Speed\n",
       "1         1899749311         1        2000                         Cragscale\n",
       "2         1899749353         6        2400                   Tidespray Linen\n",
       "3         1899749415         2      290200            Burning Primal Diamond\n",
       "4         1899749701         1     9707000       Glyph of Mana Touched Souls\n",
       "...              ...       ...         ...                               ...\n",
       "79852825  1910242848        12       25200                       Lava Beetle\n",
       "79852826  1910242860         3       30600                         Saxifrage\n",
       "79852827  1910242862         3     1500000                   Stonecrust Hide\n",
       "79852828  1910242863         2       25200                       Lava Beetle\n",
       "79852829  1910242868       319       19500              Thousandbite Piranha\n",
       "\n",
       "[79852830 rows x 4 columns]"
      ]
     },
     "execution_count": 84,
     "metadata": {},
     "output_type": "execute_result"
    }
   ],
   "source": [
    "grouped_DF"
   ]
  },
  {
   "cell_type": "code",
   "execution_count": 85,
   "id": "fbc4dd35-b70d-4910-b3a7-b51e1a50d184",
   "metadata": {},
   "outputs": [
    {
     "name": "stdout",
     "output_type": "stream",
     "text": [
      "(2024-01-10 14:39:54.159475) Export item.name and (price, quantity) columns ...\n"
     ]
    }
   ],
   "source": [
    "start=datetime.now()\n",
    "print(f\"({start}) Export item.name and (price, quantity) columns ...\")"
   ]
  },
  {
   "cell_type": "code",
   "execution_count": 86,
   "id": "e2aa3892-092a-41a8-80a4-08301f43dc83",
   "metadata": {},
   "outputs": [
    {
     "name": "stdout",
     "output_type": "stream",
     "text": [
      "Time elapsed 0:00:01.626269\n"
     ]
    }
   ],
   "source": [
    "# grouped_DF=Blizzard_Commodities_DF[['id','quantity','unit_price','item.name']].groupby('item.name').sum()\n",
    "name_price_df=Blizzard_Commodities_DF[['item.name','unit_price']]\n",
    "name_quantity_df=Blizzard_Commodities_DF[['item.name','quantity']]\n",
    "print(F\"Time elapsed {datetime.now()-start}\")"
   ]
  },
  {
   "cell_type": "code",
   "execution_count": 87,
   "id": "ab92d813-3a76-4e0a-9225-5170ed7846ca",
   "metadata": {},
   "outputs": [
    {
     "name": "stdout",
     "output_type": "stream",
     "text": [
      "(2024-01-10 14:39:55.793128) Groupping by item.name and summing quantity and unit_price columns ...\n"
     ]
    }
   ],
   "source": [
    "start=datetime.now()\n",
    "print(f\"({start}) Groupping by item.name and summing quantity and unit_price columns ...\")"
   ]
  },
  {
   "cell_type": "code",
   "execution_count": 88,
   "id": "31af9653-9d5d-4972-844b-3044328b18d2",
   "metadata": {},
   "outputs": [
    {
     "data": {
      "text/html": [
       "<div>\n",
       "<style scoped>\n",
       "    .dataframe tbody tr th:only-of-type {\n",
       "        vertical-align: middle;\n",
       "    }\n",
       "\n",
       "    .dataframe tbody tr th {\n",
       "        vertical-align: top;\n",
       "    }\n",
       "\n",
       "    .dataframe thead th {\n",
       "        text-align: right;\n",
       "    }\n",
       "</style>\n",
       "<table border=\"1\" class=\"dataframe\">\n",
       "  <thead>\n",
       "    <tr style=\"text-align: right;\">\n",
       "      <th></th>\n",
       "      <th>id</th>\n",
       "      <th>quantity</th>\n",
       "      <th>unit_price</th>\n",
       "      <th>item.name</th>\n",
       "    </tr>\n",
       "  </thead>\n",
       "  <tbody>\n",
       "    <tr>\n",
       "      <th>0</th>\n",
       "      <td>1899749198</td>\n",
       "      <td>15</td>\n",
       "      <td>109400</td>\n",
       "      <td>Potion of the Psychopomp's Speed</td>\n",
       "    </tr>\n",
       "    <tr>\n",
       "      <th>1</th>\n",
       "      <td>1899749311</td>\n",
       "      <td>1</td>\n",
       "      <td>2000</td>\n",
       "      <td>Cragscale</td>\n",
       "    </tr>\n",
       "    <tr>\n",
       "      <th>2</th>\n",
       "      <td>1899749353</td>\n",
       "      <td>6</td>\n",
       "      <td>2400</td>\n",
       "      <td>Tidespray Linen</td>\n",
       "    </tr>\n",
       "    <tr>\n",
       "      <th>3</th>\n",
       "      <td>1899749415</td>\n",
       "      <td>2</td>\n",
       "      <td>290200</td>\n",
       "      <td>Burning Primal Diamond</td>\n",
       "    </tr>\n",
       "    <tr>\n",
       "      <th>4</th>\n",
       "      <td>1899749701</td>\n",
       "      <td>1</td>\n",
       "      <td>9707000</td>\n",
       "      <td>Glyph of Mana Touched Souls</td>\n",
       "    </tr>\n",
       "    <tr>\n",
       "      <th>...</th>\n",
       "      <td>...</td>\n",
       "      <td>...</td>\n",
       "      <td>...</td>\n",
       "      <td>...</td>\n",
       "    </tr>\n",
       "    <tr>\n",
       "      <th>79852825</th>\n",
       "      <td>1910242848</td>\n",
       "      <td>12</td>\n",
       "      <td>25200</td>\n",
       "      <td>Lava Beetle</td>\n",
       "    </tr>\n",
       "    <tr>\n",
       "      <th>79852826</th>\n",
       "      <td>1910242860</td>\n",
       "      <td>3</td>\n",
       "      <td>30600</td>\n",
       "      <td>Saxifrage</td>\n",
       "    </tr>\n",
       "    <tr>\n",
       "      <th>79852827</th>\n",
       "      <td>1910242862</td>\n",
       "      <td>3</td>\n",
       "      <td>1500000</td>\n",
       "      <td>Stonecrust Hide</td>\n",
       "    </tr>\n",
       "    <tr>\n",
       "      <th>79852828</th>\n",
       "      <td>1910242863</td>\n",
       "      <td>2</td>\n",
       "      <td>25200</td>\n",
       "      <td>Lava Beetle</td>\n",
       "    </tr>\n",
       "    <tr>\n",
       "      <th>79852829</th>\n",
       "      <td>1910242868</td>\n",
       "      <td>319</td>\n",
       "      <td>19500</td>\n",
       "      <td>Thousandbite Piranha</td>\n",
       "    </tr>\n",
       "  </tbody>\n",
       "</table>\n",
       "<p>79852830 rows × 4 columns</p>\n",
       "</div>"
      ],
      "text/plain": [
       "                  id  quantity  unit_price                         item.name\n",
       "0         1899749198        15      109400  Potion of the Psychopomp's Speed\n",
       "1         1899749311         1        2000                         Cragscale\n",
       "2         1899749353         6        2400                   Tidespray Linen\n",
       "3         1899749415         2      290200            Burning Primal Diamond\n",
       "4         1899749701         1     9707000       Glyph of Mana Touched Souls\n",
       "...              ...       ...         ...                               ...\n",
       "79852825  1910242848        12       25200                       Lava Beetle\n",
       "79852826  1910242860         3       30600                         Saxifrage\n",
       "79852827  1910242862         3     1500000                   Stonecrust Hide\n",
       "79852828  1910242863         2       25200                       Lava Beetle\n",
       "79852829  1910242868       319       19500              Thousandbite Piranha\n",
       "\n",
       "[79852830 rows x 4 columns]"
      ]
     },
     "execution_count": 88,
     "metadata": {},
     "output_type": "execute_result"
    }
   ],
   "source": [
    "datetime.now()\n",
    "grouped_DF"
   ]
  },
  {
   "cell_type": "code",
   "execution_count": 89,
   "id": "c5e703e8-f6c4-46e7-ba14-24956c9031fb",
   "metadata": {},
   "outputs": [
    {
     "name": "stdout",
     "output_type": "stream",
     "text": [
      "(2024-01-10 14:40:43.629585) Grupping by item.name and summing quantity and unit_price columns ...\n"
     ]
    }
   ],
   "source": [
    "start=datetime.now()\n",
    "print(f\"({start}) Groupping by item.name and summing quantity and unit_price columns ...\")"
   ]
  },
  {
   "cell_type": "code",
   "execution_count": 90,
   "id": "c41d0045-af12-481a-954d-77d76612ed4a",
   "metadata": {},
   "outputs": [],
   "source": [
    "name_price_df.sum()"
   ]
  },
  {
   "cell_type": "code",
   "execution_count": null,
   "id": "2376a5e6-8b46-4d8a-9969-bd2d7ef8d240",
   "metadata": {},
   "outputs": [],
   "source": [
    "import gc"
   ]
  },
  {
   "cell_type": "code",
   "execution_count": null,
   "id": "e7486725-3510-4582-b26e-00903706a611",
   "metadata": {},
   "outputs": [],
   "source": [
    "del Blizzard_Commodities_DF"
   ]
  },
  {
   "cell_type": "code",
   "execution_count": null,
   "id": "e19e61fd-b4b4-4083-9fe8-e9e2f8b1d987",
   "metadata": {},
   "outputs": [],
   "source": [
    "gc.collect()"
   ]
  },
  {
   "cell_type": "code",
   "execution_count": null,
   "id": "8e1eaf46-3fa3-407b-a7f4-6e09f5b57cd8",
   "metadata": {},
   "outputs": [],
   "source": [
    "blizzard_1_df=pd.read_csv('blizzard_2.csv')\n",
    "blizzard_1_df"
   ]
  },
  {
   "cell_type": "code",
   "execution_count": null,
   "id": "107a3cf7-2074-42fd-b040-0473db896feb",
   "metadata": {},
   "outputs": [],
   "source": [
    "blizzard_1_df.columns"
   ]
  },
  {
   "cell_type": "code",
   "execution_count": null,
   "id": "f481385c-3743-4112-9a51-e70a03fa6f08",
   "metadata": {},
   "outputs": [],
   "source": [
    "blizzard_1_df.drop(columns=['Unnamed: 0', 'time_left', 'item.id',\n",
    "       'id', 'item.class', 'datetime', 'date', 'time'],axis=1,inplace=True)"
   ]
  },
  {
   "cell_type": "code",
   "execution_count": null,
   "id": "413f6e51-fc2c-4c9d-a57b-4796a9527dd0",
   "metadata": {},
   "outputs": [],
   "source": [
    "blizzard_1_df.columns"
   ]
  },
  {
   "cell_type": "code",
   "execution_count": null,
   "id": "064153ad-a37a-4f87-bffa-9f930638af22",
   "metadata": {},
   "outputs": [],
   "source": [
    "now=datetime.now()\n",
    "now"
   ]
  },
  {
   "cell_type": "code",
   "execution_count": null,
   "id": "4048c543-6d02-4c2a-a0fd-09b4feaaabe4",
   "metadata": {},
   "outputs": [],
   "source": [
    "numeric_columns_df=Blizzard_Commodities_DF[['quantity', 'unit_price', 'item.name']]"
   ]
  },
  {
   "cell_type": "code",
   "execution_count": null,
   "id": "0af31544-e18b-4b9f-9f84-e6126ce062f4",
   "metadata": {},
   "outputs": [],
   "source": [
    "groupby_df=numeric_columns_df.groupby('item.name').sum()"
   ]
  },
  {
   "cell_type": "code",
   "execution_count": null,
   "id": "03c10755-d296-45d2-9262-a18bb3e3aec6",
   "metadata": {},
   "outputs": [],
   "source": [
    "numeric_columns_df"
   ]
  },
  {
   "cell_type": "code",
   "execution_count": null,
   "id": "e3afef49-7181-4019-96da-65c370a9deca",
   "metadata": {},
   "outputs": [],
   "source": [
    "groupby_df"
   ]
  },
  {
   "cell_type": "code",
   "execution_count": null,
   "id": "b9337981-37b5-4408-a144-aea1a5e2ad89",
   "metadata": {},
   "outputs": [],
   "source": [
    "groupby_df['average_price']=groupby_df['unit_price']/groupby_df['quantity']"
   ]
  },
  {
   "cell_type": "code",
   "execution_count": null,
   "id": "3f4a862b-2be3-451d-8006-4e74d5a5441d",
   "metadata": {},
   "outputs": [],
   "source": [
    "groupby_df['price_mode']=statistics.mode(groupby_df['unit_price'])"
   ]
  },
  {
   "cell_type": "code",
   "execution_count": null,
   "id": "2f9213fd-0652-4870-b811-8d3ec09d769c",
   "metadata": {},
   "outputs": [],
   "source": [
    "groupby_df.iloc[0]"
   ]
  },
  {
   "cell_type": "code",
   "execution_count": null,
   "id": "b3866d5f-c721-429d-9ae3-121aa2ff9920",
   "metadata": {},
   "outputs": [],
   "source": [
    "groupby_df.reset_index(inplace=True)"
   ]
  },
  {
   "cell_type": "code",
   "execution_count": null,
   "id": "9674dcf6-ff6a-4988-ab9b-5c43cf4c960e",
   "metadata": {},
   "outputs": [],
   "source": [
    "groupby_df.sort_values('unit_price')"
   ]
  },
  {
   "cell_type": "code",
   "execution_count": null,
   "id": "0d9d2e09-cb5a-4877-bdba-652c2f0f1257",
   "metadata": {},
   "outputs": [],
   "source": []
  }
 ],
 "metadata": {
  "kernelspec": {
   "display_name": "Python 3 (ipykernel)",
   "language": "python",
   "name": "python3"
  },
  "language_info": {
   "codemirror_mode": {
    "name": "ipython",
    "version": 3
   },
   "file_extension": ".py",
   "mimetype": "text/x-python",
   "name": "python",
   "nbconvert_exporter": "python",
   "pygments_lexer": "ipython3",
   "version": "3.11.5"
  }
 },
 "nbformat": 4,
 "nbformat_minor": 5
}
